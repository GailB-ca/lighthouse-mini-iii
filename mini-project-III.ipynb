{
 "cells": [
  {
   "cell_type": "markdown",
   "metadata": {},
   "source": [
    "## Mini Project III"
   ]
  },
  {
   "cell_type": "code",
   "execution_count": 466,
   "metadata": {},
   "outputs": [],
   "source": [
    "import pandas as pd\n",
    "import numpy as np\n",
    "import matplotlib.pyplot as plt\n",
    "from sklearn.cluster import KMeans\n",
    "import seaborn as sns\n",
    "import plotly.graph_objects as go\n",
    "from sklearn.decomposition import PCA\n"
   ]
  },
  {
   "cell_type": "markdown",
   "metadata": {},
   "source": [
    "## Plotting Methods"
   ]
  },
  {
   "cell_type": "code",
   "execution_count": 387,
   "metadata": {},
   "outputs": [],
   "source": [
    "def plot_clusters(X,y_res, plt_cluster_centers = False):\n",
    "    X_centroids = []\n",
    "    Y_centroids = []\n",
    "\n",
    "    for cluster in set(y_res):\n",
    "        x = X[y_res == cluster,0]\n",
    "        y = X[y_res == cluster,1]\n",
    "        X_centroids.append(np.mean(x))\n",
    "        Y_centroids.append(np.mean(y))\n",
    "\n",
    "        plt.scatter(x,\n",
    "                    y,\n",
    "                    s=50,\n",
    "                    marker='s',\n",
    "                    label=f'cluster {cluster}')\n",
    "\n",
    "    if plt_cluster_centers:\n",
    "        plt.scatter(X_centroids,\n",
    "                    Y_centroids,\n",
    "                    marker='*',\n",
    "                    c='red',\n",
    "                    s=250,\n",
    "                    label='centroids')\n",
    "    plt.legend()\n",
    "    plt.grid()\n",
    "    plt.show()"
   ]
  },
  {
   "cell_type": "code",
   "execution_count": 388,
   "metadata": {},
   "outputs": [],
   "source": [
    "# Plot distortion\n",
    "def plot_distortion(X,max_clusters = 10):\n",
    "    distortions = []\n",
    "    for i in range(1, max_clusters +1):\n",
    "        km = KMeans(n_clusters=i,\n",
    "                    init='k-means++',\n",
    "                    n_init=10,\n",
    "                    random_state=0)\n",
    "        km.fit(X)\n",
    "        distortions.append(km.inertia_)\n",
    "\n",
    "    plt.plot(range(1,max_clusters +1), distortions, marker='o')\n",
    "    plt.xlabel('Number of clusters')\n",
    "    plt.ylabel('Distortion')\n",
    "    plt.show() "
   ]
  },
  {
   "cell_type": "code",
   "execution_count": 428,
   "metadata": {},
   "outputs": [],
   "source": [
    "# Read files:\n",
    "customer = pd.read_csv(\"./mini-project-III/twm_customer.csv\", delimiter=';')"
   ]
  },
  {
   "cell_type": "code",
   "execution_count": 374,
   "metadata": {},
   "outputs": [
    {
     "data": {
      "text/html": [
       "<div>\n",
       "<style scoped>\n",
       "    .dataframe tbody tr th:only-of-type {\n",
       "        vertical-align: middle;\n",
       "    }\n",
       "\n",
       "    .dataframe tbody tr th {\n",
       "        vertical-align: top;\n",
       "    }\n",
       "\n",
       "    .dataframe thead th {\n",
       "        text-align: right;\n",
       "    }\n",
       "</style>\n",
       "<table border=\"1\" class=\"dataframe\">\n",
       "  <thead>\n",
       "    <tr style=\"text-align: right;\">\n",
       "      <th></th>\n",
       "      <th>cust_id</th>\n",
       "      <th>income</th>\n",
       "      <th>age</th>\n",
       "      <th>years_with_bank</th>\n",
       "      <th>nbr_children</th>\n",
       "      <th>gender</th>\n",
       "      <th>marital_status</th>\n",
       "      <th>name_prefix</th>\n",
       "      <th>first_name</th>\n",
       "      <th>last_name</th>\n",
       "      <th>street_nbr</th>\n",
       "      <th>street_name</th>\n",
       "      <th>postal_code</th>\n",
       "      <th>city_name</th>\n",
       "      <th>state_code</th>\n",
       "    </tr>\n",
       "  </thead>\n",
       "  <tbody>\n",
       "    <tr>\n",
       "      <th>0</th>\n",
       "      <td>1362691</td>\n",
       "      <td>26150</td>\n",
       "      <td>46</td>\n",
       "      <td>5</td>\n",
       "      <td>1</td>\n",
       "      <td>M</td>\n",
       "      <td>2</td>\n",
       "      <td></td>\n",
       "      <td>Donald                                        ...</td>\n",
       "      <td>Marek                                         ...</td>\n",
       "      <td>8298</td>\n",
       "      <td>Second                                        ...</td>\n",
       "      <td>89194</td>\n",
       "      <td>Las Vegas</td>\n",
       "      <td>NV</td>\n",
       "    </tr>\n",
       "    <tr>\n",
       "      <th>1</th>\n",
       "      <td>1362487</td>\n",
       "      <td>6605</td>\n",
       "      <td>71</td>\n",
       "      <td>1</td>\n",
       "      <td>0</td>\n",
       "      <td>M</td>\n",
       "      <td>2</td>\n",
       "      <td></td>\n",
       "      <td>ChingDyi                                      ...</td>\n",
       "      <td>Moussavi                                      ...</td>\n",
       "      <td>10603</td>\n",
       "      <td>Daffodil                                      ...</td>\n",
       "      <td>90159</td>\n",
       "      <td>Los Angeles</td>\n",
       "      <td>CA</td>\n",
       "    </tr>\n",
       "    <tr>\n",
       "      <th>2</th>\n",
       "      <td>1363160</td>\n",
       "      <td>18548</td>\n",
       "      <td>38</td>\n",
       "      <td>8</td>\n",
       "      <td>0</td>\n",
       "      <td>F</td>\n",
       "      <td>1</td>\n",
       "      <td></td>\n",
       "      <td>Rosa                                          ...</td>\n",
       "      <td>Johnston                                      ...</td>\n",
       "      <td>8817</td>\n",
       "      <td>Figueroa                                      ...</td>\n",
       "      <td>90024</td>\n",
       "      <td>Los Angeles</td>\n",
       "      <td>CA</td>\n",
       "    </tr>\n",
       "    <tr>\n",
       "      <th>3</th>\n",
       "      <td>1362752</td>\n",
       "      <td>47668</td>\n",
       "      <td>54</td>\n",
       "      <td>3</td>\n",
       "      <td>0</td>\n",
       "      <td>F</td>\n",
       "      <td>1</td>\n",
       "      <td></td>\n",
       "      <td>Lisa                                          ...</td>\n",
       "      <td>Martin                                        ...</td>\n",
       "      <td>676</td>\n",
       "      <td>Humble                                        ...</td>\n",
       "      <td>90172</td>\n",
       "      <td>Los Angeles</td>\n",
       "      <td>CA</td>\n",
       "    </tr>\n",
       "    <tr>\n",
       "      <th>4</th>\n",
       "      <td>1362548</td>\n",
       "      <td>44554</td>\n",
       "      <td>59</td>\n",
       "      <td>9</td>\n",
       "      <td>2</td>\n",
       "      <td>F</td>\n",
       "      <td>4</td>\n",
       "      <td></td>\n",
       "      <td>Barbara                                       ...</td>\n",
       "      <td>O'Malley                                      ...</td>\n",
       "      <td>6578</td>\n",
       "      <td>C                                             ...</td>\n",
       "      <td>10138</td>\n",
       "      <td>New York City</td>\n",
       "      <td>NY</td>\n",
       "    </tr>\n",
       "  </tbody>\n",
       "</table>\n",
       "</div>"
      ],
      "text/plain": [
       "   cust_id  income  age  years_with_bank  nbr_children gender  marital_status  \\\n",
       "0  1362691   26150   46                5             1     M                2   \n",
       "1  1362487    6605   71                1             0     M                2   \n",
       "2  1363160   18548   38                8             0     F                1   \n",
       "3  1362752   47668   54                3             0     F                1   \n",
       "4  1362548   44554   59                9             2     F                4   \n",
       "\n",
       "  name_prefix                                         first_name  \\\n",
       "0              Donald                                        ...   \n",
       "1              ChingDyi                                      ...   \n",
       "2              Rosa                                          ...   \n",
       "3              Lisa                                          ...   \n",
       "4              Barbara                                       ...   \n",
       "\n",
       "                                           last_name  street_nbr  \\\n",
       "0  Marek                                         ...        8298   \n",
       "1  Moussavi                                      ...       10603   \n",
       "2  Johnston                                      ...        8817   \n",
       "3  Martin                                        ...         676   \n",
       "4  O'Malley                                      ...        6578   \n",
       "\n",
       "                                         street_name  postal_code  \\\n",
       "0  Second                                        ...        89194   \n",
       "1  Daffodil                                      ...        90159   \n",
       "2  Figueroa                                      ...        90024   \n",
       "3  Humble                                        ...        90172   \n",
       "4  C                                             ...        10138   \n",
       "\n",
       "                                  city_name state_code  \n",
       "0  Las Vegas                                      NV    \n",
       "1  Los Angeles                                    CA    \n",
       "2  Los Angeles                                    CA    \n",
       "3  Los Angeles                                    CA    \n",
       "4  New York City                                  NY    "
      ]
     },
     "execution_count": 374,
     "metadata": {},
     "output_type": "execute_result"
    }
   ],
   "source": [
    "customer.head()"
   ]
  },
  {
   "cell_type": "markdown",
   "metadata": {},
   "source": [
    "- do they have savings account? How much do they save?\n",
    "- do they have credit account? How much do they live in debt?\n",
    "- are they making lot of small transactions or few huge ones?"
   ]
  },
  {
   "cell_type": "code",
   "execution_count": 502,
   "metadata": {},
   "outputs": [],
   "source": [
    "# Read files:\n",
    "accounts = pd.read_csv(\"./mini-project-III/twm_accounts.csv\", delimiter=';')\n",
    "checking_accounts = pd.read_csv(\"./mini-project-III/twm_checking_acct.csv\", delimiter=';')\n",
    "checking_trans = pd.read_csv(\"./mini-project-III/twm_checking_tran.csv\", delimiter=';')\n",
    "credit_accounts = pd.read_csv(\"./mini-project-III/twm_credit_acct.csv\", delimiter=';')\n",
    "credit_trans = pd.read_csv(\"./mini-project-III/twm_credit_tran.csv\", delimiter=';')\n",
    "saving_accounts = pd.read_csv(\"./mini-project-III/twm_savings_acct.csv\", delimiter=';')\n",
    "saving_trans = pd.read_csv(\"./mini-project-III/twm_savings_tran.csv\", delimiter=';')\n",
    "transactions = pd.read_csv(\"./mini-project-III/twm_transactions.csv\", delimiter=';')"
   ]
  },
  {
   "cell_type": "code",
   "execution_count": 18,
   "metadata": {},
   "outputs": [
    {
     "data": {
      "text/html": [
       "<div>\n",
       "<style scoped>\n",
       "    .dataframe tbody tr th:only-of-type {\n",
       "        vertical-align: middle;\n",
       "    }\n",
       "\n",
       "    .dataframe tbody tr th {\n",
       "        vertical-align: top;\n",
       "    }\n",
       "\n",
       "    .dataframe thead th {\n",
       "        text-align: right;\n",
       "    }\n",
       "</style>\n",
       "<table border=\"1\" class=\"dataframe\">\n",
       "  <thead>\n",
       "    <tr style=\"text-align: right;\">\n",
       "      <th></th>\n",
       "      <th>tran_id</th>\n",
       "      <th>acct_nbr</th>\n",
       "      <th>tran_amt</th>\n",
       "      <th>principal_amt</th>\n",
       "      <th>interest_amt</th>\n",
       "      <th>new_balance</th>\n",
       "      <th>tran_date</th>\n",
       "      <th>tran_time</th>\n",
       "      <th>channel</th>\n",
       "      <th>tran_code</th>\n",
       "    </tr>\n",
       "  </thead>\n",
       "  <tbody>\n",
       "    <tr>\n",
       "      <th>0</th>\n",
       "      <td>27</td>\n",
       "      <td>13625623</td>\n",
       "      <td>0.00</td>\n",
       "      <td>0.00</td>\n",
       "      <td>0.0</td>\n",
       "      <td>3753.34</td>\n",
       "      <td>21.10.1995</td>\n",
       "      <td>121656</td>\n",
       "      <td>A</td>\n",
       "      <td>IQ</td>\n",
       "    </tr>\n",
       "    <tr>\n",
       "      <th>1</th>\n",
       "      <td>97</td>\n",
       "      <td>13628392</td>\n",
       "      <td>0.00</td>\n",
       "      <td>0.00</td>\n",
       "      <td>0.0</td>\n",
       "      <td>254.49</td>\n",
       "      <td>5.2.1995</td>\n",
       "      <td>153053</td>\n",
       "      <td>V</td>\n",
       "      <td>IQ</td>\n",
       "    </tr>\n",
       "    <tr>\n",
       "      <th>2</th>\n",
       "      <td>21</td>\n",
       "      <td>13630842</td>\n",
       "      <td>-97.57</td>\n",
       "      <td>-97.57</td>\n",
       "      <td>0.0</td>\n",
       "      <td>3819.56</td>\n",
       "      <td>23.7.1995</td>\n",
       "      <td>0</td>\n",
       "      <td>P</td>\n",
       "      <td>WD</td>\n",
       "    </tr>\n",
       "    <tr>\n",
       "      <th>3</th>\n",
       "      <td>44</td>\n",
       "      <td>13631412</td>\n",
       "      <td>-0.15</td>\n",
       "      <td>-0.15</td>\n",
       "      <td>0.0</td>\n",
       "      <td>224.05</td>\n",
       "      <td>30.1.1995</td>\n",
       "      <td>0</td>\n",
       "      <td></td>\n",
       "      <td>FK</td>\n",
       "    </tr>\n",
       "    <tr>\n",
       "      <th>4</th>\n",
       "      <td>31</td>\n",
       "      <td>13625722</td>\n",
       "      <td>0.00</td>\n",
       "      <td>0.00</td>\n",
       "      <td>0.0</td>\n",
       "      <td>240.55</td>\n",
       "      <td>25.1.1995</td>\n",
       "      <td>204521</td>\n",
       "      <td>B</td>\n",
       "      <td>IQ</td>\n",
       "    </tr>\n",
       "  </tbody>\n",
       "</table>\n",
       "</div>"
      ],
      "text/plain": [
       "   tran_id  acct_nbr  tran_amt  principal_amt  interest_amt  new_balance  \\\n",
       "0       27  13625623      0.00           0.00           0.0      3753.34   \n",
       "1       97  13628392      0.00           0.00           0.0       254.49   \n",
       "2       21  13630842    -97.57         -97.57           0.0      3819.56   \n",
       "3       44  13631412     -0.15          -0.15           0.0       224.05   \n",
       "4       31  13625722      0.00           0.00           0.0       240.55   \n",
       "\n",
       "    tran_date  tran_time channel tran_code  \n",
       "0  21.10.1995     121656      A       IQ    \n",
       "1    5.2.1995     153053      V       IQ    \n",
       "2   23.7.1995          0      P       WD    \n",
       "3   30.1.1995          0              FK    \n",
       "4   25.1.1995     204521      B       IQ    "
      ]
     },
     "execution_count": 18,
     "metadata": {},
     "output_type": "execute_result"
    }
   ],
   "source": [
    "transactions.head()"
   ]
  },
  {
   "cell_type": "code",
   "execution_count": 39,
   "metadata": {},
   "outputs": [
    {
     "data": {
      "text/html": [
       "<div>\n",
       "<style scoped>\n",
       "    .dataframe tbody tr th:only-of-type {\n",
       "        vertical-align: middle;\n",
       "    }\n",
       "\n",
       "    .dataframe tbody tr th {\n",
       "        vertical-align: top;\n",
       "    }\n",
       "\n",
       "    .dataframe thead th {\n",
       "        text-align: right;\n",
       "    }\n",
       "</style>\n",
       "<table border=\"1\" class=\"dataframe\">\n",
       "  <thead>\n",
       "    <tr style=\"text-align: right;\">\n",
       "      <th></th>\n",
       "      <th>tran_id</th>\n",
       "      <th>acct_nbr</th>\n",
       "      <th>tran_amt</th>\n",
       "      <th>principal_amt</th>\n",
       "      <th>interest_amt</th>\n",
       "      <th>new_balance</th>\n",
       "      <th>tran_time</th>\n",
       "    </tr>\n",
       "  </thead>\n",
       "  <tbody>\n",
       "    <tr>\n",
       "      <th>count</th>\n",
       "      <td>77580.000000</td>\n",
       "      <td>7.758000e+04</td>\n",
       "      <td>77580.000000</td>\n",
       "      <td>77580.000000</td>\n",
       "      <td>77580.000000</td>\n",
       "      <td>77580.000000</td>\n",
       "      <td>77580.000000</td>\n",
       "    </tr>\n",
       "    <tr>\n",
       "      <th>mean</th>\n",
       "      <td>38.228332</td>\n",
       "      <td>1.185674e+15</td>\n",
       "      <td>-7.748275</td>\n",
       "      <td>-8.509662</td>\n",
       "      <td>0.762784</td>\n",
       "      <td>571.571177</td>\n",
       "      <td>104277.077984</td>\n",
       "    </tr>\n",
       "    <tr>\n",
       "      <th>std</th>\n",
       "      <td>27.838521</td>\n",
       "      <td>2.000564e+15</td>\n",
       "      <td>312.684674</td>\n",
       "      <td>311.006502</td>\n",
       "      <td>4.427059</td>\n",
       "      <td>2158.948572</td>\n",
       "      <td>87527.030938</td>\n",
       "    </tr>\n",
       "    <tr>\n",
       "      <th>min</th>\n",
       "      <td>1.000000</td>\n",
       "      <td>1.362480e+07</td>\n",
       "      <td>-3312.410000</td>\n",
       "      <td>-3312.410000</td>\n",
       "      <td>0.000000</td>\n",
       "      <td>-17300.000000</td>\n",
       "      <td>0.000000</td>\n",
       "    </tr>\n",
       "    <tr>\n",
       "      <th>25%</th>\n",
       "      <td>15.000000</td>\n",
       "      <td>1.362824e+07</td>\n",
       "      <td>-100.000000</td>\n",
       "      <td>-100.000000</td>\n",
       "      <td>0.000000</td>\n",
       "      <td>0.000000</td>\n",
       "      <td>0.000000</td>\n",
       "    </tr>\n",
       "    <tr>\n",
       "      <th>50%</th>\n",
       "      <td>32.000000</td>\n",
       "      <td>1.363199e+07</td>\n",
       "      <td>-1.815000</td>\n",
       "      <td>-1.815000</td>\n",
       "      <td>0.000000</td>\n",
       "      <td>180.400000</td>\n",
       "      <td>110626.000000</td>\n",
       "    </tr>\n",
       "    <tr>\n",
       "      <th>75%</th>\n",
       "      <td>59.000000</td>\n",
       "      <td>4.561143e+15</td>\n",
       "      <td>0.170000</td>\n",
       "      <td>0.000000</td>\n",
       "      <td>0.000000</td>\n",
       "      <td>957.252500</td>\n",
       "      <td>184245.250000</td>\n",
       "    </tr>\n",
       "    <tr>\n",
       "      <th>max</th>\n",
       "      <td>155.000000</td>\n",
       "      <td>4.561143e+15</td>\n",
       "      <td>17464.520000</td>\n",
       "      <td>17300.000000</td>\n",
       "      <td>164.520000</td>\n",
       "      <td>29868.390000</td>\n",
       "      <td>235959.000000</td>\n",
       "    </tr>\n",
       "  </tbody>\n",
       "</table>\n",
       "</div>"
      ],
      "text/plain": [
       "            tran_id      acct_nbr      tran_amt  principal_amt  interest_amt  \\\n",
       "count  77580.000000  7.758000e+04  77580.000000   77580.000000  77580.000000   \n",
       "mean      38.228332  1.185674e+15     -7.748275      -8.509662      0.762784   \n",
       "std       27.838521  2.000564e+15    312.684674     311.006502      4.427059   \n",
       "min        1.000000  1.362480e+07  -3312.410000   -3312.410000      0.000000   \n",
       "25%       15.000000  1.362824e+07   -100.000000    -100.000000      0.000000   \n",
       "50%       32.000000  1.363199e+07     -1.815000      -1.815000      0.000000   \n",
       "75%       59.000000  4.561143e+15      0.170000       0.000000      0.000000   \n",
       "max      155.000000  4.561143e+15  17464.520000   17300.000000    164.520000   \n",
       "\n",
       "        new_balance      tran_time  \n",
       "count  77580.000000   77580.000000  \n",
       "mean     571.571177  104277.077984  \n",
       "std     2158.948572   87527.030938  \n",
       "min   -17300.000000       0.000000  \n",
       "25%        0.000000       0.000000  \n",
       "50%      180.400000  110626.000000  \n",
       "75%      957.252500  184245.250000  \n",
       "max    29868.390000  235959.000000  "
      ]
     },
     "execution_count": 39,
     "metadata": {},
     "output_type": "execute_result"
    }
   ],
   "source": [
    "transactions.describe()"
   ]
  },
  {
   "cell_type": "code",
   "execution_count": 45,
   "metadata": {},
   "outputs": [
    {
     "data": {
      "text/plain": [
       "Index(['cust_id', 'tran_id', 'tran_amt', 'principal_amt', 'interest_amt',\n",
       "       'new_balance', 'tran_date', 'tran_time', 'channel', 'tran_code'],\n",
       "      dtype='object')"
      ]
     },
     "execution_count": 45,
     "metadata": {},
     "output_type": "execute_result"
    }
   ],
   "source": [
    "saving_trans.columns"
   ]
  },
  {
   "cell_type": "code",
   "execution_count": 46,
   "metadata": {},
   "outputs": [
    {
     "data": {
      "text/plain": [
       "Index(['tran_id', 'acct_nbr', 'tran_amt', 'principal_amt', 'interest_amt',\n",
       "       'new_balance', 'tran_date', 'tran_time', 'channel', 'tran_code'],\n",
       "      dtype='object')"
      ]
     },
     "execution_count": 46,
     "metadata": {},
     "output_type": "execute_result"
    }
   ],
   "source": [
    "transactions.columns"
   ]
  },
  {
   "cell_type": "markdown",
   "metadata": {},
   "source": [
    "- mean of transaction amt per cust id\n",
    "- Drop end dates\n",
    "- keep closed acounts - yes\n",
    "- split to withdrawal/deposit\n",
    "- balance for k-means?\n",
    "- count transactions as a new feature\n",
    "- drop the marital status\n",
    "- age range and income range and gender, children, \n"
   ]
  },
  {
   "cell_type": "code",
   "execution_count": 429,
   "metadata": {},
   "outputs": [],
   "source": [
    "customer_clean = customer"
   ]
  },
  {
   "cell_type": "code",
   "execution_count": 430,
   "metadata": {},
   "outputs": [],
   "source": [
    "customer_clean.drop([\"name_prefix\", \n",
    "               \"marital_status\",\n",
    "               \"first_name\",\n",
    "               \"last_name\",\n",
    "               \"street_name\",\n",
    "               \"city_name\",\"state_code\", \"street_nbr\"],axis=1, inplace=True)"
   ]
  },
  {
   "cell_type": "code",
   "execution_count": 431,
   "metadata": {},
   "outputs": [
    {
     "data": {
      "text/plain": [
       "Index(['cust_id', 'income', 'age', 'years_with_bank', 'nbr_children', 'gender',\n",
       "       'postal_code'],\n",
       "      dtype='object')"
      ]
     },
     "execution_count": 431,
     "metadata": {},
     "output_type": "execute_result"
    }
   ],
   "source": [
    "customer_clean.columns"
   ]
  },
  {
   "cell_type": "code",
   "execution_count": 411,
   "metadata": {},
   "outputs": [
    {
     "data": {
      "text/html": [
       "<div>\n",
       "<style scoped>\n",
       "    .dataframe tbody tr th:only-of-type {\n",
       "        vertical-align: middle;\n",
       "    }\n",
       "\n",
       "    .dataframe tbody tr th {\n",
       "        vertical-align: top;\n",
       "    }\n",
       "\n",
       "    .dataframe thead th {\n",
       "        text-align: right;\n",
       "    }\n",
       "</style>\n",
       "<table border=\"1\" class=\"dataframe\">\n",
       "  <thead>\n",
       "    <tr style=\"text-align: right;\">\n",
       "      <th></th>\n",
       "      <th>cust_id</th>\n",
       "      <th>income</th>\n",
       "      <th>age</th>\n",
       "      <th>years_with_bank</th>\n",
       "      <th>nbr_children</th>\n",
       "      <th>gender</th>\n",
       "    </tr>\n",
       "  </thead>\n",
       "  <tbody>\n",
       "    <tr>\n",
       "      <th>count</th>\n",
       "      <td>7.470000e+02</td>\n",
       "      <td>747.000000</td>\n",
       "      <td>747.000000</td>\n",
       "      <td>747.000000</td>\n",
       "      <td>747.000000</td>\n",
       "      <td>0.0</td>\n",
       "    </tr>\n",
       "    <tr>\n",
       "      <th>mean</th>\n",
       "      <td>1.362991e+06</td>\n",
       "      <td>22728.281124</td>\n",
       "      <td>42.479250</td>\n",
       "      <td>3.907631</td>\n",
       "      <td>0.714859</td>\n",
       "      <td>NaN</td>\n",
       "    </tr>\n",
       "    <tr>\n",
       "      <th>std</th>\n",
       "      <td>2.925255e+02</td>\n",
       "      <td>22207.221405</td>\n",
       "      <td>19.114879</td>\n",
       "      <td>2.675634</td>\n",
       "      <td>1.103410</td>\n",
       "      <td>NaN</td>\n",
       "    </tr>\n",
       "    <tr>\n",
       "      <th>min</th>\n",
       "      <td>1.362480e+06</td>\n",
       "      <td>0.000000</td>\n",
       "      <td>13.000000</td>\n",
       "      <td>0.000000</td>\n",
       "      <td>0.000000</td>\n",
       "      <td>NaN</td>\n",
       "    </tr>\n",
       "    <tr>\n",
       "      <th>25%</th>\n",
       "      <td>1.362732e+06</td>\n",
       "      <td>7118.500000</td>\n",
       "      <td>28.000000</td>\n",
       "      <td>2.000000</td>\n",
       "      <td>0.000000</td>\n",
       "      <td>NaN</td>\n",
       "    </tr>\n",
       "    <tr>\n",
       "      <th>50%</th>\n",
       "      <td>1.362993e+06</td>\n",
       "      <td>17242.000000</td>\n",
       "      <td>42.000000</td>\n",
       "      <td>4.000000</td>\n",
       "      <td>0.000000</td>\n",
       "      <td>NaN</td>\n",
       "    </tr>\n",
       "    <tr>\n",
       "      <th>75%</th>\n",
       "      <td>1.363244e+06</td>\n",
       "      <td>31338.000000</td>\n",
       "      <td>56.000000</td>\n",
       "      <td>6.000000</td>\n",
       "      <td>1.000000</td>\n",
       "      <td>NaN</td>\n",
       "    </tr>\n",
       "    <tr>\n",
       "      <th>max</th>\n",
       "      <td>1.363495e+06</td>\n",
       "      <td>144157.000000</td>\n",
       "      <td>89.000000</td>\n",
       "      <td>9.000000</td>\n",
       "      <td>5.000000</td>\n",
       "      <td>NaN</td>\n",
       "    </tr>\n",
       "  </tbody>\n",
       "</table>\n",
       "</div>"
      ],
      "text/plain": [
       "            cust_id         income         age  years_with_bank  nbr_children  \\\n",
       "count  7.470000e+02     747.000000  747.000000       747.000000    747.000000   \n",
       "mean   1.362991e+06   22728.281124   42.479250         3.907631      0.714859   \n",
       "std    2.925255e+02   22207.221405   19.114879         2.675634      1.103410   \n",
       "min    1.362480e+06       0.000000   13.000000         0.000000      0.000000   \n",
       "25%    1.362732e+06    7118.500000   28.000000         2.000000      0.000000   \n",
       "50%    1.362993e+06   17242.000000   42.000000         4.000000      0.000000   \n",
       "75%    1.363244e+06   31338.000000   56.000000         6.000000      1.000000   \n",
       "max    1.363495e+06  144157.000000   89.000000         9.000000      5.000000   \n",
       "\n",
       "       gender  \n",
       "count     0.0  \n",
       "mean      NaN  \n",
       "std       NaN  \n",
       "min       NaN  \n",
       "25%       NaN  \n",
       "50%       NaN  \n",
       "75%       NaN  \n",
       "max       NaN  "
      ]
     },
     "execution_count": 411,
     "metadata": {},
     "output_type": "execute_result"
    }
   ],
   "source": [
    "customer_clean.describe()"
   ]
  },
  {
   "cell_type": "code",
   "execution_count": 432,
   "metadata": {},
   "outputs": [
    {
     "data": {
      "text/html": [
       "<div>\n",
       "<style scoped>\n",
       "    .dataframe tbody tr th:only-of-type {\n",
       "        vertical-align: middle;\n",
       "    }\n",
       "\n",
       "    .dataframe tbody tr th {\n",
       "        vertical-align: top;\n",
       "    }\n",
       "\n",
       "    .dataframe thead th {\n",
       "        text-align: right;\n",
       "    }\n",
       "</style>\n",
       "<table border=\"1\" class=\"dataframe\">\n",
       "  <thead>\n",
       "    <tr style=\"text-align: right;\">\n",
       "      <th></th>\n",
       "      <th>cust_id</th>\n",
       "      <th>income</th>\n",
       "      <th>age</th>\n",
       "      <th>years_with_bank</th>\n",
       "      <th>nbr_children</th>\n",
       "      <th>gender</th>\n",
       "      <th>postal_code</th>\n",
       "    </tr>\n",
       "  </thead>\n",
       "  <tbody>\n",
       "    <tr>\n",
       "      <th>742</th>\n",
       "      <td>1363324</td>\n",
       "      <td>14795</td>\n",
       "      <td>36</td>\n",
       "      <td>6</td>\n",
       "      <td>1</td>\n",
       "      <td>1</td>\n",
       "      <td>90016</td>\n",
       "    </tr>\n",
       "    <tr>\n",
       "      <th>743</th>\n",
       "      <td>1362895</td>\n",
       "      <td>26387</td>\n",
       "      <td>56</td>\n",
       "      <td>6</td>\n",
       "      <td>1</td>\n",
       "      <td>1</td>\n",
       "      <td>10126</td>\n",
       "    </tr>\n",
       "    <tr>\n",
       "      <th>744</th>\n",
       "      <td>1362569</td>\n",
       "      <td>61300</td>\n",
       "      <td>50</td>\n",
       "      <td>0</td>\n",
       "      <td>2</td>\n",
       "      <td>1</td>\n",
       "      <td>87194</td>\n",
       "    </tr>\n",
       "    <tr>\n",
       "      <th>745</th>\n",
       "      <td>1363364</td>\n",
       "      <td>15100</td>\n",
       "      <td>37</td>\n",
       "      <td>7</td>\n",
       "      <td>0</td>\n",
       "      <td>1</td>\n",
       "      <td>35241</td>\n",
       "    </tr>\n",
       "    <tr>\n",
       "      <th>746</th>\n",
       "      <td>1363303</td>\n",
       "      <td>17875</td>\n",
       "      <td>18</td>\n",
       "      <td>3</td>\n",
       "      <td>0</td>\n",
       "      <td>1</td>\n",
       "      <td>90029</td>\n",
       "    </tr>\n",
       "  </tbody>\n",
       "</table>\n",
       "</div>"
      ],
      "text/plain": [
       "     cust_id  income  age  years_with_bank  nbr_children  gender  postal_code\n",
       "742  1363324   14795   36                6             1       1        90016\n",
       "743  1362895   26387   56                6             1       1        10126\n",
       "744  1362569   61300   50                0             2       1        87194\n",
       "745  1363364   15100   37                7             0       1        35241\n",
       "746  1363303   17875   18                3             0       1        90029"
      ]
     },
     "execution_count": 432,
     "metadata": {},
     "output_type": "execute_result"
    }
   ],
   "source": [
    "# Set dummy columns\n",
    "customer_clean['gender'] = customer_clean['gender'].apply(lambda x: 0 if x=='M' else 1)\n",
    "customer_clean.tail()"
   ]
  },
  {
   "cell_type": "code",
   "execution_count": 433,
   "metadata": {},
   "outputs": [
    {
     "data": {
      "text/html": [
       "<div>\n",
       "<style scoped>\n",
       "    .dataframe tbody tr th:only-of-type {\n",
       "        vertical-align: middle;\n",
       "    }\n",
       "\n",
       "    .dataframe tbody tr th {\n",
       "        vertical-align: top;\n",
       "    }\n",
       "\n",
       "    .dataframe thead th {\n",
       "        text-align: right;\n",
       "    }\n",
       "</style>\n",
       "<table border=\"1\" class=\"dataframe\">\n",
       "  <thead>\n",
       "    <tr style=\"text-align: right;\">\n",
       "      <th></th>\n",
       "      <th>Total</th>\n",
       "      <th>Percent</th>\n",
       "    </tr>\n",
       "  </thead>\n",
       "  <tbody>\n",
       "    <tr>\n",
       "      <th>postal_code</th>\n",
       "      <td>0</td>\n",
       "      <td>0.0</td>\n",
       "    </tr>\n",
       "    <tr>\n",
       "      <th>gender</th>\n",
       "      <td>0</td>\n",
       "      <td>0.0</td>\n",
       "    </tr>\n",
       "    <tr>\n",
       "      <th>nbr_children</th>\n",
       "      <td>0</td>\n",
       "      <td>0.0</td>\n",
       "    </tr>\n",
       "    <tr>\n",
       "      <th>years_with_bank</th>\n",
       "      <td>0</td>\n",
       "      <td>0.0</td>\n",
       "    </tr>\n",
       "    <tr>\n",
       "      <th>age</th>\n",
       "      <td>0</td>\n",
       "      <td>0.0</td>\n",
       "    </tr>\n",
       "    <tr>\n",
       "      <th>income</th>\n",
       "      <td>0</td>\n",
       "      <td>0.0</td>\n",
       "    </tr>\n",
       "    <tr>\n",
       "      <th>cust_id</th>\n",
       "      <td>0</td>\n",
       "      <td>0.0</td>\n",
       "    </tr>\n",
       "  </tbody>\n",
       "</table>\n",
       "</div>"
      ],
      "text/plain": [
       "                 Total  Percent\n",
       "postal_code          0      0.0\n",
       "gender               0      0.0\n",
       "nbr_children         0      0.0\n",
       "years_with_bank      0      0.0\n",
       "age                  0      0.0\n",
       "income               0      0.0\n",
       "cust_id              0      0.0"
      ]
     },
     "execution_count": 433,
     "metadata": {},
     "output_type": "execute_result"
    }
   ],
   "source": [
    "# missing data\n",
    "total = customer_clean.isnull().sum().sort_values(ascending=False)\n",
    "percent = (customer_clean.isnull().sum()/customer_clean.isnull().count()).sort_values(ascending=False)\n",
    "missing_data = pd.concat([total, percent], axis=1, keys=['Total', 'Percent'])\n",
    "missing_data.head(20)"
   ]
  },
  {
   "cell_type": "code",
   "execution_count": 59,
   "metadata": {},
   "outputs": [
    {
     "name": "stdout",
     "output_type": "stream",
     "text": [
      "[]\n"
     ]
    }
   ],
   "source": [
    "# There are no correlated columns\n",
    "# step 1 Calculate a correlation matrix\n",
    "df_corr = customer_clean.corr().abs()\n",
    "\n",
    "# step 2 Get pairs of highly correlated features\n",
    "indices = np.where(df_corr > 0.8) \n",
    "indices = [(df_corr.index[x], df_corr.columns[y]) for x, y in zip(*indices)\n",
    "                                    if x != y and x < y]\n",
    "print(indices)"
   ]
  },
  {
   "cell_type": "markdown",
   "metadata": {},
   "source": [
    "## K Means on all columns"
   ]
  },
  {
   "cell_type": "code",
   "execution_count": 441,
   "metadata": {},
   "outputs": [
    {
     "name": "stdout",
     "output_type": "stream",
     "text": [
      "747\n"
     ]
    }
   ],
   "source": [
    "X = customer_clean.to_numpy()\n",
    "\n",
    "scaler = StandardScaler()\n",
    "X = scaler.fit_transform(X)\n",
    "km = KMeans(n_clusters=15, random_state=0)\n",
    "y_km = km.fit_predict(X)\n",
    "print(len(y_km))"
   ]
  },
  {
   "cell_type": "markdown",
   "metadata": {},
   "source": [
    "## Elbow Graph"
   ]
  },
  {
   "cell_type": "code",
   "execution_count": 454,
   "metadata": {},
   "outputs": [
    {
     "data": {
      "image/png": "[encoded data removed]",
      "text/plain": [
       "<Figure size 864x576 with 1 Axes>"
      ]
     },
     "metadata": {
      "needs_background": "light"
     },
     "output_type": "display_data"
    }
   ],
   "source": [
    "plot_distortion(X,max_clusters = 10)"
   ]
  },
  {
   "cell_type": "markdown",
   "metadata": {},
   "source": [
    "## Radar Plot of K Means Clusters"
   ]
  },
  {
   "cell_type": "code",
   "execution_count": 439,
   "metadata": {},
   "outputs": [
    {
     "data": {
      "text/html": [
       "<div>\n",
       "<style scoped>\n",
       "    .dataframe tbody tr th:only-of-type {\n",
       "        vertical-align: middle;\n",
       "    }\n",
       "\n",
       "    .dataframe tbody tr th {\n",
       "        vertical-align: top;\n",
       "    }\n",
       "\n",
       "    .dataframe thead th {\n",
       "        text-align: right;\n",
       "    }\n",
       "</style>\n",
       "<table border=\"1\" class=\"dataframe\">\n",
       "  <thead>\n",
       "    <tr style=\"text-align: right;\">\n",
       "      <th></th>\n",
       "      <th>cust_id</th>\n",
       "      <th>income</th>\n",
       "      <th>age</th>\n",
       "      <th>years_with_bank</th>\n",
       "      <th>nbr_children</th>\n",
       "      <th>gender</th>\n",
       "      <th>postal_code</th>\n",
       "      <th>cluster</th>\n",
       "    </tr>\n",
       "  </thead>\n",
       "  <tbody>\n",
       "    <tr>\n",
       "      <th>0</th>\n",
       "      <td>1362691</td>\n",
       "      <td>26150</td>\n",
       "      <td>46</td>\n",
       "      <td>5</td>\n",
       "      <td>1</td>\n",
       "      <td>1</td>\n",
       "      <td>89194</td>\n",
       "      <td>1</td>\n",
       "    </tr>\n",
       "    <tr>\n",
       "      <th>1</th>\n",
       "      <td>1362487</td>\n",
       "      <td>6605</td>\n",
       "      <td>71</td>\n",
       "      <td>1</td>\n",
       "      <td>0</td>\n",
       "      <td>1</td>\n",
       "      <td>90159</td>\n",
       "      <td>0</td>\n",
       "    </tr>\n",
       "    <tr>\n",
       "      <th>2</th>\n",
       "      <td>1363160</td>\n",
       "      <td>18548</td>\n",
       "      <td>38</td>\n",
       "      <td>8</td>\n",
       "      <td>0</td>\n",
       "      <td>1</td>\n",
       "      <td>90024</td>\n",
       "      <td>0</td>\n",
       "    </tr>\n",
       "    <tr>\n",
       "      <th>3</th>\n",
       "      <td>1362752</td>\n",
       "      <td>47668</td>\n",
       "      <td>54</td>\n",
       "      <td>3</td>\n",
       "      <td>0</td>\n",
       "      <td>1</td>\n",
       "      <td>90172</td>\n",
       "      <td>0</td>\n",
       "    </tr>\n",
       "    <tr>\n",
       "      <th>4</th>\n",
       "      <td>1362548</td>\n",
       "      <td>44554</td>\n",
       "      <td>59</td>\n",
       "      <td>9</td>\n",
       "      <td>2</td>\n",
       "      <td>1</td>\n",
       "      <td>10138</td>\n",
       "      <td>0</td>\n",
       "    </tr>\n",
       "  </tbody>\n",
       "</table>\n",
       "</div>"
      ],
      "text/plain": [
       "   cust_id  income  age  years_with_bank  nbr_children  gender  postal_code  \\\n",
       "0  1362691   26150   46                5             1       1        89194   \n",
       "1  1362487    6605   71                1             0       1        90159   \n",
       "2  1363160   18548   38                8             0       1        90024   \n",
       "3  1362752   47668   54                3             0       1        90172   \n",
       "4  1362548   44554   59                9             2       1        10138   \n",
       "\n",
       "   cluster  \n",
       "0        1  \n",
       "1        0  \n",
       "2        0  \n",
       "3        0  \n",
       "4        0  "
      ]
     },
     "execution_count": 439,
     "metadata": {},
     "output_type": "execute_result"
    }
   ],
   "source": [
    "y_km\n",
    "customer_clean['cluster'] = y_km.tolist()\n",
    "customer_clean.head()\n"
   ]
  },
  {
   "cell_type": "code",
   "execution_count": 443,
   "metadata": {},
   "outputs": [
    {
     "data": {
      "text/html": [
       "<div>\n",
       "<style scoped>\n",
       "    .dataframe tbody tr th:only-of-type {\n",
       "        vertical-align: middle;\n",
       "    }\n",
       "\n",
       "    .dataframe tbody tr th {\n",
       "        vertical-align: top;\n",
       "    }\n",
       "\n",
       "    .dataframe thead th {\n",
       "        text-align: right;\n",
       "    }\n",
       "</style>\n",
       "<table border=\"1\" class=\"dataframe\">\n",
       "  <thead>\n",
       "    <tr style=\"text-align: right;\">\n",
       "      <th></th>\n",
       "      <th>cust_id</th>\n",
       "      <th>income</th>\n",
       "      <th>age</th>\n",
       "      <th>years_with_bank</th>\n",
       "      <th>nbr_children</th>\n",
       "      <th>gender</th>\n",
       "      <th>postal_code</th>\n",
       "    </tr>\n",
       "    <tr>\n",
       "      <th>cluster</th>\n",
       "      <th></th>\n",
       "      <th></th>\n",
       "      <th></th>\n",
       "      <th></th>\n",
       "      <th></th>\n",
       "      <th></th>\n",
       "      <th></th>\n",
       "    </tr>\n",
       "  </thead>\n",
       "  <tbody>\n",
       "    <tr>\n",
       "      <th>0</th>\n",
       "      <td>1.362975e+06</td>\n",
       "      <td>22369.296703</td>\n",
       "      <td>60.945055</td>\n",
       "      <td>5.003663</td>\n",
       "      <td>0.164835</td>\n",
       "      <td>1.0</td>\n",
       "      <td>52244.589744</td>\n",
       "    </tr>\n",
       "    <tr>\n",
       "      <th>1</th>\n",
       "      <td>1.362979e+06</td>\n",
       "      <td>39171.928571</td>\n",
       "      <td>41.611607</td>\n",
       "      <td>3.308036</td>\n",
       "      <td>2.026786</td>\n",
       "      <td>1.0</td>\n",
       "      <td>63558.986607</td>\n",
       "    </tr>\n",
       "    <tr>\n",
       "      <th>2</th>\n",
       "      <td>1.363019e+06</td>\n",
       "      <td>8386.784000</td>\n",
       "      <td>23.092000</td>\n",
       "      <td>3.248000</td>\n",
       "      <td>0.140000</td>\n",
       "      <td>1.0</td>\n",
       "      <td>63794.096000</td>\n",
       "    </tr>\n",
       "  </tbody>\n",
       "</table>\n",
       "</div>"
      ],
      "text/plain": [
       "              cust_id        income        age  years_with_bank  nbr_children  \\\n",
       "cluster                                                                         \n",
       "0        1.362975e+06  22369.296703  60.945055         5.003663      0.164835   \n",
       "1        1.362979e+06  39171.928571  41.611607         3.308036      2.026786   \n",
       "2        1.363019e+06   8386.784000  23.092000         3.248000      0.140000   \n",
       "\n",
       "         gender   postal_code  \n",
       "cluster                        \n",
       "0           1.0  52244.589744  \n",
       "1           1.0  63558.986607  \n",
       "2           1.0  63794.096000  "
      ]
     },
     "execution_count": 443,
     "metadata": {},
     "output_type": "execute_result"
    }
   ],
   "source": [
    "# Take the mean of each cluster\n",
    "customer_mean = customer_clean.groupby(by='cluster').agg('mean')\n",
    "customer_mean"
   ]
  },
  {
   "cell_type": "code",
   "execution_count": 455,
   "metadata": {},
   "outputs": [
    {
     "data": {
      "application/vnd.plotly.v1+json": {
       "config": {
        "plotlyServerURL": "https://plot.ly"
       },
       "data": [
        {
         "fill": "toself",
         "name": "Cluster 0",
         "r": [
          0.9999682447139117,
          0.5710542605148253,
          1,
          1,
          0.08132836326668925,
          1,
          0.8189565025514233
         ],
         "theta": [
          "income",
          "age",
          "years_with_bank",
          "nbr_children",
          "gender",
          "postal_code"
         ],
         "type": "scatterpolar"
        },
        {
         "fill": "toself",
         "name": "Cluster 1",
         "r": [
          0.9999706640637963,
          1,
          0.6827724936891454,
          0.661122803806735,
          1,
          1,
          0.996314558750748
         ],
         "theta": [
          "income",
          "age",
          "years_with_bank",
          "nbr_children",
          "gender",
          "postal_code"
         ],
         "type": "scatterpolar"
        },
        {
         "fill": "toself",
         "name": "Cluster 2",
         "r": [
          1,
          0.21410189147840927,
          0.3788986657050126,
          0.6491244509516838,
          0.06907488986784141,
          1,
          1
         ],
         "theta": [
          "income",
          "age",
          "years_with_bank",
          "nbr_children",
          "gender",
          "postal_code"
         ],
         "type": "scatterpolar"
        }
       ],
       "layout": {
        "autosize": true,
        "polar": {
         "angularaxis": {
          "type": "category"
         },
         "radialaxis": {
          "autorange": false,
          "range": [
           0,
           1.2
          ],
          "type": "linear",
          "visible": true
         }
        },
        "showlegend": true,
        "template": {
         "data": {
          "bar": [
           {
            "error_x": {
             "color": "#2a3f5f"
            },
            "error_y": {
             "color": "#2a3f5f"
            },
            "marker": {
             "line": {
              "color": "#E5ECF6",
              "width": 0.5
             }
            },
            "type": "bar"
           }
          ],
          "barpolar": [
           {
            "marker": {
             "line": {
              "color": "#E5ECF6",
              "width": 0.5
             }
            },
            "type": "barpolar"
           }
          ],
          "carpet": [
           {
            "aaxis": {
             "endlinecolor": "#2a3f5f",
             "gridcolor": "white",
             "linecolor": "white",
             "minorgridcolor": "white",
             "startlinecolor": "#2a3f5f"
            },
            "baxis": {
             "endlinecolor": "#2a3f5f",
             "gridcolor": "white",
             "linecolor": "white",
             "minorgridcolor": "white",
             "startlinecolor": "#2a3f5f"
            },
            "type": "carpet"
           }
          ],
          "choropleth": [
           {
            "colorbar": {
             "outlinewidth": 0,
             "ticks": ""
            },
            "type": "choropleth"
           }
          ],
          "contour": [
           {
            "colorbar": {
             "outlinewidth": 0,
             "ticks": ""
            },
            "colorscale": [
             [
              0,
              "#0d0887"
             ],
             [
              0.1111111111111111,
              "#46039f"
             ],
             [
              0.2222222222222222,
              "#7201a8"
             ],
             [
              0.3333333333333333,
              "#9c179e"
             ],
             [
              0.4444444444444444,
              "#bd3786"
             ],
             [
              0.5555555555555556,
              "#d8576b"
             ],
             [
              0.6666666666666666,
              "#ed7953"
             ],
             [
              0.7777777777777778,
              "#fb9f3a"
             ],
             [
              0.8888888888888888,
              "#fdca26"
             ],
             [
              1,
              "#f0f921"
             ]
            ],
            "type": "contour"
           }
          ],
          "contourcarpet": [
           {
            "colorbar": {
             "outlinewidth": 0,
             "ticks": ""
            },
            "type": "contourcarpet"
           }
          ],
          "heatmap": [
           {
            "colorbar": {
             "outlinewidth": 0,
             "ticks": ""
            },
            "colorscale": [
             [
              0,
              "#0d0887"
             ],
             [
              0.1111111111111111,
              "#46039f"
             ],
             [
              0.2222222222222222,
              "#7201a8"
             ],
             [
              0.3333333333333333,
              "#9c179e"
             ],
             [
              0.4444444444444444,
              "#bd3786"
             ],
             [
              0.5555555555555556,
              "#d8576b"
             ],
             [
              0.6666666666666666,
              "#ed7953"
             ],
             [
              0.7777777777777778,
              "#fb9f3a"
             ],
             [
              0.8888888888888888,
              "#fdca26"
             ],
             [
              1,
              "#f0f921"
             ]
            ],
            "type": "heatmap"
           }
          ],
          "heatmapgl": [
           {
            "colorbar": {
             "outlinewidth": 0,
             "ticks": ""
            },
            "colorscale": [
             [
              0,
              "#0d0887"
             ],
             [
              0.1111111111111111,
              "#46039f"
             ],
             [
              0.2222222222222222,
              "#7201a8"
             ],
             [
              0.3333333333333333,
              "#9c179e"
             ],
             [
              0.4444444444444444,
              "#bd3786"
             ],
             [
              0.5555555555555556,
              "#d8576b"
             ],
             [
              0.6666666666666666,
              "#ed7953"
             ],
             [
              0.7777777777777778,
              "#fb9f3a"
             ],
             [
              0.8888888888888888,
              "#fdca26"
             ],
             [
              1,
              "#f0f921"
             ]
            ],
            "type": "heatmapgl"
           }
          ],
          "histogram": [
           {
            "marker": {
             "colorbar": {
              "outlinewidth": 0,
              "ticks": ""
             }
            },
            "type": "histogram"
           }
          ],
          "histogram2d": [
           {
            "colorbar": {
             "outlinewidth": 0,
             "ticks": ""
            },
            "colorscale": [
             [
              0,
              "#0d0887"
             ],
             [
              0.1111111111111111,
              "#46039f"
             ],
             [
              0.2222222222222222,
              "#7201a8"
             ],
             [
              0.3333333333333333,
              "#9c179e"
             ],
             [
              0.4444444444444444,
              "#bd3786"
             ],
             [
              0.5555555555555556,
              "#d8576b"
             ],
             [
              0.6666666666666666,
              "#ed7953"
             ],
             [
              0.7777777777777778,
              "#fb9f3a"
             ],
             [
              0.8888888888888888,
              "#fdca26"
             ],
             [
              1,
              "#f0f921"
             ]
            ],
            "type": "histogram2d"
           }
          ],
          "histogram2dcontour": [
           {
            "colorbar": {
             "outlinewidth": 0,
             "ticks": ""
            },
            "colorscale": [
             [
              0,
              "#0d0887"
             ],
             [
              0.1111111111111111,
              "#46039f"
             ],
             [
              0.2222222222222222,
              "#7201a8"
             ],
             [
              0.3333333333333333,
              "#9c179e"
             ],
             [
              0.4444444444444444,
              "#bd3786"
             ],
             [
              0.5555555555555556,
              "#d8576b"
             ],
             [
              0.6666666666666666,
              "#ed7953"
             ],
             [
              0.7777777777777778,
              "#fb9f3a"
             ],
             [
              0.8888888888888888,
              "#fdca26"
             ],
             [
              1,
              "#f0f921"
             ]
            ],
            "type": "histogram2dcontour"
           }
          ],
          "mesh3d": [
           {
            "colorbar": {
             "outlinewidth": 0,
             "ticks": ""
            },
            "type": "mesh3d"
           }
          ],
          "parcoords": [
           {
            "line": {
             "colorbar": {
              "outlinewidth": 0,
              "ticks": ""
             }
            },
            "type": "parcoords"
           }
          ],
          "pie": [
           {
            "automargin": true,
            "type": "pie"
           }
          ],
          "scatter": [
           {
            "marker": {
             "colorbar": {
              "outlinewidth": 0,
              "ticks": ""
             }
            },
            "type": "scatter"
           }
          ],
          "scatter3d": [
           {
            "line": {
             "colorbar": {
              "outlinewidth": 0,
              "ticks": ""
             }
            },
            "marker": {
             "colorbar": {
              "outlinewidth": 0,
              "ticks": ""
             }
            },
            "type": "scatter3d"
           }
          ],
          "scattercarpet": [
           {
            "marker": {
             "colorbar": {
              "outlinewidth": 0,
              "ticks": ""
             }
            },
            "type": "scattercarpet"
           }
          ],
          "scattergeo": [
           {
            "marker": {
             "colorbar": {
              "outlinewidth": 0,
              "ticks": ""
             }
            },
            "type": "scattergeo"
           }
          ],
          "scattergl": [
           {
            "marker": {
             "colorbar": {
              "outlinewidth": 0,
              "ticks": ""
             }
            },
            "type": "scattergl"
           }
          ],
          "scattermapbox": [
           {
            "marker": {
             "colorbar": {
              "outlinewidth": 0,
              "ticks": ""
             }
            },
            "type": "scattermapbox"
           }
          ],
          "scatterpolar": [
           {
            "marker": {
             "colorbar": {
              "outlinewidth": 0,
              "ticks": ""
             }
            },
            "type": "scatterpolar"
           }
          ],
          "scatterpolargl": [
           {
            "marker": {
             "colorbar": {
              "outlinewidth": 0,
              "ticks": ""
             }
            },
            "type": "scatterpolargl"
           }
          ],
          "scatterternary": [
           {
            "marker": {
             "colorbar": {
              "outlinewidth": 0,
              "ticks": ""
             }
            },
            "type": "scatterternary"
           }
          ],
          "surface": [
           {
            "colorbar": {
             "outlinewidth": 0,
             "ticks": ""
            },
            "colorscale": [
             [
              0,
              "#0d0887"
             ],
             [
              0.1111111111111111,
              "#46039f"
             ],
             [
              0.2222222222222222,
              "#7201a8"
             ],
             [
              0.3333333333333333,
              "#9c179e"
             ],
             [
              0.4444444444444444,
              "#bd3786"
             ],
             [
              0.5555555555555556,
              "#d8576b"
             ],
             [
              0.6666666666666666,
              "#ed7953"
             ],
             [
              0.7777777777777778,
              "#fb9f3a"
             ],
             [
              0.8888888888888888,
              "#fdca26"
             ],
             [
              1,
              "#f0f921"
             ]
            ],
            "type": "surface"
           }
          ],
          "table": [
           {
            "cells": {
             "fill": {
              "color": "#EBF0F8"
             },
             "line": {
              "color": "white"
             }
            },
            "header": {
             "fill": {
              "color": "#C8D4E3"
             },
             "line": {
              "color": "white"
             }
            },
            "type": "table"
           }
          ]
         },
         "layout": {
          "annotationdefaults": {
           "arrowcolor": "#2a3f5f",
           "arrowhead": 0,
           "arrowwidth": 1
          },
          "autotypenumbers": "strict",
          "coloraxis": {
           "colorbar": {
            "outlinewidth": 0,
            "ticks": ""
           }
          },
          "colorscale": {
           "diverging": [
            [
             0,
             "#8e0152"
            ],
            [
             0.1,
             "#c51b7d"
            ],
            [
             0.2,
             "#de77ae"
            ],
            [
             0.3,
             "#f1b6da"
            ],
            [
             0.4,
             "#fde0ef"
            ],
            [
             0.5,
             "#f7f7f7"
            ],
            [
             0.6,
             "#e6f5d0"
            ],
            [
             0.7,
             "#b8e186"
            ],
            [
             0.8,
             "#7fbc41"
            ],
            [
             0.9,
             "#4d9221"
            ],
            [
             1,
             "#276419"
            ]
           ],
           "sequential": [
            [
             0,
             "#0d0887"
            ],
            [
             0.1111111111111111,
             "#46039f"
            ],
            [
             0.2222222222222222,
             "#7201a8"
            ],
            [
             0.3333333333333333,
             "#9c179e"
            ],
            [
             0.4444444444444444,
             "#bd3786"
            ],
            [
             0.5555555555555556,
             "#d8576b"
            ],
            [
             0.6666666666666666,
             "#ed7953"
            ],
            [
             0.7777777777777778,
             "#fb9f3a"
            ],
            [
             0.8888888888888888,
             "#fdca26"
            ],
            [
             1,
             "#f0f921"
            ]
           ],
           "sequentialminus": [
            [
             0,
             "#0d0887"
            ],
            [
             0.1111111111111111,
             "#46039f"
            ],
            [
             0.2222222222222222,
             "#7201a8"
            ],
            [
             0.3333333333333333,
             "#9c179e"
            ],
            [
             0.4444444444444444,
             "#bd3786"
            ],
            [
             0.5555555555555556,
             "#d8576b"
            ],
            [
             0.6666666666666666,
             "#ed7953"
            ],
            [
             0.7777777777777778,
             "#fb9f3a"
            ],
            [
             0.8888888888888888,
             "#fdca26"
            ],
            [
             1,
             "#f0f921"
            ]
           ]
          },
          "colorway": [
           "#636efa",
           "#EF553B",
           "#00cc96",
           "#ab63fa",
           "#FFA15A",
           "#19d3f3",
           "#FF6692",
           "#B6E880",
           "#FF97FF",
           "#FECB52"
          ],
          "font": {
           "color": "#2a3f5f"
          },
          "geo": {
           "bgcolor": "white",
           "lakecolor": "white",
           "landcolor": "#E5ECF6",
           "showlakes": true,
           "showland": true,
           "subunitcolor": "white"
          },
          "hoverlabel": {
           "align": "left"
          },
          "hovermode": "closest",
          "mapbox": {
           "style": "light"
          },
          "paper_bgcolor": "white",
          "plot_bgcolor": "#E5ECF6",
          "polar": {
           "angularaxis": {
            "gridcolor": "white",
            "linecolor": "white",
            "ticks": ""
           },
           "bgcolor": "#E5ECF6",
           "radialaxis": {
            "gridcolor": "white",
            "linecolor": "white",
            "ticks": ""
           }
          },
          "scene": {
           "xaxis": {
            "backgroundcolor": "#E5ECF6",
            "gridcolor": "white",
            "gridwidth": 2,
            "linecolor": "white",
            "showbackground": true,
            "ticks": "",
            "zerolinecolor": "white"
           },
           "yaxis": {
            "backgroundcolor": "#E5ECF6",
            "gridcolor": "white",
            "gridwidth": 2,
            "linecolor": "white",
            "showbackground": true,
            "ticks": "",
            "zerolinecolor": "white"
           },
           "zaxis": {
            "backgroundcolor": "#E5ECF6",
            "gridcolor": "white",
            "gridwidth": 2,
            "linecolor": "white",
            "showbackground": true,
            "ticks": "",
            "zerolinecolor": "white"
           }
          },
          "shapedefaults": {
           "line": {
            "color": "#2a3f5f"
           }
          },
          "ternary": {
           "aaxis": {
            "gridcolor": "white",
            "linecolor": "white",
            "ticks": ""
           },
           "baxis": {
            "gridcolor": "white",
            "linecolor": "white",
            "ticks": ""
           },
           "bgcolor": "#E5ECF6",
           "caxis": {
            "gridcolor": "white",
            "linecolor": "white",
            "ticks": ""
           }
          },
          "title": {
           "x": 0.05
          },
          "xaxis": {
           "automargin": true,
           "gridcolor": "white",
           "linecolor": "white",
           "ticks": "",
           "title": {
            "standoff": 15
           },
           "zerolinecolor": "white",
           "zerolinewidth": 2
          },
          "yaxis": {
           "automargin": true,
           "gridcolor": "white",
           "linecolor": "white",
           "ticks": "",
           "title": {
            "standoff": 15
           },
           "zerolinecolor": "white",
           "zerolinewidth": 2
          }
         }
        }
       }
      },
      "image/png": "[encoded data removed]",
      "text/html": [
       "<div>                            <div id=\"cbc3f572-2804-4459-b59a-68f2bf7dc05a\" class=\"plotly-graph-div\" style=\"height:525px; width:100%;\"></div>            <script type=\"text/javascript\">                require([\"plotly\"], function(Plotly) {                    window.PLOTLYENV=window.PLOTLYENV || {};                                    if (document.getElementById(\"cbc3f572-2804-4459-b59a-68f2bf7dc05a\")) {                    Plotly.newPlot(                        \"cbc3f572-2804-4459-b59a-68f2bf7dc05a\",                        [{\"fill\": \"toself\", \"name\": \"Cluster 0\", \"r\": [0.9999682447139117, 0.5710542605148253, 1.0, 1.0, 0.08132836326668925, 1.0, 0.8189565025514233], \"theta\": [\"income\", \"age\", \"years_with_bank\", \"nbr_children\", \"gender\", \"postal_code\"], \"type\": \"scatterpolar\"}, {\"fill\": \"toself\", \"name\": \"Cluster 1\", \"r\": [0.9999706640637963, 1.0, 0.6827724936891454, 0.661122803806735, 1.0, 1.0, 0.996314558750748], \"theta\": [\"income\", \"age\", \"years_with_bank\", \"nbr_children\", \"gender\", \"postal_code\"], \"type\": \"scatterpolar\"}, {\"fill\": \"toself\", \"name\": \"Cluster 2\", \"r\": [1.0, 0.21410189147840927, 0.3788986657050126, 0.6491244509516838, 0.06907488986784141, 1.0, 1.0], \"theta\": [\"income\", \"age\", \"years_with_bank\", \"nbr_children\", \"gender\", \"postal_code\"], \"type\": \"scatterpolar\"}],                        {\"polar\": {\"radialaxis\": {\"range\": [0, 1.2], \"visible\": true}}, \"showlegend\": true, \"template\": {\"data\": {\"bar\": [{\"error_x\": {\"color\": \"#2a3f5f\"}, \"error_y\": {\"color\": \"#2a3f5f\"}, \"marker\": {\"line\": {\"color\": \"#E5ECF6\", \"width\": 0.5}}, \"type\": \"bar\"}], \"barpolar\": [{\"marker\": {\"line\": {\"color\": \"#E5ECF6\", \"width\": 0.5}}, \"type\": \"barpolar\"}], \"carpet\": [{\"aaxis\": {\"endlinecolor\": \"#2a3f5f\", \"gridcolor\": \"white\", \"linecolor\": \"white\", \"minorgridcolor\": \"white\", \"startlinecolor\": \"#2a3f5f\"}, \"baxis\": {\"endlinecolor\": \"#2a3f5f\", \"gridcolor\": \"white\", \"linecolor\": \"white\", \"minorgridcolor\": \"white\", \"startlinecolor\": \"#2a3f5f\"}, \"type\": \"carpet\"}], \"choropleth\": [{\"colorbar\": {\"outlinewidth\": 0, \"ticks\": \"\"}, \"type\": \"choropleth\"}], \"contour\": [{\"colorbar\": {\"outlinewidth\": 0, \"ticks\": \"\"}, \"colorscale\": [[0.0, \"#0d0887\"], [0.1111111111111111, \"#46039f\"], [0.2222222222222222, \"#7201a8\"], [0.3333333333333333, \"#9c179e\"], [0.4444444444444444, \"#bd3786\"], [0.5555555555555556, \"#d8576b\"], [0.6666666666666666, \"#ed7953\"], [0.7777777777777778, \"#fb9f3a\"], [0.8888888888888888, \"#fdca26\"], [1.0, \"#f0f921\"]], \"type\": \"contour\"}], \"contourcarpet\": [{\"colorbar\": {\"outlinewidth\": 0, \"ticks\": \"\"}, \"type\": \"contourcarpet\"}], \"heatmap\": [{\"colorbar\": {\"outlinewidth\": 0, \"ticks\": \"\"}, \"colorscale\": [[0.0, \"#0d0887\"], [0.1111111111111111, \"#46039f\"], [0.2222222222222222, \"#7201a8\"], [0.3333333333333333, \"#9c179e\"], [0.4444444444444444, \"#bd3786\"], [0.5555555555555556, \"#d8576b\"], [0.6666666666666666, \"#ed7953\"], [0.7777777777777778, \"#fb9f3a\"], [0.8888888888888888, \"#fdca26\"], [1.0, \"#f0f921\"]], \"type\": \"heatmap\"}], \"heatmapgl\": [{\"colorbar\": {\"outlinewidth\": 0, \"ticks\": \"\"}, \"colorscale\": [[0.0, \"#0d0887\"], [0.1111111111111111, \"#46039f\"], [0.2222222222222222, \"#7201a8\"], [0.3333333333333333, \"#9c179e\"], [0.4444444444444444, \"#bd3786\"], [0.5555555555555556, \"#d8576b\"], [0.6666666666666666, \"#ed7953\"], [0.7777777777777778, \"#fb9f3a\"], [0.8888888888888888, \"#fdca26\"], [1.0, \"#f0f921\"]], \"type\": \"heatmapgl\"}], \"histogram\": [{\"marker\": {\"colorbar\": {\"outlinewidth\": 0, \"ticks\": \"\"}}, \"type\": \"histogram\"}], \"histogram2d\": [{\"colorbar\": {\"outlinewidth\": 0, \"ticks\": \"\"}, \"colorscale\": [[0.0, \"#0d0887\"], [0.1111111111111111, \"#46039f\"], [0.2222222222222222, \"#7201a8\"], [0.3333333333333333, \"#9c179e\"], [0.4444444444444444, \"#bd3786\"], [0.5555555555555556, \"#d8576b\"], [0.6666666666666666, \"#ed7953\"], [0.7777777777777778, \"#fb9f3a\"], [0.8888888888888888, \"#fdca26\"], [1.0, \"#f0f921\"]], \"type\": \"histogram2d\"}], \"histogram2dcontour\": [{\"colorbar\": {\"outlinewidth\": 0, \"ticks\": \"\"}, \"colorscale\": [[0.0, \"#0d0887\"], [0.1111111111111111, \"#46039f\"], [0.2222222222222222, \"#7201a8\"], [0.3333333333333333, \"#9c179e\"], [0.4444444444444444, \"#bd3786\"], [0.5555555555555556, \"#d8576b\"], [0.6666666666666666, \"#ed7953\"], [0.7777777777777778, \"#fb9f3a\"], [0.8888888888888888, \"#fdca26\"], [1.0, \"#f0f921\"]], \"type\": \"histogram2dcontour\"}], \"mesh3d\": [{\"colorbar\": {\"outlinewidth\": 0, \"ticks\": \"\"}, \"type\": \"mesh3d\"}], \"parcoords\": [{\"line\": {\"colorbar\": {\"outlinewidth\": 0, \"ticks\": \"\"}}, \"type\": \"parcoords\"}], \"pie\": [{\"automargin\": true, \"type\": \"pie\"}], \"scatter\": [{\"marker\": {\"colorbar\": {\"outlinewidth\": 0, \"ticks\": \"\"}}, \"type\": \"scatter\"}], \"scatter3d\": [{\"line\": {\"colorbar\": {\"outlinewidth\": 0, \"ticks\": \"\"}}, \"marker\": {\"colorbar\": {\"outlinewidth\": 0, \"ticks\": \"\"}}, \"type\": \"scatter3d\"}], \"scattercarpet\": [{\"marker\": {\"colorbar\": {\"outlinewidth\": 0, \"ticks\": \"\"}}, \"type\": \"scattercarpet\"}], \"scattergeo\": [{\"marker\": {\"colorbar\": {\"outlinewidth\": 0, \"ticks\": \"\"}}, \"type\": \"scattergeo\"}], \"scattergl\": [{\"marker\": {\"colorbar\": {\"outlinewidth\": 0, \"ticks\": \"\"}}, \"type\": \"scattergl\"}], \"scattermapbox\": [{\"marker\": {\"colorbar\": {\"outlinewidth\": 0, \"ticks\": \"\"}}, \"type\": \"scattermapbox\"}], \"scatterpolar\": [{\"marker\": {\"colorbar\": {\"outlinewidth\": 0, \"ticks\": \"\"}}, \"type\": \"scatterpolar\"}], \"scatterpolargl\": [{\"marker\": {\"colorbar\": {\"outlinewidth\": 0, \"ticks\": \"\"}}, \"type\": \"scatterpolargl\"}], \"scatterternary\": [{\"marker\": {\"colorbar\": {\"outlinewidth\": 0, \"ticks\": \"\"}}, \"type\": \"scatterternary\"}], \"surface\": [{\"colorbar\": {\"outlinewidth\": 0, \"ticks\": \"\"}, \"colorscale\": [[0.0, \"#0d0887\"], [0.1111111111111111, \"#46039f\"], [0.2222222222222222, \"#7201a8\"], [0.3333333333333333, \"#9c179e\"], [0.4444444444444444, \"#bd3786\"], [0.5555555555555556, \"#d8576b\"], [0.6666666666666666, \"#ed7953\"], [0.7777777777777778, \"#fb9f3a\"], [0.8888888888888888, \"#fdca26\"], [1.0, \"#f0f921\"]], \"type\": \"surface\"}], \"table\": [{\"cells\": {\"fill\": {\"color\": \"#EBF0F8\"}, \"line\": {\"color\": \"white\"}}, \"header\": {\"fill\": {\"color\": \"#C8D4E3\"}, \"line\": {\"color\": \"white\"}}, \"type\": \"table\"}]}, \"layout\": {\"annotationdefaults\": {\"arrowcolor\": \"#2a3f5f\", \"arrowhead\": 0, \"arrowwidth\": 1}, \"autotypenumbers\": \"strict\", \"coloraxis\": {\"colorbar\": {\"outlinewidth\": 0, \"ticks\": \"\"}}, \"colorscale\": {\"diverging\": [[0, \"#8e0152\"], [0.1, \"#c51b7d\"], [0.2, \"#de77ae\"], [0.3, \"#f1b6da\"], [0.4, \"#fde0ef\"], [0.5, \"#f7f7f7\"], [0.6, \"#e6f5d0\"], [0.7, \"#b8e186\"], [0.8, \"#7fbc41\"], [0.9, \"#4d9221\"], [1, \"#276419\"]], \"sequential\": [[0.0, \"#0d0887\"], [0.1111111111111111, \"#46039f\"], [0.2222222222222222, \"#7201a8\"], [0.3333333333333333, \"#9c179e\"], [0.4444444444444444, \"#bd3786\"], [0.5555555555555556, \"#d8576b\"], [0.6666666666666666, \"#ed7953\"], [0.7777777777777778, \"#fb9f3a\"], [0.8888888888888888, \"#fdca26\"], [1.0, \"#f0f921\"]], \"sequentialminus\": [[0.0, \"#0d0887\"], [0.1111111111111111, \"#46039f\"], [0.2222222222222222, \"#7201a8\"], [0.3333333333333333, \"#9c179e\"], [0.4444444444444444, \"#bd3786\"], [0.5555555555555556, \"#d8576b\"], [0.6666666666666666, \"#ed7953\"], [0.7777777777777778, \"#fb9f3a\"], [0.8888888888888888, \"#fdca26\"], [1.0, \"#f0f921\"]]}, \"colorway\": [\"#636efa\", \"#EF553B\", \"#00cc96\", \"#ab63fa\", \"#FFA15A\", \"#19d3f3\", \"#FF6692\", \"#B6E880\", \"#FF97FF\", \"#FECB52\"], \"font\": {\"color\": \"#2a3f5f\"}, \"geo\": {\"bgcolor\": \"white\", \"lakecolor\": \"white\", \"landcolor\": \"#E5ECF6\", \"showlakes\": true, \"showland\": true, \"subunitcolor\": \"white\"}, \"hoverlabel\": {\"align\": \"left\"}, \"hovermode\": \"closest\", \"mapbox\": {\"style\": \"light\"}, \"paper_bgcolor\": \"white\", \"plot_bgcolor\": \"#E5ECF6\", \"polar\": {\"angularaxis\": {\"gridcolor\": \"white\", \"linecolor\": \"white\", \"ticks\": \"\"}, \"bgcolor\": \"#E5ECF6\", \"radialaxis\": {\"gridcolor\": \"white\", \"linecolor\": \"white\", \"ticks\": \"\"}}, \"scene\": {\"xaxis\": {\"backgroundcolor\": \"#E5ECF6\", \"gridcolor\": \"white\", \"gridwidth\": 2, \"linecolor\": \"white\", \"showbackground\": true, \"ticks\": \"\", \"zerolinecolor\": \"white\"}, \"yaxis\": {\"backgroundcolor\": \"#E5ECF6\", \"gridcolor\": \"white\", \"gridwidth\": 2, \"linecolor\": \"white\", \"showbackground\": true, \"ticks\": \"\", \"zerolinecolor\": \"white\"}, \"zaxis\": {\"backgroundcolor\": \"#E5ECF6\", \"gridcolor\": \"white\", \"gridwidth\": 2, \"linecolor\": \"white\", \"showbackground\": true, \"ticks\": \"\", \"zerolinecolor\": \"white\"}}, \"shapedefaults\": {\"line\": {\"color\": \"#2a3f5f\"}}, \"ternary\": {\"aaxis\": {\"gridcolor\": \"white\", \"linecolor\": \"white\", \"ticks\": \"\"}, \"baxis\": {\"gridcolor\": \"white\", \"linecolor\": \"white\", \"ticks\": \"\"}, \"bgcolor\": \"#E5ECF6\", \"caxis\": {\"gridcolor\": \"white\", \"linecolor\": \"white\", \"ticks\": \"\"}}, \"title\": {\"x\": 0.05}, \"xaxis\": {\"automargin\": true, \"gridcolor\": \"white\", \"linecolor\": \"white\", \"ticks\": \"\", \"title\": {\"standoff\": 15}, \"zerolinecolor\": \"white\", \"zerolinewidth\": 2}, \"yaxis\": {\"automargin\": true, \"gridcolor\": \"white\", \"linecolor\": \"white\", \"ticks\": \"\", \"title\": {\"standoff\": 15}, \"zerolinecolor\": \"white\", \"zerolinewidth\": 2}}}},                        {\"responsive\": true}                    ).then(function(){\n",
       "                            \n",
       "var gd = document.getElementById('cbc3f572-2804-4459-b59a-68f2bf7dc05a');\n",
       "var x = new MutationObserver(function (mutations, observer) {{\n",
       "        var display = window.getComputedStyle(gd).display;\n",
       "        if (!display || display === 'none') {{\n",
       "            console.log([gd, 'removed!']);\n",
       "            Plotly.purge(gd);\n",
       "            observer.disconnect();\n",
       "        }}\n",
       "}});\n",
       "\n",
       "// Listen for the removal of the full notebook cells\n",
       "var notebookContainer = gd.closest('#notebook-container');\n",
       "if (notebookContainer) {{\n",
       "    x.observe(notebookContainer, {childList: true});\n",
       "}}\n",
       "\n",
       "// Listen for the clearing of the current output cell\n",
       "var outputEl = gd.closest('.output');\n",
       "if (outputEl) {{\n",
       "    x.observe(outputEl, {childList: true});\n",
       "}}\n",
       "\n",
       "                        })                };                });            </script>        </div>"
      ]
     },
     "metadata": {},
     "output_type": "display_data"
    }
   ],
   "source": [
    "# Panda group by cluster and mean for each column\n",
    "categories = ['income', 'age', 'years_with_bank','nbr_children','gender','postal_code']\n",
    "\n",
    "customer_mean = customer_mean.apply(lambda x: (x/x.max()), axis=0)\n",
    "fig = go.Figure()\n",
    "\n",
    "for index, row in customer_mean.iterrows():\n",
    "    fig.add_trace(go.Scatterpolar(\n",
    "          r=row,\n",
    "          theta=categories,\n",
    "          fill='toself',\n",
    "          name='Cluster '+str(index)\n",
    "    ))\n",
    "\n",
    "\n",
    "fig.update_layout(\n",
    "  polar=dict(\n",
    "    radialaxis=dict(\n",
    "      visible=True,\n",
    "      range=[0, 1.2]\n",
    "    )),\n",
    "  showlegend=True\n",
    ")\n",
    "\n",
    "fig.show()\n",
    "\n",
    "\n"
   ]
  },
  {
   "cell_type": "markdown",
   "metadata": {},
   "source": [
    "# Account Behaviour"
   ]
  },
  {
   "cell_type": "code",
   "execution_count": 206,
   "metadata": {},
   "outputs": [
    {
     "data": {
      "text/html": [
       "<div>\n",
       "<style scoped>\n",
       "    .dataframe tbody tr th:only-of-type {\n",
       "        vertical-align: middle;\n",
       "    }\n",
       "\n",
       "    .dataframe tbody tr th {\n",
       "        vertical-align: top;\n",
       "    }\n",
       "\n",
       "    .dataframe thead th {\n",
       "        text-align: right;\n",
       "    }\n",
       "</style>\n",
       "<table border=\"1\" class=\"dataframe\">\n",
       "  <thead>\n",
       "    <tr style=\"text-align: right;\">\n",
       "      <th></th>\n",
       "      <th>tran_id</th>\n",
       "      <th>acct_nbr</th>\n",
       "      <th>tran_amt</th>\n",
       "      <th>principal_amt</th>\n",
       "      <th>interest_amt</th>\n",
       "      <th>new_balance</th>\n",
       "      <th>tran_date</th>\n",
       "      <th>tran_time</th>\n",
       "      <th>channel</th>\n",
       "      <th>tran_code</th>\n",
       "    </tr>\n",
       "  </thead>\n",
       "  <tbody>\n",
       "    <tr>\n",
       "      <th>894</th>\n",
       "      <td>13</td>\n",
       "      <td>4561143213627090</td>\n",
       "      <td>-238.97</td>\n",
       "      <td>-238.97</td>\n",
       "      <td>0.0</td>\n",
       "      <td>-764.96</td>\n",
       "      <td>2.4.1995</td>\n",
       "      <td>215757</td>\n",
       "      <td>E</td>\n",
       "      <td>CG</td>\n",
       "    </tr>\n",
       "    <tr>\n",
       "      <th>1757</th>\n",
       "      <td>26</td>\n",
       "      <td>4561143213627090</td>\n",
       "      <td>-63.58</td>\n",
       "      <td>-63.58</td>\n",
       "      <td>0.0</td>\n",
       "      <td>-276.46</td>\n",
       "      <td>27.6.1995</td>\n",
       "      <td>123618</td>\n",
       "      <td>E</td>\n",
       "      <td>CG</td>\n",
       "    </tr>\n",
       "    <tr>\n",
       "      <th>2615</th>\n",
       "      <td>39</td>\n",
       "      <td>4561143213627090</td>\n",
       "      <td>-120.00</td>\n",
       "      <td>-120.00</td>\n",
       "      <td>0.0</td>\n",
       "      <td>-462.27</td>\n",
       "      <td>29.9.1995</td>\n",
       "      <td>164505</td>\n",
       "      <td>A</td>\n",
       "      <td>CA</td>\n",
       "    </tr>\n",
       "    <tr>\n",
       "      <th>3246</th>\n",
       "      <td>52</td>\n",
       "      <td>4561143213627090</td>\n",
       "      <td>-148.45</td>\n",
       "      <td>-148.45</td>\n",
       "      <td>0.0</td>\n",
       "      <td>-148.45</td>\n",
       "      <td>7.12.1995</td>\n",
       "      <td>215614</td>\n",
       "      <td>E</td>\n",
       "      <td>CG</td>\n",
       "    </tr>\n",
       "    <tr>\n",
       "      <th>5976</th>\n",
       "      <td>2</td>\n",
       "      <td>4561143213627090</td>\n",
       "      <td>0.00</td>\n",
       "      <td>0.00</td>\n",
       "      <td>0.0</td>\n",
       "      <td>0.00</td>\n",
       "      <td>6.1.1995</td>\n",
       "      <td>93520</td>\n",
       "      <td>A</td>\n",
       "      <td>IQ</td>\n",
       "    </tr>\n",
       "  </tbody>\n",
       "</table>\n",
       "</div>"
      ],
      "text/plain": [
       "      tran_id          acct_nbr  tran_amt  principal_amt  interest_amt  \\\n",
       "894        13  4561143213627090   -238.97        -238.97           0.0   \n",
       "1757       26  4561143213627090    -63.58         -63.58           0.0   \n",
       "2615       39  4561143213627090   -120.00        -120.00           0.0   \n",
       "3246       52  4561143213627090   -148.45        -148.45           0.0   \n",
       "5976        2  4561143213627090      0.00           0.00           0.0   \n",
       "\n",
       "      new_balance  tran_date  tran_time channel tran_code  \n",
       "894       -764.96   2.4.1995     215757      E       CG    \n",
       "1757      -276.46  27.6.1995     123618      E       CG    \n",
       "2615      -462.27  29.9.1995     164505      A       CA    \n",
       "3246      -148.45  7.12.1995     215614      E       CG    \n",
       "5976         0.00   6.1.1995      93520      A       IQ    "
      ]
     },
     "execution_count": 206,
     "metadata": {},
     "output_type": "execute_result"
    }
   ],
   "source": [
    "accounts.head()\n",
    "transactions[transactions['acct_nbr'] == 4561143213627090].head()"
   ]
  },
  {
   "cell_type": "code",
   "execution_count": 262,
   "metadata": {},
   "outputs": [
    {
     "data": {
      "text/html": [
       "<div>\n",
       "<style scoped>\n",
       "    .dataframe tbody tr th:only-of-type {\n",
       "        vertical-align: middle;\n",
       "    }\n",
       "\n",
       "    .dataframe tbody tr th {\n",
       "        vertical-align: top;\n",
       "    }\n",
       "\n",
       "    .dataframe thead th {\n",
       "        text-align: right;\n",
       "    }\n",
       "</style>\n",
       "<table border=\"1\" class=\"dataframe\">\n",
       "  <thead>\n",
       "    <tr style=\"text-align: right;\">\n",
       "      <th>acct_type</th>\n",
       "      <th>CC</th>\n",
       "      <th>CK</th>\n",
       "      <th>SV</th>\n",
       "    </tr>\n",
       "    <tr>\n",
       "      <th>cust_id</th>\n",
       "      <th></th>\n",
       "      <th></th>\n",
       "      <th></th>\n",
       "    </tr>\n",
       "  </thead>\n",
       "  <tbody>\n",
       "    <tr>\n",
       "      <th>1362480</th>\n",
       "      <td>20.00</td>\n",
       "      <td>86.86</td>\n",
       "      <td>1187.97</td>\n",
       "    </tr>\n",
       "    <tr>\n",
       "      <th>1362484</th>\n",
       "      <td>369.72</td>\n",
       "      <td>95.32</td>\n",
       "      <td>2122.17</td>\n",
       "    </tr>\n",
       "    <tr>\n",
       "      <th>1362485</th>\n",
       "      <td>1100.00</td>\n",
       "      <td>45.49</td>\n",
       "      <td>NaN</td>\n",
       "    </tr>\n",
       "    <tr>\n",
       "      <th>1362486</th>\n",
       "      <td>NaN</td>\n",
       "      <td>3312.27</td>\n",
       "      <td>116.24</td>\n",
       "    </tr>\n",
       "    <tr>\n",
       "      <th>1362487</th>\n",
       "      <td>1548.23</td>\n",
       "      <td>1401.21</td>\n",
       "      <td>12.89</td>\n",
       "    </tr>\n",
       "  </tbody>\n",
       "</table>\n",
       "</div>"
      ],
      "text/plain": [
       "acct_type     CC       CK       SV  \n",
       "cust_id                             \n",
       "1362480      20.00    86.86  1187.97\n",
       "1362484     369.72    95.32  2122.17\n",
       "1362485    1100.00    45.49      NaN\n",
       "1362486        NaN  3312.27   116.24\n",
       "1362487    1548.23  1401.21    12.89"
      ]
     },
     "execution_count": 262,
     "metadata": {},
     "output_type": "execute_result"
    }
   ],
   "source": [
    "# Get the credit card balance, checking balance and savings balance\n",
    "acct1 = pd.pivot_table(accounts, values='ending_balance', index=['cust_id'],\n",
    "                    columns=['acct_type'], aggfunc=np.sum)\n",
    "acct1.head()"
   ]
  },
  {
   "cell_type": "code",
   "execution_count": 263,
   "metadata": {},
   "outputs": [],
   "source": [
    "# Clean the nan by replacing with 0\n",
    "#acct1.columns\n",
    "acct1[\"CC  \"] = acct1[\"CC  \"].fillna(0.00)\n",
    "acct1[\"CK  \"] = acct1[\"CK  \"].fillna(0.00)\n",
    "acct1[\"SV  \"] = acct1[\"SV  \"].fillna(0.00)"
   ]
  },
  {
   "cell_type": "code",
   "execution_count": 264,
   "metadata": {},
   "outputs": [
    {
     "data": {
      "text/html": [
       "<div>\n",
       "<style scoped>\n",
       "    .dataframe tbody tr th:only-of-type {\n",
       "        vertical-align: middle;\n",
       "    }\n",
       "\n",
       "    .dataframe tbody tr th {\n",
       "        vertical-align: top;\n",
       "    }\n",
       "\n",
       "    .dataframe thead th {\n",
       "        text-align: right;\n",
       "    }\n",
       "</style>\n",
       "<table border=\"1\" class=\"dataframe\">\n",
       "  <thead>\n",
       "    <tr style=\"text-align: right;\">\n",
       "      <th>acct_type</th>\n",
       "      <th>CC</th>\n",
       "      <th>CK</th>\n",
       "      <th>SV</th>\n",
       "    </tr>\n",
       "    <tr>\n",
       "      <th>cust_id</th>\n",
       "      <th></th>\n",
       "      <th></th>\n",
       "      <th></th>\n",
       "    </tr>\n",
       "  </thead>\n",
       "  <tbody>\n",
       "    <tr>\n",
       "      <th>1362480</th>\n",
       "      <td>20.00</td>\n",
       "      <td>86.86</td>\n",
       "      <td>1187.97</td>\n",
       "    </tr>\n",
       "    <tr>\n",
       "      <th>1362484</th>\n",
       "      <td>369.72</td>\n",
       "      <td>95.32</td>\n",
       "      <td>2122.17</td>\n",
       "    </tr>\n",
       "    <tr>\n",
       "      <th>1362485</th>\n",
       "      <td>1100.00</td>\n",
       "      <td>45.49</td>\n",
       "      <td>0.00</td>\n",
       "    </tr>\n",
       "    <tr>\n",
       "      <th>1362486</th>\n",
       "      <td>0.00</td>\n",
       "      <td>3312.27</td>\n",
       "      <td>116.24</td>\n",
       "    </tr>\n",
       "    <tr>\n",
       "      <th>1362487</th>\n",
       "      <td>1548.23</td>\n",
       "      <td>1401.21</td>\n",
       "      <td>12.89</td>\n",
       "    </tr>\n",
       "  </tbody>\n",
       "</table>\n",
       "</div>"
      ],
      "text/plain": [
       "acct_type     CC       CK       SV  \n",
       "cust_id                             \n",
       "1362480      20.00    86.86  1187.97\n",
       "1362484     369.72    95.32  2122.17\n",
       "1362485    1100.00    45.49     0.00\n",
       "1362486       0.00  3312.27   116.24\n",
       "1362487    1548.23  1401.21    12.89"
      ]
     },
     "execution_count": 264,
     "metadata": {},
     "output_type": "execute_result"
    }
   ],
   "source": [
    "acct1.head()"
   ]
  },
  {
   "cell_type": "code",
   "execution_count": 267,
   "metadata": {},
   "outputs": [
    {
     "data": {
      "text/html": [
       "<div>\n",
       "<style scoped>\n",
       "    .dataframe tbody tr th:only-of-type {\n",
       "        vertical-align: middle;\n",
       "    }\n",
       "\n",
       "    .dataframe tbody tr th {\n",
       "        vertical-align: top;\n",
       "    }\n",
       "\n",
       "    .dataframe thead th {\n",
       "        text-align: right;\n",
       "    }\n",
       "</style>\n",
       "<table border=\"1\" class=\"dataframe\">\n",
       "  <thead>\n",
       "    <tr style=\"text-align: right;\">\n",
       "      <th>acct_type</th>\n",
       "      <th>cust_id</th>\n",
       "      <th>CC</th>\n",
       "      <th>CK</th>\n",
       "      <th>SV</th>\n",
       "    </tr>\n",
       "  </thead>\n",
       "  <tbody>\n",
       "    <tr>\n",
       "      <th>0</th>\n",
       "      <td>1362480</td>\n",
       "      <td>20.00</td>\n",
       "      <td>86.86</td>\n",
       "      <td>1187.97</td>\n",
       "    </tr>\n",
       "    <tr>\n",
       "      <th>1</th>\n",
       "      <td>1362484</td>\n",
       "      <td>369.72</td>\n",
       "      <td>95.32</td>\n",
       "      <td>2122.17</td>\n",
       "    </tr>\n",
       "    <tr>\n",
       "      <th>2</th>\n",
       "      <td>1362485</td>\n",
       "      <td>1100.00</td>\n",
       "      <td>45.49</td>\n",
       "      <td>0.00</td>\n",
       "    </tr>\n",
       "    <tr>\n",
       "      <th>3</th>\n",
       "      <td>1362486</td>\n",
       "      <td>0.00</td>\n",
       "      <td>3312.27</td>\n",
       "      <td>116.24</td>\n",
       "    </tr>\n",
       "    <tr>\n",
       "      <th>4</th>\n",
       "      <td>1362487</td>\n",
       "      <td>1548.23</td>\n",
       "      <td>1401.21</td>\n",
       "      <td>12.89</td>\n",
       "    </tr>\n",
       "  </tbody>\n",
       "</table>\n",
       "</div>"
      ],
      "text/plain": [
       "acct_type  cust_id     CC       CK       SV  \n",
       "0          1362480    20.00    86.86  1187.97\n",
       "1          1362484   369.72    95.32  2122.17\n",
       "2          1362485  1100.00    45.49     0.00\n",
       "3          1362486     0.00  3312.27   116.24\n",
       "4          1362487  1548.23  1401.21    12.89"
      ]
     },
     "execution_count": 267,
     "metadata": {},
     "output_type": "execute_result"
    }
   ],
   "source": [
    "acct1 = acct1.reset_index()\n",
    "acct1.head()"
   ]
  },
  {
   "cell_type": "code",
   "execution_count": 269,
   "metadata": {},
   "outputs": [
    {
     "data": {
      "text/html": [
       "<div>\n",
       "<style scoped>\n",
       "    .dataframe tbody tr th:only-of-type {\n",
       "        vertical-align: middle;\n",
       "    }\n",
       "\n",
       "    .dataframe tbody tr th {\n",
       "        vertical-align: top;\n",
       "    }\n",
       "\n",
       "    .dataframe thead th {\n",
       "        text-align: right;\n",
       "    }\n",
       "</style>\n",
       "<table border=\"1\" class=\"dataframe\">\n",
       "  <thead>\n",
       "    <tr style=\"text-align: right;\">\n",
       "      <th>acct_type</th>\n",
       "      <th>CC</th>\n",
       "      <th>CK</th>\n",
       "      <th>SV</th>\n",
       "    </tr>\n",
       "    <tr>\n",
       "      <th>cust_id</th>\n",
       "      <th></th>\n",
       "      <th></th>\n",
       "      <th></th>\n",
       "    </tr>\n",
       "  </thead>\n",
       "  <tbody>\n",
       "    <tr>\n",
       "      <th>1362480</th>\n",
       "      <td>20.00</td>\n",
       "      <td>86.86</td>\n",
       "      <td>1187.97</td>\n",
       "    </tr>\n",
       "    <tr>\n",
       "      <th>1362484</th>\n",
       "      <td>369.72</td>\n",
       "      <td>95.32</td>\n",
       "      <td>2122.17</td>\n",
       "    </tr>\n",
       "    <tr>\n",
       "      <th>1362485</th>\n",
       "      <td>1100.00</td>\n",
       "      <td>45.49</td>\n",
       "      <td>0.00</td>\n",
       "    </tr>\n",
       "    <tr>\n",
       "      <th>1362486</th>\n",
       "      <td>0.00</td>\n",
       "      <td>3312.27</td>\n",
       "      <td>116.24</td>\n",
       "    </tr>\n",
       "    <tr>\n",
       "      <th>1362487</th>\n",
       "      <td>1548.23</td>\n",
       "      <td>1401.21</td>\n",
       "      <td>12.89</td>\n",
       "    </tr>\n",
       "  </tbody>\n",
       "</table>\n",
       "</div>"
      ],
      "text/plain": [
       "acct_type     CC       CK       SV  \n",
       "cust_id                             \n",
       "1362480      20.00    86.86  1187.97\n",
       "1362484     369.72    95.32  2122.17\n",
       "1362485    1100.00    45.49     0.00\n",
       "1362486       0.00  3312.27   116.24\n",
       "1362487    1548.23  1401.21    12.89"
      ]
     },
     "execution_count": 269,
     "metadata": {},
     "output_type": "execute_result"
    }
   ],
   "source": [
    "acct1 = acct1.set_index('cust_id')\n",
    "acct1.head()"
   ]
  },
  {
   "cell_type": "code",
   "execution_count": 485,
   "metadata": {},
   "outputs": [
    {
     "data": {
      "text/plain": [
       "Index(['cust_id', 'acct_nbr', 'minimum_balance', 'acct_type', 'account_active',\n",
       "       'acct_start_date', 'acct_end_date', 'starting_balance',\n",
       "       'ending_balance'],\n",
       "      dtype='object')"
      ]
     },
     "execution_count": 485,
     "metadata": {},
     "output_type": "execute_result"
    }
   ],
   "source": [
    "saving_accounts.columns"
   ]
  },
  {
   "cell_type": "code",
   "execution_count": 490,
   "metadata": {},
   "outputs": [
    {
     "data": {
      "text/plain": [
       "(1409, 8)"
      ]
     },
     "execution_count": 490,
     "metadata": {},
     "output_type": "execute_result"
    }
   ],
   "source": [
    "accounts.shape"
   ]
  },
  {
   "cell_type": "code",
   "execution_count": 503,
   "metadata": {},
   "outputs": [
    {
     "data": {
      "text/plain": [
       "Index(['cust_id', 'account_active', 'minimum_balance', 'acct_nbr', 'acct_type',\n",
       "       'account_active_sv', 'acct_start_date', 'acct_end_date',\n",
       "       'starting_balance', 'ending_balance'],\n",
       "      dtype='object')"
      ]
     },
     "execution_count": 503,
     "metadata": {},
     "output_type": "execute_result"
    }
   ],
   "source": [
    "accounts = pd.merge(saving_accounts[['cust_id', 'account_active', 'minimum_balance']], \n",
    "                    accounts, how=\"right\", on=\"cust_id\", suffixes=('', '_sv'))\n",
    "accounts.columns"
   ]
  },
  {
   "cell_type": "code",
   "execution_count": 504,
   "metadata": {},
   "outputs": [
    {
     "data": {
      "text/plain": [
       "Index(['cust_id', 'account_active', 'minimum_balance', 'account_active_ch',\n",
       "       'minimum_balance_ch', 'acct_nbr', 'acct_type', 'account_active_sv',\n",
       "       'acct_start_date', 'acct_end_date', 'starting_balance',\n",
       "       'ending_balance'],\n",
       "      dtype='object')"
      ]
     },
     "execution_count": 504,
     "metadata": {},
     "output_type": "execute_result"
    }
   ],
   "source": [
    "accounts = pd.merge(checking_accounts[['cust_id', 'account_active', 'minimum_balance']], \n",
    "                    accounts, how=\"right\", on=\"cust_id\", suffixes=('', '_ch'))\n",
    "accounts.columns"
   ]
  },
  {
   "cell_type": "code",
   "execution_count": 495,
   "metadata": {},
   "outputs": [
    {
     "data": {
      "text/plain": [
       "Index(['cust_id', 'acct_nbr', 'credit_limit', 'credit_rating',\n",
       "       'account_active', 'acct_start_date', 'acct_end_date',\n",
       "       'starting_balance', 'ending_balance'],\n",
       "      dtype='object')"
      ]
     },
     "execution_count": 495,
     "metadata": {},
     "output_type": "execute_result"
    }
   ],
   "source": [
    "credit_accounts.columns"
   ]
  },
  {
   "cell_type": "code",
   "execution_count": 505,
   "metadata": {},
   "outputs": [
    {
     "data": {
      "text/plain": [
       "(1409, 15)"
      ]
     },
     "execution_count": 505,
     "metadata": {},
     "output_type": "execute_result"
    }
   ],
   "source": [
    "accounts = pd.merge(credit_accounts[['cust_id', 'account_active', 'credit_limit', 'credit_rating']], accounts, \n",
    "                    how=\"right\", on=\"cust_id\", suffixes=('', '_cc'))\n",
    "accounts.shape"
   ]
  },
  {
   "cell_type": "code",
   "execution_count": 506,
   "metadata": {},
   "outputs": [
    {
     "data": {
      "text/plain": [
       "Index(['cust_id', 'account_active', 'credit_limit', 'credit_rating',\n",
       "       'account_active_cc', 'minimum_balance', 'account_active_ch',\n",
       "       'minimum_balance_ch', 'acct_nbr', 'acct_type', 'account_active_sv',\n",
       "       'acct_start_date', 'acct_end_date', 'starting_balance',\n",
       "       'ending_balance'],\n",
       "      dtype='object')"
      ]
     },
     "execution_count": 506,
     "metadata": {},
     "output_type": "execute_result"
    }
   ],
   "source": [
    "accounts.columns"
   ]
  },
  {
   "cell_type": "code",
   "execution_count": 507,
   "metadata": {},
   "outputs": [
    {
     "data": {
      "text/html": [
       "<div>\n",
       "<style scoped>\n",
       "    .dataframe tbody tr th:only-of-type {\n",
       "        vertical-align: middle;\n",
       "    }\n",
       "\n",
       "    .dataframe tbody tr th {\n",
       "        vertical-align: top;\n",
       "    }\n",
       "\n",
       "    .dataframe thead th {\n",
       "        text-align: right;\n",
       "    }\n",
       "</style>\n",
       "<table border=\"1\" class=\"dataframe\">\n",
       "  <thead>\n",
       "    <tr style=\"text-align: right;\">\n",
       "      <th></th>\n",
       "      <th>cust_id</th>\n",
       "      <th>account_active</th>\n",
       "      <th>credit_limit</th>\n",
       "      <th>credit_rating</th>\n",
       "      <th>account_active_cc</th>\n",
       "      <th>minimum_balance</th>\n",
       "      <th>account_active_ch</th>\n",
       "      <th>minimum_balance_ch</th>\n",
       "      <th>acct_nbr</th>\n",
       "      <th>acct_type</th>\n",
       "      <th>account_active_sv</th>\n",
       "      <th>acct_start_date</th>\n",
       "      <th>acct_end_date</th>\n",
       "      <th>starting_balance</th>\n",
       "      <th>ending_balance</th>\n",
       "      <th>savings</th>\n",
       "    </tr>\n",
       "  </thead>\n",
       "  <tbody>\n",
       "    <tr>\n",
       "      <th>0</th>\n",
       "      <td>1363160</td>\n",
       "      <td>Y</td>\n",
       "      <td>1000.0</td>\n",
       "      <td>0.0</td>\n",
       "      <td>NaN</td>\n",
       "      <td>NaN</td>\n",
       "      <td>Y</td>\n",
       "      <td>100.0</td>\n",
       "      <td>4561143213631600</td>\n",
       "      <td>CC</td>\n",
       "      <td>Y</td>\n",
       "      <td>12.10.1988</td>\n",
       "      <td>NaN</td>\n",
       "      <td>657.46</td>\n",
       "      <td>286.69</td>\n",
       "      <td>-370.77</td>\n",
       "    </tr>\n",
       "    <tr>\n",
       "      <th>1</th>\n",
       "      <td>1363160</td>\n",
       "      <td>Y</td>\n",
       "      <td>1000.0</td>\n",
       "      <td>0.0</td>\n",
       "      <td>NaN</td>\n",
       "      <td>NaN</td>\n",
       "      <td>Y</td>\n",
       "      <td>100.0</td>\n",
       "      <td>13631603</td>\n",
       "      <td>SV</td>\n",
       "      <td>Y</td>\n",
       "      <td>9.5.1988</td>\n",
       "      <td>NaN</td>\n",
       "      <td>113.04</td>\n",
       "      <td>122.54</td>\n",
       "      <td>9.50</td>\n",
       "    </tr>\n",
       "    <tr>\n",
       "      <th>2</th>\n",
       "      <td>1362487</td>\n",
       "      <td>Y</td>\n",
       "      <td>3000.0</td>\n",
       "      <td>0.0</td>\n",
       "      <td>Y</td>\n",
       "      <td>3000.0</td>\n",
       "      <td>N</td>\n",
       "      <td>500.0</td>\n",
       "      <td>4561143213624870</td>\n",
       "      <td>CC</td>\n",
       "      <td>Y</td>\n",
       "      <td>8.8.1995</td>\n",
       "      <td>NaN</td>\n",
       "      <td>0.00</td>\n",
       "      <td>1548.23</td>\n",
       "      <td>1548.23</td>\n",
       "    </tr>\n",
       "    <tr>\n",
       "      <th>3</th>\n",
       "      <td>1362487</td>\n",
       "      <td>Y</td>\n",
       "      <td>3000.0</td>\n",
       "      <td>0.0</td>\n",
       "      <td>Y</td>\n",
       "      <td>3000.0</td>\n",
       "      <td>N</td>\n",
       "      <td>500.0</td>\n",
       "      <td>13624873</td>\n",
       "      <td>SV</td>\n",
       "      <td>N</td>\n",
       "      <td>27.6.1994</td>\n",
       "      <td>25.8.1995</td>\n",
       "      <td>651.73</td>\n",
       "      <td>12.89</td>\n",
       "      <td>-638.84</td>\n",
       "    </tr>\n",
       "    <tr>\n",
       "      <th>4</th>\n",
       "      <td>1362487</td>\n",
       "      <td>Y</td>\n",
       "      <td>3000.0</td>\n",
       "      <td>0.0</td>\n",
       "      <td>Y</td>\n",
       "      <td>3000.0</td>\n",
       "      <td>N</td>\n",
       "      <td>500.0</td>\n",
       "      <td>13624872</td>\n",
       "      <td>CK</td>\n",
       "      <td>Y</td>\n",
       "      <td>12.1.1995</td>\n",
       "      <td>NaN</td>\n",
       "      <td>2781.07</td>\n",
       "      <td>1401.21</td>\n",
       "      <td>-1379.86</td>\n",
       "    </tr>\n",
       "  </tbody>\n",
       "</table>\n",
       "</div>"
      ],
      "text/plain": [
       "   cust_id account_active  credit_limit  credit_rating account_active_cc  \\\n",
       "0  1363160             Y         1000.0            0.0               NaN   \n",
       "1  1363160             Y         1000.0            0.0               NaN   \n",
       "2  1362487             Y         3000.0            0.0                Y    \n",
       "3  1362487             Y         3000.0            0.0                Y    \n",
       "4  1362487             Y         3000.0            0.0                Y    \n",
       "\n",
       "   minimum_balance account_active_ch  minimum_balance_ch          acct_nbr  \\\n",
       "0              NaN                Y                100.0  4561143213631600   \n",
       "1              NaN                Y                100.0          13631603   \n",
       "2           3000.0                N                500.0  4561143213624870   \n",
       "3           3000.0                N                500.0          13624873   \n",
       "4           3000.0                N                500.0          13624872   \n",
       "\n",
       "  acct_type account_active_sv acct_start_date acct_end_date  starting_balance  \\\n",
       "0      CC                  Y       12.10.1988           NaN            657.46   \n",
       "1      SV                  Y         9.5.1988           NaN            113.04   \n",
       "2      CC                  Y         8.8.1995           NaN              0.00   \n",
       "3      SV                  N        27.6.1994     25.8.1995            651.73   \n",
       "4      CK                  Y        12.1.1995           NaN           2781.07   \n",
       "\n",
       "   ending_balance  savings  \n",
       "0          286.69  -370.77  \n",
       "1          122.54     9.50  \n",
       "2         1548.23  1548.23  \n",
       "3           12.89  -638.84  \n",
       "4         1401.21 -1379.86  "
      ]
     },
     "execution_count": 507,
     "metadata": {},
     "output_type": "execute_result"
    }
   ],
   "source": [
    "accounts['savings'] = accounts['ending_balance'] - accounts['starting_balance']\n",
    "accounts.head()       "
   ]
  },
  {
   "cell_type": "markdown",
   "metadata": {},
   "source": [
    "## Remove NaN and code numeric"
   ]
  },
  {
   "cell_type": "code",
   "execution_count": 518,
   "metadata": {},
   "outputs": [
    {
     "data": {
      "text/html": [
       "<div>\n",
       "<style scoped>\n",
       "    .dataframe tbody tr th:only-of-type {\n",
       "        vertical-align: middle;\n",
       "    }\n",
       "\n",
       "    .dataframe tbody tr th {\n",
       "        vertical-align: top;\n",
       "    }\n",
       "\n",
       "    .dataframe thead th {\n",
       "        text-align: right;\n",
       "    }\n",
       "</style>\n",
       "<table border=\"1\" class=\"dataframe\">\n",
       "  <thead>\n",
       "    <tr style=\"text-align: right;\">\n",
       "      <th></th>\n",
       "      <th>Total</th>\n",
       "      <th>Percent</th>\n",
       "    </tr>\n",
       "  </thead>\n",
       "  <tbody>\n",
       "    <tr>\n",
       "      <th>account_active</th>\n",
       "      <td>1409</td>\n",
       "      <td>1.000000</td>\n",
       "    </tr>\n",
       "    <tr>\n",
       "      <th>account_active_ch</th>\n",
       "      <td>376</td>\n",
       "      <td>0.266856</td>\n",
       "    </tr>\n",
       "    <tr>\n",
       "      <th>account_active_cc</th>\n",
       "      <td>190</td>\n",
       "      <td>0.134847</td>\n",
       "    </tr>\n",
       "    <tr>\n",
       "      <th>savings</th>\n",
       "      <td>0</td>\n",
       "      <td>0.000000</td>\n",
       "    </tr>\n",
       "    <tr>\n",
       "      <th>ending_balance</th>\n",
       "      <td>0</td>\n",
       "      <td>0.000000</td>\n",
       "    </tr>\n",
       "    <tr>\n",
       "      <th>starting_balance</th>\n",
       "      <td>0</td>\n",
       "      <td>0.000000</td>\n",
       "    </tr>\n",
       "    <tr>\n",
       "      <th>account_active_sv</th>\n",
       "      <td>0</td>\n",
       "      <td>0.000000</td>\n",
       "    </tr>\n",
       "    <tr>\n",
       "      <th>acct_type</th>\n",
       "      <td>0</td>\n",
       "      <td>0.000000</td>\n",
       "    </tr>\n",
       "    <tr>\n",
       "      <th>acct_nbr</th>\n",
       "      <td>0</td>\n",
       "      <td>0.000000</td>\n",
       "    </tr>\n",
       "    <tr>\n",
       "      <th>minimum_balance_ch</th>\n",
       "      <td>0</td>\n",
       "      <td>0.000000</td>\n",
       "    </tr>\n",
       "    <tr>\n",
       "      <th>minimum_balance</th>\n",
       "      <td>0</td>\n",
       "      <td>0.000000</td>\n",
       "    </tr>\n",
       "    <tr>\n",
       "      <th>credit_rating</th>\n",
       "      <td>0</td>\n",
       "      <td>0.000000</td>\n",
       "    </tr>\n",
       "    <tr>\n",
       "      <th>credit_limit</th>\n",
       "      <td>0</td>\n",
       "      <td>0.000000</td>\n",
       "    </tr>\n",
       "    <tr>\n",
       "      <th>cust_id</th>\n",
       "      <td>0</td>\n",
       "      <td>0.000000</td>\n",
       "    </tr>\n",
       "  </tbody>\n",
       "</table>\n",
       "</div>"
      ],
      "text/plain": [
       "                    Total   Percent\n",
       "account_active       1409  1.000000\n",
       "account_active_ch     376  0.266856\n",
       "account_active_cc     190  0.134847\n",
       "savings                 0  0.000000\n",
       "ending_balance          0  0.000000\n",
       "starting_balance        0  0.000000\n",
       "account_active_sv       0  0.000000\n",
       "acct_type               0  0.000000\n",
       "acct_nbr                0  0.000000\n",
       "minimum_balance_ch      0  0.000000\n",
       "minimum_balance         0  0.000000\n",
       "credit_rating           0  0.000000\n",
       "credit_limit            0  0.000000\n",
       "cust_id                 0  0.000000"
      ]
     },
     "execution_count": 518,
     "metadata": {},
     "output_type": "execute_result"
    }
   ],
   "source": [
    "total = accounts.isnull().sum().sort_values(ascending=False)\n",
    "percent = (accounts.isnull().sum()/accounts.isnull().count()).sort_values(ascending=False)\n",
    "missing_data = pd.concat([total, percent], axis=1, keys=['Total','Percent'])\n",
    "missing_data.head(20)"
   ]
  },
  {
   "cell_type": "code",
   "execution_count": 517,
   "metadata": {},
   "outputs": [],
   "source": [
    "accounts[\"minimum_balance_ch\"] = accounts[\"minimum_balance_ch\"].fillna(0.0)\n",
    "accounts[\"credit_rating\"] = accounts[\"credit_rating\"].fillna(0.0)\n",
    "accounts[\"credit_limit\"] = accounts[\"credit_limit\"].fillna(0.0)\n",
    "accounts[\"minimum_balance_ch\"] = accounts[\"minimum_balance_ch\"].fillna(0.0)\n",
    "accounts[\"minimum_balance\"] = accounts[\"minimum_balance\"].fillna(0.0)"
   ]
  },
  {
   "cell_type": "code",
   "execution_count": 522,
   "metadata": {},
   "outputs": [
    {
     "ename": "KeyError",
     "evalue": "\"['account_active' 'account_active_cc' 'account_active_ch'\\n 'account_active_sv'] not found in axis\"",
     "output_type": "error",
     "traceback": [
      "\u001b[0;31m---------------------------------------------------------------------------\u001b[0m",
      "\u001b[0;31mKeyError\u001b[0m                                  Traceback (most recent call last)",
      "\u001b[0;32m<ipython-input-522-22d02341e068>\u001b[0m in \u001b[0;36m<module>\u001b[0;34m\u001b[0m\n\u001b[0;32m----> 1\u001b[0;31m accounts.drop(['account_active', 'account_active_cc', \n\u001b[0m\u001b[1;32m      2\u001b[0m                'account_active_ch', 'account_active_sv'],axis=1, inplace=True)\n\u001b[1;32m      3\u001b[0m \u001b[0maccounts\u001b[0m\u001b[0;34m.\u001b[0m\u001b[0mcolumns\u001b[0m\u001b[0;34m\u001b[0m\u001b[0;34m\u001b[0m\u001b[0m\n",
      "\u001b[0;32m/opt/anaconda3/lib/python3.8/site-packages/pandas/core/frame.py\u001b[0m in \u001b[0;36mdrop\u001b[0;34m(self, labels, axis, index, columns, level, inplace, errors)\u001b[0m\n\u001b[1;32m   3988\u001b[0m                 \u001b[0mweight\u001b[0m  \u001b[0;36m1.0\u001b[0m     \u001b[0;36m0.8\u001b[0m\u001b[0;34m\u001b[0m\u001b[0;34m\u001b[0m\u001b[0m\n\u001b[1;32m   3989\u001b[0m         \"\"\"\n\u001b[0;32m-> 3990\u001b[0;31m         return super().drop(\n\u001b[0m\u001b[1;32m   3991\u001b[0m             \u001b[0mlabels\u001b[0m\u001b[0;34m=\u001b[0m\u001b[0mlabels\u001b[0m\u001b[0;34m,\u001b[0m\u001b[0;34m\u001b[0m\u001b[0;34m\u001b[0m\u001b[0m\n\u001b[1;32m   3992\u001b[0m             \u001b[0maxis\u001b[0m\u001b[0;34m=\u001b[0m\u001b[0maxis\u001b[0m\u001b[0;34m,\u001b[0m\u001b[0;34m\u001b[0m\u001b[0;34m\u001b[0m\u001b[0m\n",
      "\u001b[0;32m/opt/anaconda3/lib/python3.8/site-packages/pandas/core/generic.py\u001b[0m in \u001b[0;36mdrop\u001b[0;34m(self, labels, axis, index, columns, level, inplace, errors)\u001b[0m\n\u001b[1;32m   3934\u001b[0m         \u001b[0;32mfor\u001b[0m \u001b[0maxis\u001b[0m\u001b[0;34m,\u001b[0m \u001b[0mlabels\u001b[0m \u001b[0;32min\u001b[0m \u001b[0maxes\u001b[0m\u001b[0;34m.\u001b[0m\u001b[0mitems\u001b[0m\u001b[0;34m(\u001b[0m\u001b[0;34m)\u001b[0m\u001b[0;34m:\u001b[0m\u001b[0;34m\u001b[0m\u001b[0;34m\u001b[0m\u001b[0m\n\u001b[1;32m   3935\u001b[0m             \u001b[0;32mif\u001b[0m \u001b[0mlabels\u001b[0m \u001b[0;32mis\u001b[0m \u001b[0;32mnot\u001b[0m \u001b[0;32mNone\u001b[0m\u001b[0;34m:\u001b[0m\u001b[0;34m\u001b[0m\u001b[0;34m\u001b[0m\u001b[0m\n\u001b[0;32m-> 3936\u001b[0;31m                 \u001b[0mobj\u001b[0m \u001b[0;34m=\u001b[0m \u001b[0mobj\u001b[0m\u001b[0;34m.\u001b[0m\u001b[0m_drop_axis\u001b[0m\u001b[0;34m(\u001b[0m\u001b[0mlabels\u001b[0m\u001b[0;34m,\u001b[0m \u001b[0maxis\u001b[0m\u001b[0;34m,\u001b[0m \u001b[0mlevel\u001b[0m\u001b[0;34m=\u001b[0m\u001b[0mlevel\u001b[0m\u001b[0;34m,\u001b[0m \u001b[0merrors\u001b[0m\u001b[0;34m=\u001b[0m\u001b[0merrors\u001b[0m\u001b[0;34m)\u001b[0m\u001b[0;34m\u001b[0m\u001b[0;34m\u001b[0m\u001b[0m\n\u001b[0m\u001b[1;32m   3937\u001b[0m \u001b[0;34m\u001b[0m\u001b[0m\n\u001b[1;32m   3938\u001b[0m         \u001b[0;32mif\u001b[0m \u001b[0minplace\u001b[0m\u001b[0;34m:\u001b[0m\u001b[0;34m\u001b[0m\u001b[0;34m\u001b[0m\u001b[0m\n",
      "\u001b[0;32m/opt/anaconda3/lib/python3.8/site-packages/pandas/core/generic.py\u001b[0m in \u001b[0;36m_drop_axis\u001b[0;34m(self, labels, axis, level, errors)\u001b[0m\n\u001b[1;32m   3968\u001b[0m                 \u001b[0mnew_axis\u001b[0m \u001b[0;34m=\u001b[0m \u001b[0maxis\u001b[0m\u001b[0;34m.\u001b[0m\u001b[0mdrop\u001b[0m\u001b[0;34m(\u001b[0m\u001b[0mlabels\u001b[0m\u001b[0;34m,\u001b[0m \u001b[0mlevel\u001b[0m\u001b[0;34m=\u001b[0m\u001b[0mlevel\u001b[0m\u001b[0;34m,\u001b[0m \u001b[0merrors\u001b[0m\u001b[0;34m=\u001b[0m\u001b[0merrors\u001b[0m\u001b[0;34m)\u001b[0m\u001b[0;34m\u001b[0m\u001b[0;34m\u001b[0m\u001b[0m\n\u001b[1;32m   3969\u001b[0m             \u001b[0;32melse\u001b[0m\u001b[0;34m:\u001b[0m\u001b[0;34m\u001b[0m\u001b[0;34m\u001b[0m\u001b[0m\n\u001b[0;32m-> 3970\u001b[0;31m                 \u001b[0mnew_axis\u001b[0m \u001b[0;34m=\u001b[0m \u001b[0maxis\u001b[0m\u001b[0;34m.\u001b[0m\u001b[0mdrop\u001b[0m\u001b[0;34m(\u001b[0m\u001b[0mlabels\u001b[0m\u001b[0;34m,\u001b[0m \u001b[0merrors\u001b[0m\u001b[0;34m=\u001b[0m\u001b[0merrors\u001b[0m\u001b[0;34m)\u001b[0m\u001b[0;34m\u001b[0m\u001b[0;34m\u001b[0m\u001b[0m\n\u001b[0m\u001b[1;32m   3971\u001b[0m             \u001b[0mresult\u001b[0m \u001b[0;34m=\u001b[0m \u001b[0mself\u001b[0m\u001b[0;34m.\u001b[0m\u001b[0mreindex\u001b[0m\u001b[0;34m(\u001b[0m\u001b[0;34m**\u001b[0m\u001b[0;34m{\u001b[0m\u001b[0maxis_name\u001b[0m\u001b[0;34m:\u001b[0m \u001b[0mnew_axis\u001b[0m\u001b[0;34m}\u001b[0m\u001b[0;34m)\u001b[0m\u001b[0;34m\u001b[0m\u001b[0;34m\u001b[0m\u001b[0m\n\u001b[1;32m   3972\u001b[0m \u001b[0;34m\u001b[0m\u001b[0m\n",
      "\u001b[0;32m/opt/anaconda3/lib/python3.8/site-packages/pandas/core/indexes/base.py\u001b[0m in \u001b[0;36mdrop\u001b[0;34m(self, labels, errors)\u001b[0m\n\u001b[1;32m   5016\u001b[0m         \u001b[0;32mif\u001b[0m \u001b[0mmask\u001b[0m\u001b[0;34m.\u001b[0m\u001b[0many\u001b[0m\u001b[0;34m(\u001b[0m\u001b[0;34m)\u001b[0m\u001b[0;34m:\u001b[0m\u001b[0;34m\u001b[0m\u001b[0;34m\u001b[0m\u001b[0m\n\u001b[1;32m   5017\u001b[0m             \u001b[0;32mif\u001b[0m \u001b[0merrors\u001b[0m \u001b[0;34m!=\u001b[0m \u001b[0;34m\"ignore\"\u001b[0m\u001b[0;34m:\u001b[0m\u001b[0;34m\u001b[0m\u001b[0;34m\u001b[0m\u001b[0m\n\u001b[0;32m-> 5018\u001b[0;31m                 \u001b[0;32mraise\u001b[0m \u001b[0mKeyError\u001b[0m\u001b[0;34m(\u001b[0m\u001b[0;34mf\"{labels[mask]} not found in axis\"\u001b[0m\u001b[0;34m)\u001b[0m\u001b[0;34m\u001b[0m\u001b[0;34m\u001b[0m\u001b[0m\n\u001b[0m\u001b[1;32m   5019\u001b[0m             \u001b[0mindexer\u001b[0m \u001b[0;34m=\u001b[0m \u001b[0mindexer\u001b[0m\u001b[0;34m[\u001b[0m\u001b[0;34m~\u001b[0m\u001b[0mmask\u001b[0m\u001b[0;34m]\u001b[0m\u001b[0;34m\u001b[0m\u001b[0;34m\u001b[0m\u001b[0m\n\u001b[1;32m   5020\u001b[0m         \u001b[0;32mreturn\u001b[0m \u001b[0mself\u001b[0m\u001b[0;34m.\u001b[0m\u001b[0mdelete\u001b[0m\u001b[0;34m(\u001b[0m\u001b[0mindexer\u001b[0m\u001b[0;34m)\u001b[0m\u001b[0;34m\u001b[0m\u001b[0;34m\u001b[0m\u001b[0m\n",
      "\u001b[0;31mKeyError\u001b[0m: \"['account_active' 'account_active_cc' 'account_active_ch'\\n 'account_active_sv'] not found in axis\""
     ]
    }
   ],
   "source": [
    "accounts.drop(['account_active', 'account_active_cc', \n",
    "               'account_active_ch', 'account_active_sv'],axis=1, inplace=True)\n",
    "accounts.columns"
   ]
  },
  {
   "cell_type": "code",
   "execution_count": 514,
   "metadata": {},
   "outputs": [
    {
     "name": "stderr",
     "output_type": "stream",
     "text": [
      "<ipython-input-514-421b4e91f35c>:2: SettingWithCopyWarning:\n",
      "\n",
      "\n",
      "A value is trying to be set on a copy of a slice from a DataFrame\n",
      "\n",
      "See the caveats in the documentation: https://pandas.pydata.org/pandas-docs/stable/user_guide/indexing.html#returning-a-view-versus-a-copy\n",
      "\n"
     ]
    }
   ],
   "source": [
    "#accounts['savings'] = accounts.iloc(accounts['account_type' == 'CC']) savings * -1\n",
    "#accounts['savings'][accounts.acct_type == 'CC'] = (accounts['savings'] * -1)"
   ]
  },
  {
   "cell_type": "code",
   "execution_count": 523,
   "metadata": {},
   "outputs": [
    {
     "data": {
      "text/html": [
       "<div>\n",
       "<style scoped>\n",
       "    .dataframe tbody tr th:only-of-type {\n",
       "        vertical-align: middle;\n",
       "    }\n",
       "\n",
       "    .dataframe tbody tr th {\n",
       "        vertical-align: top;\n",
       "    }\n",
       "\n",
       "    .dataframe thead th {\n",
       "        text-align: right;\n",
       "    }\n",
       "</style>\n",
       "<table border=\"1\" class=\"dataframe\">\n",
       "  <thead>\n",
       "    <tr style=\"text-align: right;\">\n",
       "      <th></th>\n",
       "      <th>cust_id</th>\n",
       "      <th>credit_limit</th>\n",
       "      <th>credit_rating</th>\n",
       "      <th>minimum_balance</th>\n",
       "      <th>minimum_balance_ch</th>\n",
       "      <th>acct_nbr</th>\n",
       "      <th>acct_type</th>\n",
       "      <th>starting_balance</th>\n",
       "      <th>ending_balance</th>\n",
       "      <th>savings</th>\n",
       "    </tr>\n",
       "  </thead>\n",
       "  <tbody>\n",
       "    <tr>\n",
       "      <th>0</th>\n",
       "      <td>1363160</td>\n",
       "      <td>1000.0</td>\n",
       "      <td>0.0</td>\n",
       "      <td>0.0</td>\n",
       "      <td>100.0</td>\n",
       "      <td>4561143213631600</td>\n",
       "      <td>CC</td>\n",
       "      <td>657.46</td>\n",
       "      <td>286.69</td>\n",
       "      <td>-370.77</td>\n",
       "    </tr>\n",
       "    <tr>\n",
       "      <th>1</th>\n",
       "      <td>1363160</td>\n",
       "      <td>1000.0</td>\n",
       "      <td>0.0</td>\n",
       "      <td>0.0</td>\n",
       "      <td>100.0</td>\n",
       "      <td>13631603</td>\n",
       "      <td>SV</td>\n",
       "      <td>113.04</td>\n",
       "      <td>122.54</td>\n",
       "      <td>9.50</td>\n",
       "    </tr>\n",
       "    <tr>\n",
       "      <th>2</th>\n",
       "      <td>1362487</td>\n",
       "      <td>3000.0</td>\n",
       "      <td>0.0</td>\n",
       "      <td>3000.0</td>\n",
       "      <td>500.0</td>\n",
       "      <td>4561143213624870</td>\n",
       "      <td>CC</td>\n",
       "      <td>0.00</td>\n",
       "      <td>1548.23</td>\n",
       "      <td>1548.23</td>\n",
       "    </tr>\n",
       "    <tr>\n",
       "      <th>3</th>\n",
       "      <td>1362487</td>\n",
       "      <td>3000.0</td>\n",
       "      <td>0.0</td>\n",
       "      <td>3000.0</td>\n",
       "      <td>500.0</td>\n",
       "      <td>13624873</td>\n",
       "      <td>SV</td>\n",
       "      <td>651.73</td>\n",
       "      <td>12.89</td>\n",
       "      <td>-638.84</td>\n",
       "    </tr>\n",
       "    <tr>\n",
       "      <th>4</th>\n",
       "      <td>1362487</td>\n",
       "      <td>3000.0</td>\n",
       "      <td>0.0</td>\n",
       "      <td>3000.0</td>\n",
       "      <td>500.0</td>\n",
       "      <td>13624872</td>\n",
       "      <td>CK</td>\n",
       "      <td>2781.07</td>\n",
       "      <td>1401.21</td>\n",
       "      <td>-1379.86</td>\n",
       "    </tr>\n",
       "  </tbody>\n",
       "</table>\n",
       "</div>"
      ],
      "text/plain": [
       "   cust_id  credit_limit  credit_rating  minimum_balance  minimum_balance_ch  \\\n",
       "0  1363160        1000.0            0.0              0.0               100.0   \n",
       "1  1363160        1000.0            0.0              0.0               100.0   \n",
       "2  1362487        3000.0            0.0           3000.0               500.0   \n",
       "3  1362487        3000.0            0.0           3000.0               500.0   \n",
       "4  1362487        3000.0            0.0           3000.0               500.0   \n",
       "\n",
       "           acct_nbr acct_type  starting_balance  ending_balance  savings  \n",
       "0  4561143213631600      CC              657.46          286.69  -370.77  \n",
       "1          13631603      SV              113.04          122.54     9.50  \n",
       "2  4561143213624870      CC                0.00         1548.23  1548.23  \n",
       "3          13624873      SV              651.73           12.89  -638.84  \n",
       "4          13624872      CK             2781.07         1401.21 -1379.86  "
      ]
     },
     "execution_count": 523,
     "metadata": {},
     "output_type": "execute_result"
    }
   ],
   "source": [
    "accounts.head()"
   ]
  },
  {
   "cell_type": "code",
   "execution_count": 553,
   "metadata": {},
   "outputs": [
    {
     "data": {
      "text/html": [
       "<div>\n",
       "<style scoped>\n",
       "    .dataframe tbody tr th:only-of-type {\n",
       "        vertical-align: middle;\n",
       "    }\n",
       "\n",
       "    .dataframe tbody tr th {\n",
       "        vertical-align: top;\n",
       "    }\n",
       "\n",
       "    .dataframe thead th {\n",
       "        text-align: right;\n",
       "    }\n",
       "</style>\n",
       "<table border=\"1\" class=\"dataframe\">\n",
       "  <thead>\n",
       "    <tr style=\"text-align: right;\">\n",
       "      <th>acct_type</th>\n",
       "      <th>CC</th>\n",
       "      <th>CK</th>\n",
       "      <th>SV</th>\n",
       "    </tr>\n",
       "    <tr>\n",
       "      <th>cust_id</th>\n",
       "      <th></th>\n",
       "      <th></th>\n",
       "      <th></th>\n",
       "    </tr>\n",
       "  </thead>\n",
       "  <tbody>\n",
       "    <tr>\n",
       "      <th>1362480</th>\n",
       "      <td>1</td>\n",
       "      <td>1</td>\n",
       "      <td>1</td>\n",
       "    </tr>\n",
       "    <tr>\n",
       "      <th>1362484</th>\n",
       "      <td>1</td>\n",
       "      <td>1</td>\n",
       "      <td>1</td>\n",
       "    </tr>\n",
       "    <tr>\n",
       "      <th>1362485</th>\n",
       "      <td>1</td>\n",
       "      <td>1</td>\n",
       "      <td>0</td>\n",
       "    </tr>\n",
       "    <tr>\n",
       "      <th>1362486</th>\n",
       "      <td>0</td>\n",
       "      <td>1</td>\n",
       "      <td>1</td>\n",
       "    </tr>\n",
       "    <tr>\n",
       "      <th>1362487</th>\n",
       "      <td>1</td>\n",
       "      <td>1</td>\n",
       "      <td>1</td>\n",
       "    </tr>\n",
       "    <tr>\n",
       "      <th>1362488</th>\n",
       "      <td>0</td>\n",
       "      <td>1</td>\n",
       "      <td>0</td>\n",
       "    </tr>\n",
       "    <tr>\n",
       "      <th>1362489</th>\n",
       "      <td>1</td>\n",
       "      <td>1</td>\n",
       "      <td>1</td>\n",
       "    </tr>\n",
       "    <tr>\n",
       "      <th>1362492</th>\n",
       "      <td>1</td>\n",
       "      <td>1</td>\n",
       "      <td>0</td>\n",
       "    </tr>\n",
       "    <tr>\n",
       "      <th>1362496</th>\n",
       "      <td>0</td>\n",
       "      <td>0</td>\n",
       "      <td>1</td>\n",
       "    </tr>\n",
       "    <tr>\n",
       "      <th>1362497</th>\n",
       "      <td>0</td>\n",
       "      <td>0</td>\n",
       "      <td>1</td>\n",
       "    </tr>\n",
       "    <tr>\n",
       "      <th>1362498</th>\n",
       "      <td>0</td>\n",
       "      <td>1</td>\n",
       "      <td>1</td>\n",
       "    </tr>\n",
       "    <tr>\n",
       "      <th>1362499</th>\n",
       "      <td>1</td>\n",
       "      <td>0</td>\n",
       "      <td>0</td>\n",
       "    </tr>\n",
       "    <tr>\n",
       "      <th>1362500</th>\n",
       "      <td>0</td>\n",
       "      <td>1</td>\n",
       "      <td>1</td>\n",
       "    </tr>\n",
       "    <tr>\n",
       "      <th>1362501</th>\n",
       "      <td>1</td>\n",
       "      <td>1</td>\n",
       "      <td>0</td>\n",
       "    </tr>\n",
       "    <tr>\n",
       "      <th>1362502</th>\n",
       "      <td>0</td>\n",
       "      <td>0</td>\n",
       "      <td>1</td>\n",
       "    </tr>\n",
       "    <tr>\n",
       "      <th>1362503</th>\n",
       "      <td>0</td>\n",
       "      <td>1</td>\n",
       "      <td>0</td>\n",
       "    </tr>\n",
       "    <tr>\n",
       "      <th>1362505</th>\n",
       "      <td>0</td>\n",
       "      <td>1</td>\n",
       "      <td>1</td>\n",
       "    </tr>\n",
       "    <tr>\n",
       "      <th>1362506</th>\n",
       "      <td>1</td>\n",
       "      <td>0</td>\n",
       "      <td>0</td>\n",
       "    </tr>\n",
       "    <tr>\n",
       "      <th>1362507</th>\n",
       "      <td>0</td>\n",
       "      <td>1</td>\n",
       "      <td>0</td>\n",
       "    </tr>\n",
       "    <tr>\n",
       "      <th>1362508</th>\n",
       "      <td>1</td>\n",
       "      <td>1</td>\n",
       "      <td>1</td>\n",
       "    </tr>\n",
       "    <tr>\n",
       "      <th>1362509</th>\n",
       "      <td>1</td>\n",
       "      <td>1</td>\n",
       "      <td>1</td>\n",
       "    </tr>\n",
       "    <tr>\n",
       "      <th>1362510</th>\n",
       "      <td>0</td>\n",
       "      <td>1</td>\n",
       "      <td>0</td>\n",
       "    </tr>\n",
       "    <tr>\n",
       "      <th>1362511</th>\n",
       "      <td>1</td>\n",
       "      <td>1</td>\n",
       "      <td>1</td>\n",
       "    </tr>\n",
       "    <tr>\n",
       "      <th>1362512</th>\n",
       "      <td>1</td>\n",
       "      <td>1</td>\n",
       "      <td>1</td>\n",
       "    </tr>\n",
       "    <tr>\n",
       "      <th>1362513</th>\n",
       "      <td>0</td>\n",
       "      <td>1</td>\n",
       "      <td>1</td>\n",
       "    </tr>\n",
       "    <tr>\n",
       "      <th>1362516</th>\n",
       "      <td>1</td>\n",
       "      <td>1</td>\n",
       "      <td>0</td>\n",
       "    </tr>\n",
       "    <tr>\n",
       "      <th>1362520</th>\n",
       "      <td>1</td>\n",
       "      <td>1</td>\n",
       "      <td>0</td>\n",
       "    </tr>\n",
       "    <tr>\n",
       "      <th>1362523</th>\n",
       "      <td>0</td>\n",
       "      <td>0</td>\n",
       "      <td>1</td>\n",
       "    </tr>\n",
       "    <tr>\n",
       "      <th>1362524</th>\n",
       "      <td>0</td>\n",
       "      <td>0</td>\n",
       "      <td>1</td>\n",
       "    </tr>\n",
       "    <tr>\n",
       "      <th>1362525</th>\n",
       "      <td>1</td>\n",
       "      <td>1</td>\n",
       "      <td>1</td>\n",
       "    </tr>\n",
       "  </tbody>\n",
       "</table>\n",
       "</div>"
      ],
      "text/plain": [
       "acct_type  CC    CK    SV  \n",
       "cust_id                    \n",
       "1362480       1     1     1\n",
       "1362484       1     1     1\n",
       "1362485       1     1     0\n",
       "1362486       0     1     1\n",
       "1362487       1     1     1\n",
       "1362488       0     1     0\n",
       "1362489       1     1     1\n",
       "1362492       1     1     0\n",
       "1362496       0     0     1\n",
       "1362497       0     0     1\n",
       "1362498       0     1     1\n",
       "1362499       1     0     0\n",
       "1362500       0     1     1\n",
       "1362501       1     1     0\n",
       "1362502       0     0     1\n",
       "1362503       0     1     0\n",
       "1362505       0     1     1\n",
       "1362506       1     0     0\n",
       "1362507       0     1     0\n",
       "1362508       1     1     1\n",
       "1362509       1     1     1\n",
       "1362510       0     1     0\n",
       "1362511       1     1     1\n",
       "1362512       1     1     1\n",
       "1362513       0     1     1\n",
       "1362516       1     1     0\n",
       "1362520       1     1     0\n",
       "1362523       0     0     1\n",
       "1362524       0     0     1\n",
       "1362525       1     1     1"
      ]
     },
     "execution_count": 553,
     "metadata": {},
     "output_type": "execute_result"
    }
   ],
   "source": [
    "#Chequing and savings accts by cust_id\n",
    "ac1 = accounts.pivot(index='cust_id', columns='acct_type', values='cust_id')\n",
    "ac1 = ac1 > 0\n",
    "ac1\n",
    "f = lambda x: 1 if x==True else 0\n",
    "ac1 = ac1.applymap(f)\n",
    "ac1.head(30)"
   ]
  },
  {
   "cell_type": "code",
   "execution_count": 554,
   "metadata": {},
   "outputs": [],
   "source": [
    "accounts.drop(['CC  ', 'CK  ', 'SV  '],axis=1, inplace=True)"
   ]
  },
  {
   "cell_type": "code",
   "execution_count": 555,
   "metadata": {},
   "outputs": [
    {
     "data": {
      "text/plain": [
       "Index(['cust_id', 'CC  ', 'CK  ', 'SV  ', 'credit_limit', 'credit_rating',\n",
       "       'minimum_balance', 'minimum_balance_ch', 'acct_nbr', 'acct_type',\n",
       "       'starting_balance', 'ending_balance', 'savings'],\n",
       "      dtype='object')"
      ]
     },
     "execution_count": 555,
     "metadata": {},
     "output_type": "execute_result"
    }
   ],
   "source": [
    "accounts = pd.merge(ac1, accounts, how=\"right\", on=\"cust_id\", suffixes=('', '_ch'))\n",
    "accounts.columns"
   ]
  },
  {
   "cell_type": "code",
   "execution_count": 556,
   "metadata": {},
   "outputs": [
    {
     "data": {
      "text/html": [
       "<div>\n",
       "<style scoped>\n",
       "    .dataframe tbody tr th:only-of-type {\n",
       "        vertical-align: middle;\n",
       "    }\n",
       "\n",
       "    .dataframe tbody tr th {\n",
       "        vertical-align: top;\n",
       "    }\n",
       "\n",
       "    .dataframe thead th {\n",
       "        text-align: right;\n",
       "    }\n",
       "</style>\n",
       "<table border=\"1\" class=\"dataframe\">\n",
       "  <thead>\n",
       "    <tr style=\"text-align: right;\">\n",
       "      <th></th>\n",
       "      <th>cust_id</th>\n",
       "      <th>CC</th>\n",
       "      <th>CK</th>\n",
       "      <th>SV</th>\n",
       "      <th>credit_limit</th>\n",
       "      <th>credit_rating</th>\n",
       "      <th>minimum_balance</th>\n",
       "      <th>minimum_balance_ch</th>\n",
       "      <th>acct_nbr</th>\n",
       "      <th>acct_type</th>\n",
       "      <th>starting_balance</th>\n",
       "      <th>ending_balance</th>\n",
       "      <th>savings</th>\n",
       "    </tr>\n",
       "  </thead>\n",
       "  <tbody>\n",
       "    <tr>\n",
       "      <th>0</th>\n",
       "      <td>1362480</td>\n",
       "      <td>1</td>\n",
       "      <td>1</td>\n",
       "      <td>1</td>\n",
       "      <td>2500.0</td>\n",
       "      <td>0.0</td>\n",
       "      <td>100.0</td>\n",
       "      <td>100.0</td>\n",
       "      <td>13624802</td>\n",
       "      <td>CK</td>\n",
       "      <td>331.85</td>\n",
       "      <td>86.86</td>\n",
       "      <td>-244.99</td>\n",
       "    </tr>\n",
       "    <tr>\n",
       "      <th>1</th>\n",
       "      <td>1362480</td>\n",
       "      <td>1</td>\n",
       "      <td>1</td>\n",
       "      <td>1</td>\n",
       "      <td>2500.0</td>\n",
       "      <td>0.0</td>\n",
       "      <td>100.0</td>\n",
       "      <td>100.0</td>\n",
       "      <td>4561143213624800</td>\n",
       "      <td>CC</td>\n",
       "      <td>1607.40</td>\n",
       "      <td>20.00</td>\n",
       "      <td>-1587.40</td>\n",
       "    </tr>\n",
       "    <tr>\n",
       "      <th>2</th>\n",
       "      <td>1362480</td>\n",
       "      <td>1</td>\n",
       "      <td>1</td>\n",
       "      <td>1</td>\n",
       "      <td>2500.0</td>\n",
       "      <td>0.0</td>\n",
       "      <td>100.0</td>\n",
       "      <td>100.0</td>\n",
       "      <td>13624803</td>\n",
       "      <td>SV</td>\n",
       "      <td>707.09</td>\n",
       "      <td>1187.97</td>\n",
       "      <td>480.88</td>\n",
       "    </tr>\n",
       "    <tr>\n",
       "      <th>3</th>\n",
       "      <td>1362484</td>\n",
       "      <td>1</td>\n",
       "      <td>1</td>\n",
       "      <td>1</td>\n",
       "      <td>3000.0</td>\n",
       "      <td>0.0</td>\n",
       "      <td>3000.0</td>\n",
       "      <td>100.0</td>\n",
       "      <td>13624842</td>\n",
       "      <td>CK</td>\n",
       "      <td>2613.46</td>\n",
       "      <td>95.32</td>\n",
       "      <td>-2518.14</td>\n",
       "    </tr>\n",
       "    <tr>\n",
       "      <th>4</th>\n",
       "      <td>1362484</td>\n",
       "      <td>1</td>\n",
       "      <td>1</td>\n",
       "      <td>1</td>\n",
       "      <td>3000.0</td>\n",
       "      <td>0.0</td>\n",
       "      <td>3000.0</td>\n",
       "      <td>100.0</td>\n",
       "      <td>4561143213624840</td>\n",
       "      <td>CC</td>\n",
       "      <td>1278.78</td>\n",
       "      <td>369.72</td>\n",
       "      <td>-909.06</td>\n",
       "    </tr>\n",
       "    <tr>\n",
       "      <th>5</th>\n",
       "      <td>1362484</td>\n",
       "      <td>1</td>\n",
       "      <td>1</td>\n",
       "      <td>1</td>\n",
       "      <td>3000.0</td>\n",
       "      <td>0.0</td>\n",
       "      <td>3000.0</td>\n",
       "      <td>100.0</td>\n",
       "      <td>13624843</td>\n",
       "      <td>SV</td>\n",
       "      <td>194.76</td>\n",
       "      <td>2122.17</td>\n",
       "      <td>1927.41</td>\n",
       "    </tr>\n",
       "    <tr>\n",
       "      <th>6</th>\n",
       "      <td>1362485</td>\n",
       "      <td>1</td>\n",
       "      <td>1</td>\n",
       "      <td>0</td>\n",
       "      <td>1100.0</td>\n",
       "      <td>0.0</td>\n",
       "      <td>100.0</td>\n",
       "      <td>0.0</td>\n",
       "      <td>4561143213624850</td>\n",
       "      <td>CC</td>\n",
       "      <td>282.38</td>\n",
       "      <td>1100.00</td>\n",
       "      <td>817.62</td>\n",
       "    </tr>\n",
       "    <tr>\n",
       "      <th>7</th>\n",
       "      <td>1362485</td>\n",
       "      <td>1</td>\n",
       "      <td>1</td>\n",
       "      <td>0</td>\n",
       "      <td>1100.0</td>\n",
       "      <td>0.0</td>\n",
       "      <td>100.0</td>\n",
       "      <td>0.0</td>\n",
       "      <td>13624852</td>\n",
       "      <td>CK</td>\n",
       "      <td>209.78</td>\n",
       "      <td>45.49</td>\n",
       "      <td>-164.29</td>\n",
       "    </tr>\n",
       "    <tr>\n",
       "      <th>8</th>\n",
       "      <td>1362486</td>\n",
       "      <td>0</td>\n",
       "      <td>1</td>\n",
       "      <td>1</td>\n",
       "      <td>0.0</td>\n",
       "      <td>0.0</td>\n",
       "      <td>3000.0</td>\n",
       "      <td>100.0</td>\n",
       "      <td>13624862</td>\n",
       "      <td>CK</td>\n",
       "      <td>4252.39</td>\n",
       "      <td>3312.27</td>\n",
       "      <td>-940.12</td>\n",
       "    </tr>\n",
       "    <tr>\n",
       "      <th>9</th>\n",
       "      <td>1362486</td>\n",
       "      <td>0</td>\n",
       "      <td>1</td>\n",
       "      <td>1</td>\n",
       "      <td>0.0</td>\n",
       "      <td>0.0</td>\n",
       "      <td>3000.0</td>\n",
       "      <td>100.0</td>\n",
       "      <td>13624863</td>\n",
       "      <td>SV</td>\n",
       "      <td>284.48</td>\n",
       "      <td>116.24</td>\n",
       "      <td>-168.24</td>\n",
       "    </tr>\n",
       "    <tr>\n",
       "      <th>10</th>\n",
       "      <td>1362487</td>\n",
       "      <td>1</td>\n",
       "      <td>1</td>\n",
       "      <td>1</td>\n",
       "      <td>3000.0</td>\n",
       "      <td>0.0</td>\n",
       "      <td>3000.0</td>\n",
       "      <td>500.0</td>\n",
       "      <td>4561143213624870</td>\n",
       "      <td>CC</td>\n",
       "      <td>0.00</td>\n",
       "      <td>1548.23</td>\n",
       "      <td>1548.23</td>\n",
       "    </tr>\n",
       "    <tr>\n",
       "      <th>11</th>\n",
       "      <td>1362487</td>\n",
       "      <td>1</td>\n",
       "      <td>1</td>\n",
       "      <td>1</td>\n",
       "      <td>3000.0</td>\n",
       "      <td>0.0</td>\n",
       "      <td>3000.0</td>\n",
       "      <td>500.0</td>\n",
       "      <td>13624873</td>\n",
       "      <td>SV</td>\n",
       "      <td>651.73</td>\n",
       "      <td>12.89</td>\n",
       "      <td>-638.84</td>\n",
       "    </tr>\n",
       "    <tr>\n",
       "      <th>12</th>\n",
       "      <td>1362487</td>\n",
       "      <td>1</td>\n",
       "      <td>1</td>\n",
       "      <td>1</td>\n",
       "      <td>3000.0</td>\n",
       "      <td>0.0</td>\n",
       "      <td>3000.0</td>\n",
       "      <td>500.0</td>\n",
       "      <td>13624872</td>\n",
       "      <td>CK</td>\n",
       "      <td>2781.07</td>\n",
       "      <td>1401.21</td>\n",
       "      <td>-1379.86</td>\n",
       "    </tr>\n",
       "    <tr>\n",
       "      <th>13</th>\n",
       "      <td>1362488</td>\n",
       "      <td>0</td>\n",
       "      <td>1</td>\n",
       "      <td>0</td>\n",
       "      <td>0.0</td>\n",
       "      <td>0.0</td>\n",
       "      <td>3000.0</td>\n",
       "      <td>0.0</td>\n",
       "      <td>13624882</td>\n",
       "      <td>CK</td>\n",
       "      <td>4234.94</td>\n",
       "      <td>122.42</td>\n",
       "      <td>-4112.52</td>\n",
       "    </tr>\n",
       "    <tr>\n",
       "      <th>14</th>\n",
       "      <td>1362489</td>\n",
       "      <td>1</td>\n",
       "      <td>1</td>\n",
       "      <td>1</td>\n",
       "      <td>2800.0</td>\n",
       "      <td>0.0</td>\n",
       "      <td>200.0</td>\n",
       "      <td>100.0</td>\n",
       "      <td>13624892</td>\n",
       "      <td>CK</td>\n",
       "      <td>833.40</td>\n",
       "      <td>125.43</td>\n",
       "      <td>-707.97</td>\n",
       "    </tr>\n",
       "    <tr>\n",
       "      <th>15</th>\n",
       "      <td>1362489</td>\n",
       "      <td>1</td>\n",
       "      <td>1</td>\n",
       "      <td>1</td>\n",
       "      <td>2800.0</td>\n",
       "      <td>0.0</td>\n",
       "      <td>200.0</td>\n",
       "      <td>100.0</td>\n",
       "      <td>4561143213624890</td>\n",
       "      <td>CC</td>\n",
       "      <td>1465.41</td>\n",
       "      <td>20.00</td>\n",
       "      <td>-1445.41</td>\n",
       "    </tr>\n",
       "    <tr>\n",
       "      <th>16</th>\n",
       "      <td>1362489</td>\n",
       "      <td>1</td>\n",
       "      <td>1</td>\n",
       "      <td>1</td>\n",
       "      <td>2800.0</td>\n",
       "      <td>0.0</td>\n",
       "      <td>200.0</td>\n",
       "      <td>100.0</td>\n",
       "      <td>13624893</td>\n",
       "      <td>SV</td>\n",
       "      <td>760.24</td>\n",
       "      <td>373.65</td>\n",
       "      <td>-386.59</td>\n",
       "    </tr>\n",
       "    <tr>\n",
       "      <th>17</th>\n",
       "      <td>1362492</td>\n",
       "      <td>1</td>\n",
       "      <td>1</td>\n",
       "      <td>0</td>\n",
       "      <td>2000.0</td>\n",
       "      <td>0.0</td>\n",
       "      <td>3000.0</td>\n",
       "      <td>0.0</td>\n",
       "      <td>13624922</td>\n",
       "      <td>CK</td>\n",
       "      <td>5101.60</td>\n",
       "      <td>582.82</td>\n",
       "      <td>-4518.78</td>\n",
       "    </tr>\n",
       "    <tr>\n",
       "      <th>18</th>\n",
       "      <td>1362492</td>\n",
       "      <td>1</td>\n",
       "      <td>1</td>\n",
       "      <td>0</td>\n",
       "      <td>2000.0</td>\n",
       "      <td>0.0</td>\n",
       "      <td>3000.0</td>\n",
       "      <td>0.0</td>\n",
       "      <td>4561143213624920</td>\n",
       "      <td>CC</td>\n",
       "      <td>0.00</td>\n",
       "      <td>2000.00</td>\n",
       "      <td>2000.00</td>\n",
       "    </tr>\n",
       "    <tr>\n",
       "      <th>19</th>\n",
       "      <td>1362496</td>\n",
       "      <td>0</td>\n",
       "      <td>0</td>\n",
       "      <td>1</td>\n",
       "      <td>0.0</td>\n",
       "      <td>0.0</td>\n",
       "      <td>0.0</td>\n",
       "      <td>100.0</td>\n",
       "      <td>13624963</td>\n",
       "      <td>SV</td>\n",
       "      <td>247.34</td>\n",
       "      <td>251.06</td>\n",
       "      <td>3.72</td>\n",
       "    </tr>\n",
       "  </tbody>\n",
       "</table>\n",
       "</div>"
      ],
      "text/plain": [
       "    cust_id  CC    CK    SV    credit_limit  credit_rating  minimum_balance  \\\n",
       "0   1362480     1     1     1        2500.0            0.0            100.0   \n",
       "1   1362480     1     1     1        2500.0            0.0            100.0   \n",
       "2   1362480     1     1     1        2500.0            0.0            100.0   \n",
       "3   1362484     1     1     1        3000.0            0.0           3000.0   \n",
       "4   1362484     1     1     1        3000.0            0.0           3000.0   \n",
       "5   1362484     1     1     1        3000.0            0.0           3000.0   \n",
       "6   1362485     1     1     0        1100.0            0.0            100.0   \n",
       "7   1362485     1     1     0        1100.0            0.0            100.0   \n",
       "8   1362486     0     1     1           0.0            0.0           3000.0   \n",
       "9   1362486     0     1     1           0.0            0.0           3000.0   \n",
       "10  1362487     1     1     1        3000.0            0.0           3000.0   \n",
       "11  1362487     1     1     1        3000.0            0.0           3000.0   \n",
       "12  1362487     1     1     1        3000.0            0.0           3000.0   \n",
       "13  1362488     0     1     0           0.0            0.0           3000.0   \n",
       "14  1362489     1     1     1        2800.0            0.0            200.0   \n",
       "15  1362489     1     1     1        2800.0            0.0            200.0   \n",
       "16  1362489     1     1     1        2800.0            0.0            200.0   \n",
       "17  1362492     1     1     0        2000.0            0.0           3000.0   \n",
       "18  1362492     1     1     0        2000.0            0.0           3000.0   \n",
       "19  1362496     0     0     1           0.0            0.0              0.0   \n",
       "\n",
       "    minimum_balance_ch          acct_nbr acct_type  starting_balance  \\\n",
       "0                100.0          13624802      CK              331.85   \n",
       "1                100.0  4561143213624800      CC             1607.40   \n",
       "2                100.0          13624803      SV              707.09   \n",
       "3                100.0          13624842      CK             2613.46   \n",
       "4                100.0  4561143213624840      CC             1278.78   \n",
       "5                100.0          13624843      SV              194.76   \n",
       "6                  0.0  4561143213624850      CC              282.38   \n",
       "7                  0.0          13624852      CK              209.78   \n",
       "8                100.0          13624862      CK             4252.39   \n",
       "9                100.0          13624863      SV              284.48   \n",
       "10               500.0  4561143213624870      CC                0.00   \n",
       "11               500.0          13624873      SV              651.73   \n",
       "12               500.0          13624872      CK             2781.07   \n",
       "13                 0.0          13624882      CK             4234.94   \n",
       "14               100.0          13624892      CK              833.40   \n",
       "15               100.0  4561143213624890      CC             1465.41   \n",
       "16               100.0          13624893      SV              760.24   \n",
       "17                 0.0          13624922      CK             5101.60   \n",
       "18                 0.0  4561143213624920      CC                0.00   \n",
       "19               100.0          13624963      SV              247.34   \n",
       "\n",
       "    ending_balance  savings  \n",
       "0            86.86  -244.99  \n",
       "1            20.00 -1587.40  \n",
       "2          1187.97   480.88  \n",
       "3            95.32 -2518.14  \n",
       "4           369.72  -909.06  \n",
       "5          2122.17  1927.41  \n",
       "6          1100.00   817.62  \n",
       "7            45.49  -164.29  \n",
       "8          3312.27  -940.12  \n",
       "9           116.24  -168.24  \n",
       "10         1548.23  1548.23  \n",
       "11           12.89  -638.84  \n",
       "12         1401.21 -1379.86  \n",
       "13          122.42 -4112.52  \n",
       "14          125.43  -707.97  \n",
       "15           20.00 -1445.41  \n",
       "16          373.65  -386.59  \n",
       "17          582.82 -4518.78  \n",
       "18         2000.00  2000.00  \n",
       "19          251.06     3.72  "
      ]
     },
     "execution_count": 556,
     "metadata": {},
     "output_type": "execute_result"
    }
   ],
   "source": [
    "accounts.head(20)"
   ]
  },
  {
   "cell_type": "code",
   "execution_count": 552,
   "metadata": {},
   "outputs": [],
   "source": [
    "accounts.drop(['has_checking',\n",
    "       'has_saving', 'has_credit'],axis=1, inplace=True)"
   ]
  },
  {
   "cell_type": "code",
   "execution_count": 512,
   "metadata": {},
   "outputs": [
    {
     "data": {
      "text/html": [
       "<div>\n",
       "<style scoped>\n",
       "    .dataframe tbody tr th:only-of-type {\n",
       "        vertical-align: middle;\n",
       "    }\n",
       "\n",
       "    .dataframe tbody tr th {\n",
       "        vertical-align: top;\n",
       "    }\n",
       "\n",
       "    .dataframe thead th {\n",
       "        text-align: right;\n",
       "    }\n",
       "</style>\n",
       "<table border=\"1\" class=\"dataframe\">\n",
       "  <thead>\n",
       "    <tr style=\"text-align: right;\">\n",
       "      <th></th>\n",
       "      <th>cust_id</th>\n",
       "      <th>account_active</th>\n",
       "      <th>credit_limit</th>\n",
       "      <th>credit_rating</th>\n",
       "      <th>account_active_cc</th>\n",
       "      <th>minimum_balance</th>\n",
       "      <th>account_active_ch</th>\n",
       "      <th>minimum_balance_ch</th>\n",
       "      <th>acct_nbr</th>\n",
       "      <th>acct_type</th>\n",
       "      <th>account_active_sv</th>\n",
       "      <th>starting_balance</th>\n",
       "      <th>ending_balance</th>\n",
       "      <th>savings</th>\n",
       "    </tr>\n",
       "  </thead>\n",
       "  <tbody>\n",
       "    <tr>\n",
       "      <th>0</th>\n",
       "      <td>1363160</td>\n",
       "      <td>NaN</td>\n",
       "      <td>1000.0</td>\n",
       "      <td>0.0</td>\n",
       "      <td>NaN</td>\n",
       "      <td>NaN</td>\n",
       "      <td>Y</td>\n",
       "      <td>100.0</td>\n",
       "      <td>4561143213631600</td>\n",
       "      <td>CC</td>\n",
       "      <td>Y</td>\n",
       "      <td>657.46</td>\n",
       "      <td>286.69</td>\n",
       "      <td>-370.77</td>\n",
       "    </tr>\n",
       "    <tr>\n",
       "      <th>1</th>\n",
       "      <td>1363160</td>\n",
       "      <td>NaN</td>\n",
       "      <td>1000.0</td>\n",
       "      <td>0.0</td>\n",
       "      <td>NaN</td>\n",
       "      <td>NaN</td>\n",
       "      <td>Y</td>\n",
       "      <td>100.0</td>\n",
       "      <td>13631603</td>\n",
       "      <td>SV</td>\n",
       "      <td>Y</td>\n",
       "      <td>113.04</td>\n",
       "      <td>122.54</td>\n",
       "      <td>9.50</td>\n",
       "    </tr>\n",
       "    <tr>\n",
       "      <th>2</th>\n",
       "      <td>1362487</td>\n",
       "      <td>NaN</td>\n",
       "      <td>3000.0</td>\n",
       "      <td>0.0</td>\n",
       "      <td>Y</td>\n",
       "      <td>3000.0</td>\n",
       "      <td>N</td>\n",
       "      <td>500.0</td>\n",
       "      <td>4561143213624870</td>\n",
       "      <td>CC</td>\n",
       "      <td>Y</td>\n",
       "      <td>0.00</td>\n",
       "      <td>1548.23</td>\n",
       "      <td>1548.23</td>\n",
       "    </tr>\n",
       "    <tr>\n",
       "      <th>3</th>\n",
       "      <td>1362487</td>\n",
       "      <td>NaN</td>\n",
       "      <td>3000.0</td>\n",
       "      <td>0.0</td>\n",
       "      <td>Y</td>\n",
       "      <td>3000.0</td>\n",
       "      <td>N</td>\n",
       "      <td>500.0</td>\n",
       "      <td>13624873</td>\n",
       "      <td>SV</td>\n",
       "      <td>N</td>\n",
       "      <td>651.73</td>\n",
       "      <td>12.89</td>\n",
       "      <td>-638.84</td>\n",
       "    </tr>\n",
       "    <tr>\n",
       "      <th>4</th>\n",
       "      <td>1362487</td>\n",
       "      <td>NaN</td>\n",
       "      <td>3000.0</td>\n",
       "      <td>0.0</td>\n",
       "      <td>Y</td>\n",
       "      <td>3000.0</td>\n",
       "      <td>N</td>\n",
       "      <td>500.0</td>\n",
       "      <td>13624872</td>\n",
       "      <td>CK</td>\n",
       "      <td>Y</td>\n",
       "      <td>2781.07</td>\n",
       "      <td>1401.21</td>\n",
       "      <td>-1379.86</td>\n",
       "    </tr>\n",
       "  </tbody>\n",
       "</table>\n",
       "</div>"
      ],
      "text/plain": [
       "   cust_id  account_active  credit_limit  credit_rating account_active_cc  \\\n",
       "0  1363160             NaN        1000.0            0.0               NaN   \n",
       "1  1363160             NaN        1000.0            0.0               NaN   \n",
       "2  1362487             NaN        3000.0            0.0                Y    \n",
       "3  1362487             NaN        3000.0            0.0                Y    \n",
       "4  1362487             NaN        3000.0            0.0                Y    \n",
       "\n",
       "   minimum_balance account_active_ch  minimum_balance_ch          acct_nbr  \\\n",
       "0              NaN                Y                100.0  4561143213631600   \n",
       "1              NaN                Y                100.0          13631603   \n",
       "2           3000.0                N                500.0  4561143213624870   \n",
       "3           3000.0                N                500.0          13624873   \n",
       "4           3000.0                N                500.0          13624872   \n",
       "\n",
       "  acct_type account_active_sv  starting_balance  ending_balance  savings  \n",
       "0      CC                  Y             657.46          286.69  -370.77  \n",
       "1      SV                  Y             113.04          122.54     9.50  \n",
       "2      CC                  Y               0.00         1548.23  1548.23  \n",
       "3      SV                  N             651.73           12.89  -638.84  \n",
       "4      CK                  Y            2781.07         1401.21 -1379.86  "
      ]
     },
     "execution_count": 512,
     "metadata": {},
     "output_type": "execute_result"
    }
   ],
   "source": [
    "#categorical_cols = ['acct_type']\n",
    "# Get dummies\n",
    "#accounts = pd.get_dummies(accounts, columns=categorical_cols)"
   ]
  },
  {
   "cell_type": "code",
   "execution_count": 557,
   "metadata": {},
   "outputs": [
    {
     "data": {
      "text/html": [
       "<div>\n",
       "<style scoped>\n",
       "    .dataframe tbody tr th:only-of-type {\n",
       "        vertical-align: middle;\n",
       "    }\n",
       "\n",
       "    .dataframe tbody tr th {\n",
       "        vertical-align: top;\n",
       "    }\n",
       "\n",
       "    .dataframe thead th {\n",
       "        text-align: right;\n",
       "    }\n",
       "</style>\n",
       "<table border=\"1\" class=\"dataframe\">\n",
       "  <thead>\n",
       "    <tr style=\"text-align: right;\">\n",
       "      <th></th>\n",
       "      <th>cust_id</th>\n",
       "      <th>CC</th>\n",
       "      <th>CK</th>\n",
       "      <th>SV</th>\n",
       "      <th>CC  _ch</th>\n",
       "      <th>CK  _ch</th>\n",
       "      <th>SV  _ch</th>\n",
       "      <th>credit_limit</th>\n",
       "      <th>credit_rating</th>\n",
       "      <th>minimum_balance</th>\n",
       "      <th>minimum_balance_ch</th>\n",
       "      <th>acct_nbr</th>\n",
       "      <th>acct_type</th>\n",
       "      <th>starting_balance</th>\n",
       "      <th>ending_balance</th>\n",
       "      <th>savings</th>\n",
       "    </tr>\n",
       "  </thead>\n",
       "  <tbody>\n",
       "    <tr>\n",
       "      <th>0</th>\n",
       "      <td>1362480</td>\n",
       "      <td>20.00</td>\n",
       "      <td>86.86</td>\n",
       "      <td>1187.97</td>\n",
       "      <td>1</td>\n",
       "      <td>1</td>\n",
       "      <td>1</td>\n",
       "      <td>2500.0</td>\n",
       "      <td>0.0</td>\n",
       "      <td>100.0</td>\n",
       "      <td>100.0</td>\n",
       "      <td>13624802</td>\n",
       "      <td>CK</td>\n",
       "      <td>331.85</td>\n",
       "      <td>86.86</td>\n",
       "      <td>-244.99</td>\n",
       "    </tr>\n",
       "    <tr>\n",
       "      <th>1</th>\n",
       "      <td>1362480</td>\n",
       "      <td>20.00</td>\n",
       "      <td>86.86</td>\n",
       "      <td>1187.97</td>\n",
       "      <td>1</td>\n",
       "      <td>1</td>\n",
       "      <td>1</td>\n",
       "      <td>2500.0</td>\n",
       "      <td>0.0</td>\n",
       "      <td>100.0</td>\n",
       "      <td>100.0</td>\n",
       "      <td>4561143213624800</td>\n",
       "      <td>CC</td>\n",
       "      <td>1607.40</td>\n",
       "      <td>20.00</td>\n",
       "      <td>-1587.40</td>\n",
       "    </tr>\n",
       "    <tr>\n",
       "      <th>2</th>\n",
       "      <td>1362480</td>\n",
       "      <td>20.00</td>\n",
       "      <td>86.86</td>\n",
       "      <td>1187.97</td>\n",
       "      <td>1</td>\n",
       "      <td>1</td>\n",
       "      <td>1</td>\n",
       "      <td>2500.0</td>\n",
       "      <td>0.0</td>\n",
       "      <td>100.0</td>\n",
       "      <td>100.0</td>\n",
       "      <td>13624803</td>\n",
       "      <td>SV</td>\n",
       "      <td>707.09</td>\n",
       "      <td>1187.97</td>\n",
       "      <td>480.88</td>\n",
       "    </tr>\n",
       "    <tr>\n",
       "      <th>3</th>\n",
       "      <td>1362484</td>\n",
       "      <td>369.72</td>\n",
       "      <td>95.32</td>\n",
       "      <td>2122.17</td>\n",
       "      <td>1</td>\n",
       "      <td>1</td>\n",
       "      <td>1</td>\n",
       "      <td>3000.0</td>\n",
       "      <td>0.0</td>\n",
       "      <td>3000.0</td>\n",
       "      <td>100.0</td>\n",
       "      <td>13624842</td>\n",
       "      <td>CK</td>\n",
       "      <td>2613.46</td>\n",
       "      <td>95.32</td>\n",
       "      <td>-2518.14</td>\n",
       "    </tr>\n",
       "    <tr>\n",
       "      <th>4</th>\n",
       "      <td>1362484</td>\n",
       "      <td>369.72</td>\n",
       "      <td>95.32</td>\n",
       "      <td>2122.17</td>\n",
       "      <td>1</td>\n",
       "      <td>1</td>\n",
       "      <td>1</td>\n",
       "      <td>3000.0</td>\n",
       "      <td>0.0</td>\n",
       "      <td>3000.0</td>\n",
       "      <td>100.0</td>\n",
       "      <td>4561143213624840</td>\n",
       "      <td>CC</td>\n",
       "      <td>1278.78</td>\n",
       "      <td>369.72</td>\n",
       "      <td>-909.06</td>\n",
       "    </tr>\n",
       "  </tbody>\n",
       "</table>\n",
       "</div>"
      ],
      "text/plain": [
       "   cust_id    CC     CK       SV    CC  _ch  CK  _ch  SV  _ch  credit_limit  \\\n",
       "0  1362480   20.00  86.86  1187.97        1        1        1        2500.0   \n",
       "1  1362480   20.00  86.86  1187.97        1        1        1        2500.0   \n",
       "2  1362480   20.00  86.86  1187.97        1        1        1        2500.0   \n",
       "3  1362484  369.72  95.32  2122.17        1        1        1        3000.0   \n",
       "4  1362484  369.72  95.32  2122.17        1        1        1        3000.0   \n",
       "\n",
       "   credit_rating  minimum_balance  minimum_balance_ch          acct_nbr  \\\n",
       "0            0.0            100.0               100.0          13624802   \n",
       "1            0.0            100.0               100.0  4561143213624800   \n",
       "2            0.0            100.0               100.0          13624803   \n",
       "3            0.0           3000.0               100.0          13624842   \n",
       "4            0.0           3000.0               100.0  4561143213624840   \n",
       "\n",
       "  acct_type  starting_balance  ending_balance  savings  \n",
       "0      CK              331.85           86.86  -244.99  \n",
       "1      CC             1607.40           20.00 -1587.40  \n",
       "2      SV              707.09         1187.97   480.88  \n",
       "3      CK             2613.46           95.32 -2518.14  \n",
       "4      CC             1278.78          369.72  -909.06  "
      ]
     },
     "execution_count": 557,
     "metadata": {},
     "output_type": "execute_result"
    }
   ],
   "source": [
    "accounts = pd.merge(acct1, accounts, how=\"right\", on=\"cust_id\", suffixes=('', '_ch'))\n",
    "accounts.head()"
   ]
  },
  {
   "cell_type": "code",
   "execution_count": 558,
   "metadata": {},
   "outputs": [
    {
     "data": {
      "text/html": [
       "<div>\n",
       "<style scoped>\n",
       "    .dataframe tbody tr th:only-of-type {\n",
       "        vertical-align: middle;\n",
       "    }\n",
       "\n",
       "    .dataframe tbody tr th {\n",
       "        vertical-align: top;\n",
       "    }\n",
       "\n",
       "    .dataframe thead th {\n",
       "        text-align: right;\n",
       "    }\n",
       "</style>\n",
       "<table border=\"1\" class=\"dataframe\">\n",
       "  <thead>\n",
       "    <tr style=\"text-align: right;\">\n",
       "      <th></th>\n",
       "      <th>cust_id</th>\n",
       "      <th>tran_amt</th>\n",
       "      <th>tran_code</th>\n",
       "    </tr>\n",
       "  </thead>\n",
       "  <tbody>\n",
       "    <tr>\n",
       "      <th>0</th>\n",
       "      <td>1362562</td>\n",
       "      <td>0.00</td>\n",
       "      <td>IQ</td>\n",
       "    </tr>\n",
       "    <tr>\n",
       "      <th>1</th>\n",
       "      <td>1362562</td>\n",
       "      <td>140.63</td>\n",
       "      <td>DP</td>\n",
       "    </tr>\n",
       "    <tr>\n",
       "      <th>2</th>\n",
       "      <td>1362562</td>\n",
       "      <td>0.49</td>\n",
       "      <td>IN</td>\n",
       "    </tr>\n",
       "    <tr>\n",
       "      <th>3</th>\n",
       "      <td>1362562</td>\n",
       "      <td>-120.00</td>\n",
       "      <td>WD</td>\n",
       "    </tr>\n",
       "    <tr>\n",
       "      <th>4</th>\n",
       "      <td>1362562</td>\n",
       "      <td>-140.00</td>\n",
       "      <td>WD</td>\n",
       "    </tr>\n",
       "  </tbody>\n",
       "</table>\n",
       "</div>"
      ],
      "text/plain": [
       "   cust_id  tran_amt tran_code\n",
       "0  1362562      0.00      IQ  \n",
       "1  1362562    140.63      DP  \n",
       "2  1362562      0.49      IN  \n",
       "3  1362562   -120.00      WD  \n",
       "4  1362562   -140.00      WD  "
      ]
     },
     "execution_count": 558,
     "metadata": {},
     "output_type": "execute_result"
    }
   ],
   "source": [
    "# Join accounts to transactions by account id\n",
    "trans1 = pd.merge(transactions, accounts, how=\"inner\", on=\"acct_nbr\")\n",
    "trans1 = trans1[['cust_id','tran_amt','tran_code']]\n",
    "trans1.head()"
   ]
  },
  {
   "cell_type": "code",
   "execution_count": 559,
   "metadata": {},
   "outputs": [
    {
     "data": {
      "text/html": [
       "<div>\n",
       "<style scoped>\n",
       "    .dataframe tbody tr th:only-of-type {\n",
       "        vertical-align: middle;\n",
       "    }\n",
       "\n",
       "    .dataframe tbody tr th {\n",
       "        vertical-align: top;\n",
       "    }\n",
       "\n",
       "    .dataframe thead th {\n",
       "        text-align: right;\n",
       "    }\n",
       "</style>\n",
       "<table border=\"1\" class=\"dataframe\">\n",
       "  <thead>\n",
       "    <tr style=\"text-align: right;\">\n",
       "      <th></th>\n",
       "      <th>cust_id</th>\n",
       "      <th>tran_amt</th>\n",
       "      <th>tran_code</th>\n",
       "    </tr>\n",
       "  </thead>\n",
       "  <tbody>\n",
       "    <tr>\n",
       "      <th>1</th>\n",
       "      <td>1362562</td>\n",
       "      <td>140.63</td>\n",
       "      <td>DP</td>\n",
       "    </tr>\n",
       "    <tr>\n",
       "      <th>2</th>\n",
       "      <td>1362562</td>\n",
       "      <td>0.49</td>\n",
       "      <td>IN</td>\n",
       "    </tr>\n",
       "    <tr>\n",
       "      <th>6</th>\n",
       "      <td>1362562</td>\n",
       "      <td>0.49</td>\n",
       "      <td>IN</td>\n",
       "    </tr>\n",
       "    <tr>\n",
       "      <th>7</th>\n",
       "      <td>1362562</td>\n",
       "      <td>451.49</td>\n",
       "      <td>DP</td>\n",
       "    </tr>\n",
       "    <tr>\n",
       "      <th>8</th>\n",
       "      <td>1362562</td>\n",
       "      <td>574.71</td>\n",
       "      <td>DP</td>\n",
       "    </tr>\n",
       "  </tbody>\n",
       "</table>\n",
       "</div>"
      ],
      "text/plain": [
       "   cust_id  tran_amt tran_code\n",
       "1  1362562    140.63      DP  \n",
       "2  1362562      0.49      IN  \n",
       "6  1362562      0.49      IN  \n",
       "7  1362562    451.49      DP  \n",
       "8  1362562    574.71      DP  "
      ]
     },
     "execution_count": 559,
     "metadata": {},
     "output_type": "execute_result"
    }
   ],
   "source": [
    "# Drop the zero value transactions\n",
    "trans_clean = trans1.drop(trans1[(trans1['tran_amt'] <= 0.01)].index)\n",
    "trans_clean.head()\n"
   ]
  },
  {
   "cell_type": "code",
   "execution_count": 560,
   "metadata": {},
   "outputs": [
    {
     "data": {
      "text/html": [
       "<div>\n",
       "<style scoped>\n",
       "    .dataframe tbody tr th:only-of-type {\n",
       "        vertical-align: middle;\n",
       "    }\n",
       "\n",
       "    .dataframe tbody tr th {\n",
       "        vertical-align: top;\n",
       "    }\n",
       "\n",
       "    .dataframe thead th {\n",
       "        text-align: right;\n",
       "    }\n",
       "</style>\n",
       "<table border=\"1\" class=\"dataframe\">\n",
       "  <thead>\n",
       "    <tr style=\"text-align: right;\">\n",
       "      <th></th>\n",
       "      <th>cust_id</th>\n",
       "      <th>tran_amt</th>\n",
       "    </tr>\n",
       "  </thead>\n",
       "  <tbody>\n",
       "    <tr>\n",
       "      <th>count</th>\n",
       "      <td>2.014500e+04</td>\n",
       "      <td>20145.000000</td>\n",
       "    </tr>\n",
       "    <tr>\n",
       "      <th>mean</th>\n",
       "      <td>1.362989e+06</td>\n",
       "      <td>253.949411</td>\n",
       "    </tr>\n",
       "    <tr>\n",
       "      <th>std</th>\n",
       "      <td>2.945214e+02</td>\n",
       "      <td>460.358597</td>\n",
       "    </tr>\n",
       "    <tr>\n",
       "      <th>min</th>\n",
       "      <td>1.362480e+06</td>\n",
       "      <td>0.020000</td>\n",
       "    </tr>\n",
       "    <tr>\n",
       "      <th>25%</th>\n",
       "      <td>1.362727e+06</td>\n",
       "      <td>2.880000</td>\n",
       "    </tr>\n",
       "    <tr>\n",
       "      <th>50%</th>\n",
       "      <td>1.362980e+06</td>\n",
       "      <td>121.310000</td>\n",
       "    </tr>\n",
       "    <tr>\n",
       "      <th>75%</th>\n",
       "      <td>1.363253e+06</td>\n",
       "      <td>295.930000</td>\n",
       "    </tr>\n",
       "    <tr>\n",
       "      <th>max</th>\n",
       "      <td>1.363495e+06</td>\n",
       "      <td>17464.520000</td>\n",
       "    </tr>\n",
       "  </tbody>\n",
       "</table>\n",
       "</div>"
      ],
      "text/plain": [
       "            cust_id      tran_amt\n",
       "count  2.014500e+04  20145.000000\n",
       "mean   1.362989e+06    253.949411\n",
       "std    2.945214e+02    460.358597\n",
       "min    1.362480e+06      0.020000\n",
       "25%    1.362727e+06      2.880000\n",
       "50%    1.362980e+06    121.310000\n",
       "75%    1.363253e+06    295.930000\n",
       "max    1.363495e+06  17464.520000"
      ]
     },
     "execution_count": 560,
     "metadata": {},
     "output_type": "execute_result"
    }
   ],
   "source": [
    "trans_clean.drop(['tran_code'],axis = 1,inplace=True)\n",
    "trans_clean.describe()"
   ]
  },
  {
   "cell_type": "code",
   "execution_count": 561,
   "metadata": {},
   "outputs": [
    {
     "data": {
      "text/html": [
       "<div>\n",
       "<style scoped>\n",
       "    .dataframe tbody tr th:only-of-type {\n",
       "        vertical-align: middle;\n",
       "    }\n",
       "\n",
       "    .dataframe tbody tr th {\n",
       "        vertical-align: top;\n",
       "    }\n",
       "\n",
       "    .dataframe thead th {\n",
       "        text-align: right;\n",
       "    }\n",
       "</style>\n",
       "<table border=\"1\" class=\"dataframe\">\n",
       "  <thead>\n",
       "    <tr style=\"text-align: right;\">\n",
       "      <th></th>\n",
       "      <th>cust_id</th>\n",
       "      <th>tran_amt</th>\n",
       "      <th>tran_amt_abs</th>\n",
       "    </tr>\n",
       "  </thead>\n",
       "  <tbody>\n",
       "    <tr>\n",
       "      <th>1</th>\n",
       "      <td>1362562</td>\n",
       "      <td>140.63</td>\n",
       "      <td>140.63</td>\n",
       "    </tr>\n",
       "    <tr>\n",
       "      <th>2</th>\n",
       "      <td>1362562</td>\n",
       "      <td>0.49</td>\n",
       "      <td>0.49</td>\n",
       "    </tr>\n",
       "    <tr>\n",
       "      <th>6</th>\n",
       "      <td>1362562</td>\n",
       "      <td>0.49</td>\n",
       "      <td>0.49</td>\n",
       "    </tr>\n",
       "    <tr>\n",
       "      <th>7</th>\n",
       "      <td>1362562</td>\n",
       "      <td>451.49</td>\n",
       "      <td>451.49</td>\n",
       "    </tr>\n",
       "    <tr>\n",
       "      <th>8</th>\n",
       "      <td>1362562</td>\n",
       "      <td>574.71</td>\n",
       "      <td>574.71</td>\n",
       "    </tr>\n",
       "  </tbody>\n",
       "</table>\n",
       "</div>"
      ],
      "text/plain": [
       "   cust_id  tran_amt  tran_amt_abs\n",
       "1  1362562    140.63        140.63\n",
       "2  1362562      0.49          0.49\n",
       "6  1362562      0.49          0.49\n",
       "7  1362562    451.49        451.49\n",
       "8  1362562    574.71        574.71"
      ]
     },
     "execution_count": 561,
     "metadata": {},
     "output_type": "execute_result"
    }
   ],
   "source": [
    "# Switch everythong to absolute value\n",
    "trans_clean['tran_amt_abs'] = (abs(trans_clean['tran_amt']))\n",
    "trans_clean.head()"
   ]
  },
  {
   "cell_type": "code",
   "execution_count": 562,
   "metadata": {},
   "outputs": [
    {
     "data": {
      "text/html": [
       "<div>\n",
       "<style scoped>\n",
       "    .dataframe tbody tr th:only-of-type {\n",
       "        vertical-align: middle;\n",
       "    }\n",
       "\n",
       "    .dataframe tbody tr th {\n",
       "        vertical-align: top;\n",
       "    }\n",
       "\n",
       "    .dataframe thead th {\n",
       "        text-align: right;\n",
       "    }\n",
       "</style>\n",
       "<table border=\"1\" class=\"dataframe\">\n",
       "  <thead>\n",
       "    <tr style=\"text-align: right;\">\n",
       "      <th></th>\n",
       "      <th>cust_id</th>\n",
       "      <th>tran_amt</th>\n",
       "      <th>tran_amt_abs</th>\n",
       "    </tr>\n",
       "  </thead>\n",
       "  <tbody>\n",
       "    <tr>\n",
       "      <th>count</th>\n",
       "      <td>2.014500e+04</td>\n",
       "      <td>20145.000000</td>\n",
       "      <td>20145.000000</td>\n",
       "    </tr>\n",
       "    <tr>\n",
       "      <th>mean</th>\n",
       "      <td>1.362989e+06</td>\n",
       "      <td>253.949411</td>\n",
       "      <td>253.949411</td>\n",
       "    </tr>\n",
       "    <tr>\n",
       "      <th>std</th>\n",
       "      <td>2.945214e+02</td>\n",
       "      <td>460.358597</td>\n",
       "      <td>460.358597</td>\n",
       "    </tr>\n",
       "    <tr>\n",
       "      <th>min</th>\n",
       "      <td>1.362480e+06</td>\n",
       "      <td>0.020000</td>\n",
       "      <td>0.020000</td>\n",
       "    </tr>\n",
       "    <tr>\n",
       "      <th>25%</th>\n",
       "      <td>1.362727e+06</td>\n",
       "      <td>2.880000</td>\n",
       "      <td>2.880000</td>\n",
       "    </tr>\n",
       "    <tr>\n",
       "      <th>50%</th>\n",
       "      <td>1.362980e+06</td>\n",
       "      <td>121.310000</td>\n",
       "      <td>121.310000</td>\n",
       "    </tr>\n",
       "    <tr>\n",
       "      <th>75%</th>\n",
       "      <td>1.363253e+06</td>\n",
       "      <td>295.930000</td>\n",
       "      <td>295.930000</td>\n",
       "    </tr>\n",
       "    <tr>\n",
       "      <th>max</th>\n",
       "      <td>1.363495e+06</td>\n",
       "      <td>17464.520000</td>\n",
       "      <td>17464.520000</td>\n",
       "    </tr>\n",
       "  </tbody>\n",
       "</table>\n",
       "</div>"
      ],
      "text/plain": [
       "            cust_id      tran_amt  tran_amt_abs\n",
       "count  2.014500e+04  20145.000000  20145.000000\n",
       "mean   1.362989e+06    253.949411    253.949411\n",
       "std    2.945214e+02    460.358597    460.358597\n",
       "min    1.362480e+06      0.020000      0.020000\n",
       "25%    1.362727e+06      2.880000      2.880000\n",
       "50%    1.362980e+06    121.310000    121.310000\n",
       "75%    1.363253e+06    295.930000    295.930000\n",
       "max    1.363495e+06  17464.520000  17464.520000"
      ]
     },
     "execution_count": 562,
     "metadata": {},
     "output_type": "execute_result"
    }
   ],
   "source": [
    "trans_clean.describe()"
   ]
  },
  {
   "cell_type": "code",
   "execution_count": 298,
   "metadata": {},
   "outputs": [
    {
     "name": "stderr",
     "output_type": "stream",
     "text": [
      "/opt/anaconda3/lib/python3.8/site-packages/seaborn/distributions.py:2551: FutureWarning: `distplot` is a deprecated function and will be removed in a future version. Please adapt your code to use either `displot` (a figure-level function with similar flexibility) or `histplot` (an axes-level function for histograms).\n",
      "  warnings.warn(msg, FutureWarning)\n"
     ]
    },
    {
     "data": {
      "text/plain": [
       "<AxesSubplot:xlabel='tran_amt_abs', ylabel='Density'>"
      ]
     },
     "execution_count": 298,
     "metadata": {},
     "output_type": "execute_result"
    },
    {
     "data": {
      "image/png": "[encoded data removed]",
      "text/plain": [
       "<Figure size 864x576 with 1 Axes>"
      ]
     },
     "metadata": {
      "needs_background": "light"
     },
     "output_type": "display_data"
    }
   ],
   "source": [
    "# histogram\n",
    "sns.distplot(trans_clean['tran_amt_abs'])"
   ]
  },
  {
   "cell_type": "code",
   "execution_count": 563,
   "metadata": {},
   "outputs": [
    {
     "data": {
      "text/plain": [
       "cust_id    1363495\n",
       "sm_tran         29\n",
       "dtype: int64"
      ]
     },
     "execution_count": 563,
     "metadata": {},
     "output_type": "execute_result"
    }
   ],
   "source": [
    "# Count transactions that are small (< $12)\n",
    "trans_sm = trans_clean[trans_clean['tran_amt_abs'] < 20][['cust_id','tran_amt_abs']].groupby(by=[\"cust_id\"]).count()\n",
    "trans_sm = trans_sm.rename({\"tran_amt_abs\": \"sm_tran\"}, axis='columns')\n",
    "trans_sm = trans_sm.reset_index()\n",
    "trans_sm.max()"
   ]
  },
  {
   "cell_type": "code",
   "execution_count": 564,
   "metadata": {},
   "outputs": [
    {
     "data": {
      "text/plain": [
       "cust_id    1363495\n",
       "lg_tran         32\n",
       "dtype: int64"
      ]
     },
     "execution_count": 564,
     "metadata": {},
     "output_type": "execute_result"
    }
   ],
   "source": [
    "# Count transactions that are large (> $1000)\n",
    "trans_lg = trans_clean[trans_clean['tran_amt_abs'] > 500][['cust_id','tran_amt_abs']].groupby(by=[\"cust_id\"]).count()\n",
    "trans_lg = trans_lg.rename({\"tran_amt_abs\": \"lg_tran\"}, axis='columns')\n",
    "trans_lg = trans_lg.reset_index()\n",
    "trans_lg.max()"
   ]
  },
  {
   "cell_type": "code",
   "execution_count": null,
   "metadata": {},
   "outputs": [],
   "source": []
  },
  {
   "cell_type": "code",
   "execution_count": 302,
   "metadata": {},
   "outputs": [],
   "source": [
    "# Join all data tables together\n",
    "#trans_sm, trans_lg, trans_mean, acct1\n",
    "acct1_res = acct1.reset_index()"
   ]
  },
  {
   "cell_type": "code",
   "execution_count": 565,
   "metadata": {},
   "outputs": [],
   "source": [
    "acct_stats = pd.merge(pd.merge(pd.merge(trans_sm,trans_lg,on='cust_id'),trans_mean,on='cust_id'), accounts,on='cust_id')"
   ]
  },
  {
   "cell_type": "code",
   "execution_count": 334,
   "metadata": {},
   "outputs": [],
   "source": [
    "acct_stats['SAV'] = (acct_stats['CK  '] + acct_stats['SV  '])"
   ]
  },
  {
   "cell_type": "code",
   "execution_count": 335,
   "metadata": {},
   "outputs": [],
   "source": [
    "acct_stats['WORTH'] = (acct_stats['SAV'] - acct_stats['CC  '])"
   ]
  },
  {
   "cell_type": "code",
   "execution_count": 567,
   "metadata": {},
   "outputs": [],
   "source": [
    "acct_stats.drop(['acct_type'],axis=1, inplace=True)"
   ]
  },
  {
   "cell_type": "code",
   "execution_count": 568,
   "metadata": {},
   "outputs": [
    {
     "data": {
      "text/html": [
       "<div>\n",
       "<style scoped>\n",
       "    .dataframe tbody tr th:only-of-type {\n",
       "        vertical-align: middle;\n",
       "    }\n",
       "\n",
       "    .dataframe tbody tr th {\n",
       "        vertical-align: top;\n",
       "    }\n",
       "\n",
       "    .dataframe thead th {\n",
       "        text-align: right;\n",
       "    }\n",
       "</style>\n",
       "<table border=\"1\" class=\"dataframe\">\n",
       "  <thead>\n",
       "    <tr style=\"text-align: right;\">\n",
       "      <th></th>\n",
       "      <th>cust_id</th>\n",
       "      <th>sm_tran</th>\n",
       "      <th>lg_tran</th>\n",
       "      <th>mean_tran</th>\n",
       "      <th>CC</th>\n",
       "      <th>CK</th>\n",
       "      <th>SV</th>\n",
       "      <th>CC  _ch</th>\n",
       "      <th>CK  _ch</th>\n",
       "      <th>SV  _ch</th>\n",
       "      <th>credit_limit</th>\n",
       "      <th>credit_rating</th>\n",
       "      <th>minimum_balance</th>\n",
       "      <th>minimum_balance_ch</th>\n",
       "      <th>acct_nbr</th>\n",
       "      <th>starting_balance</th>\n",
       "      <th>ending_balance</th>\n",
       "      <th>savings</th>\n",
       "    </tr>\n",
       "  </thead>\n",
       "  <tbody>\n",
       "    <tr>\n",
       "      <th>0</th>\n",
       "      <td>1362480</td>\n",
       "      <td>12</td>\n",
       "      <td>6</td>\n",
       "      <td>317.009318</td>\n",
       "      <td>20.00</td>\n",
       "      <td>86.86</td>\n",
       "      <td>1187.97</td>\n",
       "      <td>1</td>\n",
       "      <td>1</td>\n",
       "      <td>1</td>\n",
       "      <td>2500.0</td>\n",
       "      <td>0.0</td>\n",
       "      <td>100.0</td>\n",
       "      <td>100.0</td>\n",
       "      <td>13624802</td>\n",
       "      <td>331.85</td>\n",
       "      <td>86.86</td>\n",
       "      <td>-244.99</td>\n",
       "    </tr>\n",
       "    <tr>\n",
       "      <th>1</th>\n",
       "      <td>1362480</td>\n",
       "      <td>12</td>\n",
       "      <td>6</td>\n",
       "      <td>317.009318</td>\n",
       "      <td>20.00</td>\n",
       "      <td>86.86</td>\n",
       "      <td>1187.97</td>\n",
       "      <td>1</td>\n",
       "      <td>1</td>\n",
       "      <td>1</td>\n",
       "      <td>2500.0</td>\n",
       "      <td>0.0</td>\n",
       "      <td>100.0</td>\n",
       "      <td>100.0</td>\n",
       "      <td>4561143213624800</td>\n",
       "      <td>1607.40</td>\n",
       "      <td>20.00</td>\n",
       "      <td>-1587.40</td>\n",
       "    </tr>\n",
       "    <tr>\n",
       "      <th>2</th>\n",
       "      <td>1362480</td>\n",
       "      <td>12</td>\n",
       "      <td>6</td>\n",
       "      <td>317.009318</td>\n",
       "      <td>20.00</td>\n",
       "      <td>86.86</td>\n",
       "      <td>1187.97</td>\n",
       "      <td>1</td>\n",
       "      <td>1</td>\n",
       "      <td>1</td>\n",
       "      <td>2500.0</td>\n",
       "      <td>0.0</td>\n",
       "      <td>100.0</td>\n",
       "      <td>100.0</td>\n",
       "      <td>13624803</td>\n",
       "      <td>707.09</td>\n",
       "      <td>1187.97</td>\n",
       "      <td>480.88</td>\n",
       "    </tr>\n",
       "    <tr>\n",
       "      <th>3</th>\n",
       "      <td>1362484</td>\n",
       "      <td>16</td>\n",
       "      <td>7</td>\n",
       "      <td>193.708246</td>\n",
       "      <td>369.72</td>\n",
       "      <td>95.32</td>\n",
       "      <td>2122.17</td>\n",
       "      <td>1</td>\n",
       "      <td>1</td>\n",
       "      <td>1</td>\n",
       "      <td>3000.0</td>\n",
       "      <td>0.0</td>\n",
       "      <td>3000.0</td>\n",
       "      <td>100.0</td>\n",
       "      <td>13624842</td>\n",
       "      <td>2613.46</td>\n",
       "      <td>95.32</td>\n",
       "      <td>-2518.14</td>\n",
       "    </tr>\n",
       "    <tr>\n",
       "      <th>4</th>\n",
       "      <td>1362484</td>\n",
       "      <td>16</td>\n",
       "      <td>7</td>\n",
       "      <td>193.708246</td>\n",
       "      <td>369.72</td>\n",
       "      <td>95.32</td>\n",
       "      <td>2122.17</td>\n",
       "      <td>1</td>\n",
       "      <td>1</td>\n",
       "      <td>1</td>\n",
       "      <td>3000.0</td>\n",
       "      <td>0.0</td>\n",
       "      <td>3000.0</td>\n",
       "      <td>100.0</td>\n",
       "      <td>4561143213624840</td>\n",
       "      <td>1278.78</td>\n",
       "      <td>369.72</td>\n",
       "      <td>-909.06</td>\n",
       "    </tr>\n",
       "  </tbody>\n",
       "</table>\n",
       "</div>"
      ],
      "text/plain": [
       "   cust_id  sm_tran  lg_tran   mean_tran    CC     CK       SV    CC  _ch  \\\n",
       "0  1362480       12        6  317.009318   20.00  86.86  1187.97        1   \n",
       "1  1362480       12        6  317.009318   20.00  86.86  1187.97        1   \n",
       "2  1362480       12        6  317.009318   20.00  86.86  1187.97        1   \n",
       "3  1362484       16        7  193.708246  369.72  95.32  2122.17        1   \n",
       "4  1362484       16        7  193.708246  369.72  95.32  2122.17        1   \n",
       "\n",
       "   CK  _ch  SV  _ch  credit_limit  credit_rating  minimum_balance  \\\n",
       "0        1        1        2500.0            0.0            100.0   \n",
       "1        1        1        2500.0            0.0            100.0   \n",
       "2        1        1        2500.0            0.0            100.0   \n",
       "3        1        1        3000.0            0.0           3000.0   \n",
       "4        1        1        3000.0            0.0           3000.0   \n",
       "\n",
       "   minimum_balance_ch          acct_nbr  starting_balance  ending_balance  \\\n",
       "0               100.0          13624802            331.85           86.86   \n",
       "1               100.0  4561143213624800           1607.40           20.00   \n",
       "2               100.0          13624803            707.09         1187.97   \n",
       "3               100.0          13624842           2613.46           95.32   \n",
       "4               100.0  4561143213624840           1278.78          369.72   \n",
       "\n",
       "   savings  \n",
       "0  -244.99  \n",
       "1 -1587.40  \n",
       "2   480.88  \n",
       "3 -2518.14  \n",
       "4  -909.06  "
      ]
     },
     "execution_count": 568,
     "metadata": {},
     "output_type": "execute_result"
    }
   ],
   "source": [
    "acct_stats.head()"
   ]
  },
  {
   "cell_type": "markdown",
   "metadata": {},
   "source": [
    "## K Means on All Columns"
   ]
  },
  {
   "cell_type": "code",
   "execution_count": 576,
   "metadata": {},
   "outputs": [
    {
     "data": {
      "text/plain": [
       "Index(['cust_id', 'sm_tran', 'lg_tran', 'mean_tran', 'CC  ', 'CK  ', 'SV  ',\n",
       "       'CC  _ch', 'CK  _ch', 'SV  _ch', 'credit_limit', 'credit_rating',\n",
       "       'minimum_balance', 'minimum_balance_ch', 'acct_nbr', 'starting_balance',\n",
       "       'ending_balance', 'savings', 'cluster'],\n",
       "      dtype='object')"
      ]
     },
     "execution_count": 576,
     "metadata": {},
     "output_type": "execute_result"
    }
   ],
   "source": [
    "acct_stats.columns"
   ]
  },
  {
   "cell_type": "code",
   "execution_count": 579,
   "metadata": {},
   "outputs": [
    {
     "name": "stdout",
     "output_type": "stream",
     "text": [
      "1112\n"
     ]
    }
   ],
   "source": [
    "X = acct_stats[['sm_tran', 'lg_tran', 'mean_tran', 'CC  ', 'CK  ', 'SV  ',\n",
    "       'CC  _ch', 'CK  _ch', 'SV  _ch', 'credit_limit', 'credit_rating',\n",
    "       'minimum_balance', 'minimum_balance_ch', 'starting_balance',\n",
    "       'ending_balance', 'savings']].to_numpy()\n",
    "\n",
    "scaler = StandardScaler()\n",
    "X = scaler.fit_transform(X)\n",
    "km = KMeans(n_clusters=10, random_state=0)\n",
    "y_km = km.fit_predict(X)\n",
    "print(len(y_km))"
   ]
  },
  {
   "cell_type": "markdown",
   "metadata": {},
   "source": [
    "## Elbow Graph"
   ]
  },
  {
   "cell_type": "code",
   "execution_count": 580,
   "metadata": {},
   "outputs": [
    {
     "data": {
      "image/png": "[encoded data removed]",
      "text/plain": [
       "<Figure size 864x576 with 1 Axes>"
      ]
     },
     "metadata": {
      "needs_background": "light"
     },
     "output_type": "display_data"
    }
   ],
   "source": [
    "plot_distortion(X,max_clusters = 10)"
   ]
  },
  {
   "cell_type": "markdown",
   "metadata": {},
   "source": [
    "## Radar Plot of K Means"
   ]
  },
  {
   "cell_type": "code",
   "execution_count": 581,
   "metadata": {},
   "outputs": [],
   "source": [
    "# Use 3 categories\n",
    "km = KMeans(n_clusters=3, random_state=0)\n",
    "y_km = km.fit_predict(X)"
   ]
  },
  {
   "cell_type": "code",
   "execution_count": 582,
   "metadata": {},
   "outputs": [
    {
     "data": {
      "text/html": [
       "<div>\n",
       "<style scoped>\n",
       "    .dataframe tbody tr th:only-of-type {\n",
       "        vertical-align: middle;\n",
       "    }\n",
       "\n",
       "    .dataframe tbody tr th {\n",
       "        vertical-align: top;\n",
       "    }\n",
       "\n",
       "    .dataframe thead th {\n",
       "        text-align: right;\n",
       "    }\n",
       "</style>\n",
       "<table border=\"1\" class=\"dataframe\">\n",
       "  <thead>\n",
       "    <tr style=\"text-align: right;\">\n",
       "      <th></th>\n",
       "      <th>cust_id</th>\n",
       "      <th>sm_tran</th>\n",
       "      <th>lg_tran</th>\n",
       "      <th>mean_tran</th>\n",
       "      <th>CC</th>\n",
       "      <th>CK</th>\n",
       "      <th>SV</th>\n",
       "      <th>CC  _ch</th>\n",
       "      <th>CK  _ch</th>\n",
       "      <th>SV  _ch</th>\n",
       "      <th>credit_limit</th>\n",
       "      <th>credit_rating</th>\n",
       "      <th>minimum_balance</th>\n",
       "      <th>minimum_balance_ch</th>\n",
       "      <th>acct_nbr</th>\n",
       "      <th>starting_balance</th>\n",
       "      <th>ending_balance</th>\n",
       "      <th>savings</th>\n",
       "      <th>cluster</th>\n",
       "    </tr>\n",
       "  </thead>\n",
       "  <tbody>\n",
       "    <tr>\n",
       "      <th>0</th>\n",
       "      <td>1362480</td>\n",
       "      <td>12</td>\n",
       "      <td>6</td>\n",
       "      <td>317.009318</td>\n",
       "      <td>20.00</td>\n",
       "      <td>86.86</td>\n",
       "      <td>1187.97</td>\n",
       "      <td>1</td>\n",
       "      <td>1</td>\n",
       "      <td>1</td>\n",
       "      <td>2500.0</td>\n",
       "      <td>0.0</td>\n",
       "      <td>100.0</td>\n",
       "      <td>100.0</td>\n",
       "      <td>13624802</td>\n",
       "      <td>331.85</td>\n",
       "      <td>86.86</td>\n",
       "      <td>-244.99</td>\n",
       "      <td>1</td>\n",
       "    </tr>\n",
       "    <tr>\n",
       "      <th>1</th>\n",
       "      <td>1362480</td>\n",
       "      <td>12</td>\n",
       "      <td>6</td>\n",
       "      <td>317.009318</td>\n",
       "      <td>20.00</td>\n",
       "      <td>86.86</td>\n",
       "      <td>1187.97</td>\n",
       "      <td>1</td>\n",
       "      <td>1</td>\n",
       "      <td>1</td>\n",
       "      <td>2500.0</td>\n",
       "      <td>0.0</td>\n",
       "      <td>100.0</td>\n",
       "      <td>100.0</td>\n",
       "      <td>4561143213624800</td>\n",
       "      <td>1607.40</td>\n",
       "      <td>20.00</td>\n",
       "      <td>-1587.40</td>\n",
       "      <td>1</td>\n",
       "    </tr>\n",
       "    <tr>\n",
       "      <th>2</th>\n",
       "      <td>1362480</td>\n",
       "      <td>12</td>\n",
       "      <td>6</td>\n",
       "      <td>317.009318</td>\n",
       "      <td>20.00</td>\n",
       "      <td>86.86</td>\n",
       "      <td>1187.97</td>\n",
       "      <td>1</td>\n",
       "      <td>1</td>\n",
       "      <td>1</td>\n",
       "      <td>2500.0</td>\n",
       "      <td>0.0</td>\n",
       "      <td>100.0</td>\n",
       "      <td>100.0</td>\n",
       "      <td>13624803</td>\n",
       "      <td>707.09</td>\n",
       "      <td>1187.97</td>\n",
       "      <td>480.88</td>\n",
       "      <td>1</td>\n",
       "    </tr>\n",
       "    <tr>\n",
       "      <th>3</th>\n",
       "      <td>1362484</td>\n",
       "      <td>16</td>\n",
       "      <td>7</td>\n",
       "      <td>193.708246</td>\n",
       "      <td>369.72</td>\n",
       "      <td>95.32</td>\n",
       "      <td>2122.17</td>\n",
       "      <td>1</td>\n",
       "      <td>1</td>\n",
       "      <td>1</td>\n",
       "      <td>3000.0</td>\n",
       "      <td>0.0</td>\n",
       "      <td>3000.0</td>\n",
       "      <td>100.0</td>\n",
       "      <td>13624842</td>\n",
       "      <td>2613.46</td>\n",
       "      <td>95.32</td>\n",
       "      <td>-2518.14</td>\n",
       "      <td>1</td>\n",
       "    </tr>\n",
       "    <tr>\n",
       "      <th>4</th>\n",
       "      <td>1362484</td>\n",
       "      <td>16</td>\n",
       "      <td>7</td>\n",
       "      <td>193.708246</td>\n",
       "      <td>369.72</td>\n",
       "      <td>95.32</td>\n",
       "      <td>2122.17</td>\n",
       "      <td>1</td>\n",
       "      <td>1</td>\n",
       "      <td>1</td>\n",
       "      <td>3000.0</td>\n",
       "      <td>0.0</td>\n",
       "      <td>3000.0</td>\n",
       "      <td>100.0</td>\n",
       "      <td>4561143213624840</td>\n",
       "      <td>1278.78</td>\n",
       "      <td>369.72</td>\n",
       "      <td>-909.06</td>\n",
       "      <td>1</td>\n",
       "    </tr>\n",
       "  </tbody>\n",
       "</table>\n",
       "</div>"
      ],
      "text/plain": [
       "   cust_id  sm_tran  lg_tran   mean_tran    CC     CK       SV    CC  _ch  \\\n",
       "0  1362480       12        6  317.009318   20.00  86.86  1187.97        1   \n",
       "1  1362480       12        6  317.009318   20.00  86.86  1187.97        1   \n",
       "2  1362480       12        6  317.009318   20.00  86.86  1187.97        1   \n",
       "3  1362484       16        7  193.708246  369.72  95.32  2122.17        1   \n",
       "4  1362484       16        7  193.708246  369.72  95.32  2122.17        1   \n",
       "\n",
       "   CK  _ch  SV  _ch  credit_limit  credit_rating  minimum_balance  \\\n",
       "0        1        1        2500.0            0.0            100.0   \n",
       "1        1        1        2500.0            0.0            100.0   \n",
       "2        1        1        2500.0            0.0            100.0   \n",
       "3        1        1        3000.0            0.0           3000.0   \n",
       "4        1        1        3000.0            0.0           3000.0   \n",
       "\n",
       "   minimum_balance_ch          acct_nbr  starting_balance  ending_balance  \\\n",
       "0               100.0          13624802            331.85           86.86   \n",
       "1               100.0  4561143213624800           1607.40           20.00   \n",
       "2               100.0          13624803            707.09         1187.97   \n",
       "3               100.0          13624842           2613.46           95.32   \n",
       "4               100.0  4561143213624840           1278.78          369.72   \n",
       "\n",
       "   savings  cluster  \n",
       "0  -244.99        1  \n",
       "1 -1587.40        1  \n",
       "2   480.88        1  \n",
       "3 -2518.14        1  \n",
       "4  -909.06        1  "
      ]
     },
     "execution_count": 582,
     "metadata": {},
     "output_type": "execute_result"
    }
   ],
   "source": [
    "y_km\n",
    "acct_stats['cluster'] = y_km.tolist()\n",
    "acct_stats.head()"
   ]
  },
  {
   "cell_type": "code",
   "execution_count": 583,
   "metadata": {},
   "outputs": [
    {
     "data": {
      "text/html": [
       "<div>\n",
       "<style scoped>\n",
       "    .dataframe tbody tr th:only-of-type {\n",
       "        vertical-align: middle;\n",
       "    }\n",
       "\n",
       "    .dataframe tbody tr th {\n",
       "        vertical-align: top;\n",
       "    }\n",
       "\n",
       "    .dataframe thead th {\n",
       "        text-align: right;\n",
       "    }\n",
       "</style>\n",
       "<table border=\"1\" class=\"dataframe\">\n",
       "  <thead>\n",
       "    <tr style=\"text-align: right;\">\n",
       "      <th></th>\n",
       "      <th>cust_id</th>\n",
       "      <th>sm_tran</th>\n",
       "      <th>lg_tran</th>\n",
       "      <th>mean_tran</th>\n",
       "      <th>CC</th>\n",
       "      <th>CK</th>\n",
       "      <th>SV</th>\n",
       "      <th>CC  _ch</th>\n",
       "      <th>CK  _ch</th>\n",
       "      <th>SV  _ch</th>\n",
       "      <th>credit_limit</th>\n",
       "      <th>credit_rating</th>\n",
       "      <th>minimum_balance</th>\n",
       "      <th>minimum_balance_ch</th>\n",
       "      <th>acct_nbr</th>\n",
       "      <th>starting_balance</th>\n",
       "      <th>ending_balance</th>\n",
       "      <th>savings</th>\n",
       "    </tr>\n",
       "    <tr>\n",
       "      <th>cluster</th>\n",
       "      <th></th>\n",
       "      <th></th>\n",
       "      <th></th>\n",
       "      <th></th>\n",
       "      <th></th>\n",
       "      <th></th>\n",
       "      <th></th>\n",
       "      <th></th>\n",
       "      <th></th>\n",
       "      <th></th>\n",
       "      <th></th>\n",
       "      <th></th>\n",
       "      <th></th>\n",
       "      <th></th>\n",
       "      <th></th>\n",
       "      <th></th>\n",
       "      <th></th>\n",
       "      <th></th>\n",
       "    </tr>\n",
       "  </thead>\n",
       "  <tbody>\n",
       "    <tr>\n",
       "      <th>0</th>\n",
       "      <td>1.363004e+06</td>\n",
       "      <td>13.242424</td>\n",
       "      <td>14.242424</td>\n",
       "      <td>507.176901</td>\n",
       "      <td>2230.953561</td>\n",
       "      <td>1300.196667</td>\n",
       "      <td>3469.369394</td>\n",
       "      <td>0.916667</td>\n",
       "      <td>0.931818</td>\n",
       "      <td>0.909091</td>\n",
       "      <td>6292.424242</td>\n",
       "      <td>0.500000</td>\n",
       "      <td>1636.363636</td>\n",
       "      <td>196.969697</td>\n",
       "      <td>1.520381e+15</td>\n",
       "      <td>4065.888182</td>\n",
       "      <td>2778.202273</td>\n",
       "      <td>-1287.685909</td>\n",
       "    </tr>\n",
       "    <tr>\n",
       "      <th>1</th>\n",
       "      <td>1.362992e+06</td>\n",
       "      <td>14.762029</td>\n",
       "      <td>4.394018</td>\n",
       "      <td>190.232019</td>\n",
       "      <td>818.593225</td>\n",
       "      <td>533.173043</td>\n",
       "      <td>890.849012</td>\n",
       "      <td>0.875163</td>\n",
       "      <td>0.895969</td>\n",
       "      <td>1.000000</td>\n",
       "      <td>1791.287386</td>\n",
       "      <td>0.265280</td>\n",
       "      <td>1248.764629</td>\n",
       "      <td>181.144343</td>\n",
       "      <td>1.393847e+15</td>\n",
       "      <td>997.361625</td>\n",
       "      <td>806.234135</td>\n",
       "      <td>-191.127490</td>\n",
       "    </tr>\n",
       "    <tr>\n",
       "      <th>2</th>\n",
       "      <td>1.363000e+06</td>\n",
       "      <td>4.791469</td>\n",
       "      <td>5.075829</td>\n",
       "      <td>301.981195</td>\n",
       "      <td>796.663697</td>\n",
       "      <td>546.671469</td>\n",
       "      <td>12.929005</td>\n",
       "      <td>0.800948</td>\n",
       "      <td>0.990521</td>\n",
       "      <td>0.004739</td>\n",
       "      <td>1716.587678</td>\n",
       "      <td>0.109005</td>\n",
       "      <td>1696.208531</td>\n",
       "      <td>0.473934</td>\n",
       "      <td>1.837427e+15</td>\n",
       "      <td>1844.036114</td>\n",
       "      <td>698.533318</td>\n",
       "      <td>-1145.502796</td>\n",
       "    </tr>\n",
       "  </tbody>\n",
       "</table>\n",
       "</div>"
      ],
      "text/plain": [
       "              cust_id    sm_tran    lg_tran   mean_tran         CC    \\\n",
       "cluster                                                                \n",
       "0        1.363004e+06  13.242424  14.242424  507.176901  2230.953561   \n",
       "1        1.362992e+06  14.762029   4.394018  190.232019   818.593225   \n",
       "2        1.363000e+06   4.791469   5.075829  301.981195   796.663697   \n",
       "\n",
       "                CK           SV     CC  _ch   CK  _ch   SV  _ch  credit_limit  \\\n",
       "cluster                                                                         \n",
       "0        1300.196667  3469.369394  0.916667  0.931818  0.909091   6292.424242   \n",
       "1         533.173043   890.849012  0.875163  0.895969  1.000000   1791.287386   \n",
       "2         546.671469    12.929005  0.800948  0.990521  0.004739   1716.587678   \n",
       "\n",
       "         credit_rating  minimum_balance  minimum_balance_ch      acct_nbr  \\\n",
       "cluster                                                                     \n",
       "0             0.500000      1636.363636          196.969697  1.520381e+15   \n",
       "1             0.265280      1248.764629          181.144343  1.393847e+15   \n",
       "2             0.109005      1696.208531            0.473934  1.837427e+15   \n",
       "\n",
       "         starting_balance  ending_balance      savings  \n",
       "cluster                                                 \n",
       "0             4065.888182     2778.202273 -1287.685909  \n",
       "1              997.361625      806.234135  -191.127490  \n",
       "2             1844.036114      698.533318 -1145.502796  "
      ]
     },
     "execution_count": 583,
     "metadata": {},
     "output_type": "execute_result"
    }
   ],
   "source": [
    "# Take the mean of each cluster\n",
    "acct_stats_mean = acct_stats.groupby(by='cluster').agg('mean')\n",
    "acct_stats_mean"
   ]
  },
  {
   "cell_type": "code",
   "execution_count": 575,
   "metadata": {},
   "outputs": [
    {
     "data": {
      "text/plain": [
       "Index(['cust_id', 'sm_tran', 'lg_tran', 'mean_tran', 'CC  ', 'CK  ', 'SV  ',\n",
       "       'CC  _ch', 'CK  _ch', 'SV  _ch', 'credit_limit', 'credit_rating',\n",
       "       'minimum_balance', 'minimum_balance_ch', 'acct_nbr', 'starting_balance',\n",
       "       'ending_balance', 'savings'],\n",
       "      dtype='object')"
      ]
     },
     "execution_count": 575,
     "metadata": {},
     "output_type": "execute_result"
    }
   ],
   "source": [
    "acct_stats_mean.columns"
   ]
  },
  {
   "cell_type": "code",
   "execution_count": 584,
   "metadata": {},
   "outputs": [
    {
     "data": {
      "application/vnd.plotly.v1+json": {
       "config": {
        "plotlyServerURL": "https://plot.ly"
       },
       "data": [
        {
         "fill": "toself",
         "name": "Cluster 0",
         "r": [
          1,
          0.8970599226941721,
          1,
          1,
          1,
          1,
          1,
          1,
          0.9407351022183558,
          0.9090909090909091,
          1,
          1,
          0.964718433285072,
          1,
          0.827450981672142,
          1,
          1,
          6.737313964758787
         ],
         "theta": [
          "sm_tran",
          "lg_tran",
          "mean_tran",
          "CC  ",
          "CK  ",
          "SV  ",
          "CC  _ch",
          "CK  _ch",
          "SV  _ch",
          "credit_limit",
          "credit_rating",
          "minimum_balance",
          "minimum_balance_ch",
          "starting_balance",
          "ending_balance",
          "savings"
         ],
         "type": "scatterpolar",
         "visible": "legendonly"
        },
        {
         "fill": "toself",
         "name": "Cluster 1",
         "r": [
          0.9999911936951553,
          1,
          0.3085161718728385,
          0.37508021168230893,
          0.3669252643453104,
          0.4100710735398041,
          0.256775485844698,
          0.9547227804705049,
          0.9045426546624274,
          1,
          0.28467365155368907,
          0.5305591677503251,
          0.7362093791590957,
          0.9196558967690307,
          0.7585864012400015,
          0.24529981664218967,
          0.29019994085928025,
          1
         ],
         "theta": [
          "sm_tran",
          "lg_tran",
          "mean_tran",
          "CC  ",
          "CK  ",
          "SV  ",
          "CC  _ch",
          "CK  _ch",
          "SV  _ch",
          "credit_limit",
          "credit_rating",
          "minimum_balance",
          "minimum_balance_ch",
          "starting_balance",
          "ending_balance",
          "savings"
         ],
         "type": "scatterpolar",
         "visible": "legendonly"
        },
        {
         "fill": "toself",
         "name": "Cluster 2",
         "r": [
          0.9999973327010365,
          0.32458067392763745,
          0.3563880205707371,
          0.5954159073643362,
          0.3570955983799333,
          0.4204529077864987,
          0.003726615206187628,
          0.8737613097802672,
          1,
          0.004739336492890996,
          0.2728022796288414,
          0.21800947867298578,
          1,
          0.0024061246810061976,
          1,
          0.45353832453883686,
          0.25143357069167505,
          5.993396317440889
         ],
         "theta": [
          "sm_tran",
          "lg_tran",
          "mean_tran",
          "CC  ",
          "CK  ",
          "SV  ",
          "CC  _ch",
          "CK  _ch",
          "SV  _ch",
          "credit_limit",
          "credit_rating",
          "minimum_balance",
          "minimum_balance_ch",
          "starting_balance",
          "ending_balance",
          "savings"
         ],
         "type": "scatterpolar",
         "visible": true
        }
       ],
       "layout": {
        "autosize": true,
        "polar": {
         "angularaxis": {
          "type": "category"
         },
         "radialaxis": {
          "autorange": false,
          "range": [
           0,
           1.2
          ],
          "type": "linear",
          "visible": true
         }
        },
        "showlegend": true,
        "template": {
         "data": {
          "bar": [
           {
            "error_x": {
             "color": "#2a3f5f"
            },
            "error_y": {
             "color": "#2a3f5f"
            },
            "marker": {
             "line": {
              "color": "#E5ECF6",
              "width": 0.5
             }
            },
            "type": "bar"
           }
          ],
          "barpolar": [
           {
            "marker": {
             "line": {
              "color": "#E5ECF6",
              "width": 0.5
             }
            },
            "type": "barpolar"
           }
          ],
          "carpet": [
           {
            "aaxis": {
             "endlinecolor": "#2a3f5f",
             "gridcolor": "white",
             "linecolor": "white",
             "minorgridcolor": "white",
             "startlinecolor": "#2a3f5f"
            },
            "baxis": {
             "endlinecolor": "#2a3f5f",
             "gridcolor": "white",
             "linecolor": "white",
             "minorgridcolor": "white",
             "startlinecolor": "#2a3f5f"
            },
            "type": "carpet"
           }
          ],
          "choropleth": [
           {
            "colorbar": {
             "outlinewidth": 0,
             "ticks": ""
            },
            "type": "choropleth"
           }
          ],
          "contour": [
           {
            "colorbar": {
             "outlinewidth": 0,
             "ticks": ""
            },
            "colorscale": [
             [
              0,
              "#0d0887"
             ],
             [
              0.1111111111111111,
              "#46039f"
             ],
             [
              0.2222222222222222,
              "#7201a8"
             ],
             [
              0.3333333333333333,
              "#9c179e"
             ],
             [
              0.4444444444444444,
              "#bd3786"
             ],
             [
              0.5555555555555556,
              "#d8576b"
             ],
             [
              0.6666666666666666,
              "#ed7953"
             ],
             [
              0.7777777777777778,
              "#fb9f3a"
             ],
             [
              0.8888888888888888,
              "#fdca26"
             ],
             [
              1,
              "#f0f921"
             ]
            ],
            "type": "contour"
           }
          ],
          "contourcarpet": [
           {
            "colorbar": {
             "outlinewidth": 0,
             "ticks": ""
            },
            "type": "contourcarpet"
           }
          ],
          "heatmap": [
           {
            "colorbar": {
             "outlinewidth": 0,
             "ticks": ""
            },
            "colorscale": [
             [
              0,
              "#0d0887"
             ],
             [
              0.1111111111111111,
              "#46039f"
             ],
             [
              0.2222222222222222,
              "#7201a8"
             ],
             [
              0.3333333333333333,
              "#9c179e"
             ],
             [
              0.4444444444444444,
              "#bd3786"
             ],
             [
              0.5555555555555556,
              "#d8576b"
             ],
             [
              0.6666666666666666,
              "#ed7953"
             ],
             [
              0.7777777777777778,
              "#fb9f3a"
             ],
             [
              0.8888888888888888,
              "#fdca26"
             ],
             [
              1,
              "#f0f921"
             ]
            ],
            "type": "heatmap"
           }
          ],
          "heatmapgl": [
           {
            "colorbar": {
             "outlinewidth": 0,
             "ticks": ""
            },
            "colorscale": [
             [
              0,
              "#0d0887"
             ],
             [
              0.1111111111111111,
              "#46039f"
             ],
             [
              0.2222222222222222,
              "#7201a8"
             ],
             [
              0.3333333333333333,
              "#9c179e"
             ],
             [
              0.4444444444444444,
              "#bd3786"
             ],
             [
              0.5555555555555556,
              "#d8576b"
             ],
             [
              0.6666666666666666,
              "#ed7953"
             ],
             [
              0.7777777777777778,
              "#fb9f3a"
             ],
             [
              0.8888888888888888,
              "#fdca26"
             ],
             [
              1,
              "#f0f921"
             ]
            ],
            "type": "heatmapgl"
           }
          ],
          "histogram": [
           {
            "marker": {
             "colorbar": {
              "outlinewidth": 0,
              "ticks": ""
             }
            },
            "type": "histogram"
           }
          ],
          "histogram2d": [
           {
            "colorbar": {
             "outlinewidth": 0,
             "ticks": ""
            },
            "colorscale": [
             [
              0,
              "#0d0887"
             ],
             [
              0.1111111111111111,
              "#46039f"
             ],
             [
              0.2222222222222222,
              "#7201a8"
             ],
             [
              0.3333333333333333,
              "#9c179e"
             ],
             [
              0.4444444444444444,
              "#bd3786"
             ],
             [
              0.5555555555555556,
              "#d8576b"
             ],
             [
              0.6666666666666666,
              "#ed7953"
             ],
             [
              0.7777777777777778,
              "#fb9f3a"
             ],
             [
              0.8888888888888888,
              "#fdca26"
             ],
             [
              1,
              "#f0f921"
             ]
            ],
            "type": "histogram2d"
           }
          ],
          "histogram2dcontour": [
           {
            "colorbar": {
             "outlinewidth": 0,
             "ticks": ""
            },
            "colorscale": [
             [
              0,
              "#0d0887"
             ],
             [
              0.1111111111111111,
              "#46039f"
             ],
             [
              0.2222222222222222,
              "#7201a8"
             ],
             [
              0.3333333333333333,
              "#9c179e"
             ],
             [
              0.4444444444444444,
              "#bd3786"
             ],
             [
              0.5555555555555556,
              "#d8576b"
             ],
             [
              0.6666666666666666,
              "#ed7953"
             ],
             [
              0.7777777777777778,
              "#fb9f3a"
             ],
             [
              0.8888888888888888,
              "#fdca26"
             ],
             [
              1,
              "#f0f921"
             ]
            ],
            "type": "histogram2dcontour"
           }
          ],
          "mesh3d": [
           {
            "colorbar": {
             "outlinewidth": 0,
             "ticks": ""
            },
            "type": "mesh3d"
           }
          ],
          "parcoords": [
           {
            "line": {
             "colorbar": {
              "outlinewidth": 0,
              "ticks": ""
             }
            },
            "type": "parcoords"
           }
          ],
          "pie": [
           {
            "automargin": true,
            "type": "pie"
           }
          ],
          "scatter": [
           {
            "marker": {
             "colorbar": {
              "outlinewidth": 0,
              "ticks": ""
             }
            },
            "type": "scatter"
           }
          ],
          "scatter3d": [
           {
            "line": {
             "colorbar": {
              "outlinewidth": 0,
              "ticks": ""
             }
            },
            "marker": {
             "colorbar": {
              "outlinewidth": 0,
              "ticks": ""
             }
            },
            "type": "scatter3d"
           }
          ],
          "scattercarpet": [
           {
            "marker": {
             "colorbar": {
              "outlinewidth": 0,
              "ticks": ""
             }
            },
            "type": "scattercarpet"
           }
          ],
          "scattergeo": [
           {
            "marker": {
             "colorbar": {
              "outlinewidth": 0,
              "ticks": ""
             }
            },
            "type": "scattergeo"
           }
          ],
          "scattergl": [
           {
            "marker": {
             "colorbar": {
              "outlinewidth": 0,
              "ticks": ""
             }
            },
            "type": "scattergl"
           }
          ],
          "scattermapbox": [
           {
            "marker": {
             "colorbar": {
              "outlinewidth": 0,
              "ticks": ""
             }
            },
            "type": "scattermapbox"
           }
          ],
          "scatterpolar": [
           {
            "marker": {
             "colorbar": {
              "outlinewidth": 0,
              "ticks": ""
             }
            },
            "type": "scatterpolar"
           }
          ],
          "scatterpolargl": [
           {
            "marker": {
             "colorbar": {
              "outlinewidth": 0,
              "ticks": ""
             }
            },
            "type": "scatterpolargl"
           }
          ],
          "scatterternary": [
           {
            "marker": {
             "colorbar": {
              "outlinewidth": 0,
              "ticks": ""
             }
            },
            "type": "scatterternary"
           }
          ],
          "surface": [
           {
            "colorbar": {
             "outlinewidth": 0,
             "ticks": ""
            },
            "colorscale": [
             [
              0,
              "#0d0887"
             ],
             [
              0.1111111111111111,
              "#46039f"
             ],
             [
              0.2222222222222222,
              "#7201a8"
             ],
             [
              0.3333333333333333,
              "#9c179e"
             ],
             [
              0.4444444444444444,
              "#bd3786"
             ],
             [
              0.5555555555555556,
              "#d8576b"
             ],
             [
              0.6666666666666666,
              "#ed7953"
             ],
             [
              0.7777777777777778,
              "#fb9f3a"
             ],
             [
              0.8888888888888888,
              "#fdca26"
             ],
             [
              1,
              "#f0f921"
             ]
            ],
            "type": "surface"
           }
          ],
          "table": [
           {
            "cells": {
             "fill": {
              "color": "#EBF0F8"
             },
             "line": {
              "color": "white"
             }
            },
            "header": {
             "fill": {
              "color": "#C8D4E3"
             },
             "line": {
              "color": "white"
             }
            },
            "type": "table"
           }
          ]
         },
         "layout": {
          "annotationdefaults": {
           "arrowcolor": "#2a3f5f",
           "arrowhead": 0,
           "arrowwidth": 1
          },
          "autotypenumbers": "strict",
          "coloraxis": {
           "colorbar": {
            "outlinewidth": 0,
            "ticks": ""
           }
          },
          "colorscale": {
           "diverging": [
            [
             0,
             "#8e0152"
            ],
            [
             0.1,
             "#c51b7d"
            ],
            [
             0.2,
             "#de77ae"
            ],
            [
             0.3,
             "#f1b6da"
            ],
            [
             0.4,
             "#fde0ef"
            ],
            [
             0.5,
             "#f7f7f7"
            ],
            [
             0.6,
             "#e6f5d0"
            ],
            [
             0.7,
             "#b8e186"
            ],
            [
             0.8,
             "#7fbc41"
            ],
            [
             0.9,
             "#4d9221"
            ],
            [
             1,
             "#276419"
            ]
           ],
           "sequential": [
            [
             0,
             "#0d0887"
            ],
            [
             0.1111111111111111,
             "#46039f"
            ],
            [
             0.2222222222222222,
             "#7201a8"
            ],
            [
             0.3333333333333333,
             "#9c179e"
            ],
            [
             0.4444444444444444,
             "#bd3786"
            ],
            [
             0.5555555555555556,
             "#d8576b"
            ],
            [
             0.6666666666666666,
             "#ed7953"
            ],
            [
             0.7777777777777778,
             "#fb9f3a"
            ],
            [
             0.8888888888888888,
             "#fdca26"
            ],
            [
             1,
             "#f0f921"
            ]
           ],
           "sequentialminus": [
            [
             0,
             "#0d0887"
            ],
            [
             0.1111111111111111,
             "#46039f"
            ],
            [
             0.2222222222222222,
             "#7201a8"
            ],
            [
             0.3333333333333333,
             "#9c179e"
            ],
            [
             0.4444444444444444,
             "#bd3786"
            ],
            [
             0.5555555555555556,
             "#d8576b"
            ],
            [
             0.6666666666666666,
             "#ed7953"
            ],
            [
             0.7777777777777778,
             "#fb9f3a"
            ],
            [
             0.8888888888888888,
             "#fdca26"
            ],
            [
             1,
             "#f0f921"
            ]
           ]
          },
          "colorway": [
           "#636efa",
           "#EF553B",
           "#00cc96",
           "#ab63fa",
           "#FFA15A",
           "#19d3f3",
           "#FF6692",
           "#B6E880",
           "#FF97FF",
           "#FECB52"
          ],
          "font": {
           "color": "#2a3f5f"
          },
          "geo": {
           "bgcolor": "white",
           "lakecolor": "white",
           "landcolor": "#E5ECF6",
           "showlakes": true,
           "showland": true,
           "subunitcolor": "white"
          },
          "hoverlabel": {
           "align": "left"
          },
          "hovermode": "closest",
          "mapbox": {
           "style": "light"
          },
          "paper_bgcolor": "white",
          "plot_bgcolor": "#E5ECF6",
          "polar": {
           "angularaxis": {
            "gridcolor": "white",
            "linecolor": "white",
            "ticks": ""
           },
           "bgcolor": "#E5ECF6",
           "radialaxis": {
            "gridcolor": "white",
            "linecolor": "white",
            "ticks": ""
           }
          },
          "scene": {
           "xaxis": {
            "backgroundcolor": "#E5ECF6",
            "gridcolor": "white",
            "gridwidth": 2,
            "linecolor": "white",
            "showbackground": true,
            "ticks": "",
            "zerolinecolor": "white"
           },
           "yaxis": {
            "backgroundcolor": "#E5ECF6",
            "gridcolor": "white",
            "gridwidth": 2,
            "linecolor": "white",
            "showbackground": true,
            "ticks": "",
            "zerolinecolor": "white"
           },
           "zaxis": {
            "backgroundcolor": "#E5ECF6",
            "gridcolor": "white",
            "gridwidth": 2,
            "linecolor": "white",
            "showbackground": true,
            "ticks": "",
            "zerolinecolor": "white"
           }
          },
          "shapedefaults": {
           "line": {
            "color": "#2a3f5f"
           }
          },
          "ternary": {
           "aaxis": {
            "gridcolor": "white",
            "linecolor": "white",
            "ticks": ""
           },
           "baxis": {
            "gridcolor": "white",
            "linecolor": "white",
            "ticks": ""
           },
           "bgcolor": "#E5ECF6",
           "caxis": {
            "gridcolor": "white",
            "linecolor": "white",
            "ticks": ""
           }
          },
          "title": {
           "x": 0.05
          },
          "xaxis": {
           "automargin": true,
           "gridcolor": "white",
           "linecolor": "white",
           "ticks": "",
           "title": {
            "standoff": 15
           },
           "zerolinecolor": "white",
           "zerolinewidth": 2
          },
          "yaxis": {
           "automargin": true,
           "gridcolor": "white",
           "linecolor": "white",
           "ticks": "",
           "title": {
            "standoff": 15
           },
           "zerolinecolor": "white",
           "zerolinewidth": 2
          }
         }
        }
       }
      },
      "image/png": "[encoded data removed]",
      "text/html": [
       "<div>                            <div id=\"f9f0be5a-688c-4e8b-ae18-09c3ceb96610\" class=\"plotly-graph-div\" style=\"height:525px; width:100%;\"></div>            <script type=\"text/javascript\">                require([\"plotly\"], function(Plotly) {                    window.PLOTLYENV=window.PLOTLYENV || {};                                    if (document.getElementById(\"f9f0be5a-688c-4e8b-ae18-09c3ceb96610\")) {                    Plotly.newPlot(                        \"f9f0be5a-688c-4e8b-ae18-09c3ceb96610\",                        [{\"fill\": \"toself\", \"name\": \"Cluster 0\", \"r\": [1.0, 0.8970599226941721, 1.0, 1.0, 1.0, 1.0, 1.0, 1.0, 0.9407351022183558, 0.9090909090909091, 1.0, 1.0, 0.964718433285072, 1.0, 0.827450981672142, 1.0, 1.0, 6.737313964758787], \"theta\": [\"sm_tran\", \"lg_tran\", \"mean_tran\", \"CC  \", \"CK  \", \"SV  \", \"CC  _ch\", \"CK  _ch\", \"SV  _ch\", \"credit_limit\", \"credit_rating\", \"minimum_balance\", \"minimum_balance_ch\", \"starting_balance\", \"ending_balance\", \"savings\"], \"type\": \"scatterpolar\"}, {\"fill\": \"toself\", \"name\": \"Cluster 1\", \"r\": [0.9999911936951553, 1.0, 0.3085161718728385, 0.37508021168230893, 0.3669252643453104, 0.4100710735398041, 0.256775485844698, 0.9547227804705049, 0.9045426546624274, 1.0, 0.28467365155368907, 0.5305591677503251, 0.7362093791590957, 0.9196558967690307, 0.7585864012400015, 0.24529981664218967, 0.29019994085928025, 1.0], \"theta\": [\"sm_tran\", \"lg_tran\", \"mean_tran\", \"CC  \", \"CK  \", \"SV  \", \"CC  _ch\", \"CK  _ch\", \"SV  _ch\", \"credit_limit\", \"credit_rating\", \"minimum_balance\", \"minimum_balance_ch\", \"starting_balance\", \"ending_balance\", \"savings\"], \"type\": \"scatterpolar\"}, {\"fill\": \"toself\", \"name\": \"Cluster 2\", \"r\": [0.9999973327010365, 0.32458067392763745, 0.3563880205707371, 0.5954159073643362, 0.3570955983799333, 0.4204529077864987, 0.003726615206187628, 0.8737613097802672, 1.0, 0.004739336492890996, 0.2728022796288414, 0.21800947867298578, 1.0, 0.0024061246810061976, 1.0, 0.45353832453883686, 0.25143357069167505, 5.993396317440889], \"theta\": [\"sm_tran\", \"lg_tran\", \"mean_tran\", \"CC  \", \"CK  \", \"SV  \", \"CC  _ch\", \"CK  _ch\", \"SV  _ch\", \"credit_limit\", \"credit_rating\", \"minimum_balance\", \"minimum_balance_ch\", \"starting_balance\", \"ending_balance\", \"savings\"], \"type\": \"scatterpolar\"}],                        {\"polar\": {\"radialaxis\": {\"range\": [0, 1.2], \"visible\": true}}, \"showlegend\": true, \"template\": {\"data\": {\"bar\": [{\"error_x\": {\"color\": \"#2a3f5f\"}, \"error_y\": {\"color\": \"#2a3f5f\"}, \"marker\": {\"line\": {\"color\": \"#E5ECF6\", \"width\": 0.5}}, \"type\": \"bar\"}], \"barpolar\": [{\"marker\": {\"line\": {\"color\": \"#E5ECF6\", \"width\": 0.5}}, \"type\": \"barpolar\"}], \"carpet\": [{\"aaxis\": {\"endlinecolor\": \"#2a3f5f\", \"gridcolor\": \"white\", \"linecolor\": \"white\", \"minorgridcolor\": \"white\", \"startlinecolor\": \"#2a3f5f\"}, \"baxis\": {\"endlinecolor\": \"#2a3f5f\", \"gridcolor\": \"white\", \"linecolor\": \"white\", \"minorgridcolor\": \"white\", \"startlinecolor\": \"#2a3f5f\"}, \"type\": \"carpet\"}], \"choropleth\": [{\"colorbar\": {\"outlinewidth\": 0, \"ticks\": \"\"}, \"type\": \"choropleth\"}], \"contour\": [{\"colorbar\": {\"outlinewidth\": 0, \"ticks\": \"\"}, \"colorscale\": [[0.0, \"#0d0887\"], [0.1111111111111111, \"#46039f\"], [0.2222222222222222, \"#7201a8\"], [0.3333333333333333, \"#9c179e\"], [0.4444444444444444, \"#bd3786\"], [0.5555555555555556, \"#d8576b\"], [0.6666666666666666, \"#ed7953\"], [0.7777777777777778, \"#fb9f3a\"], [0.8888888888888888, \"#fdca26\"], [1.0, \"#f0f921\"]], \"type\": \"contour\"}], \"contourcarpet\": [{\"colorbar\": {\"outlinewidth\": 0, \"ticks\": \"\"}, \"type\": \"contourcarpet\"}], \"heatmap\": [{\"colorbar\": {\"outlinewidth\": 0, \"ticks\": \"\"}, \"colorscale\": [[0.0, \"#0d0887\"], [0.1111111111111111, \"#46039f\"], [0.2222222222222222, \"#7201a8\"], [0.3333333333333333, \"#9c179e\"], [0.4444444444444444, \"#bd3786\"], [0.5555555555555556, \"#d8576b\"], [0.6666666666666666, \"#ed7953\"], [0.7777777777777778, \"#fb9f3a\"], [0.8888888888888888, \"#fdca26\"], [1.0, \"#f0f921\"]], \"type\": \"heatmap\"}], \"heatmapgl\": [{\"colorbar\": {\"outlinewidth\": 0, \"ticks\": \"\"}, \"colorscale\": [[0.0, \"#0d0887\"], [0.1111111111111111, \"#46039f\"], [0.2222222222222222, \"#7201a8\"], [0.3333333333333333, \"#9c179e\"], [0.4444444444444444, \"#bd3786\"], [0.5555555555555556, \"#d8576b\"], [0.6666666666666666, \"#ed7953\"], [0.7777777777777778, \"#fb9f3a\"], [0.8888888888888888, \"#fdca26\"], [1.0, \"#f0f921\"]], \"type\": \"heatmapgl\"}], \"histogram\": [{\"marker\": {\"colorbar\": {\"outlinewidth\": 0, \"ticks\": \"\"}}, \"type\": \"histogram\"}], \"histogram2d\": [{\"colorbar\": {\"outlinewidth\": 0, \"ticks\": \"\"}, \"colorscale\": [[0.0, \"#0d0887\"], [0.1111111111111111, \"#46039f\"], [0.2222222222222222, \"#7201a8\"], [0.3333333333333333, \"#9c179e\"], [0.4444444444444444, \"#bd3786\"], [0.5555555555555556, \"#d8576b\"], [0.6666666666666666, \"#ed7953\"], [0.7777777777777778, \"#fb9f3a\"], [0.8888888888888888, \"#fdca26\"], [1.0, \"#f0f921\"]], \"type\": \"histogram2d\"}], \"histogram2dcontour\": [{\"colorbar\": {\"outlinewidth\": 0, \"ticks\": \"\"}, \"colorscale\": [[0.0, \"#0d0887\"], [0.1111111111111111, \"#46039f\"], [0.2222222222222222, \"#7201a8\"], [0.3333333333333333, \"#9c179e\"], [0.4444444444444444, \"#bd3786\"], [0.5555555555555556, \"#d8576b\"], [0.6666666666666666, \"#ed7953\"], [0.7777777777777778, \"#fb9f3a\"], [0.8888888888888888, \"#fdca26\"], [1.0, \"#f0f921\"]], \"type\": \"histogram2dcontour\"}], \"mesh3d\": [{\"colorbar\": {\"outlinewidth\": 0, \"ticks\": \"\"}, \"type\": \"mesh3d\"}], \"parcoords\": [{\"line\": {\"colorbar\": {\"outlinewidth\": 0, \"ticks\": \"\"}}, \"type\": \"parcoords\"}], \"pie\": [{\"automargin\": true, \"type\": \"pie\"}], \"scatter\": [{\"marker\": {\"colorbar\": {\"outlinewidth\": 0, \"ticks\": \"\"}}, \"type\": \"scatter\"}], \"scatter3d\": [{\"line\": {\"colorbar\": {\"outlinewidth\": 0, \"ticks\": \"\"}}, \"marker\": {\"colorbar\": {\"outlinewidth\": 0, \"ticks\": \"\"}}, \"type\": \"scatter3d\"}], \"scattercarpet\": [{\"marker\": {\"colorbar\": {\"outlinewidth\": 0, \"ticks\": \"\"}}, \"type\": \"scattercarpet\"}], \"scattergeo\": [{\"marker\": {\"colorbar\": {\"outlinewidth\": 0, \"ticks\": \"\"}}, \"type\": \"scattergeo\"}], \"scattergl\": [{\"marker\": {\"colorbar\": {\"outlinewidth\": 0, \"ticks\": \"\"}}, \"type\": \"scattergl\"}], \"scattermapbox\": [{\"marker\": {\"colorbar\": {\"outlinewidth\": 0, \"ticks\": \"\"}}, \"type\": \"scattermapbox\"}], \"scatterpolar\": [{\"marker\": {\"colorbar\": {\"outlinewidth\": 0, \"ticks\": \"\"}}, \"type\": \"scatterpolar\"}], \"scatterpolargl\": [{\"marker\": {\"colorbar\": {\"outlinewidth\": 0, \"ticks\": \"\"}}, \"type\": \"scatterpolargl\"}], \"scatterternary\": [{\"marker\": {\"colorbar\": {\"outlinewidth\": 0, \"ticks\": \"\"}}, \"type\": \"scatterternary\"}], \"surface\": [{\"colorbar\": {\"outlinewidth\": 0, \"ticks\": \"\"}, \"colorscale\": [[0.0, \"#0d0887\"], [0.1111111111111111, \"#46039f\"], [0.2222222222222222, \"#7201a8\"], [0.3333333333333333, \"#9c179e\"], [0.4444444444444444, \"#bd3786\"], [0.5555555555555556, \"#d8576b\"], [0.6666666666666666, \"#ed7953\"], [0.7777777777777778, \"#fb9f3a\"], [0.8888888888888888, \"#fdca26\"], [1.0, \"#f0f921\"]], \"type\": \"surface\"}], \"table\": [{\"cells\": {\"fill\": {\"color\": \"#EBF0F8\"}, \"line\": {\"color\": \"white\"}}, \"header\": {\"fill\": {\"color\": \"#C8D4E3\"}, \"line\": {\"color\": \"white\"}}, \"type\": \"table\"}]}, \"layout\": {\"annotationdefaults\": {\"arrowcolor\": \"#2a3f5f\", \"arrowhead\": 0, \"arrowwidth\": 1}, \"autotypenumbers\": \"strict\", \"coloraxis\": {\"colorbar\": {\"outlinewidth\": 0, \"ticks\": \"\"}}, \"colorscale\": {\"diverging\": [[0, \"#8e0152\"], [0.1, \"#c51b7d\"], [0.2, \"#de77ae\"], [0.3, \"#f1b6da\"], [0.4, \"#fde0ef\"], [0.5, \"#f7f7f7\"], [0.6, \"#e6f5d0\"], [0.7, \"#b8e186\"], [0.8, \"#7fbc41\"], [0.9, \"#4d9221\"], [1, \"#276419\"]], \"sequential\": [[0.0, \"#0d0887\"], [0.1111111111111111, \"#46039f\"], [0.2222222222222222, \"#7201a8\"], [0.3333333333333333, \"#9c179e\"], [0.4444444444444444, \"#bd3786\"], [0.5555555555555556, \"#d8576b\"], [0.6666666666666666, \"#ed7953\"], [0.7777777777777778, \"#fb9f3a\"], [0.8888888888888888, \"#fdca26\"], [1.0, \"#f0f921\"]], \"sequentialminus\": [[0.0, \"#0d0887\"], [0.1111111111111111, \"#46039f\"], [0.2222222222222222, \"#7201a8\"], [0.3333333333333333, \"#9c179e\"], [0.4444444444444444, \"#bd3786\"], [0.5555555555555556, \"#d8576b\"], [0.6666666666666666, \"#ed7953\"], [0.7777777777777778, \"#fb9f3a\"], [0.8888888888888888, \"#fdca26\"], [1.0, \"#f0f921\"]]}, \"colorway\": [\"#636efa\", \"#EF553B\", \"#00cc96\", \"#ab63fa\", \"#FFA15A\", \"#19d3f3\", \"#FF6692\", \"#B6E880\", \"#FF97FF\", \"#FECB52\"], \"font\": {\"color\": \"#2a3f5f\"}, \"geo\": {\"bgcolor\": \"white\", \"lakecolor\": \"white\", \"landcolor\": \"#E5ECF6\", \"showlakes\": true, \"showland\": true, \"subunitcolor\": \"white\"}, \"hoverlabel\": {\"align\": \"left\"}, \"hovermode\": \"closest\", \"mapbox\": {\"style\": \"light\"}, \"paper_bgcolor\": \"white\", \"plot_bgcolor\": \"#E5ECF6\", \"polar\": {\"angularaxis\": {\"gridcolor\": \"white\", \"linecolor\": \"white\", \"ticks\": \"\"}, \"bgcolor\": \"#E5ECF6\", \"radialaxis\": {\"gridcolor\": \"white\", \"linecolor\": \"white\", \"ticks\": \"\"}}, \"scene\": {\"xaxis\": {\"backgroundcolor\": \"#E5ECF6\", \"gridcolor\": \"white\", \"gridwidth\": 2, \"linecolor\": \"white\", \"showbackground\": true, \"ticks\": \"\", \"zerolinecolor\": \"white\"}, \"yaxis\": {\"backgroundcolor\": \"#E5ECF6\", \"gridcolor\": \"white\", \"gridwidth\": 2, \"linecolor\": \"white\", \"showbackground\": true, \"ticks\": \"\", \"zerolinecolor\": \"white\"}, \"zaxis\": {\"backgroundcolor\": \"#E5ECF6\", \"gridcolor\": \"white\", \"gridwidth\": 2, \"linecolor\": \"white\", \"showbackground\": true, \"ticks\": \"\", \"zerolinecolor\": \"white\"}}, \"shapedefaults\": {\"line\": {\"color\": \"#2a3f5f\"}}, \"ternary\": {\"aaxis\": {\"gridcolor\": \"white\", \"linecolor\": \"white\", \"ticks\": \"\"}, \"baxis\": {\"gridcolor\": \"white\", \"linecolor\": \"white\", \"ticks\": \"\"}, \"bgcolor\": \"#E5ECF6\", \"caxis\": {\"gridcolor\": \"white\", \"linecolor\": \"white\", \"ticks\": \"\"}}, \"title\": {\"x\": 0.05}, \"xaxis\": {\"automargin\": true, \"gridcolor\": \"white\", \"linecolor\": \"white\", \"ticks\": \"\", \"title\": {\"standoff\": 15}, \"zerolinecolor\": \"white\", \"zerolinewidth\": 2}, \"yaxis\": {\"automargin\": true, \"gridcolor\": \"white\", \"linecolor\": \"white\", \"ticks\": \"\", \"title\": {\"standoff\": 15}, \"zerolinecolor\": \"white\", \"zerolinewidth\": 2}}}},                        {\"responsive\": true}                    ).then(function(){\n",
       "                            \n",
       "var gd = document.getElementById('f9f0be5a-688c-4e8b-ae18-09c3ceb96610');\n",
       "var x = new MutationObserver(function (mutations, observer) {{\n",
       "        var display = window.getComputedStyle(gd).display;\n",
       "        if (!display || display === 'none') {{\n",
       "            console.log([gd, 'removed!']);\n",
       "            Plotly.purge(gd);\n",
       "            observer.disconnect();\n",
       "        }}\n",
       "}});\n",
       "\n",
       "// Listen for the removal of the full notebook cells\n",
       "var notebookContainer = gd.closest('#notebook-container');\n",
       "if (notebookContainer) {{\n",
       "    x.observe(notebookContainer, {childList: true});\n",
       "}}\n",
       "\n",
       "// Listen for the clearing of the current output cell\n",
       "var outputEl = gd.closest('.output');\n",
       "if (outputEl) {{\n",
       "    x.observe(outputEl, {childList: true});\n",
       "}}\n",
       "\n",
       "                        })                };                });            </script>        </div>"
      ]
     },
     "metadata": {},
     "output_type": "display_data"
    }
   ],
   "source": [
    "# Panda group by cluster and mean for each column\n",
    "categories = ['sm_tran', 'lg_tran', 'mean_tran', 'CC  ', 'CK  ', 'SV  ',\n",
    "       'CC  _ch', 'CK  _ch', 'SV  _ch', 'credit_limit', 'credit_rating',\n",
    "       'minimum_balance', 'minimum_balance_ch', 'starting_balance',\n",
    "       'ending_balance', 'savings']\n",
    "\n",
    "acct_stats_mean = acct_stats_mean.apply(lambda x: (x/x.max()), axis=0)\n",
    "fig = go.Figure()\n",
    "\n",
    "for index, row in acct_stats_mean.iterrows():\n",
    "    fig.add_trace(go.Scatterpolar(\n",
    "          r=row,\n",
    "          theta=categories,\n",
    "          fill='toself',\n",
    "          name='Cluster '+str(index)\n",
    "    ))\n",
    "\n",
    "\n",
    "fig.update_layout(\n",
    "  polar=dict(\n",
    "    radialaxis=dict(\n",
    "      visible=True,\n",
    "      range=[0, 1.2]\n",
    "    )),\n",
    "  showlegend=True\n",
    ")\n",
    "\n",
    "fig.show()"
   ]
  },
  {
   "cell_type": "code",
   "execution_count": 586,
   "metadata": {},
   "outputs": [],
   "source": [
    "pca = PCA(n_components=2)\n",
    "principalComponents = pca.fit_transform(X)\n",
    "pc_df = pd.DataFrame(principalComponents, columns = ['PC1','PC2'])"
   ]
  },
  {
   "cell_type": "code",
   "execution_count": 587,
   "metadata": {},
   "outputs": [
    {
     "data": {
      "application/vnd.plotly.v1+json": {
       "config": {
        "plotlyServerURL": "https://plot.ly"
       },
       "data": [
        {
         "diagonal": {
          "visible": false
         },
         "dimensions": [
          {
           "axis": {
            "matches": true
           },
           "label": "0",
           "values": [
            -0.5185600219701806,
            -0.235960723800209,
            -0.2856195619004661,
            0.3624906746563822,
            0.09411703712528348,
            0.08059282660307182,
            -0.35919367670576685,
            -0.4154530086656641,
            0.2567884786401437,
            0.1444659114047765,
            0.27482425547983,
            0.1609222921811336,
            1.7409773462228684,
            0.7643939889829306,
            -2.238460866133231,
            -1.4868698531957647,
            -1.4964327333976493,
            -1.7739994326122863,
            -0.36542257418343826,
            0.29792777288293043,
            -1.8985923076950026,
            -2.465502203440037,
            -2.3972707979507373,
            -1.592414207003214,
            0.46478564034326386,
            0.1788263189233745,
            -0.08816116828958878,
            -0.4598371955198258,
            -0.30105846620086246,
            -0.42400799905115377,
            -1.543753435379188,
            -0.6834117657768137,
            -0.6072893021529783,
            -0.5635085372114759,
            0.36745039274000846,
            -0.06671014364969902,
            -0.2580528948450461,
            -2.260388137336714,
            -2.2737459923319934,
            0.9345040953668541,
            -0.28765012197090833,
            0.05275734219983926,
            0.7850525239825493,
            0.08832935423477174,
            0.9783058030875444,
            1.5706713214715373,
            0.5793045154764779,
            0.22153954878598936,
            -0.29914163834305946,
            -0.40674444633544676,
            -0.21000699040723333,
            -0.12453732663987072,
            -0.2530855391262718,
            1.762055173663641,
            0.9484515007018697,
            0.7952347662167235,
            1.939941057713086,
            1.0818470809133625,
            -2.5183228028945366,
            1.5885082173465621,
            -0.6699919939707014,
            -0.8264241723094546,
            -0.9648474575686485,
            0.8447763872450881,
            0.9338614913545867,
            0.38612223513785815,
            2.410597189443842,
            2.5632592278804545,
            1.05326927409548,
            -0.9053552940630535,
            -1.0612954393604288,
            -2.078521285905004,
            -2.165907189877109,
            -0.5975012124868683,
            -0.4445440743140871,
            -1.2044111968298916,
            -1.5807220049705264,
            -1.5456656256965657,
            7.135496263580374,
            6.4718646221362075,
            8.431642542257487,
            -0.8688112286102085,
            -1.03521564175856,
            1.2078302908894738,
            0.2277162346871464,
            0.0555504382034502,
            -0.46965754017966665,
            -0.3679328523988245,
            -1.3742782735177668,
            -1.2577111855559988,
            2.610419630205248,
            3.6220102544246964,
            -1.3657999924364168,
            -1.2858119789558267,
            -1.3178047630520457,
            4.850705093272699,
            2.361513260053866,
            1.509100309051619,
            1.4839187886666958,
            -0.7186996851334071,
            -0.6743151775482696,
            -0.22018241772993533,
            0.10808668523231456,
            0.7458919498494199,
            -1.4461160577514849,
            -1.2330011862749646,
            -1.4071161872801423,
            -1.2312669609587623,
            -1.1264761790929814,
            -0.5283560435281633,
            -1.960500111952017,
            -0.10520568668828134,
            0.15289468445951307,
            -0.14635876698383052,
            -1.372782631203255,
            -1.1889871543952144,
            -1.3673393929872084,
            -2.6442308351431407,
            2.118668289760069,
            1.6227785287860184,
            0.6057923090151406,
            0.8719679197999749,
            0.7635707936671932,
            -0.10752223828692786,
            10.946924303983417,
            9.29212634109605,
            8.446355416197818,
            0.03394923572792073,
            -0.3269831176264563,
            1.0502165161612567,
            -0.09580788840363308,
            2.5371987054798053,
            1.867773972579667,
            1.3937752579691596,
            -1.4650106056721603,
            -1.2297514111290706,
            -1.3070655952631176,
            3.0240689867656356,
            1.8459364163440573,
            0.27148808046100387,
            0.7512075712851476,
            -0.13699291476029496,
            0.08178909287010883,
            -0.5449605475072313,
            -2.4934772751867946,
            -1.9275226989463528,
            -1.9480066828315417,
            -1.9394923361766974,
            1.3030895354325007,
            1.1548569398697037,
            0.6738807108636641,
            3.455467198489748,
            6.773136127582777,
            4.0672152120500575,
            -0.9339270821110388,
            -0.822888819059126,
            0.09271197559142737,
            0.7373172978271137,
            0.9481445722698622,
            0.8852386246214133,
            1.3331970917586178,
            0.5601199926165752,
            0.5009519383982285,
            0.16375279072059656,
            -0.6425698781692463,
            -0.7972288791939691,
            -0.5800948398116874,
            -0.823224623868856,
            -1.6542094271476184,
            -1.6570080453599279,
            -1.5792617389664236,
            -0.3511323059447329,
            -0.2768041545920295,
            -0.9190383624057974,
            -0.14218173632832995,
            -0.8320518329297086,
            -1.156617461548757,
            -0.8917990744977629,
            -1.1483333893193035,
            -0.49288198108002923,
            0.6382670862423185,
            -0.16414502134473657,
            -0.15326619697899924,
            -0.26393831214010843,
            -1.4292548549538868,
            -1.6161061611661625,
            2.324222150961628,
            1.456957369370555,
            0.533673050241461,
            -0.8918509584585754,
            -0.7524841945825376,
            -1.4348525373183625,
            2.6181308376871226,
            1.4536507681307815,
            -2.4304928996037902,
            -1.3156204370700522,
            -1.190044423470764,
            -1.289871389008612,
            -1.5607487943777199,
            -2.1861676671944283,
            -0.9217749843547678,
            -0.955264934652834,
            0.2988132720190004,
            0.2883201929856154,
            0.4354477924346433,
            -1.7042883166444251,
            -1.7699108200389801,
            -1.7278365376546407,
            -1.1767997426342864,
            -1.1702801276635193,
            -0.9566072171351657,
            -0.34276651767968364,
            -0.957857821160611,
            -1.0637912144697868,
            -0.551398001484534,
            -1.09963858655999,
            -1.1936947719883484,
            1.013144727257581,
            0.5340050324372353,
            -0.7604315261262395,
            -1.3758637011199408,
            -1.1594565598569437,
            2.7111627839852273,
            2.0687639639412305,
            1.772545145160906,
            0.8640585203495952,
            -0.26169216019116803,
            -0.24721515076802672,
            -0.5455925757339707,
            -0.25747512786653476,
            -0.46614501200769937,
            -2.3154056614256295,
            -2.284102523015687,
            1.4314785095368188,
            3.609712556298826,
            1.870262351695503,
            0.4554403820431322,
            -0.2960485978720541,
            -0.11157392167507602,
            -1.1209065584857192,
            -1.031661401596054,
            0.4267669287585405,
            -1.4418100789525057,
            -1.4156975059867478,
            -1.028975902432713,
            -0.09923050909347195,
            -0.5428446217554657,
            -0.712101742322019,
            -1.3794150343336187,
            -1.350211726256124,
            -1.4168457553405935,
            -1.1774812161961605,
            -0.9783052234009998,
            -0.7476924119836085,
            -0.6673586457832845,
            -0.8081732867975456,
            -0.5921669947466867,
            -2.2169273060004815,
            -2.1279548123184986,
            1.7839966349529175,
            0.4662983659203283,
            0.36363917753401837,
            2.7929146379503083,
            3.3637623396509433,
            5.801002496360004,
            -0.05480840792453641,
            -0.30564936270057663,
            -0.6410664779639862,
            0.012320348292900121,
            -0.6518714478271849,
            -0.11075301801113163,
            -0.22500204873222052,
            -0.07559778918300439,
            -0.5397958099652183,
            0.013152487071840793,
            -0.4285990514090406,
            0.3780028544047226,
            1.5169380141061397,
            1.1106857951612923,
            1.5993349980504112,
            -0.3566606573771127,
            -0.25356622369419296,
            -0.44530961487819903,
            -0.7052512717232784,
            -0.37039909199095233,
            0.1700321928581168,
            0.20104381375227418,
            0.20111972187772165,
            -0.4659749203667397,
            -0.2355454133603253,
            0.1786573610548782,
            -0.12887496785413272,
            -0.8429986800882596,
            -1.4320560804317681,
            -1.348195601098291,
            -1.3095862733702404,
            -0.28725801236480597,
            0.02643985438837595,
            -0.3271590077165591,
            -1.0094540297938002,
            -1.2008014722557516,
            -1.6059762794627344,
            -1.5416219174302097,
            -1.5976589659364313,
            -1.645249412783377,
            -1.9814512570851655,
            1.0791218238474851,
            0.711510668251931,
            0.588754823581635,
            11.100553475395445,
            9.088108634008007,
            13.535931003132607,
            -1.132920146569515,
            -1.17370111171277,
            -1.00244324996449,
            0.013801898933554154,
            0.375909268553641,
            0.3226544201346557,
            -1.1250050277860537,
            -1.9002120360614965,
            0.3914454373361038,
            0.22034698450969947,
            -1.45616676339055,
            -0.994615115526087,
            -0.7010424841295424,
            -0.8321297682940648,
            -0.8576108388304671,
            -1.9253848211906424,
            -1.944819872556397,
            3.937796418980682,
            3.0420841151684708,
            0.19415042101266256,
            0.8195456286144478,
            0.8253908091402813,
            -0.7960097998878132,
            -0.7387753924918825,
            -0.12912894880098652,
            -1.9674769156400154,
            -1.9623913169689748,
            5.962069531146306,
            5.877175438129054,
            3.901892126099196,
            -1.6153017907491711,
            -1.5717592016838733,
            -1.6171184662394456,
            2.126868762997342,
            2.154217987078516,
            2.0170195621246765,
            0.06713590157567402,
            -0.25198913815479934,
            -0.7205304213024587,
            0.2065910907025631,
            0.1490643954630481,
            -0.3237320436177547,
            0.06229141814951765,
            -0.41049118183253686,
            -1.2956814863024193,
            -1.3228623850646097,
            -0.5315589151530137,
            -1.1420361967695936,
            -1.0932146057748395,
            1.3084692149509591,
            1.0233107897643594,
            -0.8490812649049493,
            -1.367051373604431,
            0.6801833781652944,
            -0.4151086894477958,
            -0.4420263658726077,
            -0.7624202740231255,
            -0.829439445608526,
            -0.4114368704972957,
            3.9612854368260644,
            6.312778302492225,
            -0.7781874164246194,
            -1.0967102094297814,
            -1.4048320589667724,
            -1.485317310212733,
            -1.9057202243496283,
            2.32993186703311,
            2.119508587871793,
            2.3362532422172957,
            -1.5087274756540217,
            -1.4472454417674174,
            -1.5462677840039991,
            2.3174971379877154,
            3.6691036967265322,
            2.540115074939489,
            3.4780539814006244,
            -1.5536035521532028,
            -1.5108098115671518,
            -1.6486773189644688,
            -0.5049950433722241,
            -1.0686115041135784,
            -1.1038605616748403,
            4.568527500965946,
            5.144088719348902,
            4.446750146765822,
            0.7771831494573538,
            -0.5073664312465185,
            -0.37081082605393284,
            -0.4652056247689275,
            -0.407148755929026,
            -0.31881919625470145,
            -0.04851107461159445,
            1.0810566980040879,
            -0.18464698051494313,
            -0.4209707370512199,
            0.9404480412882438,
            -0.0007204730296564584,
            0.20272915860649343,
            -2.2708258365070404,
            -2.1413102292644317,
            -1.27012442108601,
            -1.4229391633747426,
            -1.3963995400731577,
            3.2912623965052457,
            3.1294576809638492,
            3.4709096847137153,
            -1.8045654627676206,
            -1.75825356912788,
            -1.8581839512855034,
            -1.7948447890121126,
            -0.16535582422912593,
            -0.01564254935493392,
            -0.597799741027177,
            -0.4968290402930576,
            0.35607415915831886,
            -1.4365496738074148,
            -1.48714768606022,
            -1.5664667806718053,
            -0.9359041657624276,
            -0.8450943711277182,
            -0.9389038102715256,
            -0.306852915019256,
            0.09535950792227789,
            -1.9793237208798076,
            -1.9301982885419702,
            2.575848735144912,
            2.639913828936933,
            -2.245659557123709,
            -0.7431611494883755,
            -0.8237761940328724,
            -1.8858186953643357,
            -2.0078689317405733,
            0.4234612731005261,
            -2.469820565871192,
            -0.4342548154891581,
            -0.642317046723604,
            -0.5754451934272663,
            -0.5224308243794402,
            -0.4677237411182572,
            -0.17360574610731627,
            -0.9050025922141788,
            -1.2352320754149657,
            -1.314661833564767,
            -0.2549912796282625,
            -0.7640803949304557,
            -1.615416417003595,
            -1.485452704005753,
            -1.5890646835850795,
            -1.5110515971286818,
            -1.041383500438398,
            1.0926382524654275,
            -0.19418768797424527,
            -0.6533522664314941,
            -1.446900992282662,
            -1.215841713097566,
            0.07963605860807245,
            -0.5343787802042473,
            -0.689987340505576,
            -0.08498939732326852,
            0.17996947778026307,
            2.2660060324673035,
            2.5920449272557256,
            2.5169046094375656,
            -1.882558642360523,
            -1.9604891665298874,
            0.43854058853012395,
            -2.07401200866304,
            -1.9886627607606238,
            -1.5661162021975334,
            -1.326561018033438,
            -1.5583961998545852,
            0.5405339988139979,
            0.25158851523239706,
            3.0871651175678756,
            4.059308259228666,
            3.233589039541532,
            -2.034583581971161,
            -1.9576983614144732,
            -0.3143287685976615,
            -0.27767033390272106,
            -0.04006027870851095,
            0.5426402731954192,
            0.04821628638647868,
            -0.14934381799071772,
            0.09091059215834525,
            -0.6877615592389148,
            -0.0075860409503298604,
            0.4838397347738391,
            -0.23121485162585192,
            2.0857993689412138,
            0.9513029897755642,
            -2.7913813665255325,
            5.876187059174851,
            5.627308599371642,
            -0.3146778255118737,
            -0.7091728415095395,
            -1.0429182313910583,
            -1.4890495545268059,
            -1.5796720406251594,
            0.4714452619941328,
            0.8581602020709239,
            -0.006048769984518968,
            -1.6955155384922787,
            -2.108187504073328,
            -1.930584123493333,
            3.3460043756226665,
            3.27066546165989,
            -0.6430164900301878,
            -1.223233648286437,
            -0.4312624382401756,
            -0.7423460681401727,
            0.3881039342403152,
            -0.2745055115814482,
            0.49055045055923946,
            -1.0524883485268473,
            -1.0477939330559505,
            -2.901036701854267,
            3.2505942310777627,
            2.534359579751994,
            1.663621384118412,
            -0.6309800174004075,
            -1.1887566809672623,
            -1.1874267330217598,
            -2.232501567600813,
            -1.3300284015162844,
            -0.35528503693541097,
            -0.04520641559303312,
            -0.23627229687254714,
            1.9985675666687799,
            0.2879886690177695,
            0.35326906159882515,
            1.070333866385086,
            0.7053282426872497,
            0.5266885002213165,
            -0.3702998645842645,
            -0.0945677025337712,
            -0.3364161684589661,
            -2.4661700864710867,
            0.33914819381172395,
            -0.6274331694290269,
            1.2211072772003853,
            1.247945149692898,
            1.3719013049398994,
            -1.9024805504362554,
            -1.756258235590835,
            -1.9121175792854461,
            -2.4348041885260097,
            2.233285110515903,
            1.8811840267120652,
            -2.034346908167059,
            -1.4125068986396412,
            -1.491146811408371,
            -1.506086092854373,
            -0.41201289561147453,
            0.25074699762768676,
            -0.28246323774030935,
            1.720445168436046,
            4.605539224889579,
            2.4111208299692053,
            5.0802880233066485,
            -0.8105361558167298,
            -0.9618803736671294,
            -0.8853228572711356,
            5.77420809794761,
            3.4486686561986724,
            3.17037588982326,
            -0.9046166815791822,
            -0.8217542744033883,
            -0.6983794468502811,
            -0.4381019899802489,
            -2.3804169938034696,
            -2.333391187117636,
            0.40412426393051704,
            -0.09782267217699646,
            0.61594862894593,
            3.5587384865489646,
            3.812928981378163,
            7.133733735492172,
            -0.7186088271702371,
            -0.8674985080247122,
            -0.8980728873174275,
            -1.4743077925745183,
            2.2441067606421368,
            2.358644751804789,
            0.677141865293114,
            -1.6742723798199601,
            -1.7441147043877028,
            -1.4751221665653742,
            0.1689027672112075,
            -0.4309057560467225,
            0.11205331280956442,
            -0.3687237887822965,
            -0.15677453637059346,
            -1.0242947101722992,
            -0.9634160688752826,
            -1.0598421592768297,
            0.49488621039500225,
            -0.36730760673056817,
            -0.30480092512797524,
            -0.8729318379538471,
            -1.7595184594296451,
            -0.1750221087948262,
            -0.4849997109533124,
            -1.184923066684759,
            -0.8278151221280644,
            -1.6156081964159532,
            -0.5261429737131414,
            -1.1618435237372866,
            1.7875287005101896,
            0.9175376568686774,
            0.5376959013296295,
            -2.6381339619225863,
            -2.4161072288160046,
            -2.36709365618524,
            -1.0301192253416245,
            -1.2405651218401248,
            -1.1374865729764958,
            -0.323658108320615,
            -0.9030430462636007,
            -0.30277692905694936,
            -1.2731826545537748,
            -0.9312969016595151,
            2.0901991814600938,
            3.5380378297037267,
            -0.4806008117301166,
            -0.4982156425075791,
            0.108950278962216,
            -0.9802499508749717,
            -0.7175027695995531,
            -0.9394731992919344,
            0.3724748568577045,
            -0.513509102818807,
            0.6724843571929209,
            0.42581515885802157,
            2.474243648370955,
            0.9870504681132483,
            -0.06335834987780817,
            -0.7502713330576707,
            -1.1127181986110652,
            -1.722576168617254,
            -1.6454675509826855,
            -0.14289431437271177,
            -0.14467618700100573,
            0.002091510365971554,
            -2.4131213222356074,
            -2.3456149567602327,
            -1.2755140648403134,
            -1.1795847310637675,
            -1.1578268881722735,
            -2.1943917692316854,
            -1.9206964150210835,
            -1.093691043760686,
            -0.8011691991200965,
            -1.1042330267601386,
            -1.5591480454525979,
            -1.5600082610347137,
            1.6221389398210473,
            3.5067287380433214,
            0.4303563475592928,
            0.8164174760702274,
            -1.5404017843035955,
            -1.314627765868545,
            -1.5401845246417512,
            -1.9206299505576283,
            -0.536833248624444,
            -1.1177569186472742,
            -1.3186165999902855,
            -0.9654694337040977,
            0.24187637498749037,
            -0.1585958841821511,
            -0.16217935930012797,
            2.715042423481641,
            1.6606800715041374,
            4.615720312114008,
            2.813299939968625,
            3.062732622616656,
            -2.1047538887165325,
            -2.289834021090371,
            -0.7746498008776307,
            -0.6013490543168893,
            -0.8106149386072853,
            -0.2622298839926748,
            -0.6519470171984488,
            -0.8462233449782021,
            -0.9561277209636874,
            -0.39971201370363146,
            -1.2376712589652252,
            -1.1201413648259344,
            -1.0291690653421042,
            -1.545071536792765,
            -1.635025120612693,
            -1.483512681447742,
            2.2597161961096575,
            2.388674722110008,
            2.2727194405122892,
            -1.159474005588897,
            -1.1904012540837328,
            -0.5989981210726185,
            1.3925139958752015,
            -0.5467558902105263,
            -1.1994767398858677,
            -0.8657638985458339,
            -1.5271467722586856,
            -1.390473783079926,
            -1.2309571356191404,
            -1.3773288053705102,
            -1.6108789460380886,
            -0.4944377607849842,
            -0.3388603407313175,
            -0.5350263963502466,
            -1.6922619227098692,
            -1.739171167599132,
            -1.283640096698876,
            -0.7024132549562323,
            0.10062831013159543,
            3.877581486327504,
            1.6138454712795685,
            -1.6474986904914153,
            -1.290819410961392,
            -1.6309293872759867,
            -0.014574607383814157,
            -0.3240118171814636,
            0.6004526302336852,
            0.01003630181528345,
            -1.395090841792242,
            -1.1792927021646333,
            -1.169406997831285,
            0.5076687402171252,
            1.0796196655543278,
            -1.95748363841508,
            -1.6839490666467978,
            1.904017735575869,
            2.0399475785524843,
            0.9715941547560787,
            -0.15480251224981526,
            -0.7572221506110688,
            0.13569754653186364,
            -0.3937661935880106,
            -0.42688519441975065,
            1.838175855941598,
            0.8767381892342144,
            0.47723300223480253,
            -0.8755296225645228,
            -0.2703991620970242,
            -1.4909493638806255,
            -1.4658376045199548,
            -1.4306408539025683,
            -0.226053473282037,
            -0.7469208722933318,
            -0.7940558820230106,
            -0.11603590387164005,
            -0.3602987262925339,
            -0.8046223877465914,
            -0.08442190031700013,
            -0.8184605050327421,
            -0.6449268434012486,
            -1.404577273699478,
            -1.6477896897740838,
            -1.748578088763009,
            0.7857666522340288,
            1.464256324735803,
            -0.29447260333791436,
            0.2904802412841405,
            0.24970743072786286,
            -2.19882945394259,
            -2.049186345708899,
            -0.821142961678098,
            -0.3763715240176532,
            -0.6355185238847642,
            -1.3799872834200575,
            -1.4662630979866669,
            -1.0158594981308813,
            -0.7488298790090884,
            -0.7129593607611643,
            5.749071723481145,
            5.7275118707039185,
            3.9451594241445216,
            -1.4332947991148977,
            -0.8235207978485212,
            -1.2469572821198456,
            1.2622952958517193,
            0.8965729292850341,
            0.14154847883021107,
            -0.260404336218027,
            0.20566168900318782,
            -0.59604626359388,
            1.8448411664539444,
            0.6853988149737165,
            1.4337615377632589,
            0.8356982437430213,
            -0.10948971786688699,
            -1.523079444899129,
            -1.3553961476199694,
            -1.0159621713758427,
            -1.1993764793158095,
            -0.6489808007161372,
            -1.7611664514989682,
            -0.6102008912004265,
            -0.29781238828188517,
            -0.5440605477669899,
            -1.0217158973913545,
            1.8946434619563044,
            2.7686041104804016,
            1.41572324573402,
            4.205752354475512,
            2.5004123206024307,
            3.975736476722528,
            0.29145600281702033,
            0.1203183514835678,
            0.2550270622709176,
            -1.4350866676712979,
            -0.2336483395169806,
            -0.31023402833525654,
            0.2587022020790578,
            -0.740197546654971,
            -0.43049821400539967,
            -0.7465589598586617,
            -0.559670130186826,
            0.6250267919679078,
            -1.8159563384369346,
            -1.8253523596909447,
            -1.5701731019136902,
            2.246245386473727,
            1.5930561131553178,
            1.4509570486774657,
            0.284362119615076,
            -0.27171600569416055,
            -0.20129937631798087,
            -2.275769393466862,
            -0.8260947880982633,
            -0.9060770752090175,
            0.7993412970696149,
            -0.20571492333977798,
            -0.17872883687097096,
            -0.4214255208902729,
            0.6904846450977342,
            -0.4079034830757449,
            -0.3083885027938763,
            0.07442697959253285,
            0.6389932450896988,
            -0.19842889927107585,
            -0.051619360606202105,
            2.6010283757847503,
            2.440175451954557,
            2.689551329263083,
            -0.992154258857641,
            -0.9398882752614962,
            -0.4614052032008498,
            -2.467900016789955,
            -2.342769964776658,
            0.9865446382882235,
            0.8321661119400009,
            0.4020777436637256,
            -0.7310843410621407,
            -0.7530243666894759,
            -0.7283112332873795,
            -2.1221186633348452,
            -0.44180648873806966,
            -0.39399837223588974,
            -0.5514017734505815,
            -1.789850210091216,
            -1.7978588546719652,
            -1.681139996220849,
            0.2885312689865097,
            0.3854331974808736,
            0.5133842222973689,
            -1.361515818412797,
            -0.9770174486569232,
            0.8535042087476056,
            0.9134936328627695,
            1.2768254670915982,
            2.262883321260122,
            1.8666486258461088,
            1.3465732113822757,
            0.849436404990514,
            0.5296345298004813,
            1.134016896514666,
            -1.3547825018596646,
            -1.241723594812165,
            -0.4462539276282299,
            -1.6453581472484056,
            2.822870817761102,
            1.4238744138454715,
            0.0786906106436182,
            -0.4304653820067661,
            -2.353300649687652,
            -2.1188065445456403,
            -1.2194238789543568,
            -1.2700778811005717,
            -0.969197143507224,
            0.8428968727158673,
            0.21973561040442907,
            0.7884058616245765,
            3.2542437277333196,
            1.9315160395394362,
            1.5237668789681604,
            2.5988527238222727,
            0.3122512936324675,
            0.13694491157911906,
            -1.479087445092283,
            -1.3176851706062152,
            -0.2809094275975416,
            -0.1951286557334726,
            -1.1630853823040779,
            -1.0064903865495214,
            -1.1594450876049134,
            -1.4828276966648921,
            -1.3028552092063383,
            -1.516127001264772,
            1.5620846276061422,
            1.7728374703262242,
            1.3211635692046853,
            6.061757816171751,
            5.070572051047306,
            -0.7161319694070571,
            1.1184226039720309,
            0.5076579931527236,
            0.7152591094841694,
            -0.23055756337705036,
            -0.514337684793004,
            -0.0037388460014421534,
            -1.2644206965723166,
            -1.3251377815027925,
            -1.1988964862310272,
            2.688880874881892,
            3.7405591903684954,
            4.416597859121789,
            -2.371268410059491,
            -2.2825217004006686,
            -1.559869016081714,
            -1.4684076543257727,
            -1.6161259464220048,
            -0.6666793169884662,
            3.74265655906668,
            2.8029749786249534,
            0.23736729398242307,
            0.5388416571567054,
            0.25592498908568956,
            -2.151893831201143,
            -0.9732910654547443,
            -0.7274742845641294,
            -0.9601508520715699,
            -0.19438072239956156,
            -1.2599431175525417,
            1.956995879324036,
            1.0184354207539374,
            1.0417910654841085,
            0.37497672444356966,
            0.24758750431578297,
            0.826654514371579,
            2.4560328291040565,
            1.6234383645740242,
            1.5957002840729513,
            -0.6390214981452403,
            0.13795790578682254,
            -0.701162849594574,
            -0.3030027071309338,
            -0.4291505035640639,
            -0.9544792269373669,
            -1.322294367863292,
            -1.4811236579979494,
            -0.4485427319821001,
            -0.6367549845680469,
            0.13273075247022817,
            2.194663780609044,
            1.0798377482275228,
            1.104573592171489,
            -2.0066194194175235,
            -2.1202470634086565,
            -1.6429748437517875,
            -2.109750836571206,
            -2.3181237675147868,
            -2.4062208344246687,
            0.04262138668793068,
            0.308607038563679,
            -0.14634473546755386,
            -0.09229324042143029,
            -0.780896782153741,
            -0.853422833204443,
            -2.0274488248292575,
            5.41156258479658,
            5.514422872536959,
            4.366416632139496,
            -1.3409813468414882,
            -1.1864275250779237,
            -1.341870342678052,
            -1.1809578883508134,
            -1.458281146002527,
            0.08186080405257344,
            -0.3500305400658953,
            -0.4419022767769714,
            -0.5659204516757539,
            -0.8757097096734435,
            -1.1429488324258874,
            -0.06982349779453914,
            -0.005927476662518767,
            0.5677876021640378,
            -0.18322825726271205,
            0.5551792828925748,
            -0.8198151981476709,
            -1.2848878772221173,
            -1.3579208376312677,
            -1.6232743678584403,
            2.4508820320698033,
            3.183254202512803,
            2.285857658796285,
            -0.46214670150120357,
            -0.8001564172456116,
            0.7673488600792202,
            -0.12186670029717202,
            0.10302383712181647,
            -2.278469183477518,
            -2.20883830123791,
            -0.7354860992938719,
            -0.3458867964097153,
            -0.5578892625181909,
            1.0581500171362788,
            0.06796893943666128,
            0.39488250967416266,
            -1.741670173723133,
            -0.6450780017905652,
            -1.1643805235585531,
            0.8720604199728117,
            0.9046248192189068,
            0.21958574524581317,
            -1.5391500683776875,
            -1.2301614996062313,
            1.6828707229857018,
            0.6224807129252395,
            -1.1578762378930871,
            -0.3600196908482349,
            -1.203732642505832,
            -0.4434173950856287,
            -1.0436219634055894,
            -0.17648683812138363,
            0.6082172082937235,
            -0.17516341776387212,
            -0.6064949202244841,
            -2.4664107325784244,
            -0.778873076199761,
            -0.5201536887064137,
            -0.7964636860611667,
            -1.4328129185498772,
            -1.276959848337847,
            -1.3717181081914582,
            -0.9295417351872419,
            -0.8427876556378286,
            -1.1278908460106525,
            -1.1293763300735882,
            -0.6301799913941853,
            1.2500878029514972,
            -0.09126700814091768,
            0.15389398700994592,
            -1.953463447068818,
            -1.8655327419418004,
            1.043231533462543,
            1.218140481886581,
            0.5916574079554768,
            8.844454300377105,
            7.206167331935782,
            6.623838762968068,
            -1.3938182021264487,
            -1.3742143283504133,
            -1.388574342120641,
            2.027558071792856,
            1.7206997911297555,
            0.9624488168247531,
            1.112571178585776,
            0.40685415909839995,
            -1.5409286345633828,
            -0.937342088465225,
            0.9690842921551949,
            0.4847557074077712,
            0.6221429090228495,
            0.07356574540241045,
            1.690667404703944,
            1.1896770364585658,
            0.2004000050238801,
            0.564855960562188,
            0.4301100271668654,
            0.08451841325877135,
            -0.4386661262970188,
            1.24989137847849,
            -0.2533386097626414,
            0.5337440629835214,
            -0.18065549832303626,
            -0.8021862785647235,
            -0.5043633128892773,
            -0.8772785531839818,
            0.14028227660248233,
            -0.8878563020671744,
            -2.7782446496070254,
            3.9128557385861766,
            3.8688806054238962,
            5.407743535962851,
            0.9371745138606982,
            -0.7370009626593814,
            -0.5873107443400848,
            -1.303207934455785,
            -1.0198800167189153
           ]
          },
          {
           "axis": {
            "matches": true
           },
           "label": "1",
           "values": [
            -0.08670320006836969,
            -0.39302453179511415,
            0.15104557630735976,
            -0.08916097188766549,
            0.2911654655813755,
            1.047514605230839,
            2.2856468045637146,
            1.6899942431507884,
            1.6174127853557227,
            -0.08955817990671892,
            -0.26248498918029844,
            -0.000498776138104103,
            -3.1250125945426084,
            -1.5635280481731533,
            0.14603018221621553,
            0.3120744597800683,
            0.1406637758963286,
            -0.06719851284977817,
            -2.659806461826483,
            -3.293046221053652,
            -2.347317323977997,
            -0.2803798524131184,
            -0.26524577372304925,
            -2.264582494023909,
            -0.5684220221962536,
            0.13561313111075532,
            0.05179236712579277,
            -0.49057910506340585,
            -0.6470550114643899,
            -0.38712139278221863,
            -2.246027118688403,
            0.14788978579821763,
            0.4516876581208571,
            0.342394226106045,
            0.18738526504651132,
            0.8622806904397698,
            0.7595812986355844,
            0.06487104714151079,
            -0.05327425616386337,
            -1.1366530639338812,
            -1.1476529061396419,
            -0.09019204817883171,
            -0.4053699896069957,
            -0.03277839304677939,
            -0.37584346300488103,
            -0.1773460541904524,
            0.44305897919799186,
            0.40842965809760506,
            0.6884647625513113,
            0.6797568243557687,
            0.2113224356760983,
            -0.11633410165302199,
            0.19654837397377084,
            -0.9576554452757345,
            0.683300741809817,
            0.36782465421457805,
            -2.797045714240805,
            -1.9912589046426117,
            0.9467084052933411,
            -4.381184151618047,
            -0.3893044266658647,
            -0.22695336880985637,
            0.6023403712743456,
            -0.38278520169676244,
            0.04170065964208899,
            0.4525838012856601,
            -0.7667030751239878,
            -1.1292790740032224,
            0.43457332687575595,
            0.7858910732970907,
            0.9562212800502347,
            0.09734369310085342,
            -0.04826685510351211,
            0.2319589620763435,
            -0.09632975335870184,
            1.3660597576824676,
            2.097859604530997,
            1.6685698156928501,
            4.890257976703077,
            3.153662403011688,
            1.9284954724351875,
            -2.483639369983678,
            -2.1039546787364665,
            -0.7615879888609322,
            0.6634183464624248,
            0.655942817350706,
            1.575101477969132,
            0.07018990914529076,
            0.9662266513683528,
            1.0153185387963481,
            -2.043308539469286,
            0.8427951862022627,
            0.17141248055400465,
            0.24876766821118346,
            0.3068980373008535,
            1.6348632864473023,
            0.11731680392115817,
            -2.4372917815313957,
            -1.7932345713847584,
            0.9418586511644987,
            0.9538429206799574,
            0.23122470422970656,
            -2.12217243685678,
            -2.4872164021281353,
            0.0857004480936435,
            0.4993738866461671,
            0.10390976347578637,
            0.306646509466829,
            0.6222756864832054,
            0.4576855416631721,
            -2.756965503140626,
            1.6812308398893683,
            0.8743825483016102,
            1.4093334393140682,
            0.08281803567024616,
            0.3235471812428563,
            0.07909209415533398,
            0.6442756249267737,
            -3.2854579722268253,
            -2.531357404226161,
            -2.7361630675059345,
            -3.0121466666342105,
            -3.039467282953193,
            -1.961590170092135,
            0.09407988487112082,
            -0.15180156530931432,
            3.4869625651240383,
            -2.9555176765598983,
            -2.5894875843982064,
            -4.0673889083460475,
            -2.937388873438158,
            0.7396399597269017,
            1.8534257170277815,
            1.42564649312506,
            1.7647220261017382,
            1.9539947620321152,
            1.8655039961631674,
            -2.7558410036778316,
            -1.6338901811600715,
            -2.7355443529128705,
            -2.8944392697428665,
            0.6983884259250903,
            1.7486802047506156,
            1.1140969407995425,
            0.8931328959237923,
            0.9849150629968243,
            1.112438522021371,
            1.0324831697393355,
            0.9852313033277296,
            0.8091243873947466,
            1.762665054507763,
            1.3924184506246078,
            3.639937339096871,
            0.9957221280765503,
            0.7930466744400227,
            0.8415517640846637,
            -2.4667819784931484,
            -3.0151379026211464,
            -3.345336497319847,
            -2.9294720059712134,
            -0.5688679047667843,
            0.4353543656331088,
            0.4758727031886618,
            -0.7020602003119986,
            0.4157633449837448,
            0.1681982663901846,
            -2.707076983709068,
            -2.0520644455568573,
            -0.34175616293325584,
            -0.32742804776124596,
            0.07433726085164,
            1.9724643698382724,
            1.4975454800644497,
            1.1308753198872707,
            0.9709652270112639,
            1.0584868029391967,
            0.06624005131220334,
            0.18201462482032457,
            0.04901791889015859,
            1.0211676257099944,
            0.487452734457284,
            0.7252587548182426,
            -2.3831071685721215,
            -2.204108254142374,
            0.4154099001774201,
            0.5663755446286461,
            1.3270457112813359,
            0.6888370396646734,
            1.698180671920457,
            1.8244414288210886,
            2.2074486347249738,
            -3.0138516883880473,
            -1.991370646140843,
            -1.5376216955083872,
            0.946381917070087,
            -3.32587275594124,
            -2.2415510948400104,
            -2.3310186279411615,
            -0.8906380671374278,
            -0.4310430904250546,
            -2.1509460026081832,
            -2.0536489965584495,
            0.00979902949482239,
            0.3132429699677313,
            0.3920974703015502,
            1.3692925089591665,
            1.4705296922518956,
            1.4556996667139268,
            1.19577159873645,
            1.3112981270386643,
            1.3680131187648934,
            -0.5947627467988656,
            0.39910376641620454,
            0.04170621711155441,
            -0.25081899746693015,
            0.4328401138172092,
            0.1057362446628987,
            -3.0868295890313626,
            -2.0784738514162573,
            1.4584104711148707,
            2.0589412316213522,
            2.0989830969701115,
            -1.977498670192593,
            -0.36004078819225876,
            0.1900852597563049,
            2.343486631778981,
            1.5908557751529622,
            1.6650122114055044,
            0.3018569969883464,
            0.7838524138274755,
            0.31830132100316255,
            1.0570002154161275,
            0.8496499563752862,
            1.7787588265427439,
            2.2635648453167576,
            0.990791887487193,
            -0.42032436055286115,
            0.45961747710668904,
            0.7030366577218029,
            1.741061782379517,
            1.9391372706482461,
            1.7007542966442246,
            0.6598770961911915,
            0.8127741908203513,
            0.12225476461250505,
            -0.5961573275033285,
            0.08027761531860948,
            -0.06621523160426407,
            0.8645840559363865,
            1.154642284639348,
            0.8753807928581292,
            2.560483290193452,
            2.100091403445332,
            2.653180582162283,
            1.1977171556910706,
            1.6683319073980618,
            1.6669527537801785,
            0.6622566222540573,
            0.9782996664053139,
            -0.5815849556549125,
            1.0421714943166716,
            0.6309357127134178,
            0.5801193912281086,
            -0.14761292070058665,
            1.3272788191713432,
            0.1839049494187374,
            1.666759947350769,
            0.847154591504115,
            1.4245888718962607,
            1.363162030930358,
            1.6158665571487643,
            -0.44271712402170393,
            -0.35239818951204055,
            -0.3206568731601925,
            0.8681539690735418,
            1.6539180433616443,
            1.5891822246712612,
            0.950774313158842,
            1.8860748809840773,
            1.35672925718303,
            0.8751589483461784,
            1.24649180934365,
            0.7603820350730742,
            0.41595205518825024,
            0.505121183596782,
            0.7990406566527845,
            -0.1601593497456848,
            0.7224708812071707,
            0.1643162788491762,
            -0.38996706644034745,
            -0.7989825068645211,
            -0.23812674479475388,
            0.4450171231077185,
            0.9952416457306366,
            1.0148332213328937,
            -3.0555513621634773,
            -0.19585595190342472,
            -0.1522524972844504,
            -0.12485031797557965,
            -3.263778026423656,
            1.6248684250939522,
            2.0199283782966253,
            2.164673862275448,
            -1.927714549100329,
            -1.8142158850488512,
            -2.433879210560577,
            -1.0839561494055716,
            -0.646670506788152,
            -0.3716166094042884,
            0.781501521336385,
            0.9208907088598745,
            6.049006262645323,
            0.36773769659227984,
            0.4491574699886489,
            0.6232735940465596,
            0.1422534393438309,
            0.23473064335976115,
            0.7796454582427109,
            -3.747608358201734,
            -2.491555005606021,
            0.6399543335446949,
            0.028333683101732458,
            1.0277602086260322,
            1.6454447546659883,
            0.28188066411757656,
            0.0428156419585934,
            -0.028170176466348847,
            0.3538068955453936,
            0.2810886500640401,
            -3.896846298085762,
            -2.3081529274246653,
            0.09658396380346641,
            -0.3565810300058248,
            -0.6662313599136535,
            1.3696847255187732,
            1.3123189052308355,
            0.6647881325521416,
            -1.5560263785238868,
            -1.541850997532995,
            -2.285098600941811,
            -2.4698450156433953,
            -0.6252585734475958,
            0.20884887353032625,
            0.2869621811898758,
            0.3028101025829054,
            0.8513156138838804,
            1.7897278249382347,
            1.4923651541422505,
            0.8646121990258838,
            0.6866079592576626,
            1.2640070927053253,
            0.41104627883415223,
            0.4628059415110765,
            1.0968483762291426,
            -2.937219110459917,
            -2.1662750559614814,
            -1.8975403351406386,
            -1.7251123377217858,
            1.1344284009565355,
            1.8126729525752785,
            1.4886154125805686,
            -2.852334245223126,
            -1.308193044284993,
            -1.5620899844365999,
            -1.474395659722665,
            0.1685405555925722,
            0.7556236220136929,
            0.5800328503537352,
            -0.041799632014090156,
            -0.18132054991613913,
            -0.5540263710506304,
            -3.833522979551953,
            -5.741260873394614,
            -0.21551562189056322,
            0.3919408653872229,
            0.2925403360097259,
            0.21145602288385015,
            0.7475724408925369,
            1.238955773465429,
            1.2412288277518688,
            1.230176909797316,
            0.30469227416313377,
            0.05763800575357899,
            0.13276614498198805,
            -2.949532394361723,
            -1.9570687024214897,
            -1.6843949506737539,
            0.9762491907650837,
            0.6353596509620272,
            0.5971631562296008,
            0.30814581140692765,
            0.4705729723769036,
            1.2662539211073074,
            1.065925709043167,
            0.0724976237266756,
            -1.9298402665727687,
            0.34644488964019243,
            0.3945908913790216,
            0.09666225422217559,
            0.006061530071532764,
            0.2778533770208012,
            0.6062856925724666,
            -2.8064870596891804,
            -2.855402279186859,
            -4.087579456335875,
            -2.9682820822853775,
            -2.0402484946202573,
            1.6881177229304825,
            2.2739016929194134,
            2.0531255774624886,
            0.34466725396985415,
            0.6030440012215471,
            1.0136057802943443,
            1.0837181272591698,
            1.2058152545565763,
            0.897891936732145,
            1.1080170412856225,
            0.7232423686371952,
            0.6314480883140521,
            0.2975973066834601,
            0.19267053875965068,
            0.20521788652119605,
            -2.26191291549963,
            -2.2434062640914134,
            0.5699693748538962,
            0.7778217540165518,
            0.7130680587470333,
            0.7258266411130568,
            0.768345756927141,
            0.6206474937336784,
            -0.004903054502341905,
            0.09244608462161552,
            0.02412374309731506,
            -2.643046474508467,
            -3.0264495765698247,
            2.4833069461330166,
            2.081654553452101,
            -0.8290327718120089,
            -0.11368303607087504,
            1.8438465245596363,
            2.146572429228514,
            1.598459933063129,
            0.899665903112335,
            0.5093226654751553,
            -4.0444379713376994,
            -1.752481767584848,
            0.5512332657500111,
            0.14457227383122576,
            0.17802501794881,
            0.06656098030864466,
            0.12298223702955156,
            -0.0739678927203192,
            1.4927027034195628,
            2.2014910448964575,
            2.1834688709622294,
            -0.13968888274834224,
            0.8254727856520033,
            0.2603067430337504,
            0.4958976939739904,
            0.2885869280543181,
            -1.7192139556237287,
            -2.1465596765385775,
            2.9660808225379487,
            1.9898049942034508,
            2.8654561510376717,
            1.9179281004660598,
            2.1860712281061216,
            -0.15393192414566403,
            0.872596811873124,
            1.123297363155855,
            -2.7261302132942467,
            -2.7356090199808083,
            0.12795046573498103,
            1.579312106439839,
            0.5236026122285584,
            0.4861173862742583,
            0.9021535137208984,
            -4.121827171490743,
            1.1868922106845756,
            1.1126966939466585,
            0.15238732306459357,
            0.2067520371229891,
            0.060862063985871566,
            -2.8039242815854384,
            -2.511615354185389,
            1.670839168734098,
            0.3197924754593509,
            1.3023828697294306,
            -1.0316456867258004,
            -0.7372859313434195,
            1.0958699534552971,
            1.1151103562089553,
            1.4323121256981626,
            -3.0474463116497197,
            -2.4512323901253525,
            0.10799344624323311,
            1.1374527052579835,
            0.7964024460768898,
            -0.8851436666454228,
            -1.237370494571101,
            -0.7672298463051337,
            -3.0017710870086085,
            -1.4939294957696518,
            0.5353625683609052,
            2.71474187676894,
            1.973001988572068,
            -2.9226444318235743,
            -2.2860273302936425,
            0.40387417859686237,
            1.0032249494774987,
            0.7189812698864902,
            -0.34560247252117066,
            -0.08024850410123802,
            0.14985742688869438,
            -2.8103869782001016,
            0.9256046642085091,
            0.8808155597037209,
            1.2523278492454506,
            2.171363618916231,
            -2.3566062145796387,
            -1.1860922398267146,
            0.2834213699587072,
            0.5765304906213715,
            0.36278703368697757,
            0.9452358330895893,
            0.9709615259063957,
            -1.3844891134114992,
            -1.6781334480637895,
            0.16210947013503194,
            -1.86243107058693,
            -0.3841872785267087,
            -0.4074210260735268,
            -0.3559973789945306,
            0.3598997525079126,
            0.2727688665779459,
            -2.660346128415346,
            1.1145113032110094,
            1.45848619161567,
            1.5637933463327305,
            0.9453256556027236,
            3.0726244745331055,
            3.5854366355525413,
            2.8862065173816367,
            -0.4779264311318567,
            0.22094678516331967,
            0.26358373132911117,
            0.12270048247518611,
            0.3884291222761412,
            0.21333769230355595,
            -2.40383547630534,
            0.7306628126401256,
            0.4977046562757805,
            0.7722208472219859,
            -0.09611026026904984,
            1.0357099025818248,
            1.1675935766997887,
            1.1076969597232547,
            1.1685503353424824,
            -2.158336319051974,
            -3.919880139666143,
            -3.156077712617243,
            -2.656384943775204,
            1.004771954666305,
            1.0233234070190937,
            0.8957137659872894,
            0.9838648918822208,
            0.6084154147721096,
            1.442859706437787,
            1.5828392860693763,
            2.7017222133518994,
            0.909051700723561,
            -1.1348987798981893,
            0.8107561428889365,
            0.5670453452015776,
            0.5914331707310126,
            -2.1402582132191696,
            -0.5291571743089672,
            0.32443902322668644,
            -0.013555254867115526,
            -0.29696335937624757,
            -2.39949629545111,
            -2.237673035897328,
            -0.07253067716833056,
            -0.04333922033122333,
            -0.3338936435637746,
            0.5214471765912048,
            0.625542789438574,
            1.79309286258674,
            1.7641357436443446,
            1.502899708543541,
            0.5745427030167682,
            0.4750255264305142,
            0.30808571917840694,
            1.596516004815429,
            -1.799585640379652,
            -2.015887716908954,
            -2.774010043813666,
            1.2589393404466287,
            1.2202760304643854,
            1.2765401516296555,
            -2.860226706101184,
            -1.7789702722118639,
            -0.20731546805677675,
            0.6120227691639778,
            0.8508343126906571,
            0.265551350852096,
            0.7742465151180239,
            0.3213905268678871,
            0.4576441697840743,
            1.4323589713520706,
            1.5317556447309664,
            -0.6703221056078362,
            0.21934493702139649,
            -2.9481020782407508,
            -2.275744769079272,
            0.8131149890914372,
            0.651214167629106,
            -3.056531037857102,
            -2.613458139639381,
            -1.489710452898571,
            -0.8868431543225137,
            0.7414821012291425,
            0.7966479285309329,
            0.7168264769140179,
            -0.23336741069222114,
            -0.15932533886635528,
            1.4641167024727626,
            1.4437192930279055,
            1.5400204218004596,
            -0.48721107510397055,
            0.13484033595979458,
            -0.12260605792497362,
            -3.3474676961992484,
            -2.048383495473727,
            -2.483372108654056,
            -3.609320553144325,
            0.08385015439682884,
            -0.08053046377990618,
            -0.2625534979628171,
            0.12446059432289068,
            -0.27781546628192916,
            0.22911077761055682,
            -2.672111693264711,
            -1.5489997853354371,
            2.7125658631472103,
            2.380445872450088,
            2.6365396054925876,
            -2.0915771491166164,
            -1.147021351221306,
            0.10810413098597857,
            0.9166265833676125,
            -2.2557824578201577,
            -1.9207090656640013,
            0.28853125122332324,
            0.2777291822342555,
            0.4243331774527159,
            -0.18244873670947492,
            -0.0965941369122316,
            0.07975050573490677,
            0.40636446866672665,
            0.35139867764620814,
            -0.18761508247940273,
            -0.16846823062035216,
            -0.509913010934669,
            -0.3425192744369578,
            -0.5064633783260203,
            -3.0881932742008362,
            -3.075877064021669,
            1.6061334109539862,
            1.431990630551256,
            -2.9946088803621254,
            -3.1694745281446166,
            0.4860212893502109,
            0.3444537248723786,
            0.524531900590315,
            -3.103599935700523,
            -2.0906321220824866,
            -1.979332221279562,
            2.044775570918818,
            1.9439179804894133,
            -0.16672334933442529,
            -0.11855795162129568,
            -0.2411150695601845,
            -4.031308105571889,
            -2.1024171332535033,
            -0.2108169828639296,
            1.7139035249570354,
            1.5698535823070032,
            0.5304687061991236,
            0.6354430856211454,
            0.1022380617772617,
            -0.08950607158700805,
            0.11130488794751854,
            0.84221248805794,
            0.7724918383330016,
            1.4225084177955092,
            0.9867639427161058,
            0.3152037623329461,
            0.2734831022698728,
            0.5388707963444478,
            0.6102424687111484,
            0.904295981474408,
            0.6126781229991964,
            0.8876506531824115,
            -0.2599598500495927,
            0.4368129100522229,
            -0.10597658117008718,
            0.2392801838141248,
            0.2150299558526414,
            0.03585510306592921,
            -4.634195437916218,
            2.8478602371784,
            3.083214832090626,
            3.5164986928421467,
            -1.443552877185348,
            -1.5889274808508822,
            0.3254737907183365,
            0.3998486630037341,
            -3.175385656409206,
            0.06866863513691364,
            0.2920991354006624,
            0.08566257467180581,
            0.31285802642502547,
            0.20115939836201654,
            -0.23049598233563665,
            1.0811472627961356,
            -0.22933465097775083,
            -3.4170681714829723,
            -0.22964834657965796,
            0.10181502037682436,
            -0.24902448004713162,
            0.1507373435179604,
            -2.74583289816921,
            -2.1977739923127944,
            -3.65480214316666,
            -2.3183411200215533,
            1.1619718971710613,
            1.4846392611334074,
            1.0436182259347706,
            -2.7058586008500067,
            -2.7872257297898737,
            -2.8376934134565537,
            -3.0589405815279473,
            2.903636272243424,
            0.9270777787020291,
            -4.61052426750551,
            -2.517251354165341,
            -1.868658501894757,
            0.4112473971092104,
            0.09917075197616038,
            -0.0008640809859339073,
            1.5074025489119638,
            1.347728188548217,
            1.3830744669243225,
            -0.2480240694746074,
            -1.001621041230802,
            0.4625433237447251,
            0.6162806845586715,
            0.48192166319282503,
            0.11590430371451776,
            0.8347338315275175,
            0.7547904726023578,
            1.0573031576566116,
            0.8222748811558105,
            1.3120275301103002,
            0.48204758167827594,
            0.9070657411458498,
            1.2038931567778246,
            0.06335959328782345,
            0.3970751024445078,
            0.10381429959802048,
            0.967374904807401,
            1.2407280213830436,
            0.6382870938008528,
            0.12867877648490056,
            -0.13292471932980796,
            0.057135949326415254,
            0.3486516741010956,
            -0.07679229416044556,
            0.12757183493533805,
            0.4731704382380235,
            0.9025500633089794,
            0.6323436248690513,
            0.21868509673484962,
            0.36464373347273227,
            0.6500731314118903,
            1.129633766982058,
            0.06723824899518238,
            2.0750234814390303,
            0.283097779283873,
            0.06911738755068003,
            0.4790659948128302,
            -3.1988538582368555,
            -2.4856566155487467,
            -2.8364783673771425,
            -2.135980355596284,
            -3.2074379890193936,
            -2.000558893189576,
            0.01351958105547187,
            0.6227056453597565,
            0.8131001327874039,
            -0.7060828091946328,
            -0.9441754590908511,
            -0.2497153638729161,
            0.15002297822715097,
            1.7420227738705898,
            1.6650422891475942,
            -1.4539632009829138,
            -0.424397453191375,
            0.43230617918886316,
            1.3838205393947098,
            0.7434253527108687,
            -2.9590976250874377,
            -0.7476742951577483,
            -0.9702424677985276,
            0.15372671187022544,
            -1.5871948448659794,
            0.4110853045589462,
            -1.3035389890057283,
            0.6054513525158985,
            0.08205367554815657,
            0.5153121743599458,
            -2.550073789613802,
            -0.5317076580460239,
            -0.1807433957209002,
            -0.7013053645778569,
            0.7707790507010334,
            1.543625828600184,
            0.7263762756540795,
            1.6033286813619956,
            2.3895251725246367,
            0.5285028619132754,
            0.47422495961695765,
            0.6335835112597784,
            0.888142640321175,
            1.8735170518447861,
            1.8865886119977568,
            0.057054776225248786,
            0.060404030075421423,
            -0.30834665913385084,
            -2.452267321461714,
            2.045065196789531,
            1.6719316887936466,
            0.5202298336572132,
            1.2515914610886745,
            0.9239575061285479,
            1.20155886811419,
            2.5597942135978635,
            -0.1322987279122417,
            0.1871545780387827,
            -0.45675336556863805,
            0.2776178058840865,
            0.8163685666491901,
            0.9973435955609629,
            0.5555486924176727,
            0.9930384701978183,
            0.9292193781369082,
            0.24722981204295608,
            0.5834994225710529,
            0.41202358077005663,
            0.8878032087261469,
            0.9192247963357955,
            -0.13043538525758927,
            0.15021110779207694,
            0.3608273966462287,
            1.5449328092191206,
            1.3475153918468077,
            1.671233856620182,
            1.9402689712466568,
            0.5922379860856269,
            0.8449285421748839,
            0.3904945596035345,
            -0.09015711722612713,
            -0.07558032712246736,
            0.2681555124633293,
            1.2210085631580645,
            1.1341054199648533,
            0.9637330776911494,
            -0.47613792730455906,
            -1.3792371838773518,
            1.1010976096744143,
            1.5290720425483375,
            1.4207999204853612,
            0.17536356737624878,
            2.4701325496025457,
            1.1327967184325591,
            -0.2042062887419588,
            0.5344147798008628,
            0.5774903074457304,
            -2.5454939783866113,
            -2.6445837701608985,
            -0.8848315885341936,
            0.3506553468403019,
            -2.2279535860870463,
            -2.5578777060422193,
            -3.038478330708074,
            -2.1302836998869377,
            -2.7349496610355963,
            -2.834826195100241,
            1.3867743262579388,
            1.4461221258349666,
            1.5978567908428343,
            -0.6282978722260296,
            -0.4113382277764477,
            -0.9499555584852776,
            2.0062791541286655,
            1.1223119269729083,
            1.9844940890307088,
            -1.3245658319469562,
            1.6587783370711,
            0.8134642224437708,
            -2.418136875270157,
            -2.576599766458458,
            -2.4038748132877235,
            -2.446007578439863,
            0.6502970892286294,
            0.51864491351347,
            0.5118151839242853,
            0.1793880032115256,
            0.018406462478167802,
            0.1768522316385322,
            1.09217426172005,
            0.19989303246493917,
            0.5916885886561785,
            -4.833529872234197,
            -3.489633556577082,
            -1.6928845456315866,
            0.7743519155279294,
            0.12636464263369668,
            0.16727515584621125,
            1.5386606033021946,
            0.7159896125081557,
            0.14345918655208725,
            0.5450075733292811,
            0.5494658376942781,
            0.7516136432612057,
            1.6233931033496678,
            1.5025101816375377,
            0.5691156365928078,
            -0.13367482153826127,
            -0.017980689657639454,
            -2.3329217628710617,
            -2.1085712649993162,
            -0.5228082725089124,
            -1.4274112623504511,
            -1.092055850967851,
            2.624482901815493,
            -0.33451319670572843,
            0.04122840580878027,
            -0.33431862586641126,
            1.9612396887643806,
            0.08922199529265658,
            0.2421990968779426,
            0.1547249993451199,
            0.05645796907712209,
            0.6982679299606599,
            -0.5532878184791301,
            0.6052580070288609,
            0.5096782573705816,
            0.39875731469547393,
            0.5474192353480207,
            0.844366449009399,
            -1.937840496908107,
            -0.4870350511307288,
            -0.3919909869990095,
            0.19369665678672301,
            0.6807175761490876,
            0.7075766347609775,
            0.904814592186985,
            0.20701553924094543,
            0.32460556570509175,
            1.1060229513253106,
            0.9010255543856622,
            -0.7829473333166264,
            -0.7205573791106286,
            -1.5415795004150155,
            -3.8725668573494443,
            -2.267718294295258,
            2.612974529185299,
            0.7719875386752956,
            0.6304419029513268,
            0.510099177165864,
            0.9833394411983524,
            -2.6038858308500035,
            0.7201299726639682,
            2.0207210832597395,
            1.0656058248951155,
            1.8088857680564803,
            0.5523782767517383,
            0.9988287372805928,
            0.7615134071666375,
            -1.6573206520933463,
            -1.8035973447855285,
            -0.9641242132356033,
            0.6687990240565183,
            1.5174578906001992,
            2.0948703395728407,
            0.5250892274436794,
            0.3839411079434622,
            0.27958049836177684,
            0.5933975833436437,
            1.6178955069388514,
            1.2333358318250127,
            -0.14763698449508356,
            0.5439035811547535,
            0.48519818565503714,
            -2.802920081293869,
            -2.5155635950295356,
            0.6940596639703522,
            1.1809971756250632,
            1.0418065619890515,
            -2.1543990170180836,
            -1.3094559821007175,
            -2.3471284214478065,
            -2.3185967513794896,
            0.8235720787764108,
            0.2566506499752809,
            0.2706247348662161,
            -3.0132243040327236,
            -2.1760224448876677,
            0.4997679880178991,
            2.0246014396319696,
            1.672044896866698,
            0.1315505995902038,
            0.17877053493055928,
            0.15480391313669262,
            0.5217106049090616,
            0.41482522486111156,
            2.139649048642828,
            2.1655064531116093,
            2.356532611453545,
            -2.5234784029233395,
            -2.4419553543916135,
            -1.6206907453410964,
            -0.0032260081380369593,
            -0.07936217091630396,
            0.33283762893481017,
            -0.6078110700688041,
            -0.9093408178565103,
            -1.3519327118575792,
            -1.4325918255820353,
            1.2096215307335156,
            1.0354069254883096,
            1.200535154161215,
            -1.956099536109266,
            -1.8555528782980486,
            -0.3017184202484678,
            -2.2207142202460304,
            -2.8809381695916865,
            -2.323700947565523,
            -2.510217385516861,
            0.11127299124562338,
            0.03886545299000525,
            0.06091298843560883,
            -0.13103032367868858,
            -0.3324519180355149,
            -0.006483693477354261,
            -2.46646605522255,
            -2.156721004454523,
            0.8358937548161078,
            0.6978956594260405,
            0.06906683807253901,
            1.0189695944580959,
            2.10012759226581,
            2.013025534716933,
            0.4889376574566899,
            0.7449954529277589,
            -0.0974430290645998,
            0.16467095759547032,
            0.5459391044939912,
            -1.879828879402515,
            1.1622976454714165,
            1.0574652314127875,
            0.0591426228164534,
            0.29177339780071304,
            0.12104514054963465,
            -2.8752932781580753,
            -2.409471168048271,
            1.8192518106363995,
            1.9170731236334013,
            2.2020672961848335,
            1.95903836771398,
            1.8069049332474343,
            -3.686834845004549,
            -2.599221059178965,
            2.582670981013853,
            1.1834134955346602,
            -1.959300428381665,
            -0.10561563278478014,
            0.4307898425300569,
            1.3764322525280561,
            0.8930506568159687,
            1.5681034880994897,
            2.3675894157851167,
            2.368719825480497,
            -2.64182832876655,
            -3.1657558404190014,
            -0.18630117077011632,
            0.480657439261963,
            -2.812213070706279,
            -2.3711942003153337,
            0.22437525508108197,
            0.8785671061566437,
            -0.4204498978742193,
            -0.030877125706641115,
            -0.4158493759429126,
            0.9379647317634017,
            -0.5008065178230235,
            0.2750958414382833,
            0.36258947320568846,
            0.24230898207911097,
            1.0680069590455046
           ]
          }
         ],
         "hovertemplate": "%{xaxis.title.text}=%{x}<br>%{yaxis.title.text}=%{y}<br>color=%{marker.color}<extra></extra>",
         "legendgroup": "",
         "marker": {
          "color": [
           1,
           1,
           1,
           1,
           1,
           1,
           1,
           1,
           1,
           1,
           1,
           1,
           2,
           2,
           1,
           1,
           1,
           1,
           2,
           2,
           2,
           1,
           1,
           2,
           1,
           1,
           1,
           1,
           1,
           1,
           2,
           1,
           1,
           1,
           1,
           1,
           1,
           1,
           1,
           2,
           2,
           1,
           1,
           1,
           1,
           0,
           1,
           1,
           1,
           1,
           1,
           1,
           1,
           1,
           1,
           1,
           2,
           2,
           1,
           2,
           1,
           1,
           1,
           1,
           1,
           1,
           0,
           0,
           1,
           1,
           1,
           1,
           1,
           1,
           1,
           1,
           1,
           1,
           0,
           0,
           0,
           2,
           2,
           1,
           1,
           1,
           1,
           1,
           1,
           1,
           0,
           0,
           1,
           1,
           1,
           0,
           0,
           2,
           2,
           1,
           1,
           1,
           2,
           2,
           1,
           1,
           1,
           1,
           1,
           1,
           2,
           1,
           1,
           1,
           1,
           1,
           1,
           1,
           2,
           2,
           2,
           2,
           2,
           2,
           0,
           0,
           0,
           2,
           2,
           2,
           2,
           0,
           0,
           1,
           1,
           1,
           1,
           2,
           2,
           2,
           2,
           1,
           1,
           1,
           1,
           1,
           1,
           1,
           1,
           1,
           1,
           0,
           0,
           0,
           1,
           1,
           2,
           2,
           2,
           2,
           1,
           1,
           1,
           1,
           1,
           1,
           2,
           2,
           1,
           1,
           1,
           1,
           1,
           1,
           1,
           1,
           1,
           1,
           1,
           1,
           1,
           1,
           2,
           2,
           1,
           1,
           0,
           1,
           1,
           1,
           1,
           2,
           2,
           2,
           1,
           2,
           2,
           2,
           1,
           1,
           2,
           2,
           1,
           1,
           1,
           1,
           1,
           1,
           1,
           1,
           1,
           1,
           1,
           1,
           1,
           1,
           1,
           2,
           2,
           1,
           1,
           1,
           0,
           0,
           0,
           1,
           1,
           1,
           1,
           1,
           1,
           1,
           1,
           1,
           0,
           0,
           1,
           1,
           1,
           1,
           1,
           1,
           1,
           1,
           1,
           1,
           1,
           1,
           1,
           1,
           1,
           1,
           1,
           1,
           1,
           1,
           1,
           1,
           1,
           1,
           1,
           1,
           0,
           0,
           0,
           1,
           1,
           1,
           1,
           1,
           1,
           1,
           1,
           1,
           1,
           1,
           1,
           1,
           1,
           1,
           1,
           1,
           1,
           1,
           1,
           1,
           1,
           1,
           1,
           1,
           1,
           1,
           1,
           1,
           1,
           2,
           1,
           1,
           1,
           2,
           1,
           1,
           1,
           2,
           2,
           2,
           1,
           1,
           1,
           0,
           0,
           0,
           1,
           1,
           1,
           1,
           1,
           1,
           2,
           2,
           1,
           1,
           1,
           1,
           1,
           1,
           1,
           1,
           1,
           0,
           2,
           1,
           1,
           1,
           1,
           1,
           1,
           2,
           2,
           0,
           0,
           0,
           1,
           1,
           1,
           0,
           0,
           0,
           1,
           1,
           1,
           1,
           1,
           1,
           2,
           2,
           2,
           2,
           1,
           1,
           1,
           2,
           2,
           2,
           2,
           1,
           1,
           1,
           1,
           1,
           1,
           0,
           0,
           1,
           1,
           1,
           1,
           1,
           0,
           0,
           0,
           1,
           1,
           1,
           2,
           0,
           0,
           0,
           1,
           1,
           1,
           1,
           1,
           1,
           0,
           0,
           0,
           1,
           1,
           1,
           1,
           1,
           2,
           2,
           2,
           2,
           2,
           1,
           1,
           1,
           1,
           1,
           1,
           1,
           1,
           0,
           0,
           0,
           1,
           1,
           1,
           1,
           2,
           2,
           1,
           1,
           1,
           1,
           1,
           1,
           1,
           1,
           1,
           2,
           2,
           1,
           1,
           0,
           0,
           1,
           1,
           1,
           1,
           1,
           2,
           2,
           1,
           1,
           1,
           1,
           1,
           1,
           1,
           1,
           1,
           1,
           1,
           1,
           1,
           1,
           2,
           2,
           1,
           1,
           1,
           1,
           1,
           1,
           1,
           1,
           2,
           2,
           0,
           0,
           0,
           1,
           1,
           2,
           1,
           1,
           1,
           1,
           1,
           2,
           2,
           0,
           0,
           0,
           1,
           1,
           1,
           1,
           1,
           2,
           2,
           1,
           1,
           1,
           1,
           1,
           1,
           2,
           2,
           1,
           0,
           0,
           2,
           2,
           1,
           1,
           1,
           1,
           1,
           1,
           2,
           1,
           1,
           0,
           0,
           2,
           2,
           1,
           1,
           1,
           1,
           1,
           2,
           2,
           1,
           0,
           0,
           0,
           1,
           1,
           1,
           2,
           1,
           1,
           1,
           1,
           1,
           1,
           1,
           1,
           1,
           1,
           1,
           1,
           1,
           2,
           1,
           1,
           1,
           1,
           1,
           1,
           1,
           1,
           2,
           2,
           2,
           2,
           1,
           1,
           1,
           1,
           1,
           1,
           0,
           0,
           0,
           0,
           1,
           1,
           1,
           0,
           0,
           0,
           1,
           1,
           2,
           2,
           1,
           1,
           1,
           1,
           1,
           0,
           0,
           0,
           1,
           1,
           1,
           1,
           2,
           2,
           2,
           1,
           1,
           1,
           2,
           2,
           1,
           1,
           1,
           1,
           1,
           1,
           1,
           1,
           1,
           1,
           1,
           2,
           2,
           1,
           1,
           2,
           2,
           2,
           1,
           1,
           1,
           1,
           1,
           1,
           1,
           1,
           1,
           1,
           1,
           1,
           2,
           2,
           2,
           0,
           1,
           1,
           1,
           1,
           1,
           1,
           2,
           2,
           1,
           1,
           0,
           2,
           2,
           1,
           1,
           2,
           2,
           1,
           1,
           1,
           1,
           1,
           1,
           1,
           1,
           1,
           1,
           1,
           1,
           1,
           2,
           2,
           0,
           0,
           2,
           2,
           1,
           1,
           1,
           2,
           2,
           2,
           1,
           1,
           1,
           1,
           1,
           2,
           2,
           0,
           0,
           0,
           1,
           1,
           1,
           1,
           1,
           1,
           1,
           1,
           1,
           1,
           1,
           1,
           1,
           1,
           1,
           1,
           0,
           0,
           0,
           1,
           1,
           1,
           2,
           1,
           1,
           1,
           2,
           2,
           1,
           1,
           2,
           1,
           1,
           1,
           1,
           1,
           1,
           1,
           1,
           0,
           0,
           1,
           1,
           1,
           2,
           2,
           2,
           2,
           1,
           1,
           1,
           2,
           2,
           2,
           2,
           0,
           0,
           2,
           2,
           2,
           1,
           1,
           1,
           1,
           1,
           1,
           1,
           1,
           1,
           1,
           1,
           1,
           1,
           1,
           1,
           1,
           1,
           1,
           1,
           1,
           1,
           1,
           1,
           1,
           0,
           1,
           1,
           1,
           1,
           1,
           1,
           1,
           1,
           1,
           1,
           1,
           1,
           1,
           0,
           0,
           0,
           1,
           1,
           1,
           2,
           2,
           2,
           2,
           2,
           2,
           1,
           1,
           1,
           2,
           2,
           1,
           1,
           1,
           1,
           1,
           1,
           1,
           1,
           1,
           2,
           0,
           0,
           1,
           0,
           0,
           0,
           1,
           1,
           1,
           2,
           1,
           1,
           1,
           1,
           1,
           1,
           1,
           1,
           1,
           1,
           1,
           0,
           1,
           1,
           1,
           1,
           1,
           2,
           1,
           1,
           1,
           1,
           1,
           1,
           1,
           1,
           1,
           1,
           1,
           1,
           1,
           0,
           0,
           0,
           1,
           1,
           1,
           1,
           1,
           1,
           1,
           1,
           1,
           1,
           1,
           1,
           1,
           1,
           1,
           1,
           1,
           1,
           1,
           1,
           1,
           1,
           1,
           1,
           1,
           1,
           0,
           0,
           1,
           1,
           1,
           1,
           2,
           2,
           1,
           1,
           2,
           2,
           2,
           2,
           2,
           2,
           1,
           1,
           1,
           1,
           1,
           1,
           0,
           1,
           1,
           0,
           1,
           1,
           2,
           2,
           2,
           2,
           1,
           1,
           1,
           1,
           1,
           1,
           1,
           0,
           1,
           0,
           0,
           2,
           1,
           1,
           1,
           1,
           1,
           1,
           1,
           1,
           1,
           0,
           0,
           0,
           1,
           1,
           2,
           2,
           1,
           1,
           0,
           0,
           1,
           1,
           1,
           1,
           1,
           1,
           1,
           1,
           1,
           0,
           1,
           1,
           1,
           1,
           1,
           0,
           0,
           0,
           1,
           1,
           1,
           1,
           1,
           1,
           1,
           1,
           1,
           1,
           1,
           2,
           2,
           0,
           1,
           1,
           1,
           1,
           2,
           1,
           1,
           1,
           1,
           1,
           1,
           1,
           2,
           0,
           0,
           0,
           1,
           1,
           1,
           1,
           1,
           1,
           1,
           1,
           1,
           1,
           1,
           2,
           2,
           1,
           1,
           1,
           2,
           2,
           2,
           2,
           0,
           0,
           0,
           2,
           2,
           1,
           1,
           1,
           1,
           1,
           1,
           1,
           1,
           1,
           1,
           1,
           2,
           2,
           2,
           1,
           1,
           1,
           1,
           1,
           2,
           2,
           1,
           1,
           1,
           2,
           2,
           1,
           2,
           2,
           2,
           2,
           1,
           1,
           1,
           1,
           1,
           1,
           2,
           2,
           1,
           1,
           1,
           1,
           1,
           1,
           1,
           1,
           1,
           1,
           1,
           0,
           0,
           0,
           1,
           1,
           1,
           2,
           2,
           1,
           1,
           1,
           1,
           1,
           2,
           2,
           1,
           1,
           2,
           2,
           1,
           1,
           1,
           1,
           1,
           1,
           2,
           2,
           1,
           1,
           2,
           2,
           1,
           1,
           1,
           0,
           0,
           0,
           1,
           1,
           1,
           1,
           1
          ],
          "coloraxis": "coloraxis",
          "symbol": "circle"
         },
         "name": "",
         "showlegend": false,
         "type": "splom"
        }
       ],
       "layout": {
        "autosize": true,
        "coloraxis": {
         "colorbar": {
          "title": {
           "text": "color"
          }
         },
         "colorscale": [
          [
           0,
           "#0d0887"
          ],
          [
           0.1111111111111111,
           "#46039f"
          ],
          [
           0.2222222222222222,
           "#7201a8"
          ],
          [
           0.3333333333333333,
           "#9c179e"
          ],
          [
           0.4444444444444444,
           "#bd3786"
          ],
          [
           0.5555555555555556,
           "#d8576b"
          ],
          [
           0.6666666666666666,
           "#ed7953"
          ],
          [
           0.7777777777777778,
           "#fb9f3a"
          ],
          [
           0.8888888888888888,
           "#fdca26"
          ],
          [
           1,
           "#f0f921"
          ]
         ]
        },
        "dragmode": "select",
        "legend": {
         "tracegroupgap": 0
        },
        "margin": {
         "t": 60
        },
        "template": {
         "data": {
          "bar": [
           {
            "error_x": {
             "color": "#2a3f5f"
            },
            "error_y": {
             "color": "#2a3f5f"
            },
            "marker": {
             "line": {
              "color": "#E5ECF6",
              "width": 0.5
             }
            },
            "type": "bar"
           }
          ],
          "barpolar": [
           {
            "marker": {
             "line": {
              "color": "#E5ECF6",
              "width": 0.5
             }
            },
            "type": "barpolar"
           }
          ],
          "carpet": [
           {
            "aaxis": {
             "endlinecolor": "#2a3f5f",
             "gridcolor": "white",
             "linecolor": "white",
             "minorgridcolor": "white",
             "startlinecolor": "#2a3f5f"
            },
            "baxis": {
             "endlinecolor": "#2a3f5f",
             "gridcolor": "white",
             "linecolor": "white",
             "minorgridcolor": "white",
             "startlinecolor": "#2a3f5f"
            },
            "type": "carpet"
           }
          ],
          "choropleth": [
           {
            "colorbar": {
             "outlinewidth": 0,
             "ticks": ""
            },
            "type": "choropleth"
           }
          ],
          "contour": [
           {
            "colorbar": {
             "outlinewidth": 0,
             "ticks": ""
            },
            "colorscale": [
             [
              0,
              "#0d0887"
             ],
             [
              0.1111111111111111,
              "#46039f"
             ],
             [
              0.2222222222222222,
              "#7201a8"
             ],
             [
              0.3333333333333333,
              "#9c179e"
             ],
             [
              0.4444444444444444,
              "#bd3786"
             ],
             [
              0.5555555555555556,
              "#d8576b"
             ],
             [
              0.6666666666666666,
              "#ed7953"
             ],
             [
              0.7777777777777778,
              "#fb9f3a"
             ],
             [
              0.8888888888888888,
              "#fdca26"
             ],
             [
              1,
              "#f0f921"
             ]
            ],
            "type": "contour"
           }
          ],
          "contourcarpet": [
           {
            "colorbar": {
             "outlinewidth": 0,
             "ticks": ""
            },
            "type": "contourcarpet"
           }
          ],
          "heatmap": [
           {
            "colorbar": {
             "outlinewidth": 0,
             "ticks": ""
            },
            "colorscale": [
             [
              0,
              "#0d0887"
             ],
             [
              0.1111111111111111,
              "#46039f"
             ],
             [
              0.2222222222222222,
              "#7201a8"
             ],
             [
              0.3333333333333333,
              "#9c179e"
             ],
             [
              0.4444444444444444,
              "#bd3786"
             ],
             [
              0.5555555555555556,
              "#d8576b"
             ],
             [
              0.6666666666666666,
              "#ed7953"
             ],
             [
              0.7777777777777778,
              "#fb9f3a"
             ],
             [
              0.8888888888888888,
              "#fdca26"
             ],
             [
              1,
              "#f0f921"
             ]
            ],
            "type": "heatmap"
           }
          ],
          "heatmapgl": [
           {
            "colorbar": {
             "outlinewidth": 0,
             "ticks": ""
            },
            "colorscale": [
             [
              0,
              "#0d0887"
             ],
             [
              0.1111111111111111,
              "#46039f"
             ],
             [
              0.2222222222222222,
              "#7201a8"
             ],
             [
              0.3333333333333333,
              "#9c179e"
             ],
             [
              0.4444444444444444,
              "#bd3786"
             ],
             [
              0.5555555555555556,
              "#d8576b"
             ],
             [
              0.6666666666666666,
              "#ed7953"
             ],
             [
              0.7777777777777778,
              "#fb9f3a"
             ],
             [
              0.8888888888888888,
              "#fdca26"
             ],
             [
              1,
              "#f0f921"
             ]
            ],
            "type": "heatmapgl"
           }
          ],
          "histogram": [
           {
            "marker": {
             "colorbar": {
              "outlinewidth": 0,
              "ticks": ""
             }
            },
            "type": "histogram"
           }
          ],
          "histogram2d": [
           {
            "colorbar": {
             "outlinewidth": 0,
             "ticks": ""
            },
            "colorscale": [
             [
              0,
              "#0d0887"
             ],
             [
              0.1111111111111111,
              "#46039f"
             ],
             [
              0.2222222222222222,
              "#7201a8"
             ],
             [
              0.3333333333333333,
              "#9c179e"
             ],
             [
              0.4444444444444444,
              "#bd3786"
             ],
             [
              0.5555555555555556,
              "#d8576b"
             ],
             [
              0.6666666666666666,
              "#ed7953"
             ],
             [
              0.7777777777777778,
              "#fb9f3a"
             ],
             [
              0.8888888888888888,
              "#fdca26"
             ],
             [
              1,
              "#f0f921"
             ]
            ],
            "type": "histogram2d"
           }
          ],
          "histogram2dcontour": [
           {
            "colorbar": {
             "outlinewidth": 0,
             "ticks": ""
            },
            "colorscale": [
             [
              0,
              "#0d0887"
             ],
             [
              0.1111111111111111,
              "#46039f"
             ],
             [
              0.2222222222222222,
              "#7201a8"
             ],
             [
              0.3333333333333333,
              "#9c179e"
             ],
             [
              0.4444444444444444,
              "#bd3786"
             ],
             [
              0.5555555555555556,
              "#d8576b"
             ],
             [
              0.6666666666666666,
              "#ed7953"
             ],
             [
              0.7777777777777778,
              "#fb9f3a"
             ],
             [
              0.8888888888888888,
              "#fdca26"
             ],
             [
              1,
              "#f0f921"
             ]
            ],
            "type": "histogram2dcontour"
           }
          ],
          "mesh3d": [
           {
            "colorbar": {
             "outlinewidth": 0,
             "ticks": ""
            },
            "type": "mesh3d"
           }
          ],
          "parcoords": [
           {
            "line": {
             "colorbar": {
              "outlinewidth": 0,
              "ticks": ""
             }
            },
            "type": "parcoords"
           }
          ],
          "pie": [
           {
            "automargin": true,
            "type": "pie"
           }
          ],
          "scatter": [
           {
            "marker": {
             "colorbar": {
              "outlinewidth": 0,
              "ticks": ""
             }
            },
            "type": "scatter"
           }
          ],
          "scatter3d": [
           {
            "line": {
             "colorbar": {
              "outlinewidth": 0,
              "ticks": ""
             }
            },
            "marker": {
             "colorbar": {
              "outlinewidth": 0,
              "ticks": ""
             }
            },
            "type": "scatter3d"
           }
          ],
          "scattercarpet": [
           {
            "marker": {
             "colorbar": {
              "outlinewidth": 0,
              "ticks": ""
             }
            },
            "type": "scattercarpet"
           }
          ],
          "scattergeo": [
           {
            "marker": {
             "colorbar": {
              "outlinewidth": 0,
              "ticks": ""
             }
            },
            "type": "scattergeo"
           }
          ],
          "scattergl": [
           {
            "marker": {
             "colorbar": {
              "outlinewidth": 0,
              "ticks": ""
             }
            },
            "type": "scattergl"
           }
          ],
          "scattermapbox": [
           {
            "marker": {
             "colorbar": {
              "outlinewidth": 0,
              "ticks": ""
             }
            },
            "type": "scattermapbox"
           }
          ],
          "scatterpolar": [
           {
            "marker": {
             "colorbar": {
              "outlinewidth": 0,
              "ticks": ""
             }
            },
            "type": "scatterpolar"
           }
          ],
          "scatterpolargl": [
           {
            "marker": {
             "colorbar": {
              "outlinewidth": 0,
              "ticks": ""
             }
            },
            "type": "scatterpolargl"
           }
          ],
          "scatterternary": [
           {
            "marker": {
             "colorbar": {
              "outlinewidth": 0,
              "ticks": ""
             }
            },
            "type": "scatterternary"
           }
          ],
          "surface": [
           {
            "colorbar": {
             "outlinewidth": 0,
             "ticks": ""
            },
            "colorscale": [
             [
              0,
              "#0d0887"
             ],
             [
              0.1111111111111111,
              "#46039f"
             ],
             [
              0.2222222222222222,
              "#7201a8"
             ],
             [
              0.3333333333333333,
              "#9c179e"
             ],
             [
              0.4444444444444444,
              "#bd3786"
             ],
             [
              0.5555555555555556,
              "#d8576b"
             ],
             [
              0.6666666666666666,
              "#ed7953"
             ],
             [
              0.7777777777777778,
              "#fb9f3a"
             ],
             [
              0.8888888888888888,
              "#fdca26"
             ],
             [
              1,
              "#f0f921"
             ]
            ],
            "type": "surface"
           }
          ],
          "table": [
           {
            "cells": {
             "fill": {
              "color": "#EBF0F8"
             },
             "line": {
              "color": "white"
             }
            },
            "header": {
             "fill": {
              "color": "#C8D4E3"
             },
             "line": {
              "color": "white"
             }
            },
            "type": "table"
           }
          ]
         },
         "layout": {
          "annotationdefaults": {
           "arrowcolor": "#2a3f5f",
           "arrowhead": 0,
           "arrowwidth": 1
          },
          "autotypenumbers": "strict",
          "coloraxis": {
           "colorbar": {
            "outlinewidth": 0,
            "ticks": ""
           }
          },
          "colorscale": {
           "diverging": [
            [
             0,
             "#8e0152"
            ],
            [
             0.1,
             "#c51b7d"
            ],
            [
             0.2,
             "#de77ae"
            ],
            [
             0.3,
             "#f1b6da"
            ],
            [
             0.4,
             "#fde0ef"
            ],
            [
             0.5,
             "#f7f7f7"
            ],
            [
             0.6,
             "#e6f5d0"
            ],
            [
             0.7,
             "#b8e186"
            ],
            [
             0.8,
             "#7fbc41"
            ],
            [
             0.9,
             "#4d9221"
            ],
            [
             1,
             "#276419"
            ]
           ],
           "sequential": [
            [
             0,
             "#0d0887"
            ],
            [
             0.1111111111111111,
             "#46039f"
            ],
            [
             0.2222222222222222,
             "#7201a8"
            ],
            [
             0.3333333333333333,
             "#9c179e"
            ],
            [
             0.4444444444444444,
             "#bd3786"
            ],
            [
             0.5555555555555556,
             "#d8576b"
            ],
            [
             0.6666666666666666,
             "#ed7953"
            ],
            [
             0.7777777777777778,
             "#fb9f3a"
            ],
            [
             0.8888888888888888,
             "#fdca26"
            ],
            [
             1,
             "#f0f921"
            ]
           ],
           "sequentialminus": [
            [
             0,
             "#0d0887"
            ],
            [
             0.1111111111111111,
             "#46039f"
            ],
            [
             0.2222222222222222,
             "#7201a8"
            ],
            [
             0.3333333333333333,
             "#9c179e"
            ],
            [
             0.4444444444444444,
             "#bd3786"
            ],
            [
             0.5555555555555556,
             "#d8576b"
            ],
            [
             0.6666666666666666,
             "#ed7953"
            ],
            [
             0.7777777777777778,
             "#fb9f3a"
            ],
            [
             0.8888888888888888,
             "#fdca26"
            ],
            [
             1,
             "#f0f921"
            ]
           ]
          },
          "colorway": [
           "#636efa",
           "#EF553B",
           "#00cc96",
           "#ab63fa",
           "#FFA15A",
           "#19d3f3",
           "#FF6692",
           "#B6E880",
           "#FF97FF",
           "#FECB52"
          ],
          "font": {
           "color": "#2a3f5f"
          },
          "geo": {
           "bgcolor": "white",
           "lakecolor": "white",
           "landcolor": "#E5ECF6",
           "showlakes": true,
           "showland": true,
           "subunitcolor": "white"
          },
          "hoverlabel": {
           "align": "left"
          },
          "hovermode": "closest",
          "mapbox": {
           "style": "light"
          },
          "paper_bgcolor": "white",
          "plot_bgcolor": "#E5ECF6",
          "polar": {
           "angularaxis": {
            "gridcolor": "white",
            "linecolor": "white",
            "ticks": ""
           },
           "bgcolor": "#E5ECF6",
           "radialaxis": {
            "gridcolor": "white",
            "linecolor": "white",
            "ticks": ""
           }
          },
          "scene": {
           "xaxis": {
            "backgroundcolor": "#E5ECF6",
            "gridcolor": "white",
            "gridwidth": 2,
            "linecolor": "white",
            "showbackground": true,
            "ticks": "",
            "zerolinecolor": "white"
           },
           "yaxis": {
            "backgroundcolor": "#E5ECF6",
            "gridcolor": "white",
            "gridwidth": 2,
            "linecolor": "white",
            "showbackground": true,
            "ticks": "",
            "zerolinecolor": "white"
           },
           "zaxis": {
            "backgroundcolor": "#E5ECF6",
            "gridcolor": "white",
            "gridwidth": 2,
            "linecolor": "white",
            "showbackground": true,
            "ticks": "",
            "zerolinecolor": "white"
           }
          },
          "shapedefaults": {
           "line": {
            "color": "#2a3f5f"
           }
          },
          "ternary": {
           "aaxis": {
            "gridcolor": "white",
            "linecolor": "white",
            "ticks": ""
           },
           "baxis": {
            "gridcolor": "white",
            "linecolor": "white",
            "ticks": ""
           },
           "bgcolor": "#E5ECF6",
           "caxis": {
            "gridcolor": "white",
            "linecolor": "white",
            "ticks": ""
           }
          },
          "title": {
           "x": 0.05
          },
          "xaxis": {
           "automargin": true,
           "gridcolor": "white",
           "linecolor": "white",
           "ticks": "",
           "title": {
            "standoff": 15
           },
           "zerolinecolor": "white",
           "zerolinewidth": 2
          },
          "yaxis": {
           "automargin": true,
           "gridcolor": "white",
           "linecolor": "white",
           "ticks": "",
           "title": {
            "standoff": 15
           },
           "zerolinecolor": "white",
           "zerolinewidth": 2
          }
         }
        },
        "xaxis": {
         "autorange": true,
         "range": [
          -4.363604125888881,
          14.99849842716722
         ],
         "type": "linear"
        },
        "xaxis2": {
         "autorange": true,
         "range": [
          -6.7903631739732155,
          7.098108563223924
         ],
         "type": "linear"
        },
        "yaxis": {
         "autorange": true,
         "range": [
          -4.363604125888881,
          14.99849842716722
         ],
         "type": "linear"
        },
        "yaxis2": {
         "autorange": true,
         "range": [
          -6.7903631739732155,
          7.098108563223924
         ],
         "type": "linear"
        }
       }
      },
      "image/png": "[encoded data removed]",
      "text/html": [
       "<div>                            <div id=\"55ae6ba9-432e-4d69-ae22-e970c26e2234\" class=\"plotly-graph-div\" style=\"height:525px; width:100%;\"></div>            <script type=\"text/javascript\">                require([\"plotly\"], function(Plotly) {                    window.PLOTLYENV=window.PLOTLYENV || {};                                    if (document.getElementById(\"55ae6ba9-432e-4d69-ae22-e970c26e2234\")) {                    Plotly.newPlot(                        \"55ae6ba9-432e-4d69-ae22-e970c26e2234\",                        [{\"diagonal\": {\"visible\": false}, \"dimensions\": [{\"axis\": {\"matches\": true}, \"label\": \"0\", \"values\": [-0.5185600219701806, -0.235960723800209, -0.2856195619004661, 0.3624906746563822, 0.09411703712528348, 0.08059282660307182, -0.35919367670576685, -0.4154530086656641, 0.2567884786401437, 0.1444659114047765, 0.27482425547983, 0.1609222921811336, 1.7409773462228684, 0.7643939889829306, -2.238460866133231, -1.4868698531957647, -1.4964327333976493, -1.7739994326122863, -0.36542257418343826, 0.29792777288293043, -1.8985923076950026, -2.465502203440037, -2.3972707979507373, -1.592414207003214, 0.46478564034326386, 0.1788263189233745, -0.08816116828958878, -0.4598371955198258, -0.30105846620086246, -0.42400799905115377, -1.543753435379188, -0.6834117657768137, -0.6072893021529783, -0.5635085372114759, 0.36745039274000846, -0.06671014364969902, -0.2580528948450461, -2.260388137336714, -2.2737459923319934, 0.9345040953668541, -0.28765012197090833, 0.05275734219983926, 0.7850525239825493, 0.08832935423477174, 0.9783058030875444, 1.5706713214715373, 0.5793045154764779, 0.22153954878598936, -0.29914163834305946, -0.40674444633544676, -0.21000699040723333, -0.12453732663987072, -0.2530855391262718, 1.762055173663641, 0.9484515007018697, 0.7952347662167235, 1.939941057713086, 1.0818470809133625, -2.5183228028945366, 1.5885082173465621, -0.6699919939707014, -0.8264241723094546, -0.9648474575686485, 0.8447763872450881, 0.9338614913545867, 0.38612223513785815, 2.410597189443842, 2.5632592278804545, 1.05326927409548, -0.9053552940630535, -1.0612954393604288, -2.078521285905004, -2.165907189877109, -0.5975012124868683, -0.4445440743140871, -1.2044111968298916, -1.5807220049705264, -1.5456656256965657, 7.135496263580374, 6.4718646221362075, 8.431642542257487, -0.8688112286102085, -1.03521564175856, 1.2078302908894738, 0.2277162346871464, 0.0555504382034502, -0.46965754017966665, -0.3679328523988245, -1.3742782735177668, -1.2577111855559988, 2.610419630205248, 3.6220102544246964, -1.3657999924364168, -1.2858119789558267, -1.3178047630520457, 4.850705093272699, 2.361513260053866, 1.509100309051619, 1.4839187886666958, -0.7186996851334071, -0.6743151775482696, -0.22018241772993533, 0.10808668523231456, 0.7458919498494199, -1.4461160577514849, -1.2330011862749646, -1.4071161872801423, -1.2312669609587623, -1.1264761790929814, -0.5283560435281633, -1.960500111952017, -0.10520568668828134, 0.15289468445951307, -0.14635876698383052, -1.372782631203255, -1.1889871543952144, -1.3673393929872084, -2.6442308351431407, 2.118668289760069, 1.6227785287860184, 0.6057923090151406, 0.8719679197999749, 0.7635707936671932, -0.10752223828692786, 10.946924303983417, 9.29212634109605, 8.446355416197818, 0.03394923572792073, -0.3269831176264563, 1.0502165161612567, -0.09580788840363308, 2.5371987054798053, 1.867773972579667, 1.3937752579691596, -1.4650106056721603, -1.2297514111290706, -1.3070655952631176, 3.0240689867656356, 1.8459364163440573, 0.27148808046100387, 0.7512075712851476, -0.13699291476029496, 0.08178909287010883, -0.5449605475072313, -2.4934772751867946, -1.9275226989463528, -1.9480066828315417, -1.9394923361766974, 1.3030895354325007, 1.1548569398697037, 0.6738807108636641, 3.455467198489748, 6.773136127582777, 4.0672152120500575, -0.9339270821110388, -0.822888819059126, 0.09271197559142737, 0.7373172978271137, 0.9481445722698622, 0.8852386246214133, 1.3331970917586178, 0.5601199926165752, 0.5009519383982285, 0.16375279072059656, -0.6425698781692463, -0.7972288791939691, -0.5800948398116874, -0.823224623868856, -1.6542094271476184, -1.6570080453599279, -1.5792617389664236, -0.3511323059447329, -0.2768041545920295, -0.9190383624057974, -0.14218173632832995, -0.8320518329297086, -1.156617461548757, -0.8917990744977629, -1.1483333893193035, -0.49288198108002923, 0.6382670862423185, -0.16414502134473657, -0.15326619697899924, -0.26393831214010843, -1.4292548549538868, -1.6161061611661625, 2.324222150961628, 1.456957369370555, 0.533673050241461, -0.8918509584585754, -0.7524841945825376, -1.4348525373183625, 2.6181308376871226, 1.4536507681307815, -2.4304928996037902, -1.3156204370700522, -1.190044423470764, -1.289871389008612, -1.5607487943777199, -2.1861676671944283, -0.9217749843547678, -0.955264934652834, 0.2988132720190004, 0.2883201929856154, 0.4354477924346433, -1.7042883166444251, -1.7699108200389801, -1.7278365376546407, -1.1767997426342864, -1.1702801276635193, -0.9566072171351657, -0.34276651767968364, -0.957857821160611, -1.0637912144697868, -0.551398001484534, -1.09963858655999, -1.1936947719883484, 1.013144727257581, 0.5340050324372353, -0.7604315261262395, -1.3758637011199408, -1.1594565598569437, 2.7111627839852273, 2.0687639639412305, 1.772545145160906, 0.8640585203495952, -0.26169216019116803, -0.24721515076802672, -0.5455925757339707, -0.25747512786653476, -0.46614501200769937, -2.3154056614256295, -2.284102523015687, 1.4314785095368188, 3.609712556298826, 1.870262351695503, 0.4554403820431322, -0.2960485978720541, -0.11157392167507602, -1.1209065584857192, -1.031661401596054, 0.4267669287585405, -1.4418100789525057, -1.4156975059867478, -1.028975902432713, -0.09923050909347195, -0.5428446217554657, -0.712101742322019, -1.3794150343336187, -1.350211726256124, -1.4168457553405935, -1.1774812161961605, -0.9783052234009998, -0.7476924119836085, -0.6673586457832845, -0.8081732867975456, -0.5921669947466867, -2.2169273060004815, -2.1279548123184986, 1.7839966349529175, 0.4662983659203283, 0.36363917753401837, 2.7929146379503083, 3.3637623396509433, 5.801002496360004, -0.05480840792453641, -0.30564936270057663, -0.6410664779639862, 0.012320348292900121, -0.6518714478271849, -0.11075301801113163, -0.22500204873222052, -0.07559778918300439, -0.5397958099652183, 0.013152487071840793, -0.4285990514090406, 0.3780028544047226, 1.5169380141061397, 1.1106857951612923, 1.5993349980504112, -0.3566606573771127, -0.25356622369419296, -0.44530961487819903, -0.7052512717232784, -0.37039909199095233, 0.1700321928581168, 0.20104381375227418, 0.20111972187772165, -0.4659749203667397, -0.2355454133603253, 0.1786573610548782, -0.12887496785413272, -0.8429986800882596, -1.4320560804317681, -1.348195601098291, -1.3095862733702404, -0.28725801236480597, 0.02643985438837595, -0.3271590077165591, -1.0094540297938002, -1.2008014722557516, -1.6059762794627344, -1.5416219174302097, -1.5976589659364313, -1.645249412783377, -1.9814512570851655, 1.0791218238474851, 0.711510668251931, 0.588754823581635, 11.100553475395445, 9.088108634008007, 13.535931003132607, -1.132920146569515, -1.17370111171277, -1.00244324996449, 0.013801898933554154, 0.375909268553641, 0.3226544201346557, -1.1250050277860537, -1.9002120360614965, 0.3914454373361038, 0.22034698450969947, -1.45616676339055, -0.994615115526087, -0.7010424841295424, -0.8321297682940648, -0.8576108388304671, -1.9253848211906424, -1.944819872556397, 3.937796418980682, 3.0420841151684708, 0.19415042101266256, 0.8195456286144478, 0.8253908091402813, -0.7960097998878132, -0.7387753924918825, -0.12912894880098652, -1.9674769156400154, -1.9623913169689748, 5.962069531146306, 5.877175438129054, 3.901892126099196, -1.6153017907491711, -1.5717592016838733, -1.6171184662394456, 2.126868762997342, 2.154217987078516, 2.0170195621246765, 0.06713590157567402, -0.25198913815479934, -0.7205304213024587, 0.2065910907025631, 0.1490643954630481, -0.3237320436177547, 0.06229141814951765, -0.41049118183253686, -1.2956814863024193, -1.3228623850646097, -0.5315589151530137, -1.1420361967695936, -1.0932146057748395, 1.3084692149509591, 1.0233107897643594, -0.8490812649049493, -1.367051373604431, 0.6801833781652944, -0.4151086894477958, -0.4420263658726077, -0.7624202740231255, -0.829439445608526, -0.4114368704972957, 3.9612854368260644, 6.312778302492225, -0.7781874164246194, -1.0967102094297814, -1.4048320589667724, -1.485317310212733, -1.9057202243496283, 2.32993186703311, 2.119508587871793, 2.3362532422172957, -1.5087274756540217, -1.4472454417674174, -1.5462677840039991, 2.3174971379877154, 3.6691036967265322, 2.540115074939489, 3.4780539814006244, -1.5536035521532028, -1.5108098115671518, -1.6486773189644688, -0.5049950433722241, -1.0686115041135784, -1.1038605616748403, 4.568527500965946, 5.144088719348902, 4.446750146765822, 0.7771831494573538, -0.5073664312465185, -0.37081082605393284, -0.4652056247689275, -0.407148755929026, -0.31881919625470145, -0.04851107461159445, 1.0810566980040879, -0.18464698051494313, -0.4209707370512199, 0.9404480412882438, -0.0007204730296564584, 0.20272915860649343, -2.2708258365070404, -2.1413102292644317, -1.27012442108601, -1.4229391633747426, -1.3963995400731577, 3.2912623965052457, 3.1294576809638492, 3.4709096847137153, -1.8045654627676206, -1.75825356912788, -1.8581839512855034, -1.7948447890121126, -0.16535582422912593, -0.01564254935493392, -0.597799741027177, -0.4968290402930576, 0.35607415915831886, -1.4365496738074148, -1.48714768606022, -1.5664667806718053, -0.9359041657624276, -0.8450943711277182, -0.9389038102715256, -0.306852915019256, 0.09535950792227789, -1.9793237208798076, -1.9301982885419702, 2.575848735144912, 2.639913828936933, -2.245659557123709, -0.7431611494883755, -0.8237761940328724, -1.8858186953643357, -2.0078689317405733, 0.4234612731005261, -2.469820565871192, -0.4342548154891581, -0.642317046723604, -0.5754451934272663, -0.5224308243794402, -0.4677237411182572, -0.17360574610731627, -0.9050025922141788, -1.2352320754149657, -1.314661833564767, -0.2549912796282625, -0.7640803949304557, -1.615416417003595, -1.485452704005753, -1.5890646835850795, -1.5110515971286818, -1.041383500438398, 1.0926382524654275, -0.19418768797424527, -0.6533522664314941, -1.446900992282662, -1.215841713097566, 0.07963605860807245, -0.5343787802042473, -0.689987340505576, -0.08498939732326852, 0.17996947778026307, 2.2660060324673035, 2.5920449272557256, 2.5169046094375656, -1.882558642360523, -1.9604891665298874, 0.43854058853012395, -2.07401200866304, -1.9886627607606238, -1.5661162021975334, -1.326561018033438, -1.5583961998545852, 0.5405339988139979, 0.25158851523239706, 3.0871651175678756, 4.059308259228666, 3.233589039541532, -2.034583581971161, -1.9576983614144732, -0.3143287685976615, -0.27767033390272106, -0.04006027870851095, 0.5426402731954192, 0.04821628638647868, -0.14934381799071772, 0.09091059215834525, -0.6877615592389148, -0.0075860409503298604, 0.4838397347738391, -0.23121485162585192, 2.0857993689412138, 0.9513029897755642, -2.7913813665255325, 5.876187059174851, 5.627308599371642, -0.3146778255118737, -0.7091728415095395, -1.0429182313910583, -1.4890495545268059, -1.5796720406251594, 0.4714452619941328, 0.8581602020709239, -0.006048769984518968, -1.6955155384922787, -2.108187504073328, -1.930584123493333, 3.3460043756226665, 3.27066546165989, -0.6430164900301878, -1.223233648286437, -0.4312624382401756, -0.7423460681401727, 0.3881039342403152, -0.2745055115814482, 0.49055045055923946, -1.0524883485268473, -1.0477939330559505, -2.901036701854267, 3.2505942310777627, 2.534359579751994, 1.663621384118412, -0.6309800174004075, -1.1887566809672623, -1.1874267330217598, -2.232501567600813, -1.3300284015162844, -0.35528503693541097, -0.04520641559303312, -0.23627229687254714, 1.9985675666687799, 0.2879886690177695, 0.35326906159882515, 1.070333866385086, 0.7053282426872497, 0.5266885002213165, -0.3702998645842645, -0.0945677025337712, -0.3364161684589661, -2.4661700864710867, 0.33914819381172395, -0.6274331694290269, 1.2211072772003853, 1.247945149692898, 1.3719013049398994, -1.9024805504362554, -1.756258235590835, -1.9121175792854461, -2.4348041885260097, 2.233285110515903, 1.8811840267120652, -2.034346908167059, -1.4125068986396412, -1.491146811408371, -1.506086092854373, -0.41201289561147453, 0.25074699762768676, -0.28246323774030935, 1.720445168436046, 4.605539224889579, 2.4111208299692053, 5.0802880233066485, -0.8105361558167298, -0.9618803736671294, -0.8853228572711356, 5.77420809794761, 3.4486686561986724, 3.17037588982326, -0.9046166815791822, -0.8217542744033883, -0.6983794468502811, -0.4381019899802489, -2.3804169938034696, -2.333391187117636, 0.40412426393051704, -0.09782267217699646, 0.61594862894593, 3.5587384865489646, 3.812928981378163, 7.133733735492172, -0.7186088271702371, -0.8674985080247122, -0.8980728873174275, -1.4743077925745183, 2.2441067606421368, 2.358644751804789, 0.677141865293114, -1.6742723798199601, -1.7441147043877028, -1.4751221665653742, 0.1689027672112075, -0.4309057560467225, 0.11205331280956442, -0.3687237887822965, -0.15677453637059346, -1.0242947101722992, -0.9634160688752826, -1.0598421592768297, 0.49488621039500225, -0.36730760673056817, -0.30480092512797524, -0.8729318379538471, -1.7595184594296451, -0.1750221087948262, -0.4849997109533124, -1.184923066684759, -0.8278151221280644, -1.6156081964159532, -0.5261429737131414, -1.1618435237372866, 1.7875287005101896, 0.9175376568686774, 0.5376959013296295, -2.6381339619225863, -2.4161072288160046, -2.36709365618524, -1.0301192253416245, -1.2405651218401248, -1.1374865729764958, -0.323658108320615, -0.9030430462636007, -0.30277692905694936, -1.2731826545537748, -0.9312969016595151, 2.0901991814600938, 3.5380378297037267, -0.4806008117301166, -0.4982156425075791, 0.108950278962216, -0.9802499508749717, -0.7175027695995531, -0.9394731992919344, 0.3724748568577045, -0.513509102818807, 0.6724843571929209, 0.42581515885802157, 2.474243648370955, 0.9870504681132483, -0.06335834987780817, -0.7502713330576707, -1.1127181986110652, -1.722576168617254, -1.6454675509826855, -0.14289431437271177, -0.14467618700100573, 0.002091510365971554, -2.4131213222356074, -2.3456149567602327, -1.2755140648403134, -1.1795847310637675, -1.1578268881722735, -2.1943917692316854, -1.9206964150210835, -1.093691043760686, -0.8011691991200965, -1.1042330267601386, -1.5591480454525979, -1.5600082610347137, 1.6221389398210473, 3.5067287380433214, 0.4303563475592928, 0.8164174760702274, -1.5404017843035955, -1.314627765868545, -1.5401845246417512, -1.9206299505576283, -0.536833248624444, -1.1177569186472742, -1.3186165999902855, -0.9654694337040977, 0.24187637498749037, -0.1585958841821511, -0.16217935930012797, 2.715042423481641, 1.6606800715041374, 4.615720312114008, 2.813299939968625, 3.062732622616656, -2.1047538887165325, -2.289834021090371, -0.7746498008776307, -0.6013490543168893, -0.8106149386072853, -0.2622298839926748, -0.6519470171984488, -0.8462233449782021, -0.9561277209636874, -0.39971201370363146, -1.2376712589652252, -1.1201413648259344, -1.0291690653421042, -1.545071536792765, -1.635025120612693, -1.483512681447742, 2.2597161961096575, 2.388674722110008, 2.2727194405122892, -1.159474005588897, -1.1904012540837328, -0.5989981210726185, 1.3925139958752015, -0.5467558902105263, -1.1994767398858677, -0.8657638985458339, -1.5271467722586856, -1.390473783079926, -1.2309571356191404, -1.3773288053705102, -1.6108789460380886, -0.4944377607849842, -0.3388603407313175, -0.5350263963502466, -1.6922619227098692, -1.739171167599132, -1.283640096698876, -0.7024132549562323, 0.10062831013159543, 3.877581486327504, 1.6138454712795685, -1.6474986904914153, -1.290819410961392, -1.6309293872759867, -0.014574607383814157, -0.3240118171814636, 0.6004526302336852, 0.01003630181528345, -1.395090841792242, -1.1792927021646333, -1.169406997831285, 0.5076687402171252, 1.0796196655543278, -1.95748363841508, -1.6839490666467978, 1.904017735575869, 2.0399475785524843, 0.9715941547560787, -0.15480251224981526, -0.7572221506110688, 0.13569754653186364, -0.3937661935880106, -0.42688519441975065, 1.838175855941598, 0.8767381892342144, 0.47723300223480253, -0.8755296225645228, -0.2703991620970242, -1.4909493638806255, -1.4658376045199548, -1.4306408539025683, -0.226053473282037, -0.7469208722933318, -0.7940558820230106, -0.11603590387164005, -0.3602987262925339, -0.8046223877465914, -0.08442190031700013, -0.8184605050327421, -0.6449268434012486, -1.404577273699478, -1.6477896897740838, -1.748578088763009, 0.7857666522340288, 1.464256324735803, -0.29447260333791436, 0.2904802412841405, 0.24970743072786286, -2.19882945394259, -2.049186345708899, -0.821142961678098, -0.3763715240176532, -0.6355185238847642, -1.3799872834200575, -1.4662630979866669, -1.0158594981308813, -0.7488298790090884, -0.7129593607611643, 5.749071723481145, 5.7275118707039185, 3.9451594241445216, -1.4332947991148977, -0.8235207978485212, -1.2469572821198456, 1.2622952958517193, 0.8965729292850341, 0.14154847883021107, -0.260404336218027, 0.20566168900318782, -0.59604626359388, 1.8448411664539444, 0.6853988149737165, 1.4337615377632589, 0.8356982437430213, -0.10948971786688699, -1.523079444899129, -1.3553961476199694, -1.0159621713758427, -1.1993764793158095, -0.6489808007161372, -1.7611664514989682, -0.6102008912004265, -0.29781238828188517, -0.5440605477669899, -1.0217158973913545, 1.8946434619563044, 2.7686041104804016, 1.41572324573402, 4.205752354475512, 2.5004123206024307, 3.975736476722528, 0.29145600281702033, 0.1203183514835678, 0.2550270622709176, -1.4350866676712979, -0.2336483395169806, -0.31023402833525654, 0.2587022020790578, -0.740197546654971, -0.43049821400539967, -0.7465589598586617, -0.559670130186826, 0.6250267919679078, -1.8159563384369346, -1.8253523596909447, -1.5701731019136902, 2.246245386473727, 1.5930561131553178, 1.4509570486774657, 0.284362119615076, -0.27171600569416055, -0.20129937631798087, -2.275769393466862, -0.8260947880982633, -0.9060770752090175, 0.7993412970696149, -0.20571492333977798, -0.17872883687097096, -0.4214255208902729, 0.6904846450977342, -0.4079034830757449, -0.3083885027938763, 0.07442697959253285, 0.6389932450896988, -0.19842889927107585, -0.051619360606202105, 2.6010283757847503, 2.440175451954557, 2.689551329263083, -0.992154258857641, -0.9398882752614962, -0.4614052032008498, -2.467900016789955, -2.342769964776658, 0.9865446382882235, 0.8321661119400009, 0.4020777436637256, -0.7310843410621407, -0.7530243666894759, -0.7283112332873795, -2.1221186633348452, -0.44180648873806966, -0.39399837223588974, -0.5514017734505815, -1.789850210091216, -1.7978588546719652, -1.681139996220849, 0.2885312689865097, 0.3854331974808736, 0.5133842222973689, -1.361515818412797, -0.9770174486569232, 0.8535042087476056, 0.9134936328627695, 1.2768254670915982, 2.262883321260122, 1.8666486258461088, 1.3465732113822757, 0.849436404990514, 0.5296345298004813, 1.134016896514666, -1.3547825018596646, -1.241723594812165, -0.4462539276282299, -1.6453581472484056, 2.822870817761102, 1.4238744138454715, 0.0786906106436182, -0.4304653820067661, -2.353300649687652, -2.1188065445456403, -1.2194238789543568, -1.2700778811005717, -0.969197143507224, 0.8428968727158673, 0.21973561040442907, 0.7884058616245765, 3.2542437277333196, 1.9315160395394362, 1.5237668789681604, 2.5988527238222727, 0.3122512936324675, 0.13694491157911906, -1.479087445092283, -1.3176851706062152, -0.2809094275975416, -0.1951286557334726, -1.1630853823040779, -1.0064903865495214, -1.1594450876049134, -1.4828276966648921, -1.3028552092063383, -1.516127001264772, 1.5620846276061422, 1.7728374703262242, 1.3211635692046853, 6.061757816171751, 5.070572051047306, -0.7161319694070571, 1.1184226039720309, 0.5076579931527236, 0.7152591094841694, -0.23055756337705036, -0.514337684793004, -0.0037388460014421534, -1.2644206965723166, -1.3251377815027925, -1.1988964862310272, 2.688880874881892, 3.7405591903684954, 4.416597859121789, -2.371268410059491, -2.2825217004006686, -1.559869016081714, -1.4684076543257727, -1.6161259464220048, -0.6666793169884662, 3.74265655906668, 2.8029749786249534, 0.23736729398242307, 0.5388416571567054, 0.25592498908568956, -2.151893831201143, -0.9732910654547443, -0.7274742845641294, -0.9601508520715699, -0.19438072239956156, -1.2599431175525417, 1.956995879324036, 1.0184354207539374, 1.0417910654841085, 0.37497672444356966, 0.24758750431578297, 0.826654514371579, 2.4560328291040565, 1.6234383645740242, 1.5957002840729513, -0.6390214981452403, 0.13795790578682254, -0.701162849594574, -0.3030027071309338, -0.4291505035640639, -0.9544792269373669, -1.322294367863292, -1.4811236579979494, -0.4485427319821001, -0.6367549845680469, 0.13273075247022817, 2.194663780609044, 1.0798377482275228, 1.104573592171489, -2.0066194194175235, -2.1202470634086565, -1.6429748437517875, -2.109750836571206, -2.3181237675147868, -2.4062208344246687, 0.04262138668793068, 0.308607038563679, -0.14634473546755386, -0.09229324042143029, -0.780896782153741, -0.853422833204443, -2.0274488248292575, 5.41156258479658, 5.514422872536959, 4.366416632139496, -1.3409813468414882, -1.1864275250779237, -1.341870342678052, -1.1809578883508134, -1.458281146002527, 0.08186080405257344, -0.3500305400658953, -0.4419022767769714, -0.5659204516757539, -0.8757097096734435, -1.1429488324258874, -0.06982349779453914, -0.005927476662518767, 0.5677876021640378, -0.18322825726271205, 0.5551792828925748, -0.8198151981476709, -1.2848878772221173, -1.3579208376312677, -1.6232743678584403, 2.4508820320698033, 3.183254202512803, 2.285857658796285, -0.46214670150120357, -0.8001564172456116, 0.7673488600792202, -0.12186670029717202, 0.10302383712181647, -2.278469183477518, -2.20883830123791, -0.7354860992938719, -0.3458867964097153, -0.5578892625181909, 1.0581500171362788, 0.06796893943666128, 0.39488250967416266, -1.741670173723133, -0.6450780017905652, -1.1643805235585531, 0.8720604199728117, 0.9046248192189068, 0.21958574524581317, -1.5391500683776875, -1.2301614996062313, 1.6828707229857018, 0.6224807129252395, -1.1578762378930871, -0.3600196908482349, -1.203732642505832, -0.4434173950856287, -1.0436219634055894, -0.17648683812138363, 0.6082172082937235, -0.17516341776387212, -0.6064949202244841, -2.4664107325784244, -0.778873076199761, -0.5201536887064137, -0.7964636860611667, -1.4328129185498772, -1.276959848337847, -1.3717181081914582, -0.9295417351872419, -0.8427876556378286, -1.1278908460106525, -1.1293763300735882, -0.6301799913941853, 1.2500878029514972, -0.09126700814091768, 0.15389398700994592, -1.953463447068818, -1.8655327419418004, 1.043231533462543, 1.218140481886581, 0.5916574079554768, 8.844454300377105, 7.206167331935782, 6.623838762968068, -1.3938182021264487, -1.3742143283504133, -1.388574342120641, 2.027558071792856, 1.7206997911297555, 0.9624488168247531, 1.112571178585776, 0.40685415909839995, -1.5409286345633828, -0.937342088465225, 0.9690842921551949, 0.4847557074077712, 0.6221429090228495, 0.07356574540241045, 1.690667404703944, 1.1896770364585658, 0.2004000050238801, 0.564855960562188, 0.4301100271668654, 0.08451841325877135, -0.4386661262970188, 1.24989137847849, -0.2533386097626414, 0.5337440629835214, -0.18065549832303626, -0.8021862785647235, -0.5043633128892773, -0.8772785531839818, 0.14028227660248233, -0.8878563020671744, -2.7782446496070254, 3.9128557385861766, 3.8688806054238962, 5.407743535962851, 0.9371745138606982, -0.7370009626593814, -0.5873107443400848, -1.303207934455785, -1.0198800167189153]}, {\"axis\": {\"matches\": true}, \"label\": \"1\", \"values\": [-0.08670320006836969, -0.39302453179511415, 0.15104557630735976, -0.08916097188766549, 0.2911654655813755, 1.047514605230839, 2.2856468045637146, 1.6899942431507884, 1.6174127853557227, -0.08955817990671892, -0.26248498918029844, -0.000498776138104103, -3.1250125945426084, -1.5635280481731533, 0.14603018221621553, 0.3120744597800683, 0.1406637758963286, -0.06719851284977817, -2.659806461826483, -3.293046221053652, -2.347317323977997, -0.2803798524131184, -0.26524577372304925, -2.264582494023909, -0.5684220221962536, 0.13561313111075532, 0.05179236712579277, -0.49057910506340585, -0.6470550114643899, -0.38712139278221863, -2.246027118688403, 0.14788978579821763, 0.4516876581208571, 0.342394226106045, 0.18738526504651132, 0.8622806904397698, 0.7595812986355844, 0.06487104714151079, -0.05327425616386337, -1.1366530639338812, -1.1476529061396419, -0.09019204817883171, -0.4053699896069957, -0.03277839304677939, -0.37584346300488103, -0.1773460541904524, 0.44305897919799186, 0.40842965809760506, 0.6884647625513113, 0.6797568243557687, 0.2113224356760983, -0.11633410165302199, 0.19654837397377084, -0.9576554452757345, 0.683300741809817, 0.36782465421457805, -2.797045714240805, -1.9912589046426117, 0.9467084052933411, -4.381184151618047, -0.3893044266658647, -0.22695336880985637, 0.6023403712743456, -0.38278520169676244, 0.04170065964208899, 0.4525838012856601, -0.7667030751239878, -1.1292790740032224, 0.43457332687575595, 0.7858910732970907, 0.9562212800502347, 0.09734369310085342, -0.04826685510351211, 0.2319589620763435, -0.09632975335870184, 1.3660597576824676, 2.097859604530997, 1.6685698156928501, 4.890257976703077, 3.153662403011688, 1.9284954724351875, -2.483639369983678, -2.1039546787364665, -0.7615879888609322, 0.6634183464624248, 0.655942817350706, 1.575101477969132, 0.07018990914529076, 0.9662266513683528, 1.0153185387963481, -2.043308539469286, 0.8427951862022627, 0.17141248055400465, 0.24876766821118346, 0.3068980373008535, 1.6348632864473023, 0.11731680392115817, -2.4372917815313957, -1.7932345713847584, 0.9418586511644987, 0.9538429206799574, 0.23122470422970656, -2.12217243685678, -2.4872164021281353, 0.0857004480936435, 0.4993738866461671, 0.10390976347578637, 0.306646509466829, 0.6222756864832054, 0.4576855416631721, -2.756965503140626, 1.6812308398893683, 0.8743825483016102, 1.4093334393140682, 0.08281803567024616, 0.3235471812428563, 0.07909209415533398, 0.6442756249267737, -3.2854579722268253, -2.531357404226161, -2.7361630675059345, -3.0121466666342105, -3.039467282953193, -1.961590170092135, 0.09407988487112082, -0.15180156530931432, 3.4869625651240383, -2.9555176765598983, -2.5894875843982064, -4.0673889083460475, -2.937388873438158, 0.7396399597269017, 1.8534257170277815, 1.42564649312506, 1.7647220261017382, 1.9539947620321152, 1.8655039961631674, -2.7558410036778316, -1.6338901811600715, -2.7355443529128705, -2.8944392697428665, 0.6983884259250903, 1.7486802047506156, 1.1140969407995425, 0.8931328959237923, 0.9849150629968243, 1.112438522021371, 1.0324831697393355, 0.9852313033277296, 0.8091243873947466, 1.762665054507763, 1.3924184506246078, 3.639937339096871, 0.9957221280765503, 0.7930466744400227, 0.8415517640846637, -2.4667819784931484, -3.0151379026211464, -3.345336497319847, -2.9294720059712134, -0.5688679047667843, 0.4353543656331088, 0.4758727031886618, -0.7020602003119986, 0.4157633449837448, 0.1681982663901846, -2.707076983709068, -2.0520644455568573, -0.34175616293325584, -0.32742804776124596, 0.07433726085164, 1.9724643698382724, 1.4975454800644497, 1.1308753198872707, 0.9709652270112639, 1.0584868029391967, 0.06624005131220334, 0.18201462482032457, 0.04901791889015859, 1.0211676257099944, 0.487452734457284, 0.7252587548182426, -2.3831071685721215, -2.204108254142374, 0.4154099001774201, 0.5663755446286461, 1.3270457112813359, 0.6888370396646734, 1.698180671920457, 1.8244414288210886, 2.2074486347249738, -3.0138516883880473, -1.991370646140843, -1.5376216955083872, 0.946381917070087, -3.32587275594124, -2.2415510948400104, -2.3310186279411615, -0.8906380671374278, -0.4310430904250546, -2.1509460026081832, -2.0536489965584495, 0.00979902949482239, 0.3132429699677313, 0.3920974703015502, 1.3692925089591665, 1.4705296922518956, 1.4556996667139268, 1.19577159873645, 1.3112981270386643, 1.3680131187648934, -0.5947627467988656, 0.39910376641620454, 0.04170621711155441, -0.25081899746693015, 0.4328401138172092, 0.1057362446628987, -3.0868295890313626, -2.0784738514162573, 1.4584104711148707, 2.0589412316213522, 2.0989830969701115, -1.977498670192593, -0.36004078819225876, 0.1900852597563049, 2.343486631778981, 1.5908557751529622, 1.6650122114055044, 0.3018569969883464, 0.7838524138274755, 0.31830132100316255, 1.0570002154161275, 0.8496499563752862, 1.7787588265427439, 2.2635648453167576, 0.990791887487193, -0.42032436055286115, 0.45961747710668904, 0.7030366577218029, 1.741061782379517, 1.9391372706482461, 1.7007542966442246, 0.6598770961911915, 0.8127741908203513, 0.12225476461250505, -0.5961573275033285, 0.08027761531860948, -0.06621523160426407, 0.8645840559363865, 1.154642284639348, 0.8753807928581292, 2.560483290193452, 2.100091403445332, 2.653180582162283, 1.1977171556910706, 1.6683319073980618, 1.6669527537801785, 0.6622566222540573, 0.9782996664053139, -0.5815849556549125, 1.0421714943166716, 0.6309357127134178, 0.5801193912281086, -0.14761292070058665, 1.3272788191713432, 0.1839049494187374, 1.666759947350769, 0.847154591504115, 1.4245888718962607, 1.363162030930358, 1.6158665571487643, -0.44271712402170393, -0.35239818951204055, -0.3206568731601925, 0.8681539690735418, 1.6539180433616443, 1.5891822246712612, 0.950774313158842, 1.8860748809840773, 1.35672925718303, 0.8751589483461784, 1.24649180934365, 0.7603820350730742, 0.41595205518825024, 0.505121183596782, 0.7990406566527845, -0.1601593497456848, 0.7224708812071707, 0.1643162788491762, -0.38996706644034745, -0.7989825068645211, -0.23812674479475388, 0.4450171231077185, 0.9952416457306366, 1.0148332213328937, -3.0555513621634773, -0.19585595190342472, -0.1522524972844504, -0.12485031797557965, -3.263778026423656, 1.6248684250939522, 2.0199283782966253, 2.164673862275448, -1.927714549100329, -1.8142158850488512, -2.433879210560577, -1.0839561494055716, -0.646670506788152, -0.3716166094042884, 0.781501521336385, 0.9208907088598745, 6.049006262645323, 0.36773769659227984, 0.4491574699886489, 0.6232735940465596, 0.1422534393438309, 0.23473064335976115, 0.7796454582427109, -3.747608358201734, -2.491555005606021, 0.6399543335446949, 0.028333683101732458, 1.0277602086260322, 1.6454447546659883, 0.28188066411757656, 0.0428156419585934, -0.028170176466348847, 0.3538068955453936, 0.2810886500640401, -3.896846298085762, -2.3081529274246653, 0.09658396380346641, -0.3565810300058248, -0.6662313599136535, 1.3696847255187732, 1.3123189052308355, 0.6647881325521416, -1.5560263785238868, -1.541850997532995, -2.285098600941811, -2.4698450156433953, -0.6252585734475958, 0.20884887353032625, 0.2869621811898758, 0.3028101025829054, 0.8513156138838804, 1.7897278249382347, 1.4923651541422505, 0.8646121990258838, 0.6866079592576626, 1.2640070927053253, 0.41104627883415223, 0.4628059415110765, 1.0968483762291426, -2.937219110459917, -2.1662750559614814, -1.8975403351406386, -1.7251123377217858, 1.1344284009565355, 1.8126729525752785, 1.4886154125805686, -2.852334245223126, -1.308193044284993, -1.5620899844365999, -1.474395659722665, 0.1685405555925722, 0.7556236220136929, 0.5800328503537352, -0.041799632014090156, -0.18132054991613913, -0.5540263710506304, -3.833522979551953, -5.741260873394614, -0.21551562189056322, 0.3919408653872229, 0.2925403360097259, 0.21145602288385015, 0.7475724408925369, 1.238955773465429, 1.2412288277518688, 1.230176909797316, 0.30469227416313377, 0.05763800575357899, 0.13276614498198805, -2.949532394361723, -1.9570687024214897, -1.6843949506737539, 0.9762491907650837, 0.6353596509620272, 0.5971631562296008, 0.30814581140692765, 0.4705729723769036, 1.2662539211073074, 1.065925709043167, 0.0724976237266756, -1.9298402665727687, 0.34644488964019243, 0.3945908913790216, 0.09666225422217559, 0.006061530071532764, 0.2778533770208012, 0.6062856925724666, -2.8064870596891804, -2.855402279186859, -4.087579456335875, -2.9682820822853775, -2.0402484946202573, 1.6881177229304825, 2.2739016929194134, 2.0531255774624886, 0.34466725396985415, 0.6030440012215471, 1.0136057802943443, 1.0837181272591698, 1.2058152545565763, 0.897891936732145, 1.1080170412856225, 0.7232423686371952, 0.6314480883140521, 0.2975973066834601, 0.19267053875965068, 0.20521788652119605, -2.26191291549963, -2.2434062640914134, 0.5699693748538962, 0.7778217540165518, 0.7130680587470333, 0.7258266411130568, 0.768345756927141, 0.6206474937336784, -0.004903054502341905, 0.09244608462161552, 0.02412374309731506, -2.643046474508467, -3.0264495765698247, 2.4833069461330166, 2.081654553452101, -0.8290327718120089, -0.11368303607087504, 1.8438465245596363, 2.146572429228514, 1.598459933063129, 0.899665903112335, 0.5093226654751553, -4.0444379713376994, -1.752481767584848, 0.5512332657500111, 0.14457227383122576, 0.17802501794881, 0.06656098030864466, 0.12298223702955156, -0.0739678927203192, 1.4927027034195628, 2.2014910448964575, 2.1834688709622294, -0.13968888274834224, 0.8254727856520033, 0.2603067430337504, 0.4958976939739904, 0.2885869280543181, -1.7192139556237287, -2.1465596765385775, 2.9660808225379487, 1.9898049942034508, 2.8654561510376717, 1.9179281004660598, 2.1860712281061216, -0.15393192414566403, 0.872596811873124, 1.123297363155855, -2.7261302132942467, -2.7356090199808083, 0.12795046573498103, 1.579312106439839, 0.5236026122285584, 0.4861173862742583, 0.9021535137208984, -4.121827171490743, 1.1868922106845756, 1.1126966939466585, 0.15238732306459357, 0.2067520371229891, 0.060862063985871566, -2.8039242815854384, -2.511615354185389, 1.670839168734098, 0.3197924754593509, 1.3023828697294306, -1.0316456867258004, -0.7372859313434195, 1.0958699534552971, 1.1151103562089553, 1.4323121256981626, -3.0474463116497197, -2.4512323901253525, 0.10799344624323311, 1.1374527052579835, 0.7964024460768898, -0.8851436666454228, -1.237370494571101, -0.7672298463051337, -3.0017710870086085, -1.4939294957696518, 0.5353625683609052, 2.71474187676894, 1.973001988572068, -2.9226444318235743, -2.2860273302936425, 0.40387417859686237, 1.0032249494774987, 0.7189812698864902, -0.34560247252117066, -0.08024850410123802, 0.14985742688869438, -2.8103869782001016, 0.9256046642085091, 0.8808155597037209, 1.2523278492454506, 2.171363618916231, -2.3566062145796387, -1.1860922398267146, 0.2834213699587072, 0.5765304906213715, 0.36278703368697757, 0.9452358330895893, 0.9709615259063957, -1.3844891134114992, -1.6781334480637895, 0.16210947013503194, -1.86243107058693, -0.3841872785267087, -0.4074210260735268, -0.3559973789945306, 0.3598997525079126, 0.2727688665779459, -2.660346128415346, 1.1145113032110094, 1.45848619161567, 1.5637933463327305, 0.9453256556027236, 3.0726244745331055, 3.5854366355525413, 2.8862065173816367, -0.4779264311318567, 0.22094678516331967, 0.26358373132911117, 0.12270048247518611, 0.3884291222761412, 0.21333769230355595, -2.40383547630534, 0.7306628126401256, 0.4977046562757805, 0.7722208472219859, -0.09611026026904984, 1.0357099025818248, 1.1675935766997887, 1.1076969597232547, 1.1685503353424824, -2.158336319051974, -3.919880139666143, -3.156077712617243, -2.656384943775204, 1.004771954666305, 1.0233234070190937, 0.8957137659872894, 0.9838648918822208, 0.6084154147721096, 1.442859706437787, 1.5828392860693763, 2.7017222133518994, 0.909051700723561, -1.1348987798981893, 0.8107561428889365, 0.5670453452015776, 0.5914331707310126, -2.1402582132191696, -0.5291571743089672, 0.32443902322668644, -0.013555254867115526, -0.29696335937624757, -2.39949629545111, -2.237673035897328, -0.07253067716833056, -0.04333922033122333, -0.3338936435637746, 0.5214471765912048, 0.625542789438574, 1.79309286258674, 1.7641357436443446, 1.502899708543541, 0.5745427030167682, 0.4750255264305142, 0.30808571917840694, 1.596516004815429, -1.799585640379652, -2.015887716908954, -2.774010043813666, 1.2589393404466287, 1.2202760304643854, 1.2765401516296555, -2.860226706101184, -1.7789702722118639, -0.20731546805677675, 0.6120227691639778, 0.8508343126906571, 0.265551350852096, 0.7742465151180239, 0.3213905268678871, 0.4576441697840743, 1.4323589713520706, 1.5317556447309664, -0.6703221056078362, 0.21934493702139649, -2.9481020782407508, -2.275744769079272, 0.8131149890914372, 0.651214167629106, -3.056531037857102, -2.613458139639381, -1.489710452898571, -0.8868431543225137, 0.7414821012291425, 0.7966479285309329, 0.7168264769140179, -0.23336741069222114, -0.15932533886635528, 1.4641167024727626, 1.4437192930279055, 1.5400204218004596, -0.48721107510397055, 0.13484033595979458, -0.12260605792497362, -3.3474676961992484, -2.048383495473727, -2.483372108654056, -3.609320553144325, 0.08385015439682884, -0.08053046377990618, -0.2625534979628171, 0.12446059432289068, -0.27781546628192916, 0.22911077761055682, -2.672111693264711, -1.5489997853354371, 2.7125658631472103, 2.380445872450088, 2.6365396054925876, -2.0915771491166164, -1.147021351221306, 0.10810413098597857, 0.9166265833676125, -2.2557824578201577, -1.9207090656640013, 0.28853125122332324, 0.2777291822342555, 0.4243331774527159, -0.18244873670947492, -0.0965941369122316, 0.07975050573490677, 0.40636446866672665, 0.35139867764620814, -0.18761508247940273, -0.16846823062035216, -0.509913010934669, -0.3425192744369578, -0.5064633783260203, -3.0881932742008362, -3.075877064021669, 1.6061334109539862, 1.431990630551256, -2.9946088803621254, -3.1694745281446166, 0.4860212893502109, 0.3444537248723786, 0.524531900590315, -3.103599935700523, -2.0906321220824866, -1.979332221279562, 2.044775570918818, 1.9439179804894133, -0.16672334933442529, -0.11855795162129568, -0.2411150695601845, -4.031308105571889, -2.1024171332535033, -0.2108169828639296, 1.7139035249570354, 1.5698535823070032, 0.5304687061991236, 0.6354430856211454, 0.1022380617772617, -0.08950607158700805, 0.11130488794751854, 0.84221248805794, 0.7724918383330016, 1.4225084177955092, 0.9867639427161058, 0.3152037623329461, 0.2734831022698728, 0.5388707963444478, 0.6102424687111484, 0.904295981474408, 0.6126781229991964, 0.8876506531824115, -0.2599598500495927, 0.4368129100522229, -0.10597658117008718, 0.2392801838141248, 0.2150299558526414, 0.03585510306592921, -4.634195437916218, 2.8478602371784, 3.083214832090626, 3.5164986928421467, -1.443552877185348, -1.5889274808508822, 0.3254737907183365, 0.3998486630037341, -3.175385656409206, 0.06866863513691364, 0.2920991354006624, 0.08566257467180581, 0.31285802642502547, 0.20115939836201654, -0.23049598233563665, 1.0811472627961356, -0.22933465097775083, -3.4170681714829723, -0.22964834657965796, 0.10181502037682436, -0.24902448004713162, 0.1507373435179604, -2.74583289816921, -2.1977739923127944, -3.65480214316666, -2.3183411200215533, 1.1619718971710613, 1.4846392611334074, 1.0436182259347706, -2.7058586008500067, -2.7872257297898737, -2.8376934134565537, -3.0589405815279473, 2.903636272243424, 0.9270777787020291, -4.61052426750551, -2.517251354165341, -1.868658501894757, 0.4112473971092104, 0.09917075197616038, -0.0008640809859339073, 1.5074025489119638, 1.347728188548217, 1.3830744669243225, -0.2480240694746074, -1.001621041230802, 0.4625433237447251, 0.6162806845586715, 0.48192166319282503, 0.11590430371451776, 0.8347338315275175, 0.7547904726023578, 1.0573031576566116, 0.8222748811558105, 1.3120275301103002, 0.48204758167827594, 0.9070657411458498, 1.2038931567778246, 0.06335959328782345, 0.3970751024445078, 0.10381429959802048, 0.967374904807401, 1.2407280213830436, 0.6382870938008528, 0.12867877648490056, -0.13292471932980796, 0.057135949326415254, 0.3486516741010956, -0.07679229416044556, 0.12757183493533805, 0.4731704382380235, 0.9025500633089794, 0.6323436248690513, 0.21868509673484962, 0.36464373347273227, 0.6500731314118903, 1.129633766982058, 0.06723824899518238, 2.0750234814390303, 0.283097779283873, 0.06911738755068003, 0.4790659948128302, -3.1988538582368555, -2.4856566155487467, -2.8364783673771425, -2.135980355596284, -3.2074379890193936, -2.000558893189576, 0.01351958105547187, 0.6227056453597565, 0.8131001327874039, -0.7060828091946328, -0.9441754590908511, -0.2497153638729161, 0.15002297822715097, 1.7420227738705898, 1.6650422891475942, -1.4539632009829138, -0.424397453191375, 0.43230617918886316, 1.3838205393947098, 0.7434253527108687, -2.9590976250874377, -0.7476742951577483, -0.9702424677985276, 0.15372671187022544, -1.5871948448659794, 0.4110853045589462, -1.3035389890057283, 0.6054513525158985, 0.08205367554815657, 0.5153121743599458, -2.550073789613802, -0.5317076580460239, -0.1807433957209002, -0.7013053645778569, 0.7707790507010334, 1.543625828600184, 0.7263762756540795, 1.6033286813619956, 2.3895251725246367, 0.5285028619132754, 0.47422495961695765, 0.6335835112597784, 0.888142640321175, 1.8735170518447861, 1.8865886119977568, 0.057054776225248786, 0.060404030075421423, -0.30834665913385084, -2.452267321461714, 2.045065196789531, 1.6719316887936466, 0.5202298336572132, 1.2515914610886745, 0.9239575061285479, 1.20155886811419, 2.5597942135978635, -0.1322987279122417, 0.1871545780387827, -0.45675336556863805, 0.2776178058840865, 0.8163685666491901, 0.9973435955609629, 0.5555486924176727, 0.9930384701978183, 0.9292193781369082, 0.24722981204295608, 0.5834994225710529, 0.41202358077005663, 0.8878032087261469, 0.9192247963357955, -0.13043538525758927, 0.15021110779207694, 0.3608273966462287, 1.5449328092191206, 1.3475153918468077, 1.671233856620182, 1.9402689712466568, 0.5922379860856269, 0.8449285421748839, 0.3904945596035345, -0.09015711722612713, -0.07558032712246736, 0.2681555124633293, 1.2210085631580645, 1.1341054199648533, 0.9637330776911494, -0.47613792730455906, -1.3792371838773518, 1.1010976096744143, 1.5290720425483375, 1.4207999204853612, 0.17536356737624878, 2.4701325496025457, 1.1327967184325591, -0.2042062887419588, 0.5344147798008628, 0.5774903074457304, -2.5454939783866113, -2.6445837701608985, -0.8848315885341936, 0.3506553468403019, -2.2279535860870463, -2.5578777060422193, -3.038478330708074, -2.1302836998869377, -2.7349496610355963, -2.834826195100241, 1.3867743262579388, 1.4461221258349666, 1.5978567908428343, -0.6282978722260296, -0.4113382277764477, -0.9499555584852776, 2.0062791541286655, 1.1223119269729083, 1.9844940890307088, -1.3245658319469562, 1.6587783370711, 0.8134642224437708, -2.418136875270157, -2.576599766458458, -2.4038748132877235, -2.446007578439863, 0.6502970892286294, 0.51864491351347, 0.5118151839242853, 0.1793880032115256, 0.018406462478167802, 0.1768522316385322, 1.09217426172005, 0.19989303246493917, 0.5916885886561785, -4.833529872234197, -3.489633556577082, -1.6928845456315866, 0.7743519155279294, 0.12636464263369668, 0.16727515584621125, 1.5386606033021946, 0.7159896125081557, 0.14345918655208725, 0.5450075733292811, 0.5494658376942781, 0.7516136432612057, 1.6233931033496678, 1.5025101816375377, 0.5691156365928078, -0.13367482153826127, -0.017980689657639454, -2.3329217628710617, -2.1085712649993162, -0.5228082725089124, -1.4274112623504511, -1.092055850967851, 2.624482901815493, -0.33451319670572843, 0.04122840580878027, -0.33431862586641126, 1.9612396887643806, 0.08922199529265658, 0.2421990968779426, 0.1547249993451199, 0.05645796907712209, 0.6982679299606599, -0.5532878184791301, 0.6052580070288609, 0.5096782573705816, 0.39875731469547393, 0.5474192353480207, 0.844366449009399, -1.937840496908107, -0.4870350511307288, -0.3919909869990095, 0.19369665678672301, 0.6807175761490876, 0.7075766347609775, 0.904814592186985, 0.20701553924094543, 0.32460556570509175, 1.1060229513253106, 0.9010255543856622, -0.7829473333166264, -0.7205573791106286, -1.5415795004150155, -3.8725668573494443, -2.267718294295258, 2.612974529185299, 0.7719875386752956, 0.6304419029513268, 0.510099177165864, 0.9833394411983524, -2.6038858308500035, 0.7201299726639682, 2.0207210832597395, 1.0656058248951155, 1.8088857680564803, 0.5523782767517383, 0.9988287372805928, 0.7615134071666375, -1.6573206520933463, -1.8035973447855285, -0.9641242132356033, 0.6687990240565183, 1.5174578906001992, 2.0948703395728407, 0.5250892274436794, 0.3839411079434622, 0.27958049836177684, 0.5933975833436437, 1.6178955069388514, 1.2333358318250127, -0.14763698449508356, 0.5439035811547535, 0.48519818565503714, -2.802920081293869, -2.5155635950295356, 0.6940596639703522, 1.1809971756250632, 1.0418065619890515, -2.1543990170180836, -1.3094559821007175, -2.3471284214478065, -2.3185967513794896, 0.8235720787764108, 0.2566506499752809, 0.2706247348662161, -3.0132243040327236, -2.1760224448876677, 0.4997679880178991, 2.0246014396319696, 1.672044896866698, 0.1315505995902038, 0.17877053493055928, 0.15480391313669262, 0.5217106049090616, 0.41482522486111156, 2.139649048642828, 2.1655064531116093, 2.356532611453545, -2.5234784029233395, -2.4419553543916135, -1.6206907453410964, -0.0032260081380369593, -0.07936217091630396, 0.33283762893481017, -0.6078110700688041, -0.9093408178565103, -1.3519327118575792, -1.4325918255820353, 1.2096215307335156, 1.0354069254883096, 1.200535154161215, -1.956099536109266, -1.8555528782980486, -0.3017184202484678, -2.2207142202460304, -2.8809381695916865, -2.323700947565523, -2.510217385516861, 0.11127299124562338, 0.03886545299000525, 0.06091298843560883, -0.13103032367868858, -0.3324519180355149, -0.006483693477354261, -2.46646605522255, -2.156721004454523, 0.8358937548161078, 0.6978956594260405, 0.06906683807253901, 1.0189695944580959, 2.10012759226581, 2.013025534716933, 0.4889376574566899, 0.7449954529277589, -0.0974430290645998, 0.16467095759547032, 0.5459391044939912, -1.879828879402515, 1.1622976454714165, 1.0574652314127875, 0.0591426228164534, 0.29177339780071304, 0.12104514054963465, -2.8752932781580753, -2.409471168048271, 1.8192518106363995, 1.9170731236334013, 2.2020672961848335, 1.95903836771398, 1.8069049332474343, -3.686834845004549, -2.599221059178965, 2.582670981013853, 1.1834134955346602, -1.959300428381665, -0.10561563278478014, 0.4307898425300569, 1.3764322525280561, 0.8930506568159687, 1.5681034880994897, 2.3675894157851167, 2.368719825480497, -2.64182832876655, -3.1657558404190014, -0.18630117077011632, 0.480657439261963, -2.812213070706279, -2.3711942003153337, 0.22437525508108197, 0.8785671061566437, -0.4204498978742193, -0.030877125706641115, -0.4158493759429126, 0.9379647317634017, -0.5008065178230235, 0.2750958414382833, 0.36258947320568846, 0.24230898207911097, 1.0680069590455046]}], \"hovertemplate\": \"%{xaxis.title.text}=%{x}<br>%{yaxis.title.text}=%{y}<br>color=%{marker.color}<extra></extra>\", \"legendgroup\": \"\", \"marker\": {\"color\": [1, 1, 1, 1, 1, 1, 1, 1, 1, 1, 1, 1, 2, 2, 1, 1, 1, 1, 2, 2, 2, 1, 1, 2, 1, 1, 1, 1, 1, 1, 2, 1, 1, 1, 1, 1, 1, 1, 1, 2, 2, 1, 1, 1, 1, 0, 1, 1, 1, 1, 1, 1, 1, 1, 1, 1, 2, 2, 1, 2, 1, 1, 1, 1, 1, 1, 0, 0, 1, 1, 1, 1, 1, 1, 1, 1, 1, 1, 0, 0, 0, 2, 2, 1, 1, 1, 1, 1, 1, 1, 0, 0, 1, 1, 1, 0, 0, 2, 2, 1, 1, 1, 2, 2, 1, 1, 1, 1, 1, 1, 2, 1, 1, 1, 1, 1, 1, 1, 2, 2, 2, 2, 2, 2, 0, 0, 0, 2, 2, 2, 2, 0, 0, 1, 1, 1, 1, 2, 2, 2, 2, 1, 1, 1, 1, 1, 1, 1, 1, 1, 1, 0, 0, 0, 1, 1, 2, 2, 2, 2, 1, 1, 1, 1, 1, 1, 2, 2, 1, 1, 1, 1, 1, 1, 1, 1, 1, 1, 1, 1, 1, 1, 2, 2, 1, 1, 0, 1, 1, 1, 1, 2, 2, 2, 1, 2, 2, 2, 1, 1, 2, 2, 1, 1, 1, 1, 1, 1, 1, 1, 1, 1, 1, 1, 1, 1, 1, 2, 2, 1, 1, 1, 0, 0, 0, 1, 1, 1, 1, 1, 1, 1, 1, 1, 0, 0, 1, 1, 1, 1, 1, 1, 1, 1, 1, 1, 1, 1, 1, 1, 1, 1, 1, 1, 1, 1, 1, 1, 1, 1, 1, 1, 0, 0, 0, 1, 1, 1, 1, 1, 1, 1, 1, 1, 1, 1, 1, 1, 1, 1, 1, 1, 1, 1, 1, 1, 1, 1, 1, 1, 1, 1, 1, 1, 1, 2, 1, 1, 1, 2, 1, 1, 1, 2, 2, 2, 1, 1, 1, 0, 0, 0, 1, 1, 1, 1, 1, 1, 2, 2, 1, 1, 1, 1, 1, 1, 1, 1, 1, 0, 2, 1, 1, 1, 1, 1, 1, 2, 2, 0, 0, 0, 1, 1, 1, 0, 0, 0, 1, 1, 1, 1, 1, 1, 2, 2, 2, 2, 1, 1, 1, 2, 2, 2, 2, 1, 1, 1, 1, 1, 1, 0, 0, 1, 1, 1, 1, 1, 0, 0, 0, 1, 1, 1, 2, 0, 0, 0, 1, 1, 1, 1, 1, 1, 0, 0, 0, 1, 1, 1, 1, 1, 2, 2, 2, 2, 2, 1, 1, 1, 1, 1, 1, 1, 1, 0, 0, 0, 1, 1, 1, 1, 2, 2, 1, 1, 1, 1, 1, 1, 1, 1, 1, 2, 2, 1, 1, 0, 0, 1, 1, 1, 1, 1, 2, 2, 1, 1, 1, 1, 1, 1, 1, 1, 1, 1, 1, 1, 1, 1, 2, 2, 1, 1, 1, 1, 1, 1, 1, 1, 2, 2, 0, 0, 0, 1, 1, 2, 1, 1, 1, 1, 1, 2, 2, 0, 0, 0, 1, 1, 1, 1, 1, 2, 2, 1, 1, 1, 1, 1, 1, 2, 2, 1, 0, 0, 2, 2, 1, 1, 1, 1, 1, 1, 2, 1, 1, 0, 0, 2, 2, 1, 1, 1, 1, 1, 2, 2, 1, 0, 0, 0, 1, 1, 1, 2, 1, 1, 1, 1, 1, 1, 1, 1, 1, 1, 1, 1, 1, 2, 1, 1, 1, 1, 1, 1, 1, 1, 2, 2, 2, 2, 1, 1, 1, 1, 1, 1, 0, 0, 0, 0, 1, 1, 1, 0, 0, 0, 1, 1, 2, 2, 1, 1, 1, 1, 1, 0, 0, 0, 1, 1, 1, 1, 2, 2, 2, 1, 1, 1, 2, 2, 1, 1, 1, 1, 1, 1, 1, 1, 1, 1, 1, 2, 2, 1, 1, 2, 2, 2, 1, 1, 1, 1, 1, 1, 1, 1, 1, 1, 1, 1, 2, 2, 2, 0, 1, 1, 1, 1, 1, 1, 2, 2, 1, 1, 0, 2, 2, 1, 1, 2, 2, 1, 1, 1, 1, 1, 1, 1, 1, 1, 1, 1, 1, 1, 2, 2, 0, 0, 2, 2, 1, 1, 1, 2, 2, 2, 1, 1, 1, 1, 1, 2, 2, 0, 0, 0, 1, 1, 1, 1, 1, 1, 1, 1, 1, 1, 1, 1, 1, 1, 1, 1, 0, 0, 0, 1, 1, 1, 2, 1, 1, 1, 2, 2, 1, 1, 2, 1, 1, 1, 1, 1, 1, 1, 1, 0, 0, 1, 1, 1, 2, 2, 2, 2, 1, 1, 1, 2, 2, 2, 2, 0, 0, 2, 2, 2, 1, 1, 1, 1, 1, 1, 1, 1, 1, 1, 1, 1, 1, 1, 1, 1, 1, 1, 1, 1, 1, 1, 1, 1, 0, 1, 1, 1, 1, 1, 1, 1, 1, 1, 1, 1, 1, 1, 0, 0, 0, 1, 1, 1, 2, 2, 2, 2, 2, 2, 1, 1, 1, 2, 2, 1, 1, 1, 1, 1, 1, 1, 1, 1, 2, 0, 0, 1, 0, 0, 0, 1, 1, 1, 2, 1, 1, 1, 1, 1, 1, 1, 1, 1, 1, 1, 0, 1, 1, 1, 1, 1, 2, 1, 1, 1, 1, 1, 1, 1, 1, 1, 1, 1, 1, 1, 0, 0, 0, 1, 1, 1, 1, 1, 1, 1, 1, 1, 1, 1, 1, 1, 1, 1, 1, 1, 1, 1, 1, 1, 1, 1, 1, 1, 1, 0, 0, 1, 1, 1, 1, 2, 2, 1, 1, 2, 2, 2, 2, 2, 2, 1, 1, 1, 1, 1, 1, 0, 1, 1, 0, 1, 1, 2, 2, 2, 2, 1, 1, 1, 1, 1, 1, 1, 0, 1, 0, 0, 2, 1, 1, 1, 1, 1, 1, 1, 1, 1, 0, 0, 0, 1, 1, 2, 2, 1, 1, 0, 0, 1, 1, 1, 1, 1, 1, 1, 1, 1, 0, 1, 1, 1, 1, 1, 0, 0, 0, 1, 1, 1, 1, 1, 1, 1, 1, 1, 1, 1, 2, 2, 0, 1, 1, 1, 1, 2, 1, 1, 1, 1, 1, 1, 1, 2, 0, 0, 0, 1, 1, 1, 1, 1, 1, 1, 1, 1, 1, 1, 2, 2, 1, 1, 1, 2, 2, 2, 2, 0, 0, 0, 2, 2, 1, 1, 1, 1, 1, 1, 1, 1, 1, 1, 1, 2, 2, 2, 1, 1, 1, 1, 1, 2, 2, 1, 1, 1, 2, 2, 1, 2, 2, 2, 2, 1, 1, 1, 1, 1, 1, 2, 2, 1, 1, 1, 1, 1, 1, 1, 1, 1, 1, 1, 0, 0, 0, 1, 1, 1, 2, 2, 1, 1, 1, 1, 1, 2, 2, 1, 1, 2, 2, 1, 1, 1, 1, 1, 1, 2, 2, 1, 1, 2, 2, 1, 1, 1, 0, 0, 0, 1, 1, 1, 1, 1], \"coloraxis\": \"coloraxis\", \"symbol\": \"circle\"}, \"name\": \"\", \"showlegend\": false, \"type\": \"splom\"}],                        {\"coloraxis\": {\"colorbar\": {\"title\": {\"text\": \"color\"}}, \"colorscale\": [[0.0, \"#0d0887\"], [0.1111111111111111, \"#46039f\"], [0.2222222222222222, \"#7201a8\"], [0.3333333333333333, \"#9c179e\"], [0.4444444444444444, \"#bd3786\"], [0.5555555555555556, \"#d8576b\"], [0.6666666666666666, \"#ed7953\"], [0.7777777777777778, \"#fb9f3a\"], [0.8888888888888888, \"#fdca26\"], [1.0, \"#f0f921\"]]}, \"dragmode\": \"select\", \"legend\": {\"tracegroupgap\": 0}, \"margin\": {\"t\": 60}, \"template\": {\"data\": {\"bar\": [{\"error_x\": {\"color\": \"#2a3f5f\"}, \"error_y\": {\"color\": \"#2a3f5f\"}, \"marker\": {\"line\": {\"color\": \"#E5ECF6\", \"width\": 0.5}}, \"type\": \"bar\"}], \"barpolar\": [{\"marker\": {\"line\": {\"color\": \"#E5ECF6\", \"width\": 0.5}}, \"type\": \"barpolar\"}], \"carpet\": [{\"aaxis\": {\"endlinecolor\": \"#2a3f5f\", \"gridcolor\": \"white\", \"linecolor\": \"white\", \"minorgridcolor\": \"white\", \"startlinecolor\": \"#2a3f5f\"}, \"baxis\": {\"endlinecolor\": \"#2a3f5f\", \"gridcolor\": \"white\", \"linecolor\": \"white\", \"minorgridcolor\": \"white\", \"startlinecolor\": \"#2a3f5f\"}, \"type\": \"carpet\"}], \"choropleth\": [{\"colorbar\": {\"outlinewidth\": 0, \"ticks\": \"\"}, \"type\": \"choropleth\"}], \"contour\": [{\"colorbar\": {\"outlinewidth\": 0, \"ticks\": \"\"}, \"colorscale\": [[0.0, \"#0d0887\"], [0.1111111111111111, \"#46039f\"], [0.2222222222222222, \"#7201a8\"], [0.3333333333333333, \"#9c179e\"], [0.4444444444444444, \"#bd3786\"], [0.5555555555555556, \"#d8576b\"], [0.6666666666666666, \"#ed7953\"], [0.7777777777777778, \"#fb9f3a\"], [0.8888888888888888, \"#fdca26\"], [1.0, \"#f0f921\"]], \"type\": \"contour\"}], \"contourcarpet\": [{\"colorbar\": {\"outlinewidth\": 0, \"ticks\": \"\"}, \"type\": \"contourcarpet\"}], \"heatmap\": [{\"colorbar\": {\"outlinewidth\": 0, \"ticks\": \"\"}, \"colorscale\": [[0.0, \"#0d0887\"], [0.1111111111111111, \"#46039f\"], [0.2222222222222222, \"#7201a8\"], [0.3333333333333333, \"#9c179e\"], [0.4444444444444444, \"#bd3786\"], [0.5555555555555556, \"#d8576b\"], [0.6666666666666666, \"#ed7953\"], [0.7777777777777778, \"#fb9f3a\"], [0.8888888888888888, \"#fdca26\"], [1.0, \"#f0f921\"]], \"type\": \"heatmap\"}], \"heatmapgl\": [{\"colorbar\": {\"outlinewidth\": 0, \"ticks\": \"\"}, \"colorscale\": [[0.0, \"#0d0887\"], [0.1111111111111111, \"#46039f\"], [0.2222222222222222, \"#7201a8\"], [0.3333333333333333, \"#9c179e\"], [0.4444444444444444, \"#bd3786\"], [0.5555555555555556, \"#d8576b\"], [0.6666666666666666, \"#ed7953\"], [0.7777777777777778, \"#fb9f3a\"], [0.8888888888888888, \"#fdca26\"], [1.0, \"#f0f921\"]], \"type\": \"heatmapgl\"}], \"histogram\": [{\"marker\": {\"colorbar\": {\"outlinewidth\": 0, \"ticks\": \"\"}}, \"type\": \"histogram\"}], \"histogram2d\": [{\"colorbar\": {\"outlinewidth\": 0, \"ticks\": \"\"}, \"colorscale\": [[0.0, \"#0d0887\"], [0.1111111111111111, \"#46039f\"], [0.2222222222222222, \"#7201a8\"], [0.3333333333333333, \"#9c179e\"], [0.4444444444444444, \"#bd3786\"], [0.5555555555555556, \"#d8576b\"], [0.6666666666666666, \"#ed7953\"], [0.7777777777777778, \"#fb9f3a\"], [0.8888888888888888, \"#fdca26\"], [1.0, \"#f0f921\"]], \"type\": \"histogram2d\"}], \"histogram2dcontour\": [{\"colorbar\": {\"outlinewidth\": 0, \"ticks\": \"\"}, \"colorscale\": [[0.0, \"#0d0887\"], [0.1111111111111111, \"#46039f\"], [0.2222222222222222, \"#7201a8\"], [0.3333333333333333, \"#9c179e\"], [0.4444444444444444, \"#bd3786\"], [0.5555555555555556, \"#d8576b\"], [0.6666666666666666, \"#ed7953\"], [0.7777777777777778, \"#fb9f3a\"], [0.8888888888888888, \"#fdca26\"], [1.0, \"#f0f921\"]], \"type\": \"histogram2dcontour\"}], \"mesh3d\": [{\"colorbar\": {\"outlinewidth\": 0, \"ticks\": \"\"}, \"type\": \"mesh3d\"}], \"parcoords\": [{\"line\": {\"colorbar\": {\"outlinewidth\": 0, \"ticks\": \"\"}}, \"type\": \"parcoords\"}], \"pie\": [{\"automargin\": true, \"type\": \"pie\"}], \"scatter\": [{\"marker\": {\"colorbar\": {\"outlinewidth\": 0, \"ticks\": \"\"}}, \"type\": \"scatter\"}], \"scatter3d\": [{\"line\": {\"colorbar\": {\"outlinewidth\": 0, \"ticks\": \"\"}}, \"marker\": {\"colorbar\": {\"outlinewidth\": 0, \"ticks\": \"\"}}, \"type\": \"scatter3d\"}], \"scattercarpet\": [{\"marker\": {\"colorbar\": {\"outlinewidth\": 0, \"ticks\": \"\"}}, \"type\": \"scattercarpet\"}], \"scattergeo\": [{\"marker\": {\"colorbar\": {\"outlinewidth\": 0, \"ticks\": \"\"}}, \"type\": \"scattergeo\"}], \"scattergl\": [{\"marker\": {\"colorbar\": {\"outlinewidth\": 0, \"ticks\": \"\"}}, \"type\": \"scattergl\"}], \"scattermapbox\": [{\"marker\": {\"colorbar\": {\"outlinewidth\": 0, \"ticks\": \"\"}}, \"type\": \"scattermapbox\"}], \"scatterpolar\": [{\"marker\": {\"colorbar\": {\"outlinewidth\": 0, \"ticks\": \"\"}}, \"type\": \"scatterpolar\"}], \"scatterpolargl\": [{\"marker\": {\"colorbar\": {\"outlinewidth\": 0, \"ticks\": \"\"}}, \"type\": \"scatterpolargl\"}], \"scatterternary\": [{\"marker\": {\"colorbar\": {\"outlinewidth\": 0, \"ticks\": \"\"}}, \"type\": \"scatterternary\"}], \"surface\": [{\"colorbar\": {\"outlinewidth\": 0, \"ticks\": \"\"}, \"colorscale\": [[0.0, \"#0d0887\"], [0.1111111111111111, \"#46039f\"], [0.2222222222222222, \"#7201a8\"], [0.3333333333333333, \"#9c179e\"], [0.4444444444444444, \"#bd3786\"], [0.5555555555555556, \"#d8576b\"], [0.6666666666666666, \"#ed7953\"], [0.7777777777777778, \"#fb9f3a\"], [0.8888888888888888, \"#fdca26\"], [1.0, \"#f0f921\"]], \"type\": \"surface\"}], \"table\": [{\"cells\": {\"fill\": {\"color\": \"#EBF0F8\"}, \"line\": {\"color\": \"white\"}}, \"header\": {\"fill\": {\"color\": \"#C8D4E3\"}, \"line\": {\"color\": \"white\"}}, \"type\": \"table\"}]}, \"layout\": {\"annotationdefaults\": {\"arrowcolor\": \"#2a3f5f\", \"arrowhead\": 0, \"arrowwidth\": 1}, \"autotypenumbers\": \"strict\", \"coloraxis\": {\"colorbar\": {\"outlinewidth\": 0, \"ticks\": \"\"}}, \"colorscale\": {\"diverging\": [[0, \"#8e0152\"], [0.1, \"#c51b7d\"], [0.2, \"#de77ae\"], [0.3, \"#f1b6da\"], [0.4, \"#fde0ef\"], [0.5, \"#f7f7f7\"], [0.6, \"#e6f5d0\"], [0.7, \"#b8e186\"], [0.8, \"#7fbc41\"], [0.9, \"#4d9221\"], [1, \"#276419\"]], \"sequential\": [[0.0, \"#0d0887\"], [0.1111111111111111, \"#46039f\"], [0.2222222222222222, \"#7201a8\"], [0.3333333333333333, \"#9c179e\"], [0.4444444444444444, \"#bd3786\"], [0.5555555555555556, \"#d8576b\"], [0.6666666666666666, \"#ed7953\"], [0.7777777777777778, \"#fb9f3a\"], [0.8888888888888888, \"#fdca26\"], [1.0, \"#f0f921\"]], \"sequentialminus\": [[0.0, \"#0d0887\"], [0.1111111111111111, \"#46039f\"], [0.2222222222222222, \"#7201a8\"], [0.3333333333333333, \"#9c179e\"], [0.4444444444444444, \"#bd3786\"], [0.5555555555555556, \"#d8576b\"], [0.6666666666666666, \"#ed7953\"], [0.7777777777777778, \"#fb9f3a\"], [0.8888888888888888, \"#fdca26\"], [1.0, \"#f0f921\"]]}, \"colorway\": [\"#636efa\", \"#EF553B\", \"#00cc96\", \"#ab63fa\", \"#FFA15A\", \"#19d3f3\", \"#FF6692\", \"#B6E880\", \"#FF97FF\", \"#FECB52\"], \"font\": {\"color\": \"#2a3f5f\"}, \"geo\": {\"bgcolor\": \"white\", \"lakecolor\": \"white\", \"landcolor\": \"#E5ECF6\", \"showlakes\": true, \"showland\": true, \"subunitcolor\": \"white\"}, \"hoverlabel\": {\"align\": \"left\"}, \"hovermode\": \"closest\", \"mapbox\": {\"style\": \"light\"}, \"paper_bgcolor\": \"white\", \"plot_bgcolor\": \"#E5ECF6\", \"polar\": {\"angularaxis\": {\"gridcolor\": \"white\", \"linecolor\": \"white\", \"ticks\": \"\"}, \"bgcolor\": \"#E5ECF6\", \"radialaxis\": {\"gridcolor\": \"white\", \"linecolor\": \"white\", \"ticks\": \"\"}}, \"scene\": {\"xaxis\": {\"backgroundcolor\": \"#E5ECF6\", \"gridcolor\": \"white\", \"gridwidth\": 2, \"linecolor\": \"white\", \"showbackground\": true, \"ticks\": \"\", \"zerolinecolor\": \"white\"}, \"yaxis\": {\"backgroundcolor\": \"#E5ECF6\", \"gridcolor\": \"white\", \"gridwidth\": 2, \"linecolor\": \"white\", \"showbackground\": true, \"ticks\": \"\", \"zerolinecolor\": \"white\"}, \"zaxis\": {\"backgroundcolor\": \"#E5ECF6\", \"gridcolor\": \"white\", \"gridwidth\": 2, \"linecolor\": \"white\", \"showbackground\": true, \"ticks\": \"\", \"zerolinecolor\": \"white\"}}, \"shapedefaults\": {\"line\": {\"color\": \"#2a3f5f\"}}, \"ternary\": {\"aaxis\": {\"gridcolor\": \"white\", \"linecolor\": \"white\", \"ticks\": \"\"}, \"baxis\": {\"gridcolor\": \"white\", \"linecolor\": \"white\", \"ticks\": \"\"}, \"bgcolor\": \"#E5ECF6\", \"caxis\": {\"gridcolor\": \"white\", \"linecolor\": \"white\", \"ticks\": \"\"}}, \"title\": {\"x\": 0.05}, \"xaxis\": {\"automargin\": true, \"gridcolor\": \"white\", \"linecolor\": \"white\", \"ticks\": \"\", \"title\": {\"standoff\": 15}, \"zerolinecolor\": \"white\", \"zerolinewidth\": 2}, \"yaxis\": {\"automargin\": true, \"gridcolor\": \"white\", \"linecolor\": \"white\", \"ticks\": \"\", \"title\": {\"standoff\": 15}, \"zerolinecolor\": \"white\", \"zerolinewidth\": 2}}}},                        {\"responsive\": true}                    ).then(function(){\n",
       "                            \n",
       "var gd = document.getElementById('55ae6ba9-432e-4d69-ae22-e970c26e2234');\n",
       "var x = new MutationObserver(function (mutations, observer) {{\n",
       "        var display = window.getComputedStyle(gd).display;\n",
       "        if (!display || display === 'none') {{\n",
       "            console.log([gd, 'removed!']);\n",
       "            Plotly.purge(gd);\n",
       "            observer.disconnect();\n",
       "        }}\n",
       "}});\n",
       "\n",
       "// Listen for the removal of the full notebook cells\n",
       "var notebookContainer = gd.closest('#notebook-container');\n",
       "if (notebookContainer) {{\n",
       "    x.observe(notebookContainer, {childList: true});\n",
       "}}\n",
       "\n",
       "// Listen for the clearing of the current output cell\n",
       "var outputEl = gd.closest('.output');\n",
       "if (outputEl) {{\n",
       "    x.observe(outputEl, {childList: true});\n",
       "}}\n",
       "\n",
       "                        })                };                });            </script>        </div>"
      ]
     },
     "metadata": {},
     "output_type": "display_data"
    }
   ],
   "source": [
    "#labels = {\n",
    " #   str(i): f\"PC {i+1} ({var:.1f}%)\"\n",
    " #   for i, var in enumerate(pca_ufo.explained_variance_ratio_ * 100)\n",
    "#}\n",
    "fig = px.scatter_matrix(\n",
    "    principalComponents,\n",
    "#    labels=labels,\n",
    "    dimensions=range(2),\n",
    "    color=acct_stats[\"cluster\"]\n",
    ")\n",
    "fig.update_traces(diagonal_visible=False)\n",
    "fig.show()"
   ]
  },
  {
   "cell_type": "code",
   "execution_count": null,
   "metadata": {},
   "outputs": [],
   "source": []
  },
  {
   "cell_type": "code",
   "execution_count": 588,
   "metadata": {},
   "outputs": [
    {
     "data": {
      "text/html": [
       "<div>\n",
       "<style scoped>\n",
       "    .dataframe tbody tr th:only-of-type {\n",
       "        vertical-align: middle;\n",
       "    }\n",
       "\n",
       "    .dataframe tbody tr th {\n",
       "        vertical-align: top;\n",
       "    }\n",
       "\n",
       "    .dataframe thead th {\n",
       "        text-align: right;\n",
       "    }\n",
       "</style>\n",
       "<table border=\"1\" class=\"dataframe\">\n",
       "  <thead>\n",
       "    <tr style=\"text-align: right;\">\n",
       "      <th></th>\n",
       "      <th>PC1</th>\n",
       "      <th>PC2</th>\n",
       "      <th>cluster</th>\n",
       "    </tr>\n",
       "  </thead>\n",
       "  <tbody>\n",
       "    <tr>\n",
       "      <th>0</th>\n",
       "      <td>-0.518560</td>\n",
       "      <td>-0.086703</td>\n",
       "      <td>1</td>\n",
       "    </tr>\n",
       "    <tr>\n",
       "      <th>1</th>\n",
       "      <td>-0.235961</td>\n",
       "      <td>-0.393025</td>\n",
       "      <td>1</td>\n",
       "    </tr>\n",
       "    <tr>\n",
       "      <th>2</th>\n",
       "      <td>-0.285620</td>\n",
       "      <td>0.151046</td>\n",
       "      <td>1</td>\n",
       "    </tr>\n",
       "    <tr>\n",
       "      <th>3</th>\n",
       "      <td>0.362491</td>\n",
       "      <td>-0.089161</td>\n",
       "      <td>1</td>\n",
       "    </tr>\n",
       "    <tr>\n",
       "      <th>4</th>\n",
       "      <td>0.094117</td>\n",
       "      <td>0.291165</td>\n",
       "      <td>1</td>\n",
       "    </tr>\n",
       "  </tbody>\n",
       "</table>\n",
       "</div>"
      ],
      "text/plain": [
       "        PC1       PC2  cluster\n",
       "0 -0.518560 -0.086703        1\n",
       "1 -0.235961 -0.393025        1\n",
       "2 -0.285620  0.151046        1\n",
       "3  0.362491 -0.089161        1\n",
       "4  0.094117  0.291165        1"
      ]
     },
     "execution_count": 588,
     "metadata": {},
     "output_type": "execute_result"
    }
   ],
   "source": [
    "\n",
    "pc_df['cluster'] = y_km.tolist()\n",
    "pc_df.head()\n"
   ]
  },
  {
   "cell_type": "code",
   "execution_count": 589,
   "metadata": {},
   "outputs": [
    {
     "data": {
      "text/plain": [
       "<seaborn.axisgrid.FacetGrid at 0x7f7fe6fd7b80>"
      ]
     },
     "execution_count": 589,
     "metadata": {},
     "output_type": "execute_result"
    },
    {
     "data": {
      "image/png": "[encoded data removed]",
      "text/plain": [
       "<Figure size 402.375x360 with 1 Axes>"
      ]
     },
     "metadata": {
      "needs_background": "light"
     },
     "output_type": "display_data"
    }
   ],
   "source": [
    "sns.lmplot(x='PC1', y='PC2', \n",
    "           data=pc_df, \n",
    "           fit_reg=False, \n",
    "           hue='cluster', \n",
    "           legend=True, scatter_kws={\"s\": 80})"
   ]
  },
  {
   "cell_type": "code",
   "execution_count": null,
   "metadata": {},
   "outputs": [],
   "source": []
  }
 ],
 "metadata": {
  "kernelspec": {
   "display_name": "Python 3",
   "language": "python",
   "name": "python3"
  },
  "language_info": {
   "codemirror_mode": {
    "name": "ipython",
    "version": 3
   },
   "file_extension": ".py",
   "mimetype": "text/x-python",
   "name": "python",
   "nbconvert_exporter": "python",
   "pygments_lexer": "ipython3",
   "version": "3.8.5"
  }
 },
 "nbformat": 4,
 "nbformat_minor": 4
}
